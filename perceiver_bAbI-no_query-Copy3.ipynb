{
 "cells": [
  {
   "cell_type": "code",
   "execution_count": 1,
   "id": "brave-debate",
   "metadata": {},
   "outputs": [],
   "source": [
    "import torch\n",
    "import torchtext\n",
    "from torch import nn\n",
    "from torch.utils.data import DataLoader\n",
    "from torch.autograd import Variable\n",
    "# from perceiver_pytorch import Perceiver\n",
    "import numpy as np\n",
    "from matplotlib import pyplot as plt\n",
    "from sklearn.metrics import classification_report\n",
    "from sklearn.metrics import confusion_matrix\n",
    "from sklearn.metrics import accuracy_score\n",
    "import itertools\n",
    "from torch.utils.tensorboard import SummaryWriter\n",
    "import os\n",
    "from tqdm.notebook import tqdm\n",
    "from datetime import datetime\n",
    "from babi_joint import BabiDataset, pad_collate\n",
    "from torch.utils.data.dataset import Dataset\n",
    "from glob import glob\n",
    "from perceiver_pytorch.perceiver_io_gated_residual import PerceiverIO, PerceiverLM, PerceiverIObAbI, PerceiverIObAbInq\n",
    "import time"
   ]
  },
  {
   "cell_type": "code",
   "execution_count": 2,
   "id": "instant-brooks",
   "metadata": {},
   "outputs": [
    {
     "name": "stdout",
     "output_type": "stream",
     "text": [
      "477228\n"
     ]
    }
   ],
   "source": [
    "# UT pondernet 1470003\n",
    "\n",
    "model = PerceiverIObAbInq(\n",
    "    num_tokens=179,\n",
    "    context_max_seq_len=71*13,\n",
    "#     question_max_seq_len=13,\n",
    "    dim = 32,                    # dimension of sequence to be encoded\n",
    "    queries_dim = 179,            # dimension of decoder queries\n",
    "#     logits_dim = 50,            # dimension of final logits\n",
    "    depth = 20,                   # depth of net\n",
    "    num_latents = 32,           # number of latents, or induced set points, or centroids. different papers giving it different names\n",
    "    latent_dim = 64,            # latent dimension\n",
    "    cross_heads = 1,             # number of heads for cross attention. paper said 1\n",
    "    latent_heads = 8,            # number of heads for latent self attention, 8\n",
    "    cross_dim_head = 64,         # number of dimensions per cross attention head\n",
    "    latent_dim_head = 64,        # number of dimensions per latent self attention head\n",
    "    weight_tie_layers = True,   # whether to weight tie layers (optional, as indicated in the diagram)\n",
    "    self_per_cross_attn = 1,     # number of self attention blocks per cross attention\n",
    "    learn_latents=True\n",
    ")\n",
    "\n",
    "model_name = 'perceiverIO_bAbi_nq_deep_gru_res'\n",
    "model_parameters = filter(lambda p: p.requires_grad, model.parameters())\n",
    "params = sum([np.prod(p.size()) for p in model_parameters])\n",
    "print(params)"
   ]
  },
  {
   "cell_type": "code",
   "execution_count": 3,
   "id": "interim-tomorrow",
   "metadata": {},
   "outputs": [
    {
     "name": "stdout",
     "output_type": "stream",
     "text": [
      "len(babi_dataset) train 180000\n",
      "vocab_size 179\n",
      "cuda:0\n"
     ]
    },
    {
     "data": {
      "application/vnd.jupyter.widget-view+json": {
       "model_id": "12157b3e356e4768a992bfd9466a78f1",
       "version_major": 2,
       "version_minor": 0
      },
      "text/plain": [
       "Epoch 1/150:   0%|          | 0/1407 [00:00<?, ?it/s]"
      ]
     },
     "metadata": {},
     "output_type": "display_data"
    },
    {
     "name": "stdout",
     "output_type": "stream",
     "text": [
      "Epoch: 1 \tTraining Loss: 2.220480 \tValidation Loss: 1.463989\n",
      "Validation loss decreased (inf --> 1.463989).  Saving model ...\n"
     ]
    },
    {
     "data": {
      "application/vnd.jupyter.widget-view+json": {
       "model_id": "dd8207dc53d44884a162ac2b8c10e4bc",
       "version_major": 2,
       "version_minor": 0
      },
      "text/plain": [
       "Epoch 2/150:   0%|          | 0/1407 [00:00<?, ?it/s]"
      ]
     },
     "metadata": {},
     "output_type": "display_data"
    },
    {
     "name": "stdout",
     "output_type": "stream",
     "text": [
      "Epoch: 2 \tTraining Loss: 1.365254 \tValidation Loss: 1.307536\n",
      "Validation loss decreased (1.463989 --> 1.307536).  Saving model ...\n"
     ]
    },
    {
     "data": {
      "application/vnd.jupyter.widget-view+json": {
       "model_id": "d94e48eb68724166b5960fdd250d758d",
       "version_major": 2,
       "version_minor": 0
      },
      "text/plain": [
       "Epoch 3/150:   0%|          | 0/1407 [00:00<?, ?it/s]"
      ]
     },
     "metadata": {},
     "output_type": "display_data"
    },
    {
     "name": "stdout",
     "output_type": "stream",
     "text": [
      "Epoch: 3 \tTraining Loss: 1.218101 \tValidation Loss: 1.165420\n",
      "Validation loss decreased (1.307536 --> 1.165420).  Saving model ...\n"
     ]
    },
    {
     "data": {
      "application/vnd.jupyter.widget-view+json": {
       "model_id": "20934d4c8b3547ccb8cbd2284f762279",
       "version_major": 2,
       "version_minor": 0
      },
      "text/plain": [
       "Epoch 4/150:   0%|          | 0/1407 [00:00<?, ?it/s]"
      ]
     },
     "metadata": {},
     "output_type": "display_data"
    },
    {
     "name": "stdout",
     "output_type": "stream",
     "text": [
      "Epoch: 4 \tTraining Loss: 1.112049 \tValidation Loss: 1.103789\n",
      "Validation loss decreased (1.165420 --> 1.103789).  Saving model ...\n"
     ]
    },
    {
     "data": {
      "application/vnd.jupyter.widget-view+json": {
       "model_id": "0bcfd63d6076443fb06e189a4a3ec1e3",
       "version_major": 2,
       "version_minor": 0
      },
      "text/plain": [
       "Epoch 5/150:   0%|          | 0/1407 [00:00<?, ?it/s]"
      ]
     },
     "metadata": {},
     "output_type": "display_data"
    },
    {
     "name": "stdout",
     "output_type": "stream",
     "text": [
      "Epoch: 5 \tTraining Loss: 1.063324 \tValidation Loss: 1.067081\n",
      "Validation loss decreased (1.103789 --> 1.067081).  Saving model ...\n"
     ]
    },
    {
     "data": {
      "application/vnd.jupyter.widget-view+json": {
       "model_id": "1893971fef9741a18f6348e7c56fe4b3",
       "version_major": 2,
       "version_minor": 0
      },
      "text/plain": [
       "Epoch 6/150:   0%|          | 0/1407 [00:00<?, ?it/s]"
      ]
     },
     "metadata": {},
     "output_type": "display_data"
    },
    {
     "name": "stdout",
     "output_type": "stream",
     "text": [
      "Epoch: 6 \tTraining Loss: 1.031972 \tValidation Loss: 1.031846\n",
      "Validation loss decreased (1.067081 --> 1.031846).  Saving model ...\n"
     ]
    },
    {
     "data": {
      "application/vnd.jupyter.widget-view+json": {
       "model_id": "9fbb8e9ac64c440dbd79d3da5e99068f",
       "version_major": 2,
       "version_minor": 0
      },
      "text/plain": [
       "Epoch 7/150:   0%|          | 0/1407 [00:00<?, ?it/s]"
      ]
     },
     "metadata": {},
     "output_type": "display_data"
    },
    {
     "name": "stdout",
     "output_type": "stream",
     "text": [
      "Epoch: 7 \tTraining Loss: 1.010180 \tValidation Loss: 1.018571\n",
      "Validation loss decreased (1.031846 --> 1.018571).  Saving model ...\n"
     ]
    },
    {
     "data": {
      "application/vnd.jupyter.widget-view+json": {
       "model_id": "5b715cfd71cb4fc5bf13dbbb9cf6ea40",
       "version_major": 2,
       "version_minor": 0
      },
      "text/plain": [
       "Epoch 8/150:   0%|          | 0/1407 [00:00<?, ?it/s]"
      ]
     },
     "metadata": {},
     "output_type": "display_data"
    },
    {
     "name": "stdout",
     "output_type": "stream",
     "text": [
      "Epoch: 8 \tTraining Loss: 0.992225 \tValidation Loss: 0.991568\n",
      "Validation loss decreased (1.018571 --> 0.991568).  Saving model ...\n"
     ]
    },
    {
     "data": {
      "application/vnd.jupyter.widget-view+json": {
       "model_id": "13879211970544a593764180a8a592a1",
       "version_major": 2,
       "version_minor": 0
      },
      "text/plain": [
       "Epoch 9/150:   0%|          | 0/1407 [00:00<?, ?it/s]"
      ]
     },
     "metadata": {},
     "output_type": "display_data"
    },
    {
     "name": "stdout",
     "output_type": "stream",
     "text": [
      "Epoch: 9 \tTraining Loss: 0.971234 \tValidation Loss: 0.965837\n",
      "Validation loss decreased (0.991568 --> 0.965837).  Saving model ...\n"
     ]
    },
    {
     "data": {
      "application/vnd.jupyter.widget-view+json": {
       "model_id": "72b81c7e92ef45e7a430a912d112cef8",
       "version_major": 2,
       "version_minor": 0
      },
      "text/plain": [
       "Epoch 10/150:   0%|          | 0/1407 [00:00<?, ?it/s]"
      ]
     },
     "metadata": {},
     "output_type": "display_data"
    },
    {
     "name": "stdout",
     "output_type": "stream",
     "text": [
      "Epoch: 10 \tTraining Loss: 0.951228 \tValidation Loss: 0.946550\n",
      "Validation loss decreased (0.965837 --> 0.946550).  Saving model ...\n"
     ]
    },
    {
     "data": {
      "application/vnd.jupyter.widget-view+json": {
       "model_id": "dca90fb1151f40a893556d9973abc9fd",
       "version_major": 2,
       "version_minor": 0
      },
      "text/plain": [
       "Epoch 11/150:   0%|          | 0/1407 [00:00<?, ?it/s]"
      ]
     },
     "metadata": {},
     "output_type": "display_data"
    },
    {
     "name": "stdout",
     "output_type": "stream",
     "text": [
      "Epoch: 11 \tTraining Loss: 0.930016 \tValidation Loss: 0.931454\n",
      "Validation loss decreased (0.946550 --> 0.931454).  Saving model ...\n"
     ]
    },
    {
     "data": {
      "application/vnd.jupyter.widget-view+json": {
       "model_id": "0b299367739e4b228d389a930227d07f",
       "version_major": 2,
       "version_minor": 0
      },
      "text/plain": [
       "Epoch 12/150:   0%|          | 0/1407 [00:00<?, ?it/s]"
      ]
     },
     "metadata": {},
     "output_type": "display_data"
    },
    {
     "name": "stdout",
     "output_type": "stream",
     "text": [
      "Epoch: 12 \tTraining Loss: 0.911429 \tValidation Loss: 0.913441\n",
      "Validation loss decreased (0.931454 --> 0.913441).  Saving model ...\n"
     ]
    },
    {
     "data": {
      "application/vnd.jupyter.widget-view+json": {
       "model_id": "924ae7c00adc4b09b9dac3f35068eb23",
       "version_major": 2,
       "version_minor": 0
      },
      "text/plain": [
       "Epoch 13/150:   0%|          | 0/1407 [00:00<?, ?it/s]"
      ]
     },
     "metadata": {},
     "output_type": "display_data"
    },
    {
     "name": "stdout",
     "output_type": "stream",
     "text": [
      "Epoch: 13 \tTraining Loss: 0.892774 \tValidation Loss: 0.900538\n",
      "Validation loss decreased (0.913441 --> 0.900538).  Saving model ...\n"
     ]
    },
    {
     "data": {
      "application/vnd.jupyter.widget-view+json": {
       "model_id": "7c923d63e3fb47a6b30acd8b15dc6d06",
       "version_major": 2,
       "version_minor": 0
      },
      "text/plain": [
       "Epoch 14/150:   0%|          | 0/1407 [00:00<?, ?it/s]"
      ]
     },
     "metadata": {},
     "output_type": "display_data"
    },
    {
     "name": "stdout",
     "output_type": "stream",
     "text": [
      "Epoch: 14 \tTraining Loss: 0.872878 \tValidation Loss: 0.878539\n",
      "Validation loss decreased (0.900538 --> 0.878539).  Saving model ...\n"
     ]
    },
    {
     "data": {
      "application/vnd.jupyter.widget-view+json": {
       "model_id": "0f16705c35664e15ad234d74e252a3df",
       "version_major": 2,
       "version_minor": 0
      },
      "text/plain": [
       "Epoch 15/150:   0%|          | 0/1407 [00:00<?, ?it/s]"
      ]
     },
     "metadata": {},
     "output_type": "display_data"
    },
    {
     "name": "stdout",
     "output_type": "stream",
     "text": [
      "Epoch: 15 \tTraining Loss: 0.854099 \tValidation Loss: 0.857029\n",
      "Validation loss decreased (0.878539 --> 0.857029).  Saving model ...\n"
     ]
    },
    {
     "data": {
      "application/vnd.jupyter.widget-view+json": {
       "model_id": "35e08a3b47874e70af5ee605c502d7ae",
       "version_major": 2,
       "version_minor": 0
      },
      "text/plain": [
       "Epoch 16/150:   0%|          | 0/1407 [00:00<?, ?it/s]"
      ]
     },
     "metadata": {},
     "output_type": "display_data"
    },
    {
     "name": "stdout",
     "output_type": "stream",
     "text": [
      "Epoch: 16 \tTraining Loss: 0.834526 \tValidation Loss: 0.843702\n",
      "Validation loss decreased (0.857029 --> 0.843702).  Saving model ...\n"
     ]
    },
    {
     "data": {
      "application/vnd.jupyter.widget-view+json": {
       "model_id": "8b3c0a747f8e4a759f3bbe551088d512",
       "version_major": 2,
       "version_minor": 0
      },
      "text/plain": [
       "Epoch 17/150:   0%|          | 0/1407 [00:00<?, ?it/s]"
      ]
     },
     "metadata": {},
     "output_type": "display_data"
    },
    {
     "name": "stdout",
     "output_type": "stream",
     "text": [
      "Epoch: 17 \tTraining Loss: 0.825718 \tValidation Loss: 0.842029\n",
      "Validation loss decreased (0.843702 --> 0.842029).  Saving model ...\n"
     ]
    },
    {
     "data": {
      "application/vnd.jupyter.widget-view+json": {
       "model_id": "e00a222d48b744bc9fa3dae9235009ce",
       "version_major": 2,
       "version_minor": 0
      },
      "text/plain": [
       "Epoch 18/150:   0%|          | 0/1407 [00:00<?, ?it/s]"
      ]
     },
     "metadata": {},
     "output_type": "display_data"
    },
    {
     "name": "stdout",
     "output_type": "stream",
     "text": [
      "Epoch: 18 \tTraining Loss: 0.814891 \tValidation Loss: 0.832750\n",
      "Validation loss decreased (0.842029 --> 0.832750).  Saving model ...\n"
     ]
    },
    {
     "data": {
      "application/vnd.jupyter.widget-view+json": {
       "model_id": "24ac8c21b9c0458db7315202bdd6a865",
       "version_major": 2,
       "version_minor": 0
      },
      "text/plain": [
       "Epoch 19/150:   0%|          | 0/1407 [00:00<?, ?it/s]"
      ]
     },
     "metadata": {},
     "output_type": "display_data"
    },
    {
     "name": "stdout",
     "output_type": "stream",
     "text": [
      "Epoch: 19 \tTraining Loss: 0.806379 \tValidation Loss: 0.826924\n",
      "Validation loss decreased (0.832750 --> 0.826924).  Saving model ...\n"
     ]
    },
    {
     "data": {
      "application/vnd.jupyter.widget-view+json": {
       "model_id": "d3f7005d86d148049451d3f9cb843202",
       "version_major": 2,
       "version_minor": 0
      },
      "text/plain": [
       "Epoch 20/150:   0%|          | 0/1407 [00:00<?, ?it/s]"
      ]
     },
     "metadata": {},
     "output_type": "display_data"
    },
    {
     "name": "stdout",
     "output_type": "stream",
     "text": [
      "Epoch: 20 \tTraining Loss: 0.796914 \tValidation Loss: 0.823634\n",
      "Validation loss decreased (0.826924 --> 0.823634).  Saving model ...\n"
     ]
    },
    {
     "data": {
      "application/vnd.jupyter.widget-view+json": {
       "model_id": "56c2a73b1a044cfb9d38bf72180a54ef",
       "version_major": 2,
       "version_minor": 0
      },
      "text/plain": [
       "Epoch 21/150:   0%|          | 0/1407 [00:00<?, ?it/s]"
      ]
     },
     "metadata": {},
     "output_type": "display_data"
    },
    {
     "name": "stdout",
     "output_type": "stream",
     "text": [
      "Epoch: 21 \tTraining Loss: 0.790333 \tValidation Loss: 0.810592\n",
      "Validation loss decreased (0.823634 --> 0.810592).  Saving model ...\n"
     ]
    },
    {
     "data": {
      "application/vnd.jupyter.widget-view+json": {
       "model_id": "a1fe1065b9aa441087809c574b36d042",
       "version_major": 2,
       "version_minor": 0
      },
      "text/plain": [
       "Epoch 22/150:   0%|          | 0/1407 [00:00<?, ?it/s]"
      ]
     },
     "metadata": {},
     "output_type": "display_data"
    },
    {
     "name": "stdout",
     "output_type": "stream",
     "text": [
      "Epoch: 22 \tTraining Loss: 0.784995 \tValidation Loss: 0.811248\n"
     ]
    },
    {
     "data": {
      "application/vnd.jupyter.widget-view+json": {
       "model_id": "d6855f8918504839b567eb291289bff4",
       "version_major": 2,
       "version_minor": 0
      },
      "text/plain": [
       "Epoch 23/150:   0%|          | 0/1407 [00:00<?, ?it/s]"
      ]
     },
     "metadata": {},
     "output_type": "display_data"
    },
    {
     "name": "stdout",
     "output_type": "stream",
     "text": [
      "Epoch: 23 \tTraining Loss: 0.779067 \tValidation Loss: 0.806297\n",
      "Validation loss decreased (0.810592 --> 0.806297).  Saving model ...\n"
     ]
    },
    {
     "data": {
      "application/vnd.jupyter.widget-view+json": {
       "model_id": "bf3cee0563644d23a86e872eef630d88",
       "version_major": 2,
       "version_minor": 0
      },
      "text/plain": [
       "Epoch 24/150:   0%|          | 0/1407 [00:00<?, ?it/s]"
      ]
     },
     "metadata": {},
     "output_type": "display_data"
    },
    {
     "name": "stdout",
     "output_type": "stream",
     "text": [
      "Epoch: 24 \tTraining Loss: 0.774083 \tValidation Loss: 0.798403\n",
      "Validation loss decreased (0.806297 --> 0.798403).  Saving model ...\n"
     ]
    },
    {
     "data": {
      "application/vnd.jupyter.widget-view+json": {
       "model_id": "f25aa2e56ffa4b879b336fc20c46d74c",
       "version_major": 2,
       "version_minor": 0
      },
      "text/plain": [
       "Epoch 25/150:   0%|          | 0/1407 [00:00<?, ?it/s]"
      ]
     },
     "metadata": {},
     "output_type": "display_data"
    },
    {
     "name": "stdout",
     "output_type": "stream",
     "text": [
      "Epoch: 25 \tTraining Loss: 0.769491 \tValidation Loss: 0.798677\n"
     ]
    },
    {
     "data": {
      "application/vnd.jupyter.widget-view+json": {
       "model_id": "70949f706b0446e4988e51979ce699eb",
       "version_major": 2,
       "version_minor": 0
      },
      "text/plain": [
       "Epoch 26/150:   0%|          | 0/1407 [00:00<?, ?it/s]"
      ]
     },
     "metadata": {},
     "output_type": "display_data"
    },
    {
     "name": "stdout",
     "output_type": "stream",
     "text": [
      "Epoch: 26 \tTraining Loss: 0.765772 \tValidation Loss: 0.798014\n",
      "Validation loss decreased (0.798403 --> 0.798014).  Saving model ...\n"
     ]
    },
    {
     "data": {
      "application/vnd.jupyter.widget-view+json": {
       "model_id": "9884a9bd2f5349c2a4d016039f4c332e",
       "version_major": 2,
       "version_minor": 0
      },
      "text/plain": [
       "Epoch 27/150:   0%|          | 0/1407 [00:00<?, ?it/s]"
      ]
     },
     "metadata": {},
     "output_type": "display_data"
    },
    {
     "name": "stdout",
     "output_type": "stream",
     "text": [
      "Epoch: 27 \tTraining Loss: 0.761254 \tValidation Loss: 0.798708\n"
     ]
    },
    {
     "data": {
      "application/vnd.jupyter.widget-view+json": {
       "model_id": "a5975c9f61da49858004006ec8245e47",
       "version_major": 2,
       "version_minor": 0
      },
      "text/plain": [
       "Epoch 28/150:   0%|          | 0/1407 [00:00<?, ?it/s]"
      ]
     },
     "metadata": {},
     "output_type": "display_data"
    },
    {
     "name": "stdout",
     "output_type": "stream",
     "text": [
      "Epoch: 28 \tTraining Loss: 0.760878 \tValidation Loss: 0.797154\n",
      "Validation loss decreased (0.798014 --> 0.797154).  Saving model ...\n"
     ]
    },
    {
     "data": {
      "application/vnd.jupyter.widget-view+json": {
       "model_id": "68f21045c0664527b11356ff00142ab8",
       "version_major": 2,
       "version_minor": 0
      },
      "text/plain": [
       "Epoch 29/150:   0%|          | 0/1407 [00:00<?, ?it/s]"
      ]
     },
     "metadata": {},
     "output_type": "display_data"
    },
    {
     "name": "stdout",
     "output_type": "stream",
     "text": [
      "Epoch: 29 \tTraining Loss: 0.753716 \tValidation Loss: 0.793139\n",
      "Validation loss decreased (0.797154 --> 0.793139).  Saving model ...\n"
     ]
    },
    {
     "data": {
      "application/vnd.jupyter.widget-view+json": {
       "model_id": "3eb405f2ed6344ba867a6dbc946e20db",
       "version_major": 2,
       "version_minor": 0
      },
      "text/plain": [
       "Epoch 30/150:   0%|          | 0/1407 [00:00<?, ?it/s]"
      ]
     },
     "metadata": {},
     "output_type": "display_data"
    },
    {
     "name": "stdout",
     "output_type": "stream",
     "text": [
      "Epoch: 30 \tTraining Loss: 0.749926 \tValidation Loss: 0.785768\n",
      "Validation loss decreased (0.793139 --> 0.785768).  Saving model ...\n"
     ]
    },
    {
     "data": {
      "application/vnd.jupyter.widget-view+json": {
       "model_id": "e0c93bf0f42e4f718c5dc2884626ebc3",
       "version_major": 2,
       "version_minor": 0
      },
      "text/plain": [
       "Epoch 31/150:   0%|          | 0/1407 [00:00<?, ?it/s]"
      ]
     },
     "metadata": {},
     "output_type": "display_data"
    },
    {
     "name": "stdout",
     "output_type": "stream",
     "text": [
      "Epoch: 31 \tTraining Loss: 0.751486 \tValidation Loss: 0.789427\n"
     ]
    },
    {
     "data": {
      "application/vnd.jupyter.widget-view+json": {
       "model_id": "602435ec20e347cd8f75aaafa36e797a",
       "version_major": 2,
       "version_minor": 0
      },
      "text/plain": [
       "Epoch 32/150:   0%|          | 0/1407 [00:00<?, ?it/s]"
      ]
     },
     "metadata": {},
     "output_type": "display_data"
    },
    {
     "name": "stdout",
     "output_type": "stream",
     "text": [
      "Epoch: 32 \tTraining Loss: 0.744977 \tValidation Loss: 0.783182\n",
      "Validation loss decreased (0.785768 --> 0.783182).  Saving model ...\n"
     ]
    },
    {
     "data": {
      "application/vnd.jupyter.widget-view+json": {
       "model_id": "0b746b4824154058a5637f1b3f1173f4",
       "version_major": 2,
       "version_minor": 0
      },
      "text/plain": [
       "Epoch 33/150:   0%|          | 0/1407 [00:00<?, ?it/s]"
      ]
     },
     "metadata": {},
     "output_type": "display_data"
    },
    {
     "name": "stdout",
     "output_type": "stream",
     "text": [
      "Epoch: 33 \tTraining Loss: 0.739477 \tValidation Loss: 0.784878\n"
     ]
    },
    {
     "data": {
      "application/vnd.jupyter.widget-view+json": {
       "model_id": "fa33551d7b854bf2b4fa7dec7d7ee58e",
       "version_major": 2,
       "version_minor": 0
      },
      "text/plain": [
       "Epoch 34/150:   0%|          | 0/1407 [00:00<?, ?it/s]"
      ]
     },
     "metadata": {},
     "output_type": "display_data"
    },
    {
     "name": "stdout",
     "output_type": "stream",
     "text": [
      "Epoch: 34 \tTraining Loss: 0.734265 \tValidation Loss: 0.782745\n",
      "Validation loss decreased (0.783182 --> 0.782745).  Saving model ...\n"
     ]
    },
    {
     "data": {
      "application/vnd.jupyter.widget-view+json": {
       "model_id": "8d2a5e718e3f4a8bb31285a1069112b9",
       "version_major": 2,
       "version_minor": 0
      },
      "text/plain": [
       "Epoch 35/150:   0%|          | 0/1407 [00:00<?, ?it/s]"
      ]
     },
     "metadata": {},
     "output_type": "display_data"
    },
    {
     "name": "stdout",
     "output_type": "stream",
     "text": [
      "Epoch: 35 \tTraining Loss: 0.730934 \tValidation Loss: 0.781815\n",
      "Validation loss decreased (0.782745 --> 0.781815).  Saving model ...\n"
     ]
    },
    {
     "data": {
      "application/vnd.jupyter.widget-view+json": {
       "model_id": "25513146b2984eb0928ce52f4b0d0830",
       "version_major": 2,
       "version_minor": 0
      },
      "text/plain": [
       "Epoch 36/150:   0%|          | 0/1407 [00:00<?, ?it/s]"
      ]
     },
     "metadata": {},
     "output_type": "display_data"
    },
    {
     "name": "stdout",
     "output_type": "stream",
     "text": [
      "Epoch: 36 \tTraining Loss: 0.725707 \tValidation Loss: 0.778273\n",
      "Validation loss decreased (0.781815 --> 0.778273).  Saving model ...\n"
     ]
    },
    {
     "data": {
      "application/vnd.jupyter.widget-view+json": {
       "model_id": "7f51f3bc9d6c49749dcba857300f86f9",
       "version_major": 2,
       "version_minor": 0
      },
      "text/plain": [
       "Epoch 37/150:   0%|          | 0/1407 [00:00<?, ?it/s]"
      ]
     },
     "metadata": {},
     "output_type": "display_data"
    },
    {
     "name": "stdout",
     "output_type": "stream",
     "text": [
      "Epoch: 37 \tTraining Loss: 0.722312 \tValidation Loss: 0.785642\n"
     ]
    },
    {
     "data": {
      "application/vnd.jupyter.widget-view+json": {
       "model_id": "5f3492c5493d4c92b43a0d0c370f1f04",
       "version_major": 2,
       "version_minor": 0
      },
      "text/plain": [
       "Epoch 38/150:   0%|          | 0/1407 [00:00<?, ?it/s]"
      ]
     },
     "metadata": {},
     "output_type": "display_data"
    },
    {
     "name": "stdout",
     "output_type": "stream",
     "text": [
      "Epoch: 38 \tTraining Loss: 0.717597 \tValidation Loss: 0.780765\n"
     ]
    },
    {
     "data": {
      "application/vnd.jupyter.widget-view+json": {
       "model_id": "bfa6e96e21844558b1386aea2fd1b723",
       "version_major": 2,
       "version_minor": 0
      },
      "text/plain": [
       "Epoch 39/150:   0%|          | 0/1407 [00:00<?, ?it/s]"
      ]
     },
     "metadata": {},
     "output_type": "display_data"
    },
    {
     "name": "stdout",
     "output_type": "stream",
     "text": [
      "Epoch: 39 \tTraining Loss: 0.713218 \tValidation Loss: 0.779681\n"
     ]
    },
    {
     "data": {
      "application/vnd.jupyter.widget-view+json": {
       "model_id": "2ab36e3f2be94bf3babfbc6a9d1fe1e1",
       "version_major": 2,
       "version_minor": 0
      },
      "text/plain": [
       "Epoch 40/150:   0%|          | 0/1407 [00:00<?, ?it/s]"
      ]
     },
     "metadata": {},
     "output_type": "display_data"
    },
    {
     "name": "stdout",
     "output_type": "stream",
     "text": [
      "Epoch: 40 \tTraining Loss: 0.709117 \tValidation Loss: 0.784558\n"
     ]
    },
    {
     "data": {
      "application/vnd.jupyter.widget-view+json": {
       "model_id": "8dd1ae337f4f41528389f521f440ff22",
       "version_major": 2,
       "version_minor": 0
      },
      "text/plain": [
       "Epoch 41/150:   0%|          | 0/1407 [00:00<?, ?it/s]"
      ]
     },
     "metadata": {},
     "output_type": "display_data"
    },
    {
     "name": "stdout",
     "output_type": "stream",
     "text": [
      "Epoch: 41 \tTraining Loss: 0.703684 \tValidation Loss: 0.777428\n",
      "Validation loss decreased (0.778273 --> 0.777428).  Saving model ...\n"
     ]
    },
    {
     "data": {
      "application/vnd.jupyter.widget-view+json": {
       "model_id": "007513b7c92642b78abeea8be0d504a5",
       "version_major": 2,
       "version_minor": 0
      },
      "text/plain": [
       "Epoch 42/150:   0%|          | 0/1407 [00:00<?, ?it/s]"
      ]
     },
     "metadata": {},
     "output_type": "display_data"
    },
    {
     "name": "stdout",
     "output_type": "stream",
     "text": [
      "Epoch: 42 \tTraining Loss: 0.698652 \tValidation Loss: 0.787627\n"
     ]
    },
    {
     "data": {
      "application/vnd.jupyter.widget-view+json": {
       "model_id": "7eacbbfcd2634fc2b65138e4b590388c",
       "version_major": 2,
       "version_minor": 0
      },
      "text/plain": [
       "Epoch 43/150:   0%|          | 0/1407 [00:00<?, ?it/s]"
      ]
     },
     "metadata": {},
     "output_type": "display_data"
    },
    {
     "name": "stdout",
     "output_type": "stream",
     "text": [
      "Epoch: 43 \tTraining Loss: 0.694452 \tValidation Loss: 0.783585\n"
     ]
    },
    {
     "data": {
      "application/vnd.jupyter.widget-view+json": {
       "model_id": "3df0052c6a2a4d5e864c96b8b29a17d9",
       "version_major": 2,
       "version_minor": 0
      },
      "text/plain": [
       "Epoch 44/150:   0%|          | 0/1407 [00:00<?, ?it/s]"
      ]
     },
     "metadata": {},
     "output_type": "display_data"
    },
    {
     "name": "stdout",
     "output_type": "stream",
     "text": [
      "Epoch: 44 \tTraining Loss: 0.690490 \tValidation Loss: 0.781813\n"
     ]
    },
    {
     "data": {
      "application/vnd.jupyter.widget-view+json": {
       "model_id": "a6cac22ea55442ef88f45fc1916ce73b",
       "version_major": 2,
       "version_minor": 0
      },
      "text/plain": [
       "Epoch 45/150:   0%|          | 0/1407 [00:00<?, ?it/s]"
      ]
     },
     "metadata": {},
     "output_type": "display_data"
    },
    {
     "name": "stdout",
     "output_type": "stream",
     "text": [
      "Epoch: 45 \tTraining Loss: 0.685967 \tValidation Loss: 0.777595\n"
     ]
    },
    {
     "data": {
      "application/vnd.jupyter.widget-view+json": {
       "model_id": "e41fb847650e48b699544a8964e4fb71",
       "version_major": 2,
       "version_minor": 0
      },
      "text/plain": [
       "Epoch 46/150:   0%|          | 0/1407 [00:00<?, ?it/s]"
      ]
     },
     "metadata": {},
     "output_type": "display_data"
    },
    {
     "name": "stdout",
     "output_type": "stream",
     "text": [
      "Epoch: 46 \tTraining Loss: 0.679852 \tValidation Loss: 0.779886\n"
     ]
    },
    {
     "data": {
      "application/vnd.jupyter.widget-view+json": {
       "model_id": "e40a226431bb431ea684f81cb2d176b3",
       "version_major": 2,
       "version_minor": 0
      },
      "text/plain": [
       "Epoch 47/150:   0%|          | 0/1407 [00:00<?, ?it/s]"
      ]
     },
     "metadata": {},
     "output_type": "display_data"
    },
    {
     "name": "stdout",
     "output_type": "stream",
     "text": [
      "Epoch: 47 \tTraining Loss: 0.675120 \tValidation Loss: 0.778383\n"
     ]
    },
    {
     "data": {
      "application/vnd.jupyter.widget-view+json": {
       "model_id": "7497826682ff44d1adc6430a055427fd",
       "version_major": 2,
       "version_minor": 0
      },
      "text/plain": [
       "Epoch 48/150:   0%|          | 0/1407 [00:00<?, ?it/s]"
      ]
     },
     "metadata": {},
     "output_type": "display_data"
    },
    {
     "name": "stdout",
     "output_type": "stream",
     "text": [
      "Epoch: 48 \tTraining Loss: 0.669940 \tValidation Loss: 0.785341\n"
     ]
    },
    {
     "data": {
      "application/vnd.jupyter.widget-view+json": {
       "model_id": "790f02684c02491186e225a8241658e9",
       "version_major": 2,
       "version_minor": 0
      },
      "text/plain": [
       "Epoch 49/150:   0%|          | 0/1407 [00:00<?, ?it/s]"
      ]
     },
     "metadata": {},
     "output_type": "display_data"
    },
    {
     "name": "stdout",
     "output_type": "stream",
     "text": [
      "Epoch: 49 \tTraining Loss: 0.665880 \tValidation Loss: 0.780139\n"
     ]
    },
    {
     "data": {
      "application/vnd.jupyter.widget-view+json": {
       "model_id": "66192d5c299e44b190f31a6f8a3c7207",
       "version_major": 2,
       "version_minor": 0
      },
      "text/plain": [
       "Epoch 50/150:   0%|          | 0/1407 [00:00<?, ?it/s]"
      ]
     },
     "metadata": {},
     "output_type": "display_data"
    },
    {
     "name": "stdout",
     "output_type": "stream",
     "text": [
      "Epoch: 50 \tTraining Loss: 0.662298 \tValidation Loss: 0.779667\n"
     ]
    },
    {
     "data": {
      "application/vnd.jupyter.widget-view+json": {
       "model_id": "8a67f972e3e94c47a71bb6278b641f4d",
       "version_major": 2,
       "version_minor": 0
      },
      "text/plain": [
       "Epoch 51/150:   0%|          | 0/1407 [00:00<?, ?it/s]"
      ]
     },
     "metadata": {},
     "output_type": "display_data"
    },
    {
     "name": "stdout",
     "output_type": "stream",
     "text": [
      "Epoch: 51 \tTraining Loss: 0.655117 \tValidation Loss: 0.789535\n"
     ]
    },
    {
     "data": {
      "application/vnd.jupyter.widget-view+json": {
       "model_id": "0b521b253f8a41d1b2fb3898a22f25b9",
       "version_major": 2,
       "version_minor": 0
      },
      "text/plain": [
       "Epoch 52/150:   0%|          | 0/1407 [00:00<?, ?it/s]"
      ]
     },
     "metadata": {},
     "output_type": "display_data"
    },
    {
     "name": "stdout",
     "output_type": "stream",
     "text": [
      "Epoch: 52 \tTraining Loss: 0.650332 \tValidation Loss: 0.785711\n"
     ]
    },
    {
     "data": {
      "application/vnd.jupyter.widget-view+json": {
       "model_id": "725fe1c3d65d44a2ba8ed8883219ed68",
       "version_major": 2,
       "version_minor": 0
      },
      "text/plain": [
       "Epoch 53/150:   0%|          | 0/1407 [00:00<?, ?it/s]"
      ]
     },
     "metadata": {},
     "output_type": "display_data"
    },
    {
     "name": "stdout",
     "output_type": "stream",
     "text": [
      "Epoch: 53 \tTraining Loss: 0.645317 \tValidation Loss: 0.776736\n",
      "Validation loss decreased (0.777428 --> 0.776736).  Saving model ...\n"
     ]
    },
    {
     "data": {
      "application/vnd.jupyter.widget-view+json": {
       "model_id": "eeaf0b5743204513b5f99c5f94f8a00c",
       "version_major": 2,
       "version_minor": 0
      },
      "text/plain": [
       "Epoch 54/150:   0%|          | 0/1407 [00:00<?, ?it/s]"
      ]
     },
     "metadata": {},
     "output_type": "display_data"
    },
    {
     "name": "stdout",
     "output_type": "stream",
     "text": [
      "Epoch: 54 \tTraining Loss: 0.639516 \tValidation Loss: 0.778290\n"
     ]
    },
    {
     "data": {
      "application/vnd.jupyter.widget-view+json": {
       "model_id": "7870f6b76d85476b84dc9d75ab569100",
       "version_major": 2,
       "version_minor": 0
      },
      "text/plain": [
       "Epoch 55/150:   0%|          | 0/1407 [00:00<?, ?it/s]"
      ]
     },
     "metadata": {},
     "output_type": "display_data"
    },
    {
     "name": "stdout",
     "output_type": "stream",
     "text": [
      "Epoch: 55 \tTraining Loss: 0.634635 \tValidation Loss: 0.788223\n"
     ]
    },
    {
     "data": {
      "application/vnd.jupyter.widget-view+json": {
       "model_id": "f37f8ca655bb4b9bab8b70870ad6d492",
       "version_major": 2,
       "version_minor": 0
      },
      "text/plain": [
       "Epoch 56/150:   0%|          | 0/1407 [00:00<?, ?it/s]"
      ]
     },
     "metadata": {},
     "output_type": "display_data"
    },
    {
     "name": "stdout",
     "output_type": "stream",
     "text": [
      "Epoch: 56 \tTraining Loss: 0.630358 \tValidation Loss: 0.789785\n"
     ]
    },
    {
     "data": {
      "application/vnd.jupyter.widget-view+json": {
       "model_id": "055ccd69ec614193a92987ccbf5a7f31",
       "version_major": 2,
       "version_minor": 0
      },
      "text/plain": [
       "Epoch 57/150:   0%|          | 0/1407 [00:00<?, ?it/s]"
      ]
     },
     "metadata": {},
     "output_type": "display_data"
    },
    {
     "name": "stdout",
     "output_type": "stream",
     "text": [
      "Epoch: 57 \tTraining Loss: 0.624936 \tValidation Loss: 0.785735\n"
     ]
    },
    {
     "data": {
      "application/vnd.jupyter.widget-view+json": {
       "model_id": "2e70ca99d4f944169a27b64d35d68777",
       "version_major": 2,
       "version_minor": 0
      },
      "text/plain": [
       "Epoch 58/150:   0%|          | 0/1407 [00:00<?, ?it/s]"
      ]
     },
     "metadata": {},
     "output_type": "display_data"
    },
    {
     "ename": "KeyboardInterrupt",
     "evalue": "",
     "output_type": "error",
     "traceback": [
      "\u001b[0;31m---------------------------------------------------------------------------\u001b[0m",
      "\u001b[0;31mKeyboardInterrupt\u001b[0m                         Traceback (most recent call last)",
      "\u001b[0;32m<ipython-input-3-d54ab1e13c77>\u001b[0m in \u001b[0;36m<module>\u001b[0;34m\u001b[0m\n\u001b[1;32m     44\u001b[0m         \u001b[0mlogits\u001b[0m \u001b[0;34m=\u001b[0m \u001b[0mtorch\u001b[0m\u001b[0;34m.\u001b[0m\u001b[0msqueeze\u001b[0m\u001b[0;34m(\u001b[0m\u001b[0mmodel\u001b[0m\u001b[0;34m(\u001b[0m\u001b[0mtorch\u001b[0m\u001b[0;34m.\u001b[0m\u001b[0mcat\u001b[0m\u001b[0;34m(\u001b[0m\u001b[0;34m(\u001b[0m\u001b[0mcontexts\u001b[0m\u001b[0;34m,\u001b[0m \u001b[0mquestions\u001b[0m\u001b[0;34m)\u001b[0m\u001b[0;34m,\u001b[0m \u001b[0;36m1\u001b[0m\u001b[0;34m)\u001b[0m\u001b[0;34m)\u001b[0m\u001b[0;34m)\u001b[0m\u001b[0;34m\u001b[0m\u001b[0;34m\u001b[0m\u001b[0m\n\u001b[1;32m     45\u001b[0m         \u001b[0mloss\u001b[0m \u001b[0;34m=\u001b[0m \u001b[0mcriterion\u001b[0m\u001b[0;34m(\u001b[0m\u001b[0mlogits\u001b[0m\u001b[0;34m,\u001b[0m \u001b[0manswers\u001b[0m\u001b[0;34m)\u001b[0m\u001b[0;34m\u001b[0m\u001b[0;34m\u001b[0m\u001b[0m\n\u001b[0;32m---> 46\u001b[0;31m         \u001b[0mloss\u001b[0m\u001b[0;34m.\u001b[0m\u001b[0mbackward\u001b[0m\u001b[0;34m(\u001b[0m\u001b[0;34m)\u001b[0m\u001b[0;34m\u001b[0m\u001b[0;34m\u001b[0m\u001b[0m\n\u001b[0m\u001b[1;32m     47\u001b[0m         \u001b[0moptimizer\u001b[0m\u001b[0;34m.\u001b[0m\u001b[0mstep\u001b[0m\u001b[0;34m(\u001b[0m\u001b[0;34m)\u001b[0m\u001b[0;34m\u001b[0m\u001b[0;34m\u001b[0m\u001b[0m\n\u001b[1;32m     48\u001b[0m         \u001b[0mtrain_loss\u001b[0m \u001b[0;34m+=\u001b[0m \u001b[0mloss\u001b[0m\u001b[0;34m.\u001b[0m\u001b[0mitem\u001b[0m\u001b[0;34m(\u001b[0m\u001b[0;34m)\u001b[0m\u001b[0;34m\u001b[0m\u001b[0;34m\u001b[0m\u001b[0m\n",
      "\u001b[0;32m~/miniconda3/lib/python3.7/site-packages/torch/_tensor.py\u001b[0m in \u001b[0;36mbackward\u001b[0;34m(self, gradient, retain_graph, create_graph, inputs)\u001b[0m\n\u001b[1;32m    253\u001b[0m                 \u001b[0mcreate_graph\u001b[0m\u001b[0;34m=\u001b[0m\u001b[0mcreate_graph\u001b[0m\u001b[0;34m,\u001b[0m\u001b[0;34m\u001b[0m\u001b[0;34m\u001b[0m\u001b[0m\n\u001b[1;32m    254\u001b[0m                 inputs=inputs)\n\u001b[0;32m--> 255\u001b[0;31m         \u001b[0mtorch\u001b[0m\u001b[0;34m.\u001b[0m\u001b[0mautograd\u001b[0m\u001b[0;34m.\u001b[0m\u001b[0mbackward\u001b[0m\u001b[0;34m(\u001b[0m\u001b[0mself\u001b[0m\u001b[0;34m,\u001b[0m \u001b[0mgradient\u001b[0m\u001b[0;34m,\u001b[0m \u001b[0mretain_graph\u001b[0m\u001b[0;34m,\u001b[0m \u001b[0mcreate_graph\u001b[0m\u001b[0;34m,\u001b[0m \u001b[0minputs\u001b[0m\u001b[0;34m=\u001b[0m\u001b[0minputs\u001b[0m\u001b[0;34m)\u001b[0m\u001b[0;34m\u001b[0m\u001b[0;34m\u001b[0m\u001b[0m\n\u001b[0m\u001b[1;32m    256\u001b[0m \u001b[0;34m\u001b[0m\u001b[0m\n\u001b[1;32m    257\u001b[0m     \u001b[0;32mdef\u001b[0m \u001b[0mregister_hook\u001b[0m\u001b[0;34m(\u001b[0m\u001b[0mself\u001b[0m\u001b[0;34m,\u001b[0m \u001b[0mhook\u001b[0m\u001b[0;34m)\u001b[0m\u001b[0;34m:\u001b[0m\u001b[0;34m\u001b[0m\u001b[0;34m\u001b[0m\u001b[0m\n",
      "\u001b[0;32m~/miniconda3/lib/python3.7/site-packages/torch/autograd/__init__.py\u001b[0m in \u001b[0;36mbackward\u001b[0;34m(tensors, grad_tensors, retain_graph, create_graph, grad_variables, inputs)\u001b[0m\n\u001b[1;32m    147\u001b[0m     Variable._execution_engine.run_backward(\n\u001b[1;32m    148\u001b[0m         \u001b[0mtensors\u001b[0m\u001b[0;34m,\u001b[0m \u001b[0mgrad_tensors_\u001b[0m\u001b[0;34m,\u001b[0m \u001b[0mretain_graph\u001b[0m\u001b[0;34m,\u001b[0m \u001b[0mcreate_graph\u001b[0m\u001b[0;34m,\u001b[0m \u001b[0minputs\u001b[0m\u001b[0;34m,\u001b[0m\u001b[0;34m\u001b[0m\u001b[0;34m\u001b[0m\u001b[0m\n\u001b[0;32m--> 149\u001b[0;31m         allow_unreachable=True, accumulate_grad=True)  # allow_unreachable flag\n\u001b[0m\u001b[1;32m    150\u001b[0m \u001b[0;34m\u001b[0m\u001b[0m\n\u001b[1;32m    151\u001b[0m \u001b[0;34m\u001b[0m\u001b[0m\n",
      "\u001b[0;31mKeyboardInterrupt\u001b[0m: "
     ]
    }
   ],
   "source": [
    "batch_size=128\n",
    "max_epochs = 150\n",
    "\n",
    "babi_dataset = BabiDataset(ds_path='/home/gabriel/Documents/datasets/bAbi/en/qa{}_*', \n",
    "                           vocab_path='/home/gabriel/Documents/datasets/bAbi/en/babi{}_vocab.pkl')\n",
    "vocab_size = len(babi_dataset.QA.VOCAB)\n",
    "print('len(babi_dataset) train', len(babi_dataset))\n",
    "print('vocab_size', vocab_size)\n",
    "\n",
    "use_cuda = torch.cuda.is_available()\n",
    "device = torch.device(\"cuda:0\" if use_cuda else \"cpu\")\n",
    "print(device)\n",
    "torch.backends.cudnn.benchmark = True\n",
    "model.to(device)\n",
    "\n",
    "criterion = nn.CrossEntropyLoss(reduction='sum')\n",
    "optimizer = torch.optim.Adam(model.parameters(), lr=1e-4)\n",
    "val_loss_min = float('inf')\n",
    "\n",
    "writer = SummaryWriter()\n",
    "if not os.path.isdir(f'checkpoints/{model_name}'):\n",
    "    os.mkdir(f'checkpoints/{model_name}')\n",
    "now = datetime.now().strftime(\"%d_%m_%Y__%H_%M_%S\")\n",
    "\n",
    "for epoch in range(max_epochs):\n",
    "    train_loss = 0.0\n",
    "    val_loss = 0.0\n",
    "    loss_sum = 0\n",
    "    loss_count = 0\n",
    "    model.train()\n",
    "    babi_dataset.set_mode('train')\n",
    "    train_loader = DataLoader(\n",
    "        babi_dataset, batch_size=batch_size, shuffle=True, collate_fn=pad_collate\n",
    "    )\n",
    "    \n",
    "    for batch_idx, data in enumerate(tqdm(train_loader, desc=f\"Epoch {epoch + 1}/{max_epochs}\")):\n",
    "        optimizer.zero_grad()\n",
    "\n",
    "        contexts, questions, answers, tasks = data\n",
    "        contexts = contexts.long().to(device)\n",
    "        questions = questions.long().to(device)\n",
    "        answers = answers.to(device)\n",
    "        \n",
    "        logits = torch.squeeze(model(torch.cat((contexts, questions), 1)))\n",
    "        loss = criterion(logits, answers)\n",
    "        loss.backward()\n",
    "        optimizer.step()\n",
    "        train_loss += loss.item()\n",
    "        writer.add_scalars(\"losses_step\", {\"train_loss\": loss.item() / contexts.size(0)}, epoch * len(train_loader) + batch_idx)\n",
    "    \n",
    "    train_loss = train_loss / len(train_loader.dataset)\n",
    "    writer.add_scalars(\"losses_epoch\", {\"train_loss\": train_loss}, epoch)\n",
    "    train_loader_len = len(train_loader)\n",
    "    \n",
    "    model.eval()\n",
    "    babi_dataset.set_mode('valid')\n",
    "    val_loader = DataLoader(\n",
    "        babi_dataset, batch_size=batch_size, shuffle=False, collate_fn=pad_collate\n",
    "    )\n",
    "    \n",
    "    with torch.no_grad():\n",
    "        for batch_idx, data in enumerate(val_loader):\n",
    "        \n",
    "            contexts, questions, answers, tasks = data\n",
    "            contexts = contexts.long().to(device)\n",
    "            questions = questions.long().to(device)\n",
    "            answers = answers.to(device)\n",
    "        \n",
    "            logits = torch.squeeze(model(torch.cat((contexts, questions), 1)))\n",
    "            loss = criterion(logits, answers)\n",
    "            val_loss += loss.item()\n",
    "\n",
    "    val_loss = val_loss / len(val_loader.dataset)\n",
    "    writer.add_scalars(\"losses_step\", {\"val_loss\": val_loss}, (epoch + 1) * train_loader_len - 1)    \n",
    "    writer.add_scalars(\"losses_epoch\", {\"val_loss\": val_loss}, epoch)\n",
    "    \n",
    "    print('Epoch: {} \\tTraining Loss: {:.6f} \\tValidation Loss: {:.6f}'.format(\n",
    "        epoch+1, \n",
    "        train_loss,\n",
    "        val_loss\n",
    "    ))\n",
    "    \n",
    "    checkpoint = {\n",
    "        'epoch': epoch + 1,\n",
    "        'valid_loss_min': val_loss,\n",
    "        'state_dict': model.state_dict(),\n",
    "        'optimizer': optimizer.state_dict(),\n",
    "    }\n",
    "    \n",
    "    torch.save(checkpoint, f'checkpoints/{model_name}/checkpoint_{now}.pt')\n",
    "    if val_loss <= val_loss_min:\n",
    "        print('Validation loss decreased ({:.6f} --> {:.6f}).  Saving model ...'.format(val_loss_min,val_loss))\n",
    "        torch.save(checkpoint, f'checkpoints/{model_name}/best_checkpoint_{now}.pt')\n",
    "        val_loss_min = val_loss"
   ]
  },
  {
   "cell_type": "code",
   "execution_count": 4,
   "id": "included-hypothesis",
   "metadata": {},
   "outputs": [
    {
     "name": "stdout",
     "output_type": "stream",
     "text": [
      "cuda:0\n"
     ]
    },
    {
     "data": {
      "application/vnd.jupyter.widget-view+json": {
       "model_id": "4412fe088d3842c5aa0e7fa5fa449990",
       "version_major": 2,
       "version_minor": 0
      },
      "text/plain": [
       "Inference:   0%|          | 0/157 [00:00<?, ?it/s]"
      ]
     },
     "metadata": {},
     "output_type": "display_data"
    },
    {
     "name": "stderr",
     "output_type": "stream",
     "text": [
      "/home/gabriel/miniconda3/lib/python3.7/site-packages/sklearn/metrics/_classification.py:1245: UndefinedMetricWarning: Precision and F-score are ill-defined and being set to 0.0 in labels with no predicted samples. Use `zero_division` parameter to control this behavior.\n",
      "  _warn_prf(average, modifier, msg_start, len(result))\n",
      "/home/gabriel/miniconda3/lib/python3.7/site-packages/sklearn/metrics/_classification.py:1245: UndefinedMetricWarning: Precision and F-score are ill-defined and being set to 0.0 in labels with no predicted samples. Use `zero_division` parameter to control this behavior.\n",
      "  _warn_prf(average, modifier, msg_start, len(result))\n",
      "/home/gabriel/miniconda3/lib/python3.7/site-packages/sklearn/metrics/_classification.py:1245: UndefinedMetricWarning: Precision and F-score are ill-defined and being set to 0.0 in labels with no predicted samples. Use `zero_division` parameter to control this behavior.\n",
      "  _warn_prf(average, modifier, msg_start, len(result))\n",
      "/home/gabriel/miniconda3/lib/python3.7/site-packages/sklearn/utils/validation.py:72: FutureWarning: Pass labels=['park', 'football,apple,milk', 'apple,football,milk', 'e,n', 'tired', 'football,milk', 'apple,football', 'bedroom', 'office', 'bill', 'mouse', 'apple', 'yes', 'kitchen', 'football,apple', 's,s', 'bored', 'football', 'n,w', 'milk', 'e,e', 'jeff', 's,w', 'green', 'fred', 's,e', 'hungry', 'milk,apple', 'cat', 'garden', 'no', 'bathroom', 'none', 'hallway', 'n,e', 'w,n', 'thirsty', 'e,s', 'n,n', 'school', 'w,s', 'three', 'milk,football', 'mary', 'two', 'nothing', 'gray', 'w,w', 'sheep', 'wolf', 'white', 'one', 'yellow', 'apple,milk', 'maybe', 'cinema'] as keyword args. From version 1.0 (renaming of 0.25) passing these as positional arguments will result in an error\n",
      "  \"will result in an error\", FutureWarning)\n"
     ]
    },
    {
     "name": "stdout",
     "output_type": "stream",
     "text": [
      "0.64655\n",
      "                     precision    recall  f1-score   support\n",
      "\n",
      "              apple       0.72      0.84      0.77       341\n",
      "     apple,football       0.20      0.18      0.19        11\n",
      "apple,football,milk       0.00      0.00      0.00         1\n",
      "         apple,milk       0.50      0.10      0.17        10\n",
      "           bathroom       0.66      0.61      0.63      1195\n",
      "            bedroom       0.61      0.70      0.65      1437\n",
      "               bill       0.59      0.57      0.58       164\n",
      "              bored       1.00      1.00      1.00       159\n",
      "                cat       0.59      0.49      0.53       213\n",
      "             cinema       0.45      0.38      0.41       171\n",
      "                e,e       0.00      0.00      0.00        81\n",
      "                e,n       0.00      0.00      0.00        88\n",
      "                e,s       0.00      0.00      0.00        79\n",
      "           football       0.71      0.76      0.74       281\n",
      "     football,apple       0.00      0.00      0.00        18\n",
      "football,apple,milk       0.00      0.00      0.00         1\n",
      "      football,milk       0.00      0.00      0.00         7\n",
      "               fred       0.61      0.57      0.59       188\n",
      "             garden       0.66      0.61      0.64      1300\n",
      "               gray       0.46      0.56      0.51       230\n",
      "              green       0.53      0.57      0.55       256\n",
      "            hallway       0.69      0.61      0.65      1175\n",
      "             hungry       0.91      0.95      0.93       157\n",
      "               jeff       0.53      0.55      0.54       129\n",
      "            kitchen       0.66      0.66      0.66      1495\n",
      "               mary       0.53      0.55      0.54       189\n",
      "              maybe       0.48      0.49      0.49       150\n",
      "               milk       0.80      0.81      0.80       305\n",
      "         milk,apple       0.00      0.00      0.00         9\n",
      "      milk,football       0.00      0.00      0.00        10\n",
      "              mouse       0.52      0.56      0.54       239\n",
      "                n,e       0.00      0.00      0.00        85\n",
      "                n,n       0.00      0.00      0.00        92\n",
      "                n,w       0.10      0.46      0.17        92\n",
      "                 no       0.76      0.80      0.78      2589\n",
      "               none       0.77      0.85      0.81       468\n",
      "            nothing       0.80      0.74      0.77       336\n",
      "             office       0.58      0.63      0.61      1284\n",
      "                one       0.78      0.76      0.77       488\n",
      "               park       0.50      0.39      0.44       152\n",
      "                s,e       0.10      0.04      0.05        83\n",
      "                s,s       0.12      0.08      0.10        71\n",
      "                s,w       0.10      0.56      0.17        93\n",
      "             school       0.46      0.51      0.48       162\n",
      "              sheep       0.47      0.64      0.54       207\n",
      "            thirsty       0.95      0.91      0.93       152\n",
      "              three       0.00      0.00      0.00         2\n",
      "              tired       1.00      1.00      1.00       161\n",
      "                two       0.50      0.02      0.05        42\n",
      "                w,n       0.00      0.00      0.00        80\n",
      "                w,s       0.00      0.00      0.00        90\n",
      "                w,w       0.00      0.00      0.00        66\n",
      "              white       0.59      0.39      0.47       272\n",
      "               wolf       0.65      0.55      0.59       341\n",
      "             yellow       0.50      0.55      0.52       242\n",
      "                yes       0.75      0.70      0.73      2261\n",
      "\n",
      "           accuracy                           0.65     20000\n",
      "          macro avg       0.43      0.42      0.41     20000\n",
      "       weighted avg       0.64      0.65      0.64     20000\n",
      "\n",
      "[0.555, 0.355, 0.305, 0.78, 0.654, 0.842, 0.77, 0.72, 0.741, 0.703, 0.692, 0.809, 0.931, 0.472, 0.557, 0.514, 0.527, 0.925, 0.103, 0.976]\n",
      "passed_tasks: [0, 0, 0, 0, 0, 0, 0, 0, 0, 0, 0, 0, 0, 0, 0, 0, 0, 0, 0, 1]\n",
      "no. passed_tasks: 1\n"
     ]
    },
    {
     "data": {
      "image/png": "[encoded data removed]",
      "text/plain": [
       "<Figure size 1800x1800 with 2 Axes>"
      ]
     },
     "metadata": {
      "needs_background": "light"
     },
     "output_type": "display_data"
    },
    {
     "name": "stdout",
     "output_type": "stream",
     "text": [
      "16.538029432296753\n"
     ]
    }
   ],
   "source": [
    "use_cuda = torch.cuda.is_available()\n",
    "device = torch.device(\"cuda:0\" if use_cuda else \"cpu\")\n",
    "print(device)\n",
    "model.to(device)\n",
    "checkpoint_name = f'checkpoints/{model_name}/best_checkpoint_{now}.pt'\n",
    "checkpoint = torch.load(checkpoint_name)\n",
    "model.load_state_dict(checkpoint['state_dict'])\n",
    "model.eval()\n",
    "m = nn.Softmax(dim=1)\n",
    "\n",
    "babi_dataset.set_mode('test')\n",
    "test_loader = DataLoader(\n",
    "    babi_dataset, batch_size=batch_size, shuffle=False, collate_fn=pad_collate\n",
    ")\n",
    "\n",
    "y_pred_extended = []\n",
    "y_true_extended = []\n",
    "y_pred_task = [[] for _ in range(20)]\n",
    "y_true_task = [[] for _ in range(20)]\n",
    "\n",
    "start = time.time()\n",
    "with torch.no_grad():\n",
    "    for batch_idx, data in enumerate(tqdm(test_loader, desc=f\"Inference\")):\n",
    "        contexts, questions, answers, tasks = data\n",
    "        contexts = contexts.long().to(device)\n",
    "        questions = questions.long().to(device)\n",
    "        answers = answers.to(device)\n",
    "\n",
    "        logits = torch.squeeze(model(torch.cat((contexts, questions), 1))).cpu()\n",
    "        # We consider a task successfully passed if ≥ 95% accuracy is obtained.\n",
    "        y_pred = m(logits)\n",
    "        y_pred = np.argmax(y_pred, axis=1)\n",
    "        y_pred = [babi_dataset.QA.IVOCAB[int(i)] for i in y_pred]\n",
    "        y_true = [babi_dataset.QA.IVOCAB[int(i)] for i in answers.cpu()]\n",
    "        y_pred_extended.extend(y_pred)\n",
    "        y_true_extended.extend(y_true)\n",
    "        for i in range(len(y_pred)):\n",
    "            y_pred_task[int(tasks[i]) - 1].append(y_pred[i])\n",
    "            y_true_task[int(tasks[i]) - 1].append(y_true[i])\n",
    "end = time.time()\n",
    "\n",
    "        \n",
    "def plot_confusion_matrix(cm, classes,\n",
    "                          normalize=False,\n",
    "                          title='Confusion matrix',\n",
    "                          cmap=plt.cm.Blues):\n",
    "    \"\"\"\n",
    "    This function prints and plots the confusion matrix.\n",
    "    Normalization can be applied by setting `normalize=True`.\n",
    "    \"\"\"\n",
    "    if normalize:\n",
    "        cm = cm.astype('float') / cm.sum(axis=1)[:, np.newaxis]\n",
    "        #print(\"Normalized confusion matrix\")\n",
    "    #else:\n",
    "        #print('Confusion matrix, without normalization')\n",
    "\n",
    "    #print(cm)\n",
    "    \n",
    "    plt.figure(figsize=(25,25))\n",
    "    plt.imshow(cm, interpolation='nearest', cmap=cmap)\n",
    "    plt.title(title)\n",
    "    plt.colorbar()\n",
    "    tick_marks = np.arange(len(classes))\n",
    "    plt.xticks(tick_marks, classes, rotation=45)\n",
    "    plt.yticks(tick_marks, classes)\n",
    "\n",
    "    fmt = '.2f' if normalize else 'd'\n",
    "    thresh = cm.max() / 2.\n",
    "    for i, j in itertools.product(range(cm.shape[0]), range(cm.shape[1])):\n",
    "        plt.text(j, i, format(cm[i, j], fmt),\n",
    "                 horizontalalignment=\"center\",\n",
    "                 color=\"white\" if cm[i, j] > thresh else \"black\")\n",
    "\n",
    "    plt.ylabel('True label')\n",
    "    plt.xlabel('Predicted label')\n",
    "    plt.tight_layout()\n",
    "\n",
    "accuracy = accuracy_score(y_pred_extended, y_true_extended)\n",
    "cr = classification_report(y_true_extended, y_pred_extended)\n",
    "print(accuracy)\n",
    "print(cr)\n",
    "task_acc = []\n",
    "passed_tasks = []\n",
    "for i in range(20):\n",
    "    task_acc.append(accuracy_score(y_pred_task[i], y_true_task[i]))\n",
    "    passed_tasks.append(1 if task_acc[i] >= 0.95 else 0)\n",
    "print(task_acc)\n",
    "print('passed_tasks:', passed_tasks)\n",
    "print('no. passed_tasks:', sum(passed_tasks))\n",
    "labels = list(set(y_true_extended).intersection(set(y_true_extended)))\n",
    "cnf_matrix = confusion_matrix(y_true_extended, y_pred_extended, labels)\n",
    "# Plot non-normalized confusion matrix\n",
    "plot_confusion_matrix(cnf_matrix, classes=labels, title = ('Confusion Matrix'))\n",
    "plt.show()\n",
    "print(end-start)"
   ]
  },
  {
   "cell_type": "code",
   "execution_count": null,
   "id": "proprietary-corpus",
   "metadata": {},
   "outputs": [],
   "source": [
    "# from thop import profile\n",
    "# from thop import clever_format\n",
    "\n",
    "# macs, params = profile(model, inputs=(\n",
    "#                         torch.randint(1, size=(1, 910)).type(torch.LongTensor).to(device), \n",
    "#                         torch.randint(1, size=(1, 13)).type(torch.LongTensor).to(device)))  # , \n",
    "# #                         custom_ops={YourModule: count_your_model})\n",
    "\n",
    "# macs, params = clever_format([macs, params], \"%.3f\")\n",
    "# print(macs, params)"
   ]
  },
  {
   "cell_type": "code",
   "execution_count": null,
   "id": "black-cleanup",
   "metadata": {},
   "outputs": [],
   "source": [
    "# model.layers.append(model.layers[1])\n",
    "print(len(model.layers))"
   ]
  },
  {
   "cell_type": "code",
   "execution_count": null,
   "id": "metallic-munich",
   "metadata": {},
   "outputs": [],
   "source": []
  },
  {
   "cell_type": "code",
   "execution_count": null,
   "id": "compliant-stanford",
   "metadata": {},
   "outputs": [],
   "source": []
  }
 ],
 "metadata": {
  "kernelspec": {
   "display_name": "Python 3",
   "language": "python",
   "name": "python3"
  },
  "language_info": {
   "codemirror_mode": {
    "name": "ipython",
    "version": 3
   },
   "file_extension": ".py",
   "mimetype": "text/x-python",
   "name": "python",
   "nbconvert_exporter": "python",
   "pygments_lexer": "ipython3",
   "version": "3.7.7"
  }
 },
 "nbformat": 4,
 "nbformat_minor": 5
}
