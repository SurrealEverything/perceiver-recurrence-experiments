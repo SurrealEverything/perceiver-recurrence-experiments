{
 "cells": [
  {
   "cell_type": "code",
   "execution_count": 1,
   "id": "balanced-miller",
   "metadata": {},
   "outputs": [],
   "source": [
    "import torch\n",
    "import torchvision\n",
    "from torch import nn\n",
    "from perceiver_pytorch import Perceiver\n",
    "import numpy as np\n",
    "from matplotlib import pyplot as plt\n",
    "from sklearn.metrics import classification_report\n",
    "from sklearn.metrics import confusion_matrix\n",
    "from sklearn.metrics import accuracy_score\n",
    "import itertools\n",
    "from torch.utils.tensorboard import SummaryWriter\n",
    "import os\n",
    "from tqdm.notebook import tqdm\n",
    "from datetime import datetime"
   ]
  },
  {
   "cell_type": "code",
   "execution_count": 2,
   "id": "natural-consideration",
   "metadata": {},
   "outputs": [
    {
     "name": "stdout",
     "output_type": "stream",
     "text": [
      "68710\n",
      "68710\n"
     ]
    }
   ],
   "source": [
    "model = Perceiver(\n",
    "    input_channels = 1,          # number of channels for each token of the input\n",
    "    input_axis = 2,              # number of axis for input data (2 for images, 3 for video)\n",
    "    num_freq_bands = 6,          # number of freq bands, with original value (2 * K + 1)\n",
    "    max_freq = 10.,              # maximum frequency, hyperparameter depending on how fine the data is\n",
    "    freq_base = 2,\n",
    "    depth = 6,                   # depth of net. The shape of the final attention mechanism will be:\n",
    "                                 #   depth * (cross attention -> self_per_cross_attn * self attention)\n",
    "    num_latents = 16,           # number of latents, or induced set points, or centroids. different papers giving it different names\n",
    "    latent_dim = 32,            # latent dimension\n",
    "    cross_heads = 1,             # number of heads for cross attention. paper said 1\n",
    "    latent_heads = 2,            # number of heads for latent self attention, 8\n",
    "    cross_dim_head = 4,         # number of dimensions per cross attention head\n",
    "    latent_dim_head = 4,        # number of dimensions per latent self attention head\n",
    "    num_classes = 10, # 91,          # output number of classes\n",
    "    attn_dropout = 0.,\n",
    "    ff_dropout = 0.,\n",
    "    weight_tie_layers = True,   # whether to weight tie layers (optional, as indicated in the diagram)\n",
    "    fourier_encode_data = True,  # whether to auto-fourier encode the data, using the input_axis given. defaults to True, but can be turned off if you are fourier encoding the data yourself\n",
    "    self_per_cross_attn = 2      # number of self attention blocks per cross attention\n",
    ")\n",
    "\n",
    "# img = torch.randn(1, 28, 28, 1) # 1 imagenet image, pixelized\n",
    "\n",
    "# model(img).shape # (1, 1000)\n",
    "model_name = 'baseline_mnist'\n",
    "print(sum(p.numel() for p in model.parameters()))\n",
    "print(sum(p.numel() for p in model.parameters() if p.requires_grad))"
   ]
  },
  {
   "cell_type": "code",
   "execution_count": 3,
   "id": "characteristic-antarctica",
   "metadata": {},
   "outputs": [
    {
     "name": "stdout",
     "output_type": "stream",
     "text": [
      "68710\n",
      "68710\n"
     ]
    }
   ],
   "source": [
    "print(sum(p.numel() for p in model.parameters()))\n",
    "print(sum(p.numel() for p in model.parameters() if p.requires_grad))"
   ]
  },
  {
   "cell_type": "code",
   "execution_count": 4,
   "id": "worth-lesbian",
   "metadata": {},
   "outputs": [],
   "source": [
    "# imagenet_data = torchvision.datasets.ImageNet('/home/gabriel/Documents/datasets/')\n",
    "# data_loader = torch.utils.data.DataLoader(imagenet_data,\n",
    "#                                           batch_size=32,\n",
    "#                                           shuffle=True,\n",
    "#                                           num_workers=20)\n",
    "# train_loader, val_loader, test_loader"
   ]
  },
  {
   "cell_type": "code",
   "execution_count": 5,
   "id": "received-cedar",
   "metadata": {},
   "outputs": [
    {
     "name": "stderr",
     "output_type": "stream",
     "text": [
      "/home/gabriel/miniconda3/lib/python3.7/site-packages/torchvision/datasets/mnist.py:498: UserWarning: The given NumPy array is not writeable, and PyTorch does not support non-writeable tensors. This means you can write to the underlying (supposedly non-writeable) NumPy array using the tensor. You may want to copy the array to protect its data or make it writeable before converting it to a tensor. This type of warning will be suppressed for the rest of this program. (Triggered internally at  /opt/conda/conda-bld/pytorch_1623448265233/work/torch/csrc/utils/tensor_numpy.cpp:180.)\n",
      "  return torch.from_numpy(parsed.astype(m[2], copy=False)).view(*s)\n"
     ]
    }
   ],
   "source": [
    "torch.manual_seed(0)\n",
    "\n",
    "batch_size = 16\n",
    "\n",
    "mnist_train = torchvision.datasets.MNIST('/home/gabriel/Documents/datasets/MNIST/', train=True, download=True,\n",
    "                             transform=torchvision.transforms.Compose([\n",
    "                               torchvision.transforms.ToTensor(),\n",
    "                               torchvision.transforms.Normalize(\n",
    "                                 (0.1307,), (0.3081,))\n",
    "                             ]))\n",
    "train_set, val_set = torch.utils.data.random_split(mnist_train, [50000, 10000])\n",
    "train_loader = torch.utils.data.DataLoader(train_set, batch_size=batch_size, shuffle=True, num_workers=10)\n",
    "val_loader = torch.utils.data.DataLoader(val_set, batch_size=batch_size, shuffle=False, num_workers=10)\n",
    "test_loader = torch.utils.data.DataLoader(\n",
    "  torchvision.datasets.MNIST('/home/gabriel/Documents/datasets/MNIST/', train=False, download=True,\n",
    "                             transform=torchvision.transforms.Compose([\n",
    "                               torchvision.transforms.ToTensor(),\n",
    "                               torchvision.transforms.Normalize(\n",
    "                                 (0.1307,), (0.3081,))\n",
    "                             ])),\n",
    "  batch_size=batch_size, shuffle=True, num_workers=10)"
   ]
  },
  {
   "cell_type": "code",
   "execution_count": 6,
   "id": "amino-distribution",
   "metadata": {},
   "outputs": [],
   "source": [
    "# class CocoMultilabelDataset(torch.utils.data.Dataset):\n",
    "#     def __init__(self, coco_dataset):\n",
    "#         self.coco_dataset = coco_dataset\n",
    "        \n",
    "#     def __getitem__(self, index):\n",
    "#         target = torch.zeros((91,))\n",
    "#         for det in self.coco_dataset[index][1]:\n",
    "#             if det['category_id'] > 90:\n",
    "#                 print(det)\n",
    "#             target[det['category_id']] = 1\n",
    "#         return (self.coco_dataset[index][0], target)\n",
    "    \n",
    "#     def __len__(self):\n",
    "#         return len(self.coco_dataset)\n",
    "\n",
    "# torch.manual_seed(0)\n",
    "# batch_size = 16\n",
    "# coco_train = torchvision.datasets.CocoDetection(root = '/home/gabriel/Documents/datasets/COCO/train2017',\n",
    "#                                                 annFile = '/home/gabriel/Documents/datasets/COCO/annotations/instances_train2017.json',\n",
    "#                                                 transform=torchvision.transforms.Compose([\n",
    "#                                                     torchvision.transforms.Resize((112, 112)),\n",
    "#                                                     torchvision.transforms.ToTensor(), + 20\n",
    "#                                                     torchvision.transforms.Normalize(\n",
    "#                                                         (0.485, 0.456, 0.406), (0.229, 0.224, 0.225))\n",
    "#                                                 ]))\n",
    "# coco_train = CocoMultilabelDataset(coco_train)\n",
    "# split = int(0.9 * len(coco_train))\n",
    "# train_set, val_set = torch.utils.data.random_split(coco_train, [split, len(coco_train) - split])\n",
    "# train_loader = torch.utils.data.DataLoader(train_set, batch_size=batch_size, shuffle=True, num_workers=10)\n",
    "# val_loader = torch.utils.data.DataLoader(val_set, batch_size=batch_size, shuffle=False, num_workers=10)\n",
    "# test_set = torchvision.datasets.CocoDetection(root = '/home/gabriel/Documents/datasets/COCO/val2017',\n",
    "#                                               annFile = '/home/gabriel/Documents/datasets/COCO/annotations/instances_val2017.json',\n",
    "#                                               transform=torchvision.transforms.Compose([\n",
    "#                                                   torchvision.transforms.Resize((112, 112)),\n",
    "#                                                   torchvision.transforms.ToTensor(),\n",
    "#                                                   torchvision.transforms.Normalize(\n",
    "#                                                       (0.485, 0.456, 0.406), (0.229, 0.224, 0.225))\n",
    "#                                               ]))\n",
    "# test_set = CocoMultilabelDataset(test_set)\n",
    "# test_loader = torch.utils.data.DataLoader(test_set, batch_size=batch_size, shuffle=False, num_workers=10)\n",
    "\n",
    "# print(len(coco_train))\n",
    "# im = torch.transpose(torch.transpose(coco_train[1][0], 0, 1), 1, 2)\n",
    "# plt.imshow(im.cpu().numpy())\n",
    "# plt.show()"
   ]
  },
  {
   "cell_type": "code",
   "execution_count": 7,
   "id": "steady-quick",
   "metadata": {},
   "outputs": [],
   "source": [
    "# torch.manual_seed(0)\n",
    "# batch_size = 16\n",
    "\n",
    "# train_set = torchvision.datasets.CelebA(root = '/home/gabriel/Documents/datasets/CelebA/Img/img_celeba.7z', split='train',\n",
    "#                                         transform=torchvision.transforms.Compose([\n",
    "#                                            torchvision.transforms.Resize((112, 112)),\n",
    "#                                            torchvision.transforms.ToTensor(),\n",
    "#                                            torchvision.transforms.Normalize(\n",
    "#                                                (0.485, 0.456, 0.406), (0.229, 0.224, 0.225))\n",
    "#                                        ]))\n",
    "\n",
    "# train_loader = torch.utils.data.DataLoader(train_set, batch_size=batch_size, shuffle=True, num_workers=10)\n",
    "# val_set = torchvision.datasets.CelebA(root = '/home/gabriel/Documents/datasets/CelebA', split='valid',\n",
    "#                                       transform=torchvision.transforms.Compose([\n",
    "#                                           torchvision.transforms.Resize((112, 112)),\n",
    "#                                           torchvision.transforms.ToTensor(),\n",
    "#                                           torchvision.transforms.Normalize(\n",
    "#                                             (0.485, 0.456, 0.406), (0.229, 0.224, 0.225))\n",
    "#                                       ]))\n",
    "# val_loader = torch.utils.data.DataLoader(val_set, batch_size=batch_size, shuffle=False, num_workers=10)\n",
    "# test_set = torchvision.datasets.CelebA(root = '/home/gabriel/Documents/datasets/CelebA', split='test',\n",
    "#                                        transform=torchvision.transforms.Compose([\n",
    "#                                            torchvision.transforms.Resize((112, 112)),\n",
    "#                                            torchvision.transforms.ToTensor(),\n",
    "#                                            torchvision.transforms.Normalize(\n",
    "#                                                (0.485, 0.456, 0.406), (0.229, 0.224, 0.225))\n",
    "#                                        ]))\n",
    "# test_loader = torch.utils.data.DataLoader(test_set, batch_size=batch_size, shuffle=False, num_workers=10)\n"
   ]
  },
  {
   "cell_type": "code",
   "execution_count": 8,
   "id": "structured-kitchen",
   "metadata": {},
   "outputs": [
    {
     "name": "stdout",
     "output_type": "stream",
     "text": [
      "cuda:0\n"
     ]
    },
    {
     "data": {
      "application/vnd.jupyter.widget-view+json": {
       "model_id": "65bf8677683e4ec49861f2df9ce10341",
       "version_major": 2,
       "version_minor": 0
      },
      "text/plain": [
       "Epoch 1/40:   0%|          | 0/3125 [00:00<?, ?it/s]"
      ]
     },
     "metadata": {},
     "output_type": "display_data"
    },
    {
     "name": "stdout",
     "output_type": "stream",
     "text": [
      "Epoch: 1 \tTraining Loss: 1.910584 \tValidation Loss: 1.252806\n",
      "Validation loss decreased (100000.000000 --> 1.252806).  Saving model ...\n"
     ]
    },
    {
     "data": {
      "application/vnd.jupyter.widget-view+json": {
       "model_id": "3632cc07ef8a4b7491d9d1cc9bf0dcb9",
       "version_major": 2,
       "version_minor": 0
      },
      "text/plain": [
       "Epoch 2/40:   0%|          | 0/3125 [00:00<?, ?it/s]"
      ]
     },
     "metadata": {},
     "output_type": "display_data"
    },
    {
     "name": "stdout",
     "output_type": "stream",
     "text": [
      "Epoch: 2 \tTraining Loss: 1.030035 \tValidation Loss: 0.869505\n",
      "Validation loss decreased (1.252806 --> 0.869505).  Saving model ...\n"
     ]
    },
    {
     "data": {
      "application/vnd.jupyter.widget-view+json": {
       "model_id": "286d2bb3be114538824c7eb71f36f5f0",
       "version_major": 2,
       "version_minor": 0
      },
      "text/plain": [
       "Epoch 3/40:   0%|          | 0/3125 [00:00<?, ?it/s]"
      ]
     },
     "metadata": {},
     "output_type": "display_data"
    },
    {
     "name": "stdout",
     "output_type": "stream",
     "text": [
      "Epoch: 3 \tTraining Loss: 0.727002 \tValidation Loss: 0.643767\n",
      "Validation loss decreased (0.869505 --> 0.643767).  Saving model ...\n"
     ]
    },
    {
     "data": {
      "application/vnd.jupyter.widget-view+json": {
       "model_id": "2a0404ab62fa4690b850f4213b2ad9a2",
       "version_major": 2,
       "version_minor": 0
      },
      "text/plain": [
       "Epoch 4/40:   0%|          | 0/3125 [00:00<?, ?it/s]"
      ]
     },
     "metadata": {},
     "output_type": "display_data"
    },
    {
     "name": "stdout",
     "output_type": "stream",
     "text": [
      "Epoch: 4 \tTraining Loss: 0.559211 \tValidation Loss: 0.490646\n",
      "Validation loss decreased (0.643767 --> 0.490646).  Saving model ...\n"
     ]
    },
    {
     "data": {
      "application/vnd.jupyter.widget-view+json": {
       "model_id": "4e2297d3b1a64768a32f677b1e10fe7b",
       "version_major": 2,
       "version_minor": 0
      },
      "text/plain": [
       "Epoch 5/40:   0%|          | 0/3125 [00:00<?, ?it/s]"
      ]
     },
     "metadata": {},
     "output_type": "display_data"
    },
    {
     "name": "stdout",
     "output_type": "stream",
     "text": [
      "Epoch: 5 \tTraining Loss: 0.458884 \tValidation Loss: 0.428644\n",
      "Validation loss decreased (0.490646 --> 0.428644).  Saving model ...\n"
     ]
    },
    {
     "data": {
      "application/vnd.jupyter.widget-view+json": {
       "model_id": "1d2a3a74a39b423ea44fad1271b6e113",
       "version_major": 2,
       "version_minor": 0
      },
      "text/plain": [
       "Epoch 6/40:   0%|          | 0/3125 [00:00<?, ?it/s]"
      ]
     },
     "metadata": {},
     "output_type": "display_data"
    },
    {
     "name": "stdout",
     "output_type": "stream",
     "text": [
      "Epoch: 6 \tTraining Loss: 0.398079 \tValidation Loss: 0.382722\n",
      "Validation loss decreased (0.428644 --> 0.382722).  Saving model ...\n"
     ]
    },
    {
     "data": {
      "application/vnd.jupyter.widget-view+json": {
       "model_id": "8501b229270f4859aca343dee50ab7a6",
       "version_major": 2,
       "version_minor": 0
      },
      "text/plain": [
       "Epoch 7/40:   0%|          | 0/3125 [00:00<?, ?it/s]"
      ]
     },
     "metadata": {},
     "output_type": "display_data"
    },
    {
     "name": "stdout",
     "output_type": "stream",
     "text": [
      "Epoch: 7 \tTraining Loss: 0.355279 \tValidation Loss: 0.348390\n",
      "Validation loss decreased (0.382722 --> 0.348390).  Saving model ...\n"
     ]
    },
    {
     "data": {
      "application/vnd.jupyter.widget-view+json": {
       "model_id": "c5699077dd13457e91a82cc103458e19",
       "version_major": 2,
       "version_minor": 0
      },
      "text/plain": [
       "Epoch 8/40:   0%|          | 0/3125 [00:00<?, ?it/s]"
      ]
     },
     "metadata": {},
     "output_type": "display_data"
    },
    {
     "name": "stdout",
     "output_type": "stream",
     "text": [
      "Epoch: 8 \tTraining Loss: 0.325809 \tValidation Loss: 0.280980\n",
      "Validation loss decreased (0.348390 --> 0.280980).  Saving model ...\n"
     ]
    },
    {
     "data": {
      "application/vnd.jupyter.widget-view+json": {
       "model_id": "e4102b7dd336446a9bd648db6bff4ff6",
       "version_major": 2,
       "version_minor": 0
      },
      "text/plain": [
       "Epoch 9/40:   0%|          | 0/3125 [00:00<?, ?it/s]"
      ]
     },
     "metadata": {},
     "output_type": "display_data"
    },
    {
     "name": "stdout",
     "output_type": "stream",
     "text": [
      "Epoch: 9 \tTraining Loss: 0.291823 \tValidation Loss: 0.277409\n",
      "Validation loss decreased (0.280980 --> 0.277409).  Saving model ...\n"
     ]
    },
    {
     "data": {
      "application/vnd.jupyter.widget-view+json": {
       "model_id": "2ae9286307384ace905c4109cc0fb10d",
       "version_major": 2,
       "version_minor": 0
      },
      "text/plain": [
       "Epoch 10/40:   0%|          | 0/3125 [00:00<?, ?it/s]"
      ]
     },
     "metadata": {},
     "output_type": "display_data"
    },
    {
     "name": "stdout",
     "output_type": "stream",
     "text": [
      "Epoch: 10 \tTraining Loss: 0.264451 \tValidation Loss: 0.309764\n"
     ]
    },
    {
     "data": {
      "application/vnd.jupyter.widget-view+json": {
       "model_id": "9e737c275d434c3a94db7fd71be550f8",
       "version_major": 2,
       "version_minor": 0
      },
      "text/plain": [
       "Epoch 11/40:   0%|          | 0/3125 [00:00<?, ?it/s]"
      ]
     },
     "metadata": {},
     "output_type": "display_data"
    },
    {
     "name": "stdout",
     "output_type": "stream",
     "text": [
      "Epoch: 11 \tTraining Loss: 0.243042 \tValidation Loss: 0.229609\n",
      "Validation loss decreased (0.277409 --> 0.229609).  Saving model ...\n"
     ]
    },
    {
     "data": {
      "application/vnd.jupyter.widget-view+json": {
       "model_id": "8faa6e882a2f41428b31ec6afccd534e",
       "version_major": 2,
       "version_minor": 0
      },
      "text/plain": [
       "Epoch 12/40:   0%|          | 0/3125 [00:00<?, ?it/s]"
      ]
     },
     "metadata": {},
     "output_type": "display_data"
    },
    {
     "name": "stdout",
     "output_type": "stream",
     "text": [
      "Epoch: 12 \tTraining Loss: 0.224481 \tValidation Loss: 0.234013\n"
     ]
    },
    {
     "data": {
      "application/vnd.jupyter.widget-view+json": {
       "model_id": "038579007c6c46729d48e693e1a3ae22",
       "version_major": 2,
       "version_minor": 0
      },
      "text/plain": [
       "Epoch 13/40:   0%|          | 0/3125 [00:00<?, ?it/s]"
      ]
     },
     "metadata": {},
     "output_type": "display_data"
    },
    {
     "name": "stdout",
     "output_type": "stream",
     "text": [
      "Epoch: 13 \tTraining Loss: 0.207202 \tValidation Loss: 0.220822\n",
      "Validation loss decreased (0.229609 --> 0.220822).  Saving model ...\n"
     ]
    },
    {
     "data": {
      "application/vnd.jupyter.widget-view+json": {
       "model_id": "68a844e67c064d3c81ad540c0b1033f3",
       "version_major": 2,
       "version_minor": 0
      },
      "text/plain": [
       "Epoch 14/40:   0%|          | 0/3125 [00:00<?, ?it/s]"
      ]
     },
     "metadata": {},
     "output_type": "display_data"
    },
    {
     "name": "stdout",
     "output_type": "stream",
     "text": [
      "Epoch: 14 \tTraining Loss: 0.194905 \tValidation Loss: 0.220088\n",
      "Validation loss decreased (0.220822 --> 0.220088).  Saving model ...\n"
     ]
    },
    {
     "data": {
      "application/vnd.jupyter.widget-view+json": {
       "model_id": "f69d944688404e02b295ffec61e8b2e9",
       "version_major": 2,
       "version_minor": 0
      },
      "text/plain": [
       "Epoch 15/40:   0%|          | 0/3125 [00:00<?, ?it/s]"
      ]
     },
     "metadata": {},
     "output_type": "display_data"
    },
    {
     "name": "stdout",
     "output_type": "stream",
     "text": [
      "Epoch: 15 \tTraining Loss: 0.181285 \tValidation Loss: 0.188697\n",
      "Validation loss decreased (0.220088 --> 0.188697).  Saving model ...\n"
     ]
    },
    {
     "data": {
      "application/vnd.jupyter.widget-view+json": {
       "model_id": "d22b475553994ef2a67439bd12a86656",
       "version_major": 2,
       "version_minor": 0
      },
      "text/plain": [
       "Epoch 16/40:   0%|          | 0/3125 [00:00<?, ?it/s]"
      ]
     },
     "metadata": {},
     "output_type": "display_data"
    },
    {
     "name": "stdout",
     "output_type": "stream",
     "text": [
      "Epoch: 16 \tTraining Loss: 0.169566 \tValidation Loss: 0.185279\n",
      "Validation loss decreased (0.188697 --> 0.185279).  Saving model ...\n"
     ]
    },
    {
     "data": {
      "application/vnd.jupyter.widget-view+json": {
       "model_id": "7cf4ae2c507a4ff7aff7f102eacf7fd1",
       "version_major": 2,
       "version_minor": 0
      },
      "text/plain": [
       "Epoch 17/40:   0%|          | 0/3125 [00:00<?, ?it/s]"
      ]
     },
     "metadata": {},
     "output_type": "display_data"
    },
    {
     "name": "stdout",
     "output_type": "stream",
     "text": [
      "Epoch: 17 \tTraining Loss: 0.160201 \tValidation Loss: 0.178227\n",
      "Validation loss decreased (0.185279 --> 0.178227).  Saving model ...\n"
     ]
    },
    {
     "data": {
      "application/vnd.jupyter.widget-view+json": {
       "model_id": "c9a414c28b31498b80bd2239c4bf976b",
       "version_major": 2,
       "version_minor": 0
      },
      "text/plain": [
       "Epoch 18/40:   0%|          | 0/3125 [00:00<?, ?it/s]"
      ]
     },
     "metadata": {},
     "output_type": "display_data"
    },
    {
     "name": "stdout",
     "output_type": "stream",
     "text": [
      "Epoch: 18 \tTraining Loss: 0.151813 \tValidation Loss: 0.173717\n",
      "Validation loss decreased (0.178227 --> 0.173717).  Saving model ...\n"
     ]
    },
    {
     "data": {
      "application/vnd.jupyter.widget-view+json": {
       "model_id": "0fc1733613be45679d750145aa1f4d21",
       "version_major": 2,
       "version_minor": 0
      },
      "text/plain": [
       "Epoch 19/40:   0%|          | 0/3125 [00:00<?, ?it/s]"
      ]
     },
     "metadata": {},
     "output_type": "display_data"
    },
    {
     "name": "stdout",
     "output_type": "stream",
     "text": [
      "Epoch: 19 \tTraining Loss: 0.143809 \tValidation Loss: 0.155446\n",
      "Validation loss decreased (0.173717 --> 0.155446).  Saving model ...\n"
     ]
    },
    {
     "data": {
      "application/vnd.jupyter.widget-view+json": {
       "model_id": "7a39cbe54cdc4773acceb267d72394cb",
       "version_major": 2,
       "version_minor": 0
      },
      "text/plain": [
       "Epoch 20/40:   0%|          | 0/3125 [00:00<?, ?it/s]"
      ]
     },
     "metadata": {},
     "output_type": "display_data"
    },
    {
     "name": "stdout",
     "output_type": "stream",
     "text": [
      "Epoch: 20 \tTraining Loss: 0.136767 \tValidation Loss: 0.156324\n"
     ]
    },
    {
     "data": {
      "application/vnd.jupyter.widget-view+json": {
       "model_id": "2e72e9c317ca474dbf9069b314fa8c32",
       "version_major": 2,
       "version_minor": 0
      },
      "text/plain": [
       "Epoch 21/40:   0%|          | 0/3125 [00:00<?, ?it/s]"
      ]
     },
     "metadata": {},
     "output_type": "display_data"
    },
    {
     "name": "stdout",
     "output_type": "stream",
     "text": [
      "Epoch: 21 \tTraining Loss: 0.129524 \tValidation Loss: 0.178124\n"
     ]
    },
    {
     "data": {
      "application/vnd.jupyter.widget-view+json": {
       "model_id": "823c40b73c504c6e8095e2af16b23543",
       "version_major": 2,
       "version_minor": 0
      },
      "text/plain": [
       "Epoch 22/40:   0%|          | 0/3125 [00:00<?, ?it/s]"
      ]
     },
     "metadata": {},
     "output_type": "display_data"
    },
    {
     "name": "stdout",
     "output_type": "stream",
     "text": [
      "Epoch: 22 \tTraining Loss: 0.124061 \tValidation Loss: 0.147683\n",
      "Validation loss decreased (0.155446 --> 0.147683).  Saving model ...\n"
     ]
    },
    {
     "data": {
      "application/vnd.jupyter.widget-view+json": {
       "model_id": "4cb66ad4038f47a4bae25f9c4f40a0f1",
       "version_major": 2,
       "version_minor": 0
      },
      "text/plain": [
       "Epoch 23/40:   0%|          | 0/3125 [00:00<?, ?it/s]"
      ]
     },
     "metadata": {},
     "output_type": "display_data"
    },
    {
     "name": "stdout",
     "output_type": "stream",
     "text": [
      "Epoch: 23 \tTraining Loss: 0.117953 \tValidation Loss: 0.149561\n"
     ]
    },
    {
     "data": {
      "application/vnd.jupyter.widget-view+json": {
       "model_id": "ec974bcb137d4eeb838eb6815d85ef8f",
       "version_major": 2,
       "version_minor": 0
      },
      "text/plain": [
       "Epoch 24/40:   0%|          | 0/3125 [00:00<?, ?it/s]"
      ]
     },
     "metadata": {},
     "output_type": "display_data"
    },
    {
     "name": "stdout",
     "output_type": "stream",
     "text": [
      "Epoch: 24 \tTraining Loss: 0.112317 \tValidation Loss: 0.140744\n",
      "Validation loss decreased (0.147683 --> 0.140744).  Saving model ...\n"
     ]
    },
    {
     "data": {
      "application/vnd.jupyter.widget-view+json": {
       "model_id": "7619efc15890445bae403014743b86ad",
       "version_major": 2,
       "version_minor": 0
      },
      "text/plain": [
       "Epoch 25/40:   0%|          | 0/3125 [00:00<?, ?it/s]"
      ]
     },
     "metadata": {},
     "output_type": "display_data"
    },
    {
     "name": "stdout",
     "output_type": "stream",
     "text": [
      "Epoch: 25 \tTraining Loss: 0.107560 \tValidation Loss: 0.133963\n",
      "Validation loss decreased (0.140744 --> 0.133963).  Saving model ...\n"
     ]
    },
    {
     "data": {
      "application/vnd.jupyter.widget-view+json": {
       "model_id": "c449a80113cf4cb3bde05d53c8250e57",
       "version_major": 2,
       "version_minor": 0
      },
      "text/plain": [
       "Epoch 26/40:   0%|          | 0/3125 [00:00<?, ?it/s]"
      ]
     },
     "metadata": {},
     "output_type": "display_data"
    },
    {
     "name": "stdout",
     "output_type": "stream",
     "text": [
      "Epoch: 26 \tTraining Loss: 0.103582 \tValidation Loss: 0.144720\n"
     ]
    },
    {
     "data": {
      "application/vnd.jupyter.widget-view+json": {
       "model_id": "6753db7c69fb4bb88cf4e9403340ff6e",
       "version_major": 2,
       "version_minor": 0
      },
      "text/plain": [
       "Epoch 27/40:   0%|          | 0/3125 [00:00<?, ?it/s]"
      ]
     },
     "metadata": {},
     "output_type": "display_data"
    },
    {
     "name": "stdout",
     "output_type": "stream",
     "text": [
      "Epoch: 27 \tTraining Loss: 0.099946 \tValidation Loss: 0.134149\n"
     ]
    },
    {
     "data": {
      "application/vnd.jupyter.widget-view+json": {
       "model_id": "59f89f0141b8444c8ea6bf29fc69fb78",
       "version_major": 2,
       "version_minor": 0
      },
      "text/plain": [
       "Epoch 28/40:   0%|          | 0/3125 [00:00<?, ?it/s]"
      ]
     },
     "metadata": {},
     "output_type": "display_data"
    },
    {
     "name": "stdout",
     "output_type": "stream",
     "text": [
      "Epoch: 28 \tTraining Loss: 0.095703 \tValidation Loss: 0.134288\n"
     ]
    },
    {
     "data": {
      "application/vnd.jupyter.widget-view+json": {
       "model_id": "99d8323f92904e429c508ce87c0bc499",
       "version_major": 2,
       "version_minor": 0
      },
      "text/plain": [
       "Epoch 29/40:   0%|          | 0/3125 [00:00<?, ?it/s]"
      ]
     },
     "metadata": {},
     "output_type": "display_data"
    },
    {
     "name": "stdout",
     "output_type": "stream",
     "text": [
      "Epoch: 29 \tTraining Loss: 0.091806 \tValidation Loss: 0.149976\n"
     ]
    },
    {
     "data": {
      "application/vnd.jupyter.widget-view+json": {
       "model_id": "1376969c7dec46beb147f26add440381",
       "version_major": 2,
       "version_minor": 0
      },
      "text/plain": [
       "Epoch 30/40:   0%|          | 0/3125 [00:00<?, ?it/s]"
      ]
     },
     "metadata": {},
     "output_type": "display_data"
    },
    {
     "name": "stdout",
     "output_type": "stream",
     "text": [
      "Epoch: 30 \tTraining Loss: 0.088766 \tValidation Loss: 0.137566\n"
     ]
    },
    {
     "data": {
      "application/vnd.jupyter.widget-view+json": {
       "model_id": "63e45ef442074f5c8e0992eaef541d21",
       "version_major": 2,
       "version_minor": 0
      },
      "text/plain": [
       "Epoch 31/40:   0%|          | 0/3125 [00:00<?, ?it/s]"
      ]
     },
     "metadata": {},
     "output_type": "display_data"
    },
    {
     "name": "stdout",
     "output_type": "stream",
     "text": [
      "Epoch: 31 \tTraining Loss: 0.085816 \tValidation Loss: 0.138189\n"
     ]
    },
    {
     "data": {
      "application/vnd.jupyter.widget-view+json": {
       "model_id": "6148b303497140d1872a4df40b4c8e8e",
       "version_major": 2,
       "version_minor": 0
      },
      "text/plain": [
       "Epoch 32/40:   0%|          | 0/3125 [00:00<?, ?it/s]"
      ]
     },
     "metadata": {},
     "output_type": "display_data"
    },
    {
     "name": "stdout",
     "output_type": "stream",
     "text": [
      "Epoch: 32 \tTraining Loss: 0.080665 \tValidation Loss: 0.167012\n"
     ]
    },
    {
     "data": {
      "application/vnd.jupyter.widget-view+json": {
       "model_id": "b2918e6c1c1841c7b9039ae603e158d7",
       "version_major": 2,
       "version_minor": 0
      },
      "text/plain": [
       "Epoch 33/40:   0%|          | 0/3125 [00:00<?, ?it/s]"
      ]
     },
     "metadata": {},
     "output_type": "display_data"
    },
    {
     "name": "stdout",
     "output_type": "stream",
     "text": [
      "Epoch: 33 \tTraining Loss: 0.078650 \tValidation Loss: 0.120623\n",
      "Validation loss decreased (0.133963 --> 0.120623).  Saving model ...\n"
     ]
    },
    {
     "data": {
      "application/vnd.jupyter.widget-view+json": {
       "model_id": "75dc65fda2bc474994fb3f4aa157c114",
       "version_major": 2,
       "version_minor": 0
      },
      "text/plain": [
       "Epoch 34/40:   0%|          | 0/3125 [00:00<?, ?it/s]"
      ]
     },
     "metadata": {},
     "output_type": "display_data"
    },
    {
     "name": "stdout",
     "output_type": "stream",
     "text": [
      "Epoch: 34 \tTraining Loss: 0.075343 \tValidation Loss: 0.134766\n"
     ]
    },
    {
     "data": {
      "application/vnd.jupyter.widget-view+json": {
       "model_id": "7f7d46d2e98648339e7cfe1c94e342f3",
       "version_major": 2,
       "version_minor": 0
      },
      "text/plain": [
       "Epoch 35/40:   0%|          | 0/3125 [00:00<?, ?it/s]"
      ]
     },
     "metadata": {},
     "output_type": "display_data"
    },
    {
     "name": "stdout",
     "output_type": "stream",
     "text": [
      "Epoch: 35 \tTraining Loss: 0.071641 \tValidation Loss: 0.143141\n"
     ]
    },
    {
     "data": {
      "application/vnd.jupyter.widget-view+json": {
       "model_id": "f091ed45529c439590ac8afba5ba3824",
       "version_major": 2,
       "version_minor": 0
      },
      "text/plain": [
       "Epoch 36/40:   0%|          | 0/3125 [00:00<?, ?it/s]"
      ]
     },
     "metadata": {},
     "output_type": "display_data"
    },
    {
     "name": "stdout",
     "output_type": "stream",
     "text": [
      "Epoch: 36 \tTraining Loss: 0.069591 \tValidation Loss: 0.132693\n"
     ]
    },
    {
     "data": {
      "application/vnd.jupyter.widget-view+json": {
       "model_id": "37f1562ae50048cc8fae9fc3cb00de5c",
       "version_major": 2,
       "version_minor": 0
      },
      "text/plain": [
       "Epoch 37/40:   0%|          | 0/3125 [00:00<?, ?it/s]"
      ]
     },
     "metadata": {},
     "output_type": "display_data"
    },
    {
     "name": "stdout",
     "output_type": "stream",
     "text": [
      "Epoch: 37 \tTraining Loss: 0.067059 \tValidation Loss: 0.124254\n"
     ]
    },
    {
     "data": {
      "application/vnd.jupyter.widget-view+json": {
       "model_id": "e292f1be958a4d82b43c0d40a75a97ac",
       "version_major": 2,
       "version_minor": 0
      },
      "text/plain": [
       "Epoch 38/40:   0%|          | 0/3125 [00:00<?, ?it/s]"
      ]
     },
     "metadata": {},
     "output_type": "display_data"
    },
    {
     "name": "stdout",
     "output_type": "stream",
     "text": [
      "Epoch: 38 \tTraining Loss: 0.064065 \tValidation Loss: 0.124921\n"
     ]
    },
    {
     "data": {
      "application/vnd.jupyter.widget-view+json": {
       "model_id": "a121ff8941b54869a5181463a66c7568",
       "version_major": 2,
       "version_minor": 0
      },
      "text/plain": [
       "Epoch 39/40:   0%|          | 0/3125 [00:00<?, ?it/s]"
      ]
     },
     "metadata": {},
     "output_type": "display_data"
    },
    {
     "name": "stdout",
     "output_type": "stream",
     "text": [
      "Epoch: 39 \tTraining Loss: 0.062341 \tValidation Loss: 0.118038\n",
      "Validation loss decreased (0.120623 --> 0.118038).  Saving model ...\n"
     ]
    },
    {
     "data": {
      "application/vnd.jupyter.widget-view+json": {
       "model_id": "cb881d23f8bc4e62981d5f2de25911d5",
       "version_major": 2,
       "version_minor": 0
      },
      "text/plain": [
       "Epoch 40/40:   0%|          | 0/3125 [00:00<?, ?it/s]"
      ]
     },
     "metadata": {},
     "output_type": "display_data"
    },
    {
     "name": "stdout",
     "output_type": "stream",
     "text": [
      "Epoch: 40 \tTraining Loss: 0.058473 \tValidation Loss: 0.127084\n"
     ]
    }
   ],
   "source": [
    "use_cuda = torch.cuda.is_available()\n",
    "device = torch.device(\"cuda:0\" if use_cuda else \"cpu\")\n",
    "print(device)\n",
    "torch.backends.cudnn.benchmark = True\n",
    "\n",
    "max_epochs = 40\n",
    "\n",
    "# checkpoint = torch.load(f'checkpoints/{model_name}/best_checkpoint.pt')\n",
    "# model.load_state_dict(checkpoint['state_dict'])\n",
    "model.to(device)\n",
    "criterion = nn.CrossEntropyLoss()\n",
    "# criterion = nn.BCEWithLogitsLoss()\n",
    "optimizer = torch.optim.Adam(model.parameters(), lr=1e-4)\n",
    "val_loss_min = 100000.0\n",
    "\n",
    "writer = SummaryWriter()\n",
    "if not os.path.isdir(f'checkpoints/{model_name}'):\n",
    "    os.mkdir(f'checkpoints/{model_name}')\n",
    "\n",
    "now = datetime.now().strftime(\"%d_%m_%Y__%H_%M_%S\")\n",
    "    \n",
    "for epoch in range(max_epochs):\n",
    "    train_loss = 0.0\n",
    "    val_loss = 0.0\n",
    "    \n",
    "    model.train()\n",
    "    loss_sum = 0\n",
    "    loss_count = 0\n",
    "    \n",
    "    for batch_idx, (X_batch, y_batch) in enumerate(tqdm(train_loader, desc=f\"Epoch {epoch + 1}/{max_epochs}\")):\n",
    "        optimizer.zero_grad()\n",
    "        X_batch, y_batch = X_batch.to(device), y_batch.to(device)\n",
    "        X_batch = torch.transpose(torch.transpose(X_batch, 1, 2), 2, 3)\n",
    "#         from matplotlib import pyplot as plt\n",
    "#         plt.imshow(X_batch[0].cpu().numpy())\n",
    "#         plt.show()\n",
    "#         print(X_batch.shape, y_batch.shape)\n",
    "        y_pred = model(X_batch)\n",
    "        loss = criterion(y_pred, y_batch)\n",
    "        loss.backward()\n",
    "        optimizer.step()\n",
    "        train_loss += loss.data\n",
    "        writer.add_scalars(\"losses_step\", {\"train_loss\": loss.data}, epoch * len(train_loader) + batch_idx)\n",
    "        \n",
    "    model.eval()\n",
    "    with torch.no_grad():\n",
    "        for batch_idx, (X_batch, y_batch) in enumerate(val_loader):\n",
    "            X_batch, y_batch = X_batch.to(device), y_batch.to(device)\n",
    "            X_batch = torch.transpose(torch.transpose(X_batch, 1, 2), 2, 3)\n",
    "            y_pred = model(X_batch)\n",
    "            loss = criterion(y_pred, y_batch)\n",
    "            val_loss += loss.data\n",
    "\n",
    "    train_loss = train_loss / len(train_loader)\n",
    "    val_loss = val_loss / len(val_loader)\n",
    "    \n",
    "    writer.add_scalars(\"losses_step\", {\"val_loss\": val_loss}, (epoch + 1) * len(train_loader) - 1)\n",
    "    \n",
    "    writer.add_scalars(\"losses_epoch\", {\"train_loss\": train_loss}, epoch)\n",
    "    writer.add_scalars(\"losses_epoch\", {\"val_loss\": val_loss}, epoch)\n",
    "    \n",
    "    \n",
    "    print('Epoch: {} \\tTraining Loss: {:.6f} \\tValidation Loss: {:.6f}'.format(\n",
    "        epoch+1, \n",
    "        train_loss,\n",
    "        val_loss\n",
    "    ))\n",
    "    \n",
    "    checkpoint = {\n",
    "        'epoch': epoch + 1,\n",
    "        'valid_loss_min': val_loss,\n",
    "        'state_dict': model.state_dict(),\n",
    "        'optimizer': optimizer.state_dict(),\n",
    "    }\n",
    "    \n",
    "    torch.save(checkpoint, f'checkpoints/{model_name}/checkpoint_{now}.pt')\n",
    "    if val_loss <= val_loss_min:\n",
    "        print('Validation loss decreased ({:.6f} --> {:.6f}).  Saving model ...'.format(val_loss_min,val_loss))\n",
    "        torch.save(checkpoint, f'checkpoints/{model_name}/best_checkpoint_{now}.pt')\n",
    "        val_loss_min = val_loss"
   ]
  },
  {
   "cell_type": "code",
   "execution_count": 9,
   "id": "manual-timer",
   "metadata": {},
   "outputs": [],
   "source": [
    "def multilabel_acc(y_pred, y_true):\n",
    "    correct = 0\n",
    "    total = 0\n",
    "    for i in tqdm(range(len(y_true)), desc=f\"Computing accuracy\"):\n",
    "        pred = y_pred[i]\n",
    "        true = y_true[i]\n",
    "        for j in range(len(true)):\n",
    "            total += 1\n",
    "            if true[j] == round(float(pred[j])):\n",
    "                correct += 1\n",
    "                \n",
    "    return correct / total\n",
    "\n",
    "\n",
    "# def multilabel_prec(y_pred, y_true):\n",
    "#     correct = 0\n",
    "#     total = 0\n",
    "#     for i in tqdm(range(len(y_true)), desc=f\"Computing precision\"):\n",
    "#         pred = y_pred[i]\n",
    "#         true = y_true[i]\n",
    "#         for j in range(len(true)):\n",
    "#             total += 1\n",
    "#             if true[j] == 1:\n",
    "#                 if round(float(pred[j])) == 1:\n",
    "#                     correct += 1\n",
    "#             elif round(float(pred[j])) == 0:\n",
    "#                 correct += 1\n",
    "                \n",
    "#     return correct / total\n",
    "\n",
    "\n",
    "# def multilabel_recall(y_pred, y_true):\n",
    "#     correct = 0\n",
    "#     total = 0\n",
    "#     for i in tqdm(range(len(y_true)), desc=f\"Computing recall\"):\n",
    "#         pred = y_pred[i]\n",
    "#         true = y_true[i]\n",
    "#         for j in range(len(true)):\n",
    "#             total += 1\n",
    "#             if true[j] == 1:\n",
    "#                 if round(float(pred[j])) == 1:\n",
    "#                     correct += 1\n",
    "#             elif round(float(pred[j])) == 0:\n",
    "#                 correct += 1\n",
    "                \n",
    "#     return correct / total"
   ]
  },
  {
   "cell_type": "code",
   "execution_count": 10,
   "id": "bizarre-scott",
   "metadata": {
    "scrolled": true
   },
   "outputs": [
    {
     "data": {
      "application/vnd.jupyter.widget-view+json": {
       "model_id": "58f0799539fe4fe7bfd9579131674616",
       "version_major": 2,
       "version_minor": 0
      },
      "text/plain": [
       "Inference:   0%|          | 0/625 [00:00<?, ?it/s]"
      ]
     },
     "metadata": {},
     "output_type": "display_data"
    },
    {
     "name": "stdout",
     "output_type": "stream",
     "text": [
      "0.9633\n",
      "              precision    recall  f1-score   support\n",
      "\n",
      "           0       0.97      0.99      0.98       980\n",
      "           1       0.99      0.99      0.99      1135\n",
      "           2       0.95      0.97      0.96      1032\n",
      "           3       0.96      0.94      0.95      1010\n",
      "           4       0.95      0.97      0.96       982\n",
      "           5       0.94      0.96      0.95       892\n",
      "           6       0.99      0.95      0.97       958\n",
      "           7       0.96      0.96      0.96      1028\n",
      "           8       0.96      0.95      0.95       974\n",
      "           9       0.96      0.94      0.95      1009\n",
      "\n",
      "    accuracy                           0.96     10000\n",
      "   macro avg       0.96      0.96      0.96     10000\n",
      "weighted avg       0.96      0.96      0.96     10000\n",
      "\n"
     ]
    },
    {
     "data": {
      "text/plain": [
       "<Figure size 432x288 with 0 Axes>"
      ]
     },
     "metadata": {},
     "output_type": "display_data"
    },
    {
     "data": {
      "image/png": "[encoded data removed]",
      "text/plain": [
       "<Figure size 1800x1800 with 2 Axes>"
      ]
     },
     "metadata": {
      "needs_background": "light"
     },
     "output_type": "display_data"
    }
   ],
   "source": [
    "use_cuda = torch.cuda.is_available()\n",
    "device = torch.device(\"cuda:0\" if use_cuda else \"cpu\")\n",
    "model.to(device)\n",
    "# checkpoint = torch.load(f'checkpoints/{model_name}/best_checkpoint.pt')\n",
    "# model.load_state_dict(checkpoint['state_dict'])\n",
    "model.eval()\n",
    "m = nn.Softmax(dim=1)\n",
    "# m = nn.Sigmoid()\n",
    "y_pred_extended = []\n",
    "y_true_extended = []\n",
    "with torch.no_grad():\n",
    "    for batch_idx, (X_batch, y_batch) in enumerate(tqdm(test_loader, desc=f\"Inference\")):\n",
    "        X_batch, y_batch = X_batch.to(device), y_batch.to(device)\n",
    "        X_batch = torch.transpose(torch.transpose(X_batch, 1, 2), 2, 3)\n",
    "        y_pred = model(X_batch).cpu()\n",
    "        y_pred = m(y_pred)\n",
    "        y_pred = np.argmax(y_pred, axis=1)\n",
    "        y_pred_extended.extend(y_pred)\n",
    "        y_true_extended.extend(y_batch.cpu())\n",
    "        \n",
    "def plot_confusion_matrix(cm, classes,\n",
    "                          normalize=False,\n",
    "                          title='Confusion matrix',\n",
    "                          cmap=plt.cm.Blues):\n",
    "    \"\"\"\n",
    "    This function prints and plots the confusion matrix.\n",
    "    Normalization can be applied by setting `normalize=True`.\n",
    "    \"\"\"\n",
    "    if normalize:\n",
    "        cm = cm.astype('float') / cm.sum(axis=1)[:, np.newaxis]\n",
    "        #print(\"Normalized confusion matrix\")\n",
    "    #else:\n",
    "        #print('Confusion matrix, without normalization')\n",
    "\n",
    "    #print(cm)\n",
    "    \n",
    "    plt.figure(figsize=(25,25))\n",
    "    plt.imshow(cm, interpolation='nearest', cmap=cmap)\n",
    "    plt.title(title)\n",
    "    plt.colorbar()\n",
    "    tick_marks = np.arange(len(classes))\n",
    "    plt.xticks(tick_marks, classes, rotation=45)\n",
    "    plt.yticks(tick_marks, classes)\n",
    "\n",
    "    fmt = '.2f' if normalize else 'd'\n",
    "    thresh = cm.max() / 2.\n",
    "    for i, j in itertools.product(range(cm.shape[0]), range(cm.shape[1])):\n",
    "        plt.text(j, i, format(cm[i, j], fmt),\n",
    "                 horizontalalignment=\"center\",\n",
    "                 color=\"white\" if cm[i, j] > thresh else \"black\")\n",
    "\n",
    "    plt.ylabel('True label')\n",
    "    plt.xlabel('Predicted label')\n",
    "    plt.tight_layout()\n",
    "\n",
    "# single label\n",
    "accuracy = accuracy_score(y_pred_extended, y_true_extended)\n",
    "cr = classification_report(y_true_extended, y_pred_extended)\n",
    "print(accuracy)\n",
    "print(cr)\n",
    "cnf_matrix = confusion_matrix(y_true_extended, y_pred_extended)\n",
    "# Plot non-normalized confusion matrix\n",
    "plt.figure()\n",
    "plot_confusion_matrix(cnf_matrix, classes=[str(i) for i in list(range(10))], title = ('Confusion Matrix'))\n",
    "plt.show()\n",
    "\n",
    "# # multilabel\n",
    "# accuracy = multilabel_acc(y_pred_extended, y_true_extended)\n",
    "# # precision = multilabel_prec(y_pred_extended, y_true_extended)\n",
    "# # recall = multilabel_recall(y_pred_extended, y_true_extended)\n",
    "# print(accuracy)  # , precision, recall)"
   ]
  },
  {
   "cell_type": "code",
   "execution_count": 11,
   "id": "streaming-provision",
   "metadata": {},
   "outputs": [],
   "source": [
    "# model = Perceiver(\n",
    "#     input_channels = 3,          # number of channels for each token of the input\n",
    "#     input_axis = 2,              # number of axis for input data (2 for images, 3 for video)\n",
    "#     num_freq_bands = 6,          # number of freq bands, with original value (2 * K + 1)\n",
    "#     max_freq = 10.,              # maximum frequency, hyperparameter depending on how fine the data is\n",
    "#     freq_base = 2,\n",
    "#     depth = 2,                   # depth of net. The shape of the final attention mechanism will be:\n",
    "#                                  #   depth * (cross attention -> self_per_cross_attn * self attention)\n",
    "#     num_latents = 128,           # number of latents, or induced set points, or centroids. different papers giving it different names\n",
    "#     latent_dim = 256,            # latent dimension\n",
    "#     cross_heads = 1,             # number of heads for cross attention. paper said 1\n",
    "#     latent_heads = 2,            # number of heads for latent self attention, 8\n",
    "#     cross_dim_head = 32,         # number of dimensions per cross attention head\n",
    "#     latent_dim_head = 32,        # number of dimensions per latent self attention head\n",
    "#     num_classes = 1000,          # output number of classes\n",
    "#     attn_dropout = 0.,\n",
    "#     ff_dropout = 0.,\n",
    "#     weight_tie_layers = False,   # whether to weight tie layers (optional, as indicated in the diagram)\n",
    "#     fourier_encode_data = True,  # whether to auto-fourier encode the data, using the input_axis given. defaults to True, but can be turned off if you are fourier encoding the data yourself\n",
    "#     self_per_cross_attn = 2      # number of self attention blocks per cross attention\n",
    "# )\n",
    "\n",
    "# print(len(model.layers))"
   ]
  },
  {
   "cell_type": "code",
   "execution_count": 12,
   "id": "metropolitan-pleasure",
   "metadata": {},
   "outputs": [],
   "source": [
    "# model.layers.append(model.layers[1])\n",
    "# print(len(model.layers))"
   ]
  },
  {
   "cell_type": "code",
   "execution_count": null,
   "id": "premier-powder",
   "metadata": {},
   "outputs": [],
   "source": []
  }
 ],
 "metadata": {
  "kernelspec": {
   "display_name": "Python 3",
   "language": "python",
   "name": "python3"
  },
  "language_info": {
   "codemirror_mode": {
    "name": "ipython",
    "version": 3
   },
   "file_extension": ".py",
   "mimetype": "text/x-python",
   "name": "python",
   "nbconvert_exporter": "python",
   "pygments_lexer": "ipython3",
   "version": "3.7.7"
  }
 },
 "nbformat": 4,
 "nbformat_minor": 5
}
