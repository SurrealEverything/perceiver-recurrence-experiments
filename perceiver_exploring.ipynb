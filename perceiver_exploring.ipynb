{
 "cells": [
  {
   "cell_type": "code",
   "execution_count": 1,
   "id": "balanced-miller",
   "metadata": {},
   "outputs": [],
   "source": [
    "import torch\n",
    "import torchvision\n",
    "from torch import nn\n",
    "from perceiver_pytorch import Perceiver\n",
    "import numpy as np\n",
    "from matplotlib import pyplot as plt\n",
    "from sklearn.metrics import classification_report\n",
    "from sklearn.metrics import confusion_matrix\n",
    "from sklearn.metrics import accuracy_score\n",
    "import itertools"
   ]
  },
  {
   "cell_type": "code",
   "execution_count": 2,
   "id": "natural-consideration",
   "metadata": {},
   "outputs": [
    {
     "data": {
      "text/plain": [
       "torch.Size([1, 10])"
      ]
     },
     "execution_count": 2,
     "metadata": {},
     "output_type": "execute_result"
    }
   ],
   "source": [
    "model = Perceiver(\n",
    "    input_channels = 1,          # number of channels for each token of the input\n",
    "    input_axis = 2,              # number of axis for input data (2 for images, 3 for video)\n",
    "    num_freq_bands = 6,          # number of freq bands, with original value (2 * K + 1)\n",
    "    max_freq = 10.,              # maximum frequency, hyperparameter depending on how fine the data is\n",
    "    freq_base = 2,\n",
    "    depth = 2,                   # depth of net. The shape of the final attention mechanism will be:\n",
    "                                 #   depth * (cross attention -> self_per_cross_attn * self attention)\n",
    "    num_latents = 128,           # number of latents, or induced set points, or centroids. different papers giving it different names\n",
    "    latent_dim = 256,            # latent dimension\n",
    "    cross_heads = 1,             # number of heads for cross attention. paper said 1\n",
    "    latent_heads = 2,            # number of heads for latent self attention, 8\n",
    "    cross_dim_head = 32,         # number of dimensions per cross attention head\n",
    "    latent_dim_head = 32,        # number of dimensions per latent self attention head\n",
    "    num_classes = 10,          # output number of classes\n",
    "    attn_dropout = 0.,\n",
    "    ff_dropout = 0.,\n",
    "    weight_tie_layers = False,   # whether to weight tie layers (optional, as indicated in the diagram)\n",
    "    fourier_encode_data = True,  # whether to auto-fourier encode the data, using the input_axis given. defaults to True, but can be turned off if you are fourier encoding the data yourself\n",
    "    self_per_cross_attn = 2      # number of self attention blocks per cross attention\n",
    ")\n",
    "\n",
    "img = torch.randn(1, 28, 28, 1) # 1 imagenet image, pixelized\n",
    "\n",
    "model(img).shape # (1, 1000)"
   ]
  },
  {
   "cell_type": "code",
   "execution_count": 3,
   "id": "worth-lesbian",
   "metadata": {},
   "outputs": [],
   "source": [
    "# imagenet_data = torchvision.datasets.ImageNet('/home/gabriel/Documents/datasets/')\n",
    "# data_loader = torch.utils.data.DataLoader(imagenet_data,\n",
    "#                                           batch_size=32,\n",
    "#                                           shuffle=True,\n",
    "#                                           num_workers=20)\n",
    "# train_loader, val_loader, test_loader"
   ]
  },
  {
   "cell_type": "code",
   "execution_count": 4,
   "id": "impressed-steering",
   "metadata": {},
   "outputs": [],
   "source": [
    "# train_data = torch.utils.data.TensorDataset(torch.randn(100, 224, 224, 3), torch.randn(100, 1000))\n",
    "# val_data = torch.utils.data.TensorDataset(torch.randn(100, 224, 224, 3), torch.randn(100, 1000))\n",
    "# test_data = torch.utils.data.TensorDataset(torch.randn(100, 224, 224, 3), torch.randn(100, 1000))\n",
    "\n",
    "# bs = 16\n",
    "# train_loader = torch.utils.data.DataLoader(train_data,\n",
    "#                                            batch_size=bs,\n",
    "#                                            shuffle=True,\n",
    "#                                            num_workers=20)\n",
    "# val_loader = torch.utils.data.DataLoader(val_data,\n",
    "#                                            batch_size=bs,\n",
    "#                                            shuffle=False,\n",
    "#                                            num_workers=20)\n",
    "# test_loader = torch.utils.data.DataLoader(test_data,\n",
    "#                                            batch_size=bs,\n",
    "#                                            shuffle=False,\n",
    "#                                            num_workers=20)"
   ]
  },
  {
   "cell_type": "code",
   "execution_count": 5,
   "id": "received-cedar",
   "metadata": {},
   "outputs": [
    {
     "name": "stderr",
     "output_type": "stream",
     "text": [
      "/home/gabriel/miniconda3/lib/python3.7/site-packages/torchvision/datasets/mnist.py:498: UserWarning: The given NumPy array is not writeable, and PyTorch does not support non-writeable tensors. This means you can write to the underlying (supposedly non-writeable) NumPy array using the tensor. You may want to copy the array to protect its data or make it writeable before converting it to a tensor. This type of warning will be suppressed for the rest of this program. (Triggered internally at  /opt/conda/conda-bld/pytorch_1623448265233/work/torch/csrc/utils/tensor_numpy.cpp:180.)\n",
      "  return torch.from_numpy(parsed.astype(m[2], copy=False)).view(*s)\n"
     ]
    }
   ],
   "source": [
    "torch.manual_seed(0)\n",
    "\n",
    "batch_size = 16\n",
    "\n",
    "mnist_train = torchvision.datasets.MNIST('/home/gabriel/Documents/datasets/MNIST/', train=True, download=True,\n",
    "                             transform=torchvision.transforms.Compose([\n",
    "                               torchvision.transforms.ToTensor(),\n",
    "                               torchvision.transforms.Normalize(\n",
    "                                 (0.1307,), (0.3081,))\n",
    "                             ]))\n",
    "train_set, val_set = torch.utils.data.random_split(mnist_train, [50000, 10000])\n",
    "train_loader = torch.utils.data.DataLoader(train_set, batch_size=batch_size, shuffle=True, num_workers=10)\n",
    "val_loader = torch.utils.data.DataLoader(val_set, batch_size=batch_size, shuffle=True, num_workers=10)\n",
    "test_loader = torch.utils.data.DataLoader(\n",
    "  torchvision.datasets.MNIST('/home/gabriel/Documents/datasets/MNIST/', train=False, download=True,\n",
    "                             transform=torchvision.transforms.Compose([\n",
    "                               torchvision.transforms.ToTensor(),\n",
    "                               torchvision.transforms.Normalize(\n",
    "                                 (0.1307,), (0.3081,))\n",
    "                             ])),\n",
    "  batch_size=batch_size, shuffle=True, num_workers=10)"
   ]
  },
  {
   "cell_type": "code",
   "execution_count": 6,
   "id": "structured-kitchen",
   "metadata": {},
   "outputs": [
    {
     "name": "stdout",
     "output_type": "stream",
     "text": [
      "cuda:0\n",
      "Epoch: 0 \tTraining Loss: 0.052939 \tValidation Loss: 0.017540\n",
      "Validation loss decreased (100000.000000 --> 0.017540).  Saving model ...\n",
      "Epoch: 1 \tTraining Loss: 0.016023 \tValidation Loss: 0.017583\n"
     ]
    }
   ],
   "source": [
    "use_cuda = torch.cuda.is_available()\n",
    "device = torch.device(\"cuda:0\" if use_cuda else \"cpu\")\n",
    "print(device)\n",
    "torch.backends.cudnn.benchmark = True\n",
    "\n",
    "max_epochs = 50\n",
    "\n",
    "model.to(device)\n",
    "criterion = nn.CrossEntropyLoss()\n",
    "# criterion = nn.MSELoss()\n",
    "optimizer = torch.optim.Adam(model.parameters(), lr=1e-4)\n",
    "val_loss_min = 100000.0\n",
    "\n",
    "loss_thresh = 0\n",
    "for epoch in range(max_epochs):\n",
    "    train_loss = 0.0\n",
    "    val_loss = 0.0\n",
    "    \n",
    "    model.train()\n",
    "    loss_sum = 0\n",
    "    loss_count = 0\n",
    "    \n",
    "    for batch_idx, (X_batch, y_batch) in enumerate(train_loader):\n",
    "        optimizer.zero_grad()\n",
    "        X_batch, y_batch = X_batch.to(device), y_batch.to(device)\n",
    "        X_batch = torch.transpose(torch.transpose(X_batch, 1, 2), 2, 3)\n",
    "#         from matplotlib import pyplot as plt\n",
    "#         plt.imshow(X_batch[0].cpu().numpy())\n",
    "#         plt.show()\n",
    "#         print(X_batch.shape, y_batch.shape)\n",
    "        y_pred = model(X_batch)\n",
    "        loss = criterion(y_pred, y_batch)\n",
    "        loss.backward()\n",
    "        optimizer.step()\n",
    "        train_loss += loss.data\n",
    "        \n",
    "    model.eval()\n",
    "    with torch.no_grad():\n",
    "        for batch_idx, (X_batch, y_batch) in enumerate(val_loader):\n",
    "            X_batch, y_batch = X_batch.to(device), y_batch.to(device)\n",
    "            X_batch = torch.transpose(torch.transpose(X_batch, 1, 2), 2, 3)\n",
    "            y_pred = model(X_batch)\n",
    "            loss = criterion(y_pred, y_batch)\n",
    "            val_loss += loss.data\n",
    "\n",
    "    train_loss = train_loss / len(train_loader.dataset)\n",
    "    val_loss = val_loss / len(val_loader.dataset)\n",
    "    print('Epoch: {} \\tTraining Loss: {:.6f} \\tValidation Loss: {:.6f}'.format(\n",
    "        epoch, \n",
    "        train_loss,\n",
    "        val_loss\n",
    "    ))\n",
    "    \n",
    "    checkpoint = {\n",
    "        'epoch': epoch + 1,\n",
    "        'valid_loss_min': val_loss,\n",
    "        'state_dict': model.state_dict(),\n",
    "        'optimizer': optimizer.state_dict(),\n",
    "    }\n",
    "    torch.save(checkpoint, f'./checkpoint.pt')\n",
    "    if val_loss <= val_loss_min:\n",
    "        print('Validation loss decreased ({:.6f} --> {:.6f}).  Saving model ...'.format(val_loss_min,val_loss))\n",
    "        torch.save(checkpoint, './best_checkpoint.pt')\n",
    "        val_loss_min = val_loss"
   ]
  },
  {
   "cell_type": "code",
   "execution_count": 9,
   "id": "bizarre-scott",
   "metadata": {},
   "outputs": [
    {
     "name": "stdout",
     "output_type": "stream",
     "text": [
      "0.9156\n",
      "              precision    recall  f1-score   support\n",
      "\n",
      "           0       0.93      0.98      0.95       980\n",
      "           1       0.96      0.99      0.97      1135\n",
      "           2       0.92      0.91      0.92      1032\n",
      "           3       0.90      0.87      0.89      1010\n",
      "           4       0.92      0.93      0.93       982\n",
      "           5       0.86      0.86      0.86       892\n",
      "           6       0.91      0.93      0.92       958\n",
      "           7       0.88      0.95      0.91      1028\n",
      "           8       0.92      0.86      0.89       974\n",
      "           9       0.95      0.86      0.90      1009\n",
      "\n",
      "    accuracy                           0.92     10000\n",
      "   macro avg       0.91      0.91      0.91     10000\n",
      "weighted avg       0.92      0.92      0.92     10000\n",
      "\n"
     ]
    },
    {
     "data": {
      "text/plain": [
       "<Figure size 432x288 with 0 Axes>"
      ]
     },
     "metadata": {},
     "output_type": "display_data"
    },
    {
     "data": {
      "image/png": "[encoded data removed]",
      "text/plain": [
       "<Figure size 1800x1800 with 2 Axes>"
      ]
     },
     "metadata": {
      "needs_background": "light"
     },
     "output_type": "display_data"
    }
   ],
   "source": [
    "use_cuda = torch.cuda.is_available()\n",
    "device = torch.device(\"cuda:0\" if use_cuda else \"cpu\")\n",
    "model.to(device)\n",
    "checkpoint = torch.load('./best_checkpoint.pt')\n",
    "model.load_state_dict(checkpoint['state_dict'])\n",
    "model.eval()\n",
    "m = nn.Softmax(dim=1)\n",
    "y_pred_extended = []\n",
    "y_true_extended = []\n",
    "with torch.no_grad():\n",
    "    for batch_idx, (X_batch, y_batch) in enumerate(test_loader):\n",
    "        X_batch, y_batch = X_batch.to(device), y_batch.to(device)\n",
    "        X_batch = torch.transpose(torch.transpose(X_batch, 1, 2), 2, 3)\n",
    "        y_pred = model(X_batch).cpu()\n",
    "        #         print(y_pred)\n",
    "        y_pred = m(y_pred)\n",
    "        #         print(y_pred)\n",
    "        y_pred = np.argmax(y_pred, axis=1)\n",
    "        #         print(y_pred, y_batch.cpu())\n",
    "        y_pred_extended.extend(y_pred)\n",
    "        y_true_extended.extend(y_batch.cpu())\n",
    "        \n",
    "def plot_confusion_matrix(cm, classes,\n",
    "                          normalize=False,\n",
    "                          title='Confusion matrix',\n",
    "                          cmap=plt.cm.Blues):\n",
    "    \"\"\"\n",
    "    This function prints and plots the confusion matrix.\n",
    "    Normalization can be applied by setting `normalize=True`.\n",
    "    \"\"\"\n",
    "    if normalize:\n",
    "        cm = cm.astype('float') / cm.sum(axis=1)[:, np.newaxis]\n",
    "        #print(\"Normalized confusion matrix\")\n",
    "    #else:\n",
    "        #print('Confusion matrix, without normalization')\n",
    "\n",
    "    #print(cm)\n",
    "    \n",
    "    plt.figure(figsize=(25,25))\n",
    "    plt.imshow(cm, interpolation='nearest', cmap=cmap)\n",
    "    plt.title(title)\n",
    "    plt.colorbar()\n",
    "    tick_marks = np.arange(len(classes))\n",
    "    plt.xticks(tick_marks, classes, rotation=45)\n",
    "    plt.yticks(tick_marks, classes)\n",
    "\n",
    "    fmt = '.2f' if normalize else 'd'\n",
    "    thresh = cm.max() / 2.\n",
    "    for i, j in itertools.product(range(cm.shape[0]), range(cm.shape[1])):\n",
    "        plt.text(j, i, format(cm[i, j], fmt),\n",
    "                 horizontalalignment=\"center\",\n",
    "                 color=\"white\" if cm[i, j] > thresh else \"black\")\n",
    "\n",
    "    plt.ylabel('True label')\n",
    "    plt.xlabel('Predicted label')\n",
    "    plt.tight_layout()\n",
    "    \n",
    "accuracy = accuracy_score(y_pred_extended, y_true_extended)\n",
    "cr = classification_report(y_true_extended, y_pred_extended)\n",
    "print(accuracy)\n",
    "print(cr)\n",
    "cnf_matrix = confusion_matrix(y_true_extended, y_pred_extended)\n",
    "# Plot non-normalized confusion matrix\n",
    "plt.figure()\n",
    "plot_confusion_matrix(cnf_matrix, classes=[str(i) for i in list(range(10))], title = ('Confusion Matrix'))\n",
    "plt.show()"
   ]
  },
  {
   "cell_type": "code",
   "execution_count": null,
   "id": "streaming-provision",
   "metadata": {},
   "outputs": [],
   "source": [
    "# model = Perceiver(\n",
    "#     input_channels = 3,          # number of channels for each token of the input\n",
    "#     input_axis = 2,              # number of axis for input data (2 for images, 3 for video)\n",
    "#     num_freq_bands = 6,          # number of freq bands, with original value (2 * K + 1)\n",
    "#     max_freq = 10.,              # maximum frequency, hyperparameter depending on how fine the data is\n",
    "#     freq_base = 2,\n",
    "#     depth = 2,                   # depth of net. The shape of the final attention mechanism will be:\n",
    "#                                  #   depth * (cross attention -> self_per_cross_attn * self attention)\n",
    "#     num_latents = 128,           # number of latents, or induced set points, or centroids. different papers giving it different names\n",
    "#     latent_dim = 256,            # latent dimension\n",
    "#     cross_heads = 1,             # number of heads for cross attention. paper said 1\n",
    "#     latent_heads = 2,            # number of heads for latent self attention, 8\n",
    "#     cross_dim_head = 32,         # number of dimensions per cross attention head\n",
    "#     latent_dim_head = 32,        # number of dimensions per latent self attention head\n",
    "#     num_classes = 1000,          # output number of classes\n",
    "#     attn_dropout = 0.,\n",
    "#     ff_dropout = 0.,\n",
    "#     weight_tie_layers = False,   # whether to weight tie layers (optional, as indicated in the diagram)\n",
    "#     fourier_encode_data = True,  # whether to auto-fourier encode the data, using the input_axis given. defaults to True, but can be turned off if you are fourier encoding the data yourself\n",
    "#     self_per_cross_attn = 2      # number of self attention blocks per cross attention\n",
    "# )\n",
    "\n",
    "# print(len(model.layers))"
   ]
  },
  {
   "cell_type": "code",
   "execution_count": null,
   "id": "metropolitan-pleasure",
   "metadata": {},
   "outputs": [],
   "source": [
    "# model.layers.append(model.layers[1])\n",
    "# print(len(model.layers))"
   ]
  },
  {
   "cell_type": "code",
   "execution_count": null,
   "id": "premier-powder",
   "metadata": {},
   "outputs": [],
   "source": []
  }
 ],
 "metadata": {
  "kernelspec": {
   "display_name": "Python 3",
   "language": "python",
   "name": "python3"
  },
  "language_info": {
   "codemirror_mode": {
    "name": "ipython",
    "version": 3
   },
   "file_extension": ".py",
   "mimetype": "text/x-python",
   "name": "python",
   "nbconvert_exporter": "python",
   "pygments_lexer": "ipython3",
   "version": "3.7.7"
  }
 },
 "nbformat": 4,
 "nbformat_minor": 5
}
