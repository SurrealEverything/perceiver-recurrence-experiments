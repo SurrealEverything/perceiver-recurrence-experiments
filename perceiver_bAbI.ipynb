{
 "cells": [
  {
   "cell_type": "code",
   "execution_count": 8,
   "id": "brave-debate",
   "metadata": {},
   "outputs": [],
   "source": [
    "import torch\n",
    "import torchtext\n",
    "from torch import nn\n",
    "from torch.utils.data import DataLoader\n",
    "from torch.autograd import Variable\n",
    "from perceiver_pytorch import Perceiver\n",
    "import numpy as np\n",
    "from matplotlib import pyplot as plt\n",
    "from sklearn.metrics import classification_report\n",
    "from sklearn.metrics import confusion_matrix\n",
    "from sklearn.metrics import accuracy_score\n",
    "import itertools\n",
    "from torch.utils.tensorboard import SummaryWriter\n",
    "import os\n",
    "from tqdm.notebook import tqdm\n",
    "from datetime import datetime\n",
    "from babi_joint import BabiDataset, pad_collate\n",
    "from torch.utils.data.dataset import Dataset\n",
    "from glob import glob\n",
    "from perceiver_pytorch import PerceiverIObAbI\n",
    "import time"
   ]
  },
  {
   "cell_type": "code",
   "execution_count": 14,
   "id": "instant-brooks",
   "metadata": {},
   "outputs": [],
   "source": [
    "model = PerceiverIObAbI(\n",
    "    num_tokens=179,\n",
    "    context_max_seq_len=70*13,\n",
    "    question_max_seq_len=13,\n",
    "    dim = 16,                    # dimension of sequence to be encoded\n",
    "    queries_dim = 179,            # dimension of decoder queries\n",
    "#     logits_dim = 50,            # dimension of final logits\n",
    "    depth = 3,                   # depth of net\n",
    "    num_latents = 13,           # number of latents, or induced set points, or centroids. different papers giving it different names\n",
    "    latent_dim = 16,            # latent dimension\n",
    "    cross_heads = 1,             # number of heads for cross attention. paper said 1\n",
    "    latent_heads = 8,            # number of heads for latent self attention, 8\n",
    "    cross_dim_head = 32,         # number of dimensions per cross attention head\n",
    "    latent_dim_head = 32,        # number of dimensions per latent self attention head\n",
    "    weight_tie_layers = True,   # whether to weight tie layers (optional, as indicated in the diagram)\n",
    "    self_per_cross_attn = 1,     # number of self attention blocks per cross attention\n",
    "    learn_latents=False\n",
    ")\n",
    "\n",
    "model_name = 'perceiverIO_bAbi'"
   ]
  },
  {
   "cell_type": "code",
   "execution_count": 3,
   "id": "interim-tomorrow",
   "metadata": {},
   "outputs": [
    {
     "name": "stdout",
     "output_type": "stream",
     "text": [
      "len(babi_dataset) train 180000\n",
      "vocab_size 179\n",
      "cuda:0\n"
     ]
    },
    {
     "data": {
      "application/vnd.jupyter.widget-view+json": {
       "model_id": "0d09abd33d834601b6c114903777a811",
       "version_major": 2,
       "version_minor": 0
      },
      "text/plain": [
       "Epoch 1/150:   0%|          | 0/1407 [00:00<?, ?it/s]"
      ]
     },
     "metadata": {},
     "output_type": "display_data"
    },
    {
     "name": "stdout",
     "output_type": "stream",
     "text": [
      "Epoch: 1 \tTraining Loss: 2.826796 \tValidation Loss: 1.770996\n",
      "Validation loss decreased (inf --> 1.770996).  Saving model ...\n"
     ]
    },
    {
     "data": {
      "application/vnd.jupyter.widget-view+json": {
       "model_id": "0a700329c2274ad5a5d5d0531cb45bb4",
       "version_major": 2,
       "version_minor": 0
      },
      "text/plain": [
       "Epoch 2/150:   0%|          | 0/1407 [00:00<?, ?it/s]"
      ]
     },
     "metadata": {},
     "output_type": "display_data"
    },
    {
     "name": "stdout",
     "output_type": "stream",
     "text": [
      "Epoch: 2 \tTraining Loss: 1.575286 \tValidation Loss: 1.472143\n",
      "Validation loss decreased (1.770996 --> 1.472143).  Saving model ...\n"
     ]
    },
    {
     "data": {
      "application/vnd.jupyter.widget-view+json": {
       "model_id": "7a741ff3e8b6422d855ff99354050bcc",
       "version_major": 2,
       "version_minor": 0
      },
      "text/plain": [
       "Epoch 3/150:   0%|          | 0/1407 [00:00<?, ?it/s]"
      ]
     },
     "metadata": {},
     "output_type": "display_data"
    },
    {
     "name": "stdout",
     "output_type": "stream",
     "text": [
      "Epoch: 3 \tTraining Loss: 1.441292 \tValidation Loss: 1.398375\n",
      "Validation loss decreased (1.472143 --> 1.398375).  Saving model ...\n"
     ]
    },
    {
     "data": {
      "application/vnd.jupyter.widget-view+json": {
       "model_id": "42bb23e622a94b4c8c408bd0444a0506",
       "version_major": 2,
       "version_minor": 0
      },
      "text/plain": [
       "Epoch 4/150:   0%|          | 0/1407 [00:00<?, ?it/s]"
      ]
     },
     "metadata": {},
     "output_type": "display_data"
    },
    {
     "name": "stdout",
     "output_type": "stream",
     "text": [
      "Epoch: 4 \tTraining Loss: 1.390229 \tValidation Loss: 1.380657\n",
      "Validation loss decreased (1.398375 --> 1.380657).  Saving model ...\n"
     ]
    },
    {
     "data": {
      "application/vnd.jupyter.widget-view+json": {
       "model_id": "5182db7385bf4714a5d9f155bbc59a38",
       "version_major": 2,
       "version_minor": 0
      },
      "text/plain": [
       "Epoch 5/150:   0%|          | 0/1407 [00:00<?, ?it/s]"
      ]
     },
     "metadata": {},
     "output_type": "display_data"
    },
    {
     "name": "stdout",
     "output_type": "stream",
     "text": [
      "Epoch: 5 \tTraining Loss: 1.346690 \tValidation Loss: 1.316417\n",
      "Validation loss decreased (1.380657 --> 1.316417).  Saving model ...\n"
     ]
    },
    {
     "data": {
      "application/vnd.jupyter.widget-view+json": {
       "model_id": "fdee188a23e842a2b2f51811f512a60e",
       "version_major": 2,
       "version_minor": 0
      },
      "text/plain": [
       "Epoch 6/150:   0%|          | 0/1407 [00:00<?, ?it/s]"
      ]
     },
     "metadata": {},
     "output_type": "display_data"
    },
    {
     "name": "stdout",
     "output_type": "stream",
     "text": [
      "Epoch: 6 \tTraining Loss: 1.303422 \tValidation Loss: 1.272964\n",
      "Validation loss decreased (1.316417 --> 1.272964).  Saving model ...\n"
     ]
    },
    {
     "data": {
      "application/vnd.jupyter.widget-view+json": {
       "model_id": "25b0e02e4d2a46cfb24563a575af1d35",
       "version_major": 2,
       "version_minor": 0
      },
      "text/plain": [
       "Epoch 7/150:   0%|          | 0/1407 [00:00<?, ?it/s]"
      ]
     },
     "metadata": {},
     "output_type": "display_data"
    },
    {
     "name": "stdout",
     "output_type": "stream",
     "text": [
      "Epoch: 7 \tTraining Loss: 1.268373 \tValidation Loss: 1.252846\n",
      "Validation loss decreased (1.272964 --> 1.252846).  Saving model ...\n"
     ]
    },
    {
     "data": {
      "application/vnd.jupyter.widget-view+json": {
       "model_id": "0a99c10351274fd8921d4daecb6b8ce6",
       "version_major": 2,
       "version_minor": 0
      },
      "text/plain": [
       "Epoch 8/150:   0%|          | 0/1407 [00:00<?, ?it/s]"
      ]
     },
     "metadata": {},
     "output_type": "display_data"
    },
    {
     "name": "stdout",
     "output_type": "stream",
     "text": [
      "Epoch: 8 \tTraining Loss: 1.249264 \tValidation Loss: 1.233740\n",
      "Validation loss decreased (1.252846 --> 1.233740).  Saving model ...\n"
     ]
    },
    {
     "data": {
      "application/vnd.jupyter.widget-view+json": {
       "model_id": "3dc321672d6c49c78d10a1334426b8c2",
       "version_major": 2,
       "version_minor": 0
      },
      "text/plain": [
       "Epoch 9/150:   0%|          | 0/1407 [00:00<?, ?it/s]"
      ]
     },
     "metadata": {},
     "output_type": "display_data"
    },
    {
     "name": "stdout",
     "output_type": "stream",
     "text": [
      "Epoch: 9 \tTraining Loss: 1.235762 \tValidation Loss: 1.224058\n",
      "Validation loss decreased (1.233740 --> 1.224058).  Saving model ...\n"
     ]
    },
    {
     "data": {
      "application/vnd.jupyter.widget-view+json": {
       "model_id": "46e5e7edeaaf432aada964d826455c6f",
       "version_major": 2,
       "version_minor": 0
      },
      "text/plain": [
       "Epoch 10/150:   0%|          | 0/1407 [00:00<?, ?it/s]"
      ]
     },
     "metadata": {},
     "output_type": "display_data"
    },
    {
     "name": "stdout",
     "output_type": "stream",
     "text": [
      "Epoch: 10 \tTraining Loss: 1.222232 \tValidation Loss: 1.206848\n",
      "Validation loss decreased (1.224058 --> 1.206848).  Saving model ...\n"
     ]
    },
    {
     "data": {
      "application/vnd.jupyter.widget-view+json": {
       "model_id": "580528fba24b4aaa9da2d25ea64afb32",
       "version_major": 2,
       "version_minor": 0
      },
      "text/plain": [
       "Epoch 11/150:   0%|          | 0/1407 [00:00<?, ?it/s]"
      ]
     },
     "metadata": {},
     "output_type": "display_data"
    },
    {
     "name": "stdout",
     "output_type": "stream",
     "text": [
      "Epoch: 11 \tTraining Loss: 1.208956 \tValidation Loss: 1.195825\n",
      "Validation loss decreased (1.206848 --> 1.195825).  Saving model ...\n"
     ]
    },
    {
     "data": {
      "application/vnd.jupyter.widget-view+json": {
       "model_id": "68c4a45b71d54999a5f8ad65ec85f489",
       "version_major": 2,
       "version_minor": 0
      },
      "text/plain": [
       "Epoch 12/150:   0%|          | 0/1407 [00:00<?, ?it/s]"
      ]
     },
     "metadata": {},
     "output_type": "display_data"
    },
    {
     "name": "stdout",
     "output_type": "stream",
     "text": [
      "Epoch: 12 \tTraining Loss: 1.187055 \tValidation Loss: 1.169228\n",
      "Validation loss decreased (1.195825 --> 1.169228).  Saving model ...\n"
     ]
    },
    {
     "data": {
      "application/vnd.jupyter.widget-view+json": {
       "model_id": "f53337d5256c47d598e89d53942cc976",
       "version_major": 2,
       "version_minor": 0
      },
      "text/plain": [
       "Epoch 13/150:   0%|          | 0/1407 [00:00<?, ?it/s]"
      ]
     },
     "metadata": {},
     "output_type": "display_data"
    },
    {
     "name": "stdout",
     "output_type": "stream",
     "text": [
      "Epoch: 13 \tTraining Loss: 1.161122 \tValidation Loss: 1.154848\n",
      "Validation loss decreased (1.169228 --> 1.154848).  Saving model ...\n"
     ]
    },
    {
     "data": {
      "application/vnd.jupyter.widget-view+json": {
       "model_id": "e98d79ba10ce475bba35520ebf948841",
       "version_major": 2,
       "version_minor": 0
      },
      "text/plain": [
       "Epoch 14/150:   0%|          | 0/1407 [00:00<?, ?it/s]"
      ]
     },
     "metadata": {},
     "output_type": "display_data"
    },
    {
     "name": "stdout",
     "output_type": "stream",
     "text": [
      "Epoch: 14 \tTraining Loss: 1.136228 \tValidation Loss: 1.103039\n",
      "Validation loss decreased (1.154848 --> 1.103039).  Saving model ...\n"
     ]
    },
    {
     "data": {
      "application/vnd.jupyter.widget-view+json": {
       "model_id": "bbc5584723a441329c884d8934bf6099",
       "version_major": 2,
       "version_minor": 0
      },
      "text/plain": [
       "Epoch 15/150:   0%|          | 0/1407 [00:00<?, ?it/s]"
      ]
     },
     "metadata": {},
     "output_type": "display_data"
    },
    {
     "name": "stdout",
     "output_type": "stream",
     "text": [
      "Epoch: 15 \tTraining Loss: 1.096621 \tValidation Loss: 1.067929\n",
      "Validation loss decreased (1.103039 --> 1.067929).  Saving model ...\n"
     ]
    },
    {
     "data": {
      "application/vnd.jupyter.widget-view+json": {
       "model_id": "e2063f560bfa4211a012f1dfd80e29ad",
       "version_major": 2,
       "version_minor": 0
      },
      "text/plain": [
       "Epoch 16/150:   0%|          | 0/1407 [00:00<?, ?it/s]"
      ]
     },
     "metadata": {},
     "output_type": "display_data"
    },
    {
     "name": "stdout",
     "output_type": "stream",
     "text": [
      "Epoch: 16 \tTraining Loss: 1.071783 \tValidation Loss: 1.055472\n",
      "Validation loss decreased (1.067929 --> 1.055472).  Saving model ...\n"
     ]
    },
    {
     "data": {
      "application/vnd.jupyter.widget-view+json": {
       "model_id": "bc027532def64a36b3a4bb2fdede3ce4",
       "version_major": 2,
       "version_minor": 0
      },
      "text/plain": [
       "Epoch 17/150:   0%|          | 0/1407 [00:00<?, ?it/s]"
      ]
     },
     "metadata": {},
     "output_type": "display_data"
    },
    {
     "name": "stdout",
     "output_type": "stream",
     "text": [
      "Epoch: 17 \tTraining Loss: 1.054819 \tValidation Loss: 1.032752\n",
      "Validation loss decreased (1.055472 --> 1.032752).  Saving model ...\n"
     ]
    },
    {
     "data": {
      "application/vnd.jupyter.widget-view+json": {
       "model_id": "fabe26fd23d748dab3c5271645bb6cc5",
       "version_major": 2,
       "version_minor": 0
      },
      "text/plain": [
       "Epoch 18/150:   0%|          | 0/1407 [00:00<?, ?it/s]"
      ]
     },
     "metadata": {},
     "output_type": "display_data"
    },
    {
     "name": "stdout",
     "output_type": "stream",
     "text": [
      "Epoch: 18 \tTraining Loss: 1.040570 \tValidation Loss: 1.024034\n",
      "Validation loss decreased (1.032752 --> 1.024034).  Saving model ...\n"
     ]
    },
    {
     "data": {
      "application/vnd.jupyter.widget-view+json": {
       "model_id": "63df05e99d1c4d6fbb7b02619a394df0",
       "version_major": 2,
       "version_minor": 0
      },
      "text/plain": [
       "Epoch 19/150:   0%|          | 0/1407 [00:00<?, ?it/s]"
      ]
     },
     "metadata": {},
     "output_type": "display_data"
    },
    {
     "name": "stdout",
     "output_type": "stream",
     "text": [
      "Epoch: 19 \tTraining Loss: 1.028358 \tValidation Loss: 1.015686\n",
      "Validation loss decreased (1.024034 --> 1.015686).  Saving model ...\n"
     ]
    },
    {
     "data": {
      "application/vnd.jupyter.widget-view+json": {
       "model_id": "de6fb260111b480cbcad169464082861",
       "version_major": 2,
       "version_minor": 0
      },
      "text/plain": [
       "Epoch 20/150:   0%|          | 0/1407 [00:00<?, ?it/s]"
      ]
     },
     "metadata": {},
     "output_type": "display_data"
    },
    {
     "name": "stdout",
     "output_type": "stream",
     "text": [
      "Epoch: 20 \tTraining Loss: 1.019034 \tValidation Loss: 1.000223\n",
      "Validation loss decreased (1.015686 --> 1.000223).  Saving model ...\n"
     ]
    },
    {
     "data": {
      "application/vnd.jupyter.widget-view+json": {
       "model_id": "427c27a18335480f8acab61ea0054e30",
       "version_major": 2,
       "version_minor": 0
      },
      "text/plain": [
       "Epoch 21/150:   0%|          | 0/1407 [00:00<?, ?it/s]"
      ]
     },
     "metadata": {},
     "output_type": "display_data"
    },
    {
     "name": "stdout",
     "output_type": "stream",
     "text": [
      "Epoch: 21 \tTraining Loss: 1.008960 \tValidation Loss: 1.000889\n"
     ]
    },
    {
     "data": {
      "application/vnd.jupyter.widget-view+json": {
       "model_id": "9cd88fb8fd364bc48793551dfb68808a",
       "version_major": 2,
       "version_minor": 0
      },
      "text/plain": [
       "Epoch 22/150:   0%|          | 0/1407 [00:00<?, ?it/s]"
      ]
     },
     "metadata": {},
     "output_type": "display_data"
    },
    {
     "name": "stdout",
     "output_type": "stream",
     "text": [
      "Epoch: 22 \tTraining Loss: 1.001099 \tValidation Loss: 0.987821\n",
      "Validation loss decreased (1.000223 --> 0.987821).  Saving model ...\n"
     ]
    },
    {
     "data": {
      "application/vnd.jupyter.widget-view+json": {
       "model_id": "c173b5014c2e45a1a180b4394814f5e7",
       "version_major": 2,
       "version_minor": 0
      },
      "text/plain": [
       "Epoch 23/150:   0%|          | 0/1407 [00:00<?, ?it/s]"
      ]
     },
     "metadata": {},
     "output_type": "display_data"
    },
    {
     "name": "stdout",
     "output_type": "stream",
     "text": [
      "Epoch: 23 \tTraining Loss: 0.994048 \tValidation Loss: 0.978519\n",
      "Validation loss decreased (0.987821 --> 0.978519).  Saving model ...\n"
     ]
    },
    {
     "data": {
      "application/vnd.jupyter.widget-view+json": {
       "model_id": "427b6217f64846e9b599c8f273e9b36f",
       "version_major": 2,
       "version_minor": 0
      },
      "text/plain": [
       "Epoch 24/150:   0%|          | 0/1407 [00:00<?, ?it/s]"
      ]
     },
     "metadata": {},
     "output_type": "display_data"
    },
    {
     "name": "stdout",
     "output_type": "stream",
     "text": [
      "Epoch: 24 \tTraining Loss: 0.989007 \tValidation Loss: 0.978686\n"
     ]
    },
    {
     "data": {
      "application/vnd.jupyter.widget-view+json": {
       "model_id": "1d684adf0bb34f518c952fad58603361",
       "version_major": 2,
       "version_minor": 0
      },
      "text/plain": [
       "Epoch 25/150:   0%|          | 0/1407 [00:00<?, ?it/s]"
      ]
     },
     "metadata": {},
     "output_type": "display_data"
    },
    {
     "name": "stdout",
     "output_type": "stream",
     "text": [
      "Epoch: 25 \tTraining Loss: 0.983445 \tValidation Loss: 0.967965\n",
      "Validation loss decreased (0.978519 --> 0.967965).  Saving model ...\n"
     ]
    },
    {
     "data": {
      "application/vnd.jupyter.widget-view+json": {
       "model_id": "b2f945d5e33f4c8aa63f387ef6055513",
       "version_major": 2,
       "version_minor": 0
      },
      "text/plain": [
       "Epoch 26/150:   0%|          | 0/1407 [00:00<?, ?it/s]"
      ]
     },
     "metadata": {},
     "output_type": "display_data"
    },
    {
     "name": "stdout",
     "output_type": "stream",
     "text": [
      "Epoch: 26 \tTraining Loss: 0.979251 \tValidation Loss: 0.965015\n",
      "Validation loss decreased (0.967965 --> 0.965015).  Saving model ...\n"
     ]
    },
    {
     "data": {
      "application/vnd.jupyter.widget-view+json": {
       "model_id": "9bdcfe4825264e44b58552a2c2c0bd95",
       "version_major": 2,
       "version_minor": 0
      },
      "text/plain": [
       "Epoch 27/150:   0%|          | 0/1407 [00:00<?, ?it/s]"
      ]
     },
     "metadata": {},
     "output_type": "display_data"
    },
    {
     "name": "stdout",
     "output_type": "stream",
     "text": [
      "Epoch: 27 \tTraining Loss: 0.973570 \tValidation Loss: 0.967132\n"
     ]
    },
    {
     "data": {
      "application/vnd.jupyter.widget-view+json": {
       "model_id": "eb6149eb65e041f1bef0bb6fc24b854a",
       "version_major": 2,
       "version_minor": 0
      },
      "text/plain": [
       "Epoch 28/150:   0%|          | 0/1407 [00:00<?, ?it/s]"
      ]
     },
     "metadata": {},
     "output_type": "display_data"
    },
    {
     "name": "stdout",
     "output_type": "stream",
     "text": [
      "Epoch: 28 \tTraining Loss: 0.969033 \tValidation Loss: 0.963242\n",
      "Validation loss decreased (0.965015 --> 0.963242).  Saving model ...\n"
     ]
    },
    {
     "data": {
      "application/vnd.jupyter.widget-view+json": {
       "model_id": "60804d12bfd743188e0bf387fc913d1b",
       "version_major": 2,
       "version_minor": 0
      },
      "text/plain": [
       "Epoch 29/150:   0%|          | 0/1407 [00:00<?, ?it/s]"
      ]
     },
     "metadata": {},
     "output_type": "display_data"
    },
    {
     "name": "stdout",
     "output_type": "stream",
     "text": [
      "Epoch: 29 \tTraining Loss: 0.964839 \tValidation Loss: 0.953310\n",
      "Validation loss decreased (0.963242 --> 0.953310).  Saving model ...\n"
     ]
    },
    {
     "data": {
      "application/vnd.jupyter.widget-view+json": {
       "model_id": "2f0158dd308e471797bc1d9651062419",
       "version_major": 2,
       "version_minor": 0
      },
      "text/plain": [
       "Epoch 30/150:   0%|          | 0/1407 [00:00<?, ?it/s]"
      ]
     },
     "metadata": {},
     "output_type": "display_data"
    },
    {
     "name": "stdout",
     "output_type": "stream",
     "text": [
      "Epoch: 30 \tTraining Loss: 0.961061 \tValidation Loss: 0.950284\n",
      "Validation loss decreased (0.953310 --> 0.950284).  Saving model ...\n"
     ]
    },
    {
     "data": {
      "application/vnd.jupyter.widget-view+json": {
       "model_id": "645f6fce66164d2bbaf76d101b068f4a",
       "version_major": 2,
       "version_minor": 0
      },
      "text/plain": [
       "Epoch 31/150:   0%|          | 0/1407 [00:00<?, ?it/s]"
      ]
     },
     "metadata": {},
     "output_type": "display_data"
    },
    {
     "name": "stdout",
     "output_type": "stream",
     "text": [
      "Epoch: 31 \tTraining Loss: 0.956335 \tValidation Loss: 0.950103\n",
      "Validation loss decreased (0.950284 --> 0.950103).  Saving model ...\n"
     ]
    },
    {
     "data": {
      "application/vnd.jupyter.widget-view+json": {
       "model_id": "d779d4478d384f058be28245e957e53c",
       "version_major": 2,
       "version_minor": 0
      },
      "text/plain": [
       "Epoch 32/150:   0%|          | 0/1407 [00:00<?, ?it/s]"
      ]
     },
     "metadata": {},
     "output_type": "display_data"
    },
    {
     "name": "stdout",
     "output_type": "stream",
     "text": [
      "Epoch: 32 \tTraining Loss: 0.953093 \tValidation Loss: 0.951912\n"
     ]
    },
    {
     "data": {
      "application/vnd.jupyter.widget-view+json": {
       "model_id": "cea5cd5183e64bc9aaea5f86504fbb80",
       "version_major": 2,
       "version_minor": 0
      },
      "text/plain": [
       "Epoch 33/150:   0%|          | 0/1407 [00:00<?, ?it/s]"
      ]
     },
     "metadata": {},
     "output_type": "display_data"
    },
    {
     "name": "stdout",
     "output_type": "stream",
     "text": [
      "Epoch: 33 \tTraining Loss: 0.950043 \tValidation Loss: 0.943498\n",
      "Validation loss decreased (0.950103 --> 0.943498).  Saving model ...\n"
     ]
    },
    {
     "data": {
      "application/vnd.jupyter.widget-view+json": {
       "model_id": "c1fdf899596c4bbe8840adfcf67dbdf7",
       "version_major": 2,
       "version_minor": 0
      },
      "text/plain": [
       "Epoch 34/150:   0%|          | 0/1407 [00:00<?, ?it/s]"
      ]
     },
     "metadata": {},
     "output_type": "display_data"
    },
    {
     "name": "stdout",
     "output_type": "stream",
     "text": [
      "Epoch: 34 \tTraining Loss: 0.945149 \tValidation Loss: 0.948486\n"
     ]
    },
    {
     "data": {
      "application/vnd.jupyter.widget-view+json": {
       "model_id": "64dc2e83ad334b2fb5dbbfd4eee4e9a2",
       "version_major": 2,
       "version_minor": 0
      },
      "text/plain": [
       "Epoch 35/150:   0%|          | 0/1407 [00:00<?, ?it/s]"
      ]
     },
     "metadata": {},
     "output_type": "display_data"
    },
    {
     "name": "stdout",
     "output_type": "stream",
     "text": [
      "Epoch: 35 \tTraining Loss: 0.942271 \tValidation Loss: 0.940840\n",
      "Validation loss decreased (0.943498 --> 0.940840).  Saving model ...\n"
     ]
    },
    {
     "data": {
      "application/vnd.jupyter.widget-view+json": {
       "model_id": "b0b3635bf2fb47af9e950a17b1c60dd3",
       "version_major": 2,
       "version_minor": 0
      },
      "text/plain": [
       "Epoch 36/150:   0%|          | 0/1407 [00:00<?, ?it/s]"
      ]
     },
     "metadata": {},
     "output_type": "display_data"
    },
    {
     "name": "stdout",
     "output_type": "stream",
     "text": [
      "Epoch: 36 \tTraining Loss: 0.938595 \tValidation Loss: 0.943111\n"
     ]
    },
    {
     "data": {
      "application/vnd.jupyter.widget-view+json": {
       "model_id": "8f4f9fa35c394602b87fa148501f3c5a",
       "version_major": 2,
       "version_minor": 0
      },
      "text/plain": [
       "Epoch 37/150:   0%|          | 0/1407 [00:00<?, ?it/s]"
      ]
     },
     "metadata": {},
     "output_type": "display_data"
    },
    {
     "name": "stdout",
     "output_type": "stream",
     "text": [
      "Epoch: 37 \tTraining Loss: 0.935810 \tValidation Loss: 0.933269\n",
      "Validation loss decreased (0.940840 --> 0.933269).  Saving model ...\n"
     ]
    },
    {
     "data": {
      "application/vnd.jupyter.widget-view+json": {
       "model_id": "5cb8d7bcbb6b44cca4a1ddf8f89e6abb",
       "version_major": 2,
       "version_minor": 0
      },
      "text/plain": [
       "Epoch 38/150:   0%|          | 0/1407 [00:00<?, ?it/s]"
      ]
     },
     "metadata": {},
     "output_type": "display_data"
    },
    {
     "name": "stdout",
     "output_type": "stream",
     "text": [
      "Epoch: 38 \tTraining Loss: 0.933784 \tValidation Loss: 0.945508\n"
     ]
    },
    {
     "data": {
      "application/vnd.jupyter.widget-view+json": {
       "model_id": "434b35c95902400cb360047e0ac59acd",
       "version_major": 2,
       "version_minor": 0
      },
      "text/plain": [
       "Epoch 39/150:   0%|          | 0/1407 [00:00<?, ?it/s]"
      ]
     },
     "metadata": {},
     "output_type": "display_data"
    },
    {
     "name": "stdout",
     "output_type": "stream",
     "text": [
      "Epoch: 39 \tTraining Loss: 0.929489 \tValidation Loss: 0.924258\n",
      "Validation loss decreased (0.933269 --> 0.924258).  Saving model ...\n"
     ]
    },
    {
     "data": {
      "application/vnd.jupyter.widget-view+json": {
       "model_id": "d0e82717511846a5850e2f6d81a2d74f",
       "version_major": 2,
       "version_minor": 0
      },
      "text/plain": [
       "Epoch 40/150:   0%|          | 0/1407 [00:00<?, ?it/s]"
      ]
     },
     "metadata": {},
     "output_type": "display_data"
    },
    {
     "name": "stdout",
     "output_type": "stream",
     "text": [
      "Epoch: 40 \tTraining Loss: 0.926898 \tValidation Loss: 0.932022\n"
     ]
    },
    {
     "data": {
      "application/vnd.jupyter.widget-view+json": {
       "model_id": "79dde2a103bd4644b5f62ac83886499d",
       "version_major": 2,
       "version_minor": 0
      },
      "text/plain": [
       "Epoch 41/150:   0%|          | 0/1407 [00:00<?, ?it/s]"
      ]
     },
     "metadata": {},
     "output_type": "display_data"
    },
    {
     "name": "stdout",
     "output_type": "stream",
     "text": [
      "Epoch: 41 \tTraining Loss: 0.923935 \tValidation Loss: 0.928210\n"
     ]
    },
    {
     "data": {
      "application/vnd.jupyter.widget-view+json": {
       "model_id": "e714aeff379f4cc88640a3f78166fd78",
       "version_major": 2,
       "version_minor": 0
      },
      "text/plain": [
       "Epoch 42/150:   0%|          | 0/1407 [00:00<?, ?it/s]"
      ]
     },
     "metadata": {},
     "output_type": "display_data"
    },
    {
     "name": "stdout",
     "output_type": "stream",
     "text": [
      "Epoch: 42 \tTraining Loss: 0.920798 \tValidation Loss: 0.922254\n",
      "Validation loss decreased (0.924258 --> 0.922254).  Saving model ...\n"
     ]
    },
    {
     "data": {
      "application/vnd.jupyter.widget-view+json": {
       "model_id": "a008802db4034fd0aab1bb1b94e7db14",
       "version_major": 2,
       "version_minor": 0
      },
      "text/plain": [
       "Epoch 43/150:   0%|          | 0/1407 [00:00<?, ?it/s]"
      ]
     },
     "metadata": {},
     "output_type": "display_data"
    },
    {
     "name": "stdout",
     "output_type": "stream",
     "text": [
      "Epoch: 43 \tTraining Loss: 0.917735 \tValidation Loss: 0.919608\n",
      "Validation loss decreased (0.922254 --> 0.919608).  Saving model ...\n"
     ]
    },
    {
     "data": {
      "application/vnd.jupyter.widget-view+json": {
       "model_id": "6487a6812c0f42649f37a663a5a7a146",
       "version_major": 2,
       "version_minor": 0
      },
      "text/plain": [
       "Epoch 44/150:   0%|          | 0/1407 [00:00<?, ?it/s]"
      ]
     },
     "metadata": {},
     "output_type": "display_data"
    },
    {
     "name": "stdout",
     "output_type": "stream",
     "text": [
      "Epoch: 44 \tTraining Loss: 0.915690 \tValidation Loss: 0.920429\n"
     ]
    },
    {
     "data": {
      "application/vnd.jupyter.widget-view+json": {
       "model_id": "2288a49351f645a8b86ead4fcb47e9e3",
       "version_major": 2,
       "version_minor": 0
      },
      "text/plain": [
       "Epoch 45/150:   0%|          | 0/1407 [00:00<?, ?it/s]"
      ]
     },
     "metadata": {},
     "output_type": "display_data"
    },
    {
     "name": "stdout",
     "output_type": "stream",
     "text": [
      "Epoch: 45 \tTraining Loss: 0.912163 \tValidation Loss: 0.909429\n",
      "Validation loss decreased (0.919608 --> 0.909429).  Saving model ...\n"
     ]
    },
    {
     "data": {
      "application/vnd.jupyter.widget-view+json": {
       "model_id": "2d48fbd1f6444cf1be5fc8b9432e093b",
       "version_major": 2,
       "version_minor": 0
      },
      "text/plain": [
       "Epoch 46/150:   0%|          | 0/1407 [00:00<?, ?it/s]"
      ]
     },
     "metadata": {},
     "output_type": "display_data"
    },
    {
     "name": "stdout",
     "output_type": "stream",
     "text": [
      "Epoch: 46 \tTraining Loss: 0.909479 \tValidation Loss: 0.909461\n"
     ]
    },
    {
     "data": {
      "application/vnd.jupyter.widget-view+json": {
       "model_id": "0f3a44c753fa4f568469c2ec128179cb",
       "version_major": 2,
       "version_minor": 0
      },
      "text/plain": [
       "Epoch 47/150:   0%|          | 0/1407 [00:00<?, ?it/s]"
      ]
     },
     "metadata": {},
     "output_type": "display_data"
    },
    {
     "name": "stdout",
     "output_type": "stream",
     "text": [
      "Epoch: 47 \tTraining Loss: 0.906910 \tValidation Loss: 0.909420\n",
      "Validation loss decreased (0.909429 --> 0.909420).  Saving model ...\n"
     ]
    },
    {
     "data": {
      "application/vnd.jupyter.widget-view+json": {
       "model_id": "449ef04f2ede42378f6b063be75ab2bb",
       "version_major": 2,
       "version_minor": 0
      },
      "text/plain": [
       "Epoch 48/150:   0%|          | 0/1407 [00:00<?, ?it/s]"
      ]
     },
     "metadata": {},
     "output_type": "display_data"
    },
    {
     "name": "stdout",
     "output_type": "stream",
     "text": [
      "Epoch: 48 \tTraining Loss: 0.903644 \tValidation Loss: 0.906181\n",
      "Validation loss decreased (0.909420 --> 0.906181).  Saving model ...\n"
     ]
    },
    {
     "data": {
      "application/vnd.jupyter.widget-view+json": {
       "model_id": "108304f983b141bba33b946f5748e758",
       "version_major": 2,
       "version_minor": 0
      },
      "text/plain": [
       "Epoch 49/150:   0%|          | 0/1407 [00:00<?, ?it/s]"
      ]
     },
     "metadata": {},
     "output_type": "display_data"
    },
    {
     "name": "stdout",
     "output_type": "stream",
     "text": [
      "Epoch: 49 \tTraining Loss: 0.900342 \tValidation Loss: 0.905936\n",
      "Validation loss decreased (0.906181 --> 0.905936).  Saving model ...\n"
     ]
    },
    {
     "data": {
      "application/vnd.jupyter.widget-view+json": {
       "model_id": "3a506d4c37bc4cc794efb25bbbd072fd",
       "version_major": 2,
       "version_minor": 0
      },
      "text/plain": [
       "Epoch 50/150:   0%|          | 0/1407 [00:00<?, ?it/s]"
      ]
     },
     "metadata": {},
     "output_type": "display_data"
    },
    {
     "name": "stdout",
     "output_type": "stream",
     "text": [
      "Epoch: 50 \tTraining Loss: 0.897212 \tValidation Loss: 0.896665\n",
      "Validation loss decreased (0.905936 --> 0.896665).  Saving model ...\n"
     ]
    },
    {
     "data": {
      "application/vnd.jupyter.widget-view+json": {
       "model_id": "98c38e34b9944b89a54bc10021695512",
       "version_major": 2,
       "version_minor": 0
      },
      "text/plain": [
       "Epoch 51/150:   0%|          | 0/1407 [00:00<?, ?it/s]"
      ]
     },
     "metadata": {},
     "output_type": "display_data"
    },
    {
     "name": "stdout",
     "output_type": "stream",
     "text": [
      "Epoch: 51 \tTraining Loss: 0.893404 \tValidation Loss: 0.905286\n"
     ]
    },
    {
     "data": {
      "application/vnd.jupyter.widget-view+json": {
       "model_id": "a20bcf8d735e40eea99baadb4651f739",
       "version_major": 2,
       "version_minor": 0
      },
      "text/plain": [
       "Epoch 52/150:   0%|          | 0/1407 [00:00<?, ?it/s]"
      ]
     },
     "metadata": {},
     "output_type": "display_data"
    },
    {
     "name": "stdout",
     "output_type": "stream",
     "text": [
      "Epoch: 52 \tTraining Loss: 0.889530 \tValidation Loss: 0.894506\n",
      "Validation loss decreased (0.896665 --> 0.894506).  Saving model ...\n"
     ]
    },
    {
     "data": {
      "application/vnd.jupyter.widget-view+json": {
       "model_id": "87566381e44649369d34ae344872d86f",
       "version_major": 2,
       "version_minor": 0
      },
      "text/plain": [
       "Epoch 53/150:   0%|          | 0/1407 [00:00<?, ?it/s]"
      ]
     },
     "metadata": {},
     "output_type": "display_data"
    },
    {
     "name": "stdout",
     "output_type": "stream",
     "text": [
      "Epoch: 53 \tTraining Loss: 0.885641 \tValidation Loss: 0.894899\n"
     ]
    },
    {
     "data": {
      "application/vnd.jupyter.widget-view+json": {
       "model_id": "6a2f0a39e49b4107aa6d078e16c65fbd",
       "version_major": 2,
       "version_minor": 0
      },
      "text/plain": [
       "Epoch 54/150:   0%|          | 0/1407 [00:00<?, ?it/s]"
      ]
     },
     "metadata": {},
     "output_type": "display_data"
    },
    {
     "name": "stdout",
     "output_type": "stream",
     "text": [
      "Epoch: 54 \tTraining Loss: 0.881358 \tValidation Loss: 0.881826\n",
      "Validation loss decreased (0.894506 --> 0.881826).  Saving model ...\n"
     ]
    },
    {
     "data": {
      "application/vnd.jupyter.widget-view+json": {
       "model_id": "4d9f7e5dcc094845bc783b32a24e2246",
       "version_major": 2,
       "version_minor": 0
      },
      "text/plain": [
       "Epoch 55/150:   0%|          | 0/1407 [00:00<?, ?it/s]"
      ]
     },
     "metadata": {},
     "output_type": "display_data"
    },
    {
     "name": "stdout",
     "output_type": "stream",
     "text": [
      "Epoch: 55 \tTraining Loss: 0.878654 \tValidation Loss: 0.877955\n",
      "Validation loss decreased (0.881826 --> 0.877955).  Saving model ...\n"
     ]
    },
    {
     "data": {
      "application/vnd.jupyter.widget-view+json": {
       "model_id": "2698b1b4bf8044bf9d77f57e290f109d",
       "version_major": 2,
       "version_minor": 0
      },
      "text/plain": [
       "Epoch 56/150:   0%|          | 0/1407 [00:00<?, ?it/s]"
      ]
     },
     "metadata": {},
     "output_type": "display_data"
    },
    {
     "name": "stdout",
     "output_type": "stream",
     "text": [
      "Epoch: 56 \tTraining Loss: 0.874441 \tValidation Loss: 0.885764\n"
     ]
    },
    {
     "data": {
      "application/vnd.jupyter.widget-view+json": {
       "model_id": "3927c8968e8340d191b10cad7c5592b2",
       "version_major": 2,
       "version_minor": 0
      },
      "text/plain": [
       "Epoch 57/150:   0%|          | 0/1407 [00:00<?, ?it/s]"
      ]
     },
     "metadata": {},
     "output_type": "display_data"
    },
    {
     "name": "stdout",
     "output_type": "stream",
     "text": [
      "Epoch: 57 \tTraining Loss: 0.870334 \tValidation Loss: 0.870672\n",
      "Validation loss decreased (0.877955 --> 0.870672).  Saving model ...\n"
     ]
    },
    {
     "data": {
      "application/vnd.jupyter.widget-view+json": {
       "model_id": "24d1c589fdb0458eb86571f2159e22c4",
       "version_major": 2,
       "version_minor": 0
      },
      "text/plain": [
       "Epoch 58/150:   0%|          | 0/1407 [00:00<?, ?it/s]"
      ]
     },
     "metadata": {},
     "output_type": "display_data"
    },
    {
     "name": "stdout",
     "output_type": "stream",
     "text": [
      "Epoch: 58 \tTraining Loss: 0.867829 \tValidation Loss: 0.867798\n",
      "Validation loss decreased (0.870672 --> 0.867798).  Saving model ...\n"
     ]
    },
    {
     "data": {
      "application/vnd.jupyter.widget-view+json": {
       "model_id": "9baf44628d3d437a89e052dcf381d13a",
       "version_major": 2,
       "version_minor": 0
      },
      "text/plain": [
       "Epoch 59/150:   0%|          | 0/1407 [00:00<?, ?it/s]"
      ]
     },
     "metadata": {},
     "output_type": "display_data"
    },
    {
     "name": "stdout",
     "output_type": "stream",
     "text": [
      "Epoch: 59 \tTraining Loss: 0.864603 \tValidation Loss: 0.878955\n"
     ]
    },
    {
     "data": {
      "application/vnd.jupyter.widget-view+json": {
       "model_id": "76084350a942481aacd3af6ebfff0db7",
       "version_major": 2,
       "version_minor": 0
      },
      "text/plain": [
       "Epoch 60/150:   0%|          | 0/1407 [00:00<?, ?it/s]"
      ]
     },
     "metadata": {},
     "output_type": "display_data"
    },
    {
     "name": "stdout",
     "output_type": "stream",
     "text": [
      "Epoch: 60 \tTraining Loss: 0.861405 \tValidation Loss: 0.870782\n"
     ]
    },
    {
     "data": {
      "application/vnd.jupyter.widget-view+json": {
       "model_id": "bd52f3e7ad8a486d8a8699427f02002c",
       "version_major": 2,
       "version_minor": 0
      },
      "text/plain": [
       "Epoch 61/150:   0%|          | 0/1407 [00:00<?, ?it/s]"
      ]
     },
     "metadata": {},
     "output_type": "display_data"
    },
    {
     "name": "stdout",
     "output_type": "stream",
     "text": [
      "Epoch: 61 \tTraining Loss: 0.859844 \tValidation Loss: 0.872435\n"
     ]
    },
    {
     "data": {
      "application/vnd.jupyter.widget-view+json": {
       "model_id": "04cbe4306e79404c981c30ecd242ba6f",
       "version_major": 2,
       "version_minor": 0
      },
      "text/plain": [
       "Epoch 62/150:   0%|          | 0/1407 [00:00<?, ?it/s]"
      ]
     },
     "metadata": {},
     "output_type": "display_data"
    },
    {
     "name": "stdout",
     "output_type": "stream",
     "text": [
      "Epoch: 62 \tTraining Loss: 0.856567 \tValidation Loss: 0.867287\n",
      "Validation loss decreased (0.867798 --> 0.867287).  Saving model ...\n"
     ]
    },
    {
     "data": {
      "application/vnd.jupyter.widget-view+json": {
       "model_id": "9a4729700c474f78b29f2d83b8d755e9",
       "version_major": 2,
       "version_minor": 0
      },
      "text/plain": [
       "Epoch 63/150:   0%|          | 0/1407 [00:00<?, ?it/s]"
      ]
     },
     "metadata": {},
     "output_type": "display_data"
    },
    {
     "name": "stdout",
     "output_type": "stream",
     "text": [
      "Epoch: 63 \tTraining Loss: 0.854940 \tValidation Loss: 0.860009\n",
      "Validation loss decreased (0.867287 --> 0.860009).  Saving model ...\n"
     ]
    },
    {
     "data": {
      "application/vnd.jupyter.widget-view+json": {
       "model_id": "8e26e487e3cc4e53a133c44d8391b8ae",
       "version_major": 2,
       "version_minor": 0
      },
      "text/plain": [
       "Epoch 64/150:   0%|          | 0/1407 [00:00<?, ?it/s]"
      ]
     },
     "metadata": {},
     "output_type": "display_data"
    },
    {
     "name": "stdout",
     "output_type": "stream",
     "text": [
      "Epoch: 64 \tTraining Loss: 0.853033 \tValidation Loss: 0.856567\n",
      "Validation loss decreased (0.860009 --> 0.856567).  Saving model ...\n"
     ]
    },
    {
     "data": {
      "application/vnd.jupyter.widget-view+json": {
       "model_id": "f2a919561a6642cb86e2a9767b29aee9",
       "version_major": 2,
       "version_minor": 0
      },
      "text/plain": [
       "Epoch 65/150:   0%|          | 0/1407 [00:00<?, ?it/s]"
      ]
     },
     "metadata": {},
     "output_type": "display_data"
    },
    {
     "name": "stdout",
     "output_type": "stream",
     "text": [
      "Epoch: 65 \tTraining Loss: 0.850755 \tValidation Loss: 0.864124\n"
     ]
    },
    {
     "data": {
      "application/vnd.jupyter.widget-view+json": {
       "model_id": "cc2c9d0f025f426a854702c7037c7c6e",
       "version_major": 2,
       "version_minor": 0
      },
      "text/plain": [
       "Epoch 66/150:   0%|          | 0/1407 [00:00<?, ?it/s]"
      ]
     },
     "metadata": {},
     "output_type": "display_data"
    },
    {
     "name": "stdout",
     "output_type": "stream",
     "text": [
      "Epoch: 66 \tTraining Loss: 0.849207 \tValidation Loss: 0.857691\n"
     ]
    },
    {
     "data": {
      "application/vnd.jupyter.widget-view+json": {
       "model_id": "b7b4e18db270451e9f15a219a3bf00c6",
       "version_major": 2,
       "version_minor": 0
      },
      "text/plain": [
       "Epoch 67/150:   0%|          | 0/1407 [00:00<?, ?it/s]"
      ]
     },
     "metadata": {},
     "output_type": "display_data"
    },
    {
     "name": "stdout",
     "output_type": "stream",
     "text": [
      "Epoch: 67 \tTraining Loss: 0.847777 \tValidation Loss: 0.858384\n"
     ]
    },
    {
     "data": {
      "application/vnd.jupyter.widget-view+json": {
       "model_id": "003b4fcae0684205b08ab98eca53b93c",
       "version_major": 2,
       "version_minor": 0
      },
      "text/plain": [
       "Epoch 68/150:   0%|          | 0/1407 [00:00<?, ?it/s]"
      ]
     },
     "metadata": {},
     "output_type": "display_data"
    },
    {
     "name": "stdout",
     "output_type": "stream",
     "text": [
      "Epoch: 68 \tTraining Loss: 0.846212 \tValidation Loss: 0.853423\n",
      "Validation loss decreased (0.856567 --> 0.853423).  Saving model ...\n"
     ]
    },
    {
     "data": {
      "application/vnd.jupyter.widget-view+json": {
       "model_id": "8a2c4011b3e144a385c8bf9372233026",
       "version_major": 2,
       "version_minor": 0
      },
      "text/plain": [
       "Epoch 69/150:   0%|          | 0/1407 [00:00<?, ?it/s]"
      ]
     },
     "metadata": {},
     "output_type": "display_data"
    },
    {
     "name": "stdout",
     "output_type": "stream",
     "text": [
      "Epoch: 69 \tTraining Loss: 0.844534 \tValidation Loss: 0.858499\n"
     ]
    },
    {
     "data": {
      "application/vnd.jupyter.widget-view+json": {
       "model_id": "caed9854a26140f3bc6d04688298c550",
       "version_major": 2,
       "version_minor": 0
      },
      "text/plain": [
       "Epoch 70/150:   0%|          | 0/1407 [00:00<?, ?it/s]"
      ]
     },
     "metadata": {},
     "output_type": "display_data"
    },
    {
     "name": "stdout",
     "output_type": "stream",
     "text": [
      "Epoch: 70 \tTraining Loss: 0.842881 \tValidation Loss: 0.851635\n",
      "Validation loss decreased (0.853423 --> 0.851635).  Saving model ...\n"
     ]
    },
    {
     "data": {
      "application/vnd.jupyter.widget-view+json": {
       "model_id": "b4a1fdba34824c08ad141edb8e6e0237",
       "version_major": 2,
       "version_minor": 0
      },
      "text/plain": [
       "Epoch 71/150:   0%|          | 0/1407 [00:00<?, ?it/s]"
      ]
     },
     "metadata": {},
     "output_type": "display_data"
    },
    {
     "name": "stdout",
     "output_type": "stream",
     "text": [
      "Epoch: 71 \tTraining Loss: 0.841293 \tValidation Loss: 0.856254\n"
     ]
    },
    {
     "data": {
      "application/vnd.jupyter.widget-view+json": {
       "model_id": "7fc7b9cb86484a2cac5455144da8d476",
       "version_major": 2,
       "version_minor": 0
      },
      "text/plain": [
       "Epoch 72/150:   0%|          | 0/1407 [00:00<?, ?it/s]"
      ]
     },
     "metadata": {},
     "output_type": "display_data"
    },
    {
     "name": "stdout",
     "output_type": "stream",
     "text": [
      "Epoch: 72 \tTraining Loss: 0.839794 \tValidation Loss: 0.858117\n"
     ]
    },
    {
     "data": {
      "application/vnd.jupyter.widget-view+json": {
       "model_id": "45c4f10e83824beea2dd484d004bd10b",
       "version_major": 2,
       "version_minor": 0
      },
      "text/plain": [
       "Epoch 73/150:   0%|          | 0/1407 [00:00<?, ?it/s]"
      ]
     },
     "metadata": {},
     "output_type": "display_data"
    },
    {
     "name": "stdout",
     "output_type": "stream",
     "text": [
      "Epoch: 73 \tTraining Loss: 0.838080 \tValidation Loss: 0.858935\n"
     ]
    },
    {
     "data": {
      "application/vnd.jupyter.widget-view+json": {
       "model_id": "dd6205a20ca140f2b5912aa2b87e7874",
       "version_major": 2,
       "version_minor": 0
      },
      "text/plain": [
       "Epoch 74/150:   0%|          | 0/1407 [00:00<?, ?it/s]"
      ]
     },
     "metadata": {},
     "output_type": "display_data"
    },
    {
     "name": "stdout",
     "output_type": "stream",
     "text": [
      "Epoch: 74 \tTraining Loss: 0.837400 \tValidation Loss: 0.850661\n",
      "Validation loss decreased (0.851635 --> 0.850661).  Saving model ...\n"
     ]
    },
    {
     "data": {
      "application/vnd.jupyter.widget-view+json": {
       "model_id": "c413dd2a5d214f49994e9a579d465261",
       "version_major": 2,
       "version_minor": 0
      },
      "text/plain": [
       "Epoch 75/150:   0%|          | 0/1407 [00:00<?, ?it/s]"
      ]
     },
     "metadata": {},
     "output_type": "display_data"
    },
    {
     "name": "stdout",
     "output_type": "stream",
     "text": [
      "Epoch: 75 \tTraining Loss: 0.835504 \tValidation Loss: 0.848397\n",
      "Validation loss decreased (0.850661 --> 0.848397).  Saving model ...\n"
     ]
    },
    {
     "data": {
      "application/vnd.jupyter.widget-view+json": {
       "model_id": "9d11f98e85724613949a1c3c0f2a5fe8",
       "version_major": 2,
       "version_minor": 0
      },
      "text/plain": [
       "Epoch 76/150:   0%|          | 0/1407 [00:00<?, ?it/s]"
      ]
     },
     "metadata": {},
     "output_type": "display_data"
    },
    {
     "name": "stdout",
     "output_type": "stream",
     "text": [
      "Epoch: 76 \tTraining Loss: 0.834939 \tValidation Loss: 0.846357\n",
      "Validation loss decreased (0.848397 --> 0.846357).  Saving model ...\n"
     ]
    },
    {
     "data": {
      "application/vnd.jupyter.widget-view+json": {
       "model_id": "84102afe3e8047d5b34973148c81d183",
       "version_major": 2,
       "version_minor": 0
      },
      "text/plain": [
       "Epoch 77/150:   0%|          | 0/1407 [00:00<?, ?it/s]"
      ]
     },
     "metadata": {},
     "output_type": "display_data"
    },
    {
     "name": "stdout",
     "output_type": "stream",
     "text": [
      "Epoch: 77 \tTraining Loss: 0.833538 \tValidation Loss: 0.844227\n",
      "Validation loss decreased (0.846357 --> 0.844227).  Saving model ...\n"
     ]
    },
    {
     "data": {
      "application/vnd.jupyter.widget-view+json": {
       "model_id": "394fb92704904bfba8c865c503d9cd2e",
       "version_major": 2,
       "version_minor": 0
      },
      "text/plain": [
       "Epoch 78/150:   0%|          | 0/1407 [00:00<?, ?it/s]"
      ]
     },
     "metadata": {},
     "output_type": "display_data"
    },
    {
     "name": "stdout",
     "output_type": "stream",
     "text": [
      "Epoch: 78 \tTraining Loss: 0.832162 \tValidation Loss: 0.843432\n",
      "Validation loss decreased (0.844227 --> 0.843432).  Saving model ...\n"
     ]
    },
    {
     "data": {
      "application/vnd.jupyter.widget-view+json": {
       "model_id": "ecff30a66ad042d09bf855e1e279f480",
       "version_major": 2,
       "version_minor": 0
      },
      "text/plain": [
       "Epoch 79/150:   0%|          | 0/1407 [00:00<?, ?it/s]"
      ]
     },
     "metadata": {},
     "output_type": "display_data"
    },
    {
     "name": "stdout",
     "output_type": "stream",
     "text": [
      "Epoch: 79 \tTraining Loss: 0.830873 \tValidation Loss: 0.842180\n",
      "Validation loss decreased (0.843432 --> 0.842180).  Saving model ...\n"
     ]
    },
    {
     "data": {
      "application/vnd.jupyter.widget-view+json": {
       "model_id": "8e66b458fb754a0695c300bcf3b6f1d4",
       "version_major": 2,
       "version_minor": 0
      },
      "text/plain": [
       "Epoch 80/150:   0%|          | 0/1407 [00:00<?, ?it/s]"
      ]
     },
     "metadata": {},
     "output_type": "display_data"
    },
    {
     "name": "stdout",
     "output_type": "stream",
     "text": [
      "Epoch: 80 \tTraining Loss: 0.830113 \tValidation Loss: 0.840822\n",
      "Validation loss decreased (0.842180 --> 0.840822).  Saving model ...\n"
     ]
    },
    {
     "data": {
      "application/vnd.jupyter.widget-view+json": {
       "model_id": "908510b87ac44d689e4ca5bb9f3c1330",
       "version_major": 2,
       "version_minor": 0
      },
      "text/plain": [
       "Epoch 81/150:   0%|          | 0/1407 [00:00<?, ?it/s]"
      ]
     },
     "metadata": {},
     "output_type": "display_data"
    },
    {
     "name": "stdout",
     "output_type": "stream",
     "text": [
      "Epoch: 81 \tTraining Loss: 0.828472 \tValidation Loss: 0.839199\n",
      "Validation loss decreased (0.840822 --> 0.839199).  Saving model ...\n"
     ]
    },
    {
     "data": {
      "application/vnd.jupyter.widget-view+json": {
       "model_id": "b0e90c0c8d534ab7b6d78da6a2a42179",
       "version_major": 2,
       "version_minor": 0
      },
      "text/plain": [
       "Epoch 82/150:   0%|          | 0/1407 [00:00<?, ?it/s]"
      ]
     },
     "metadata": {},
     "output_type": "display_data"
    },
    {
     "name": "stdout",
     "output_type": "stream",
     "text": [
      "Epoch: 82 \tTraining Loss: 0.827451 \tValidation Loss: 0.847545\n"
     ]
    },
    {
     "data": {
      "application/vnd.jupyter.widget-view+json": {
       "model_id": "5f9dba8e5ffb413ab4a3022daec520e6",
       "version_major": 2,
       "version_minor": 0
      },
      "text/plain": [
       "Epoch 83/150:   0%|          | 0/1407 [00:00<?, ?it/s]"
      ]
     },
     "metadata": {},
     "output_type": "display_data"
    },
    {
     "name": "stdout",
     "output_type": "stream",
     "text": [
      "Epoch: 83 \tTraining Loss: 0.826388 \tValidation Loss: 0.847156\n"
     ]
    },
    {
     "data": {
      "application/vnd.jupyter.widget-view+json": {
       "model_id": "80ceb48063f64429ab0fa4b5dd1a3129",
       "version_major": 2,
       "version_minor": 0
      },
      "text/plain": [
       "Epoch 84/150:   0%|          | 0/1407 [00:00<?, ?it/s]"
      ]
     },
     "metadata": {},
     "output_type": "display_data"
    },
    {
     "name": "stdout",
     "output_type": "stream",
     "text": [
      "Epoch: 84 \tTraining Loss: 0.827695 \tValidation Loss: 0.834914\n",
      "Validation loss decreased (0.839199 --> 0.834914).  Saving model ...\n"
     ]
    },
    {
     "data": {
      "application/vnd.jupyter.widget-view+json": {
       "model_id": "c736a8ecb0b241aab9cbaafa90bc51b1",
       "version_major": 2,
       "version_minor": 0
      },
      "text/plain": [
       "Epoch 85/150:   0%|          | 0/1407 [00:00<?, ?it/s]"
      ]
     },
     "metadata": {},
     "output_type": "display_data"
    },
    {
     "name": "stdout",
     "output_type": "stream",
     "text": [
      "Epoch: 85 \tTraining Loss: 0.825312 \tValidation Loss: 0.840421\n"
     ]
    },
    {
     "data": {
      "application/vnd.jupyter.widget-view+json": {
       "model_id": "83a13bd11bdd4f9bb4942df696d9771e",
       "version_major": 2,
       "version_minor": 0
      },
      "text/plain": [
       "Epoch 86/150:   0%|          | 0/1407 [00:00<?, ?it/s]"
      ]
     },
     "metadata": {},
     "output_type": "display_data"
    },
    {
     "name": "stdout",
     "output_type": "stream",
     "text": [
      "Epoch: 86 \tTraining Loss: 0.822675 \tValidation Loss: 0.834743\n",
      "Validation loss decreased (0.834914 --> 0.834743).  Saving model ...\n"
     ]
    },
    {
     "data": {
      "application/vnd.jupyter.widget-view+json": {
       "model_id": "13ed479b37a6477086bcd96a09b4d308",
       "version_major": 2,
       "version_minor": 0
      },
      "text/plain": [
       "Epoch 87/150:   0%|          | 0/1407 [00:00<?, ?it/s]"
      ]
     },
     "metadata": {},
     "output_type": "display_data"
    },
    {
     "name": "stdout",
     "output_type": "stream",
     "text": [
      "Epoch: 87 \tTraining Loss: 0.822850 \tValidation Loss: 0.843183\n"
     ]
    },
    {
     "data": {
      "application/vnd.jupyter.widget-view+json": {
       "model_id": "a67457fe8b314935a9206889fa5a4b95",
       "version_major": 2,
       "version_minor": 0
      },
      "text/plain": [
       "Epoch 88/150:   0%|          | 0/1407 [00:00<?, ?it/s]"
      ]
     },
     "metadata": {},
     "output_type": "display_data"
    },
    {
     "name": "stdout",
     "output_type": "stream",
     "text": [
      "Epoch: 88 \tTraining Loss: 0.820899 \tValidation Loss: 0.839221\n"
     ]
    },
    {
     "data": {
      "application/vnd.jupyter.widget-view+json": {
       "model_id": "45ab1bdde0514c4c871f45d8e4d15959",
       "version_major": 2,
       "version_minor": 0
      },
      "text/plain": [
       "Epoch 89/150:   0%|          | 0/1407 [00:00<?, ?it/s]"
      ]
     },
     "metadata": {},
     "output_type": "display_data"
    },
    {
     "name": "stdout",
     "output_type": "stream",
     "text": [
      "Epoch: 89 \tTraining Loss: 0.819642 \tValidation Loss: 0.838026\n"
     ]
    },
    {
     "data": {
      "application/vnd.jupyter.widget-view+json": {
       "model_id": "cfb73f8bcf7e44779ff4aa4bd8e7d1c9",
       "version_major": 2,
       "version_minor": 0
      },
      "text/plain": [
       "Epoch 90/150:   0%|          | 0/1407 [00:00<?, ?it/s]"
      ]
     },
     "metadata": {},
     "output_type": "display_data"
    },
    {
     "name": "stdout",
     "output_type": "stream",
     "text": [
      "Epoch: 90 \tTraining Loss: 0.818158 \tValidation Loss: 0.841138\n"
     ]
    },
    {
     "data": {
      "application/vnd.jupyter.widget-view+json": {
       "model_id": "1f7947c66a674d9f8163fd7387a5b06f",
       "version_major": 2,
       "version_minor": 0
      },
      "text/plain": [
       "Epoch 91/150:   0%|          | 0/1407 [00:00<?, ?it/s]"
      ]
     },
     "metadata": {},
     "output_type": "display_data"
    },
    {
     "name": "stdout",
     "output_type": "stream",
     "text": [
      "Epoch: 91 \tTraining Loss: 0.817730 \tValidation Loss: 0.833008\n",
      "Validation loss decreased (0.834743 --> 0.833008).  Saving model ...\n"
     ]
    },
    {
     "data": {
      "application/vnd.jupyter.widget-view+json": {
       "model_id": "932b34f481154800934e6c72ab68b3ff",
       "version_major": 2,
       "version_minor": 0
      },
      "text/plain": [
       "Epoch 92/150:   0%|          | 0/1407 [00:00<?, ?it/s]"
      ]
     },
     "metadata": {},
     "output_type": "display_data"
    },
    {
     "name": "stdout",
     "output_type": "stream",
     "text": [
      "Epoch: 92 \tTraining Loss: 0.816542 \tValidation Loss: 0.830508\n",
      "Validation loss decreased (0.833008 --> 0.830508).  Saving model ...\n"
     ]
    },
    {
     "data": {
      "application/vnd.jupyter.widget-view+json": {
       "model_id": "fc9b64048d8145e1ae44e4668cedddef",
       "version_major": 2,
       "version_minor": 0
      },
      "text/plain": [
       "Epoch 93/150:   0%|          | 0/1407 [00:00<?, ?it/s]"
      ]
     },
     "metadata": {},
     "output_type": "display_data"
    },
    {
     "name": "stdout",
     "output_type": "stream",
     "text": [
      "Epoch: 93 \tTraining Loss: 0.815064 \tValidation Loss: 0.831855\n"
     ]
    },
    {
     "data": {
      "application/vnd.jupyter.widget-view+json": {
       "model_id": "bc8d20a42885470eae12ffd5e21bb32d",
       "version_major": 2,
       "version_minor": 0
      },
      "text/plain": [
       "Epoch 94/150:   0%|          | 0/1407 [00:00<?, ?it/s]"
      ]
     },
     "metadata": {},
     "output_type": "display_data"
    },
    {
     "name": "stdout",
     "output_type": "stream",
     "text": [
      "Epoch: 94 \tTraining Loss: 0.813956 \tValidation Loss: 0.831763\n"
     ]
    },
    {
     "data": {
      "application/vnd.jupyter.widget-view+json": {
       "model_id": "5031afd8bc7d4604ad6cd97607676fed",
       "version_major": 2,
       "version_minor": 0
      },
      "text/plain": [
       "Epoch 95/150:   0%|          | 0/1407 [00:00<?, ?it/s]"
      ]
     },
     "metadata": {},
     "output_type": "display_data"
    },
    {
     "name": "stdout",
     "output_type": "stream",
     "text": [
      "Epoch: 95 \tTraining Loss: 0.812846 \tValidation Loss: 0.825609\n",
      "Validation loss decreased (0.830508 --> 0.825609).  Saving model ...\n"
     ]
    },
    {
     "data": {
      "application/vnd.jupyter.widget-view+json": {
       "model_id": "91432d50e3da49efb1dd3adccd357c80",
       "version_major": 2,
       "version_minor": 0
      },
      "text/plain": [
       "Epoch 96/150:   0%|          | 0/1407 [00:00<?, ?it/s]"
      ]
     },
     "metadata": {},
     "output_type": "display_data"
    },
    {
     "name": "stdout",
     "output_type": "stream",
     "text": [
      "Epoch: 96 \tTraining Loss: 0.811797 \tValidation Loss: 0.828072\n"
     ]
    },
    {
     "data": {
      "application/vnd.jupyter.widget-view+json": {
       "model_id": "9b0f03c82e0f49bfb8dcaccf7464cd48",
       "version_major": 2,
       "version_minor": 0
      },
      "text/plain": [
       "Epoch 97/150:   0%|          | 0/1407 [00:00<?, ?it/s]"
      ]
     },
     "metadata": {},
     "output_type": "display_data"
    },
    {
     "name": "stdout",
     "output_type": "stream",
     "text": [
      "Epoch: 97 \tTraining Loss: 0.810474 \tValidation Loss: 0.824858\n",
      "Validation loss decreased (0.825609 --> 0.824858).  Saving model ...\n"
     ]
    },
    {
     "data": {
      "application/vnd.jupyter.widget-view+json": {
       "model_id": "4d0647ad2c264eb19b4071e297138942",
       "version_major": 2,
       "version_minor": 0
      },
      "text/plain": [
       "Epoch 98/150:   0%|          | 0/1407 [00:00<?, ?it/s]"
      ]
     },
     "metadata": {},
     "output_type": "display_data"
    },
    {
     "name": "stdout",
     "output_type": "stream",
     "text": [
      "Epoch: 98 \tTraining Loss: 0.809704 \tValidation Loss: 0.832104\n"
     ]
    },
    {
     "data": {
      "application/vnd.jupyter.widget-view+json": {
       "model_id": "ec55a13ddb37418e9218953c69cbe69a",
       "version_major": 2,
       "version_minor": 0
      },
      "text/plain": [
       "Epoch 99/150:   0%|          | 0/1407 [00:00<?, ?it/s]"
      ]
     },
     "metadata": {},
     "output_type": "display_data"
    },
    {
     "name": "stdout",
     "output_type": "stream",
     "text": [
      "Epoch: 99 \tTraining Loss: 0.808155 \tValidation Loss: 0.830046\n"
     ]
    },
    {
     "data": {
      "application/vnd.jupyter.widget-view+json": {
       "model_id": "79124992c0ca4315a3a6bdb96ba4c967",
       "version_major": 2,
       "version_minor": 0
      },
      "text/plain": [
       "Epoch 100/150:   0%|          | 0/1407 [00:00<?, ?it/s]"
      ]
     },
     "metadata": {},
     "output_type": "display_data"
    },
    {
     "name": "stdout",
     "output_type": "stream",
     "text": [
      "Epoch: 100 \tTraining Loss: 0.807649 \tValidation Loss: 0.825536\n"
     ]
    },
    {
     "data": {
      "application/vnd.jupyter.widget-view+json": {
       "model_id": "2e2d9c080c7a410ca2f0fc07b90bfa6c",
       "version_major": 2,
       "version_minor": 0
      },
      "text/plain": [
       "Epoch 101/150:   0%|          | 0/1407 [00:00<?, ?it/s]"
      ]
     },
     "metadata": {},
     "output_type": "display_data"
    },
    {
     "name": "stdout",
     "output_type": "stream",
     "text": [
      "Epoch: 101 \tTraining Loss: 0.806381 \tValidation Loss: 0.825000\n"
     ]
    },
    {
     "data": {
      "application/vnd.jupyter.widget-view+json": {
       "model_id": "9a625c146f0f4e58891f722fa50b56bb",
       "version_major": 2,
       "version_minor": 0
      },
      "text/plain": [
       "Epoch 102/150:   0%|          | 0/1407 [00:00<?, ?it/s]"
      ]
     },
     "metadata": {},
     "output_type": "display_data"
    },
    {
     "name": "stdout",
     "output_type": "stream",
     "text": [
      "Epoch: 102 \tTraining Loss: 0.805250 \tValidation Loss: 0.819164\n",
      "Validation loss decreased (0.824858 --> 0.819164).  Saving model ...\n"
     ]
    },
    {
     "data": {
      "application/vnd.jupyter.widget-view+json": {
       "model_id": "40fb20294adc42499437fe6b028b9f71",
       "version_major": 2,
       "version_minor": 0
      },
      "text/plain": [
       "Epoch 103/150:   0%|          | 0/1407 [00:00<?, ?it/s]"
      ]
     },
     "metadata": {},
     "output_type": "display_data"
    },
    {
     "name": "stdout",
     "output_type": "stream",
     "text": [
      "Epoch: 103 \tTraining Loss: 0.803794 \tValidation Loss: 0.819827\n"
     ]
    },
    {
     "data": {
      "application/vnd.jupyter.widget-view+json": {
       "model_id": "65a581e5e04a48f996630424fab4d0dd",
       "version_major": 2,
       "version_minor": 0
      },
      "text/plain": [
       "Epoch 104/150:   0%|          | 0/1407 [00:00<?, ?it/s]"
      ]
     },
     "metadata": {},
     "output_type": "display_data"
    },
    {
     "name": "stdout",
     "output_type": "stream",
     "text": [
      "Epoch: 104 \tTraining Loss: 0.801800 \tValidation Loss: 0.822894\n"
     ]
    },
    {
     "data": {
      "application/vnd.jupyter.widget-view+json": {
       "model_id": "84f7829068374c0faabe84ef944c27c0",
       "version_major": 2,
       "version_minor": 0
      },
      "text/plain": [
       "Epoch 105/150:   0%|          | 0/1407 [00:00<?, ?it/s]"
      ]
     },
     "metadata": {},
     "output_type": "display_data"
    },
    {
     "name": "stdout",
     "output_type": "stream",
     "text": [
      "Epoch: 105 \tTraining Loss: 0.800105 \tValidation Loss: 0.818009\n",
      "Validation loss decreased (0.819164 --> 0.818009).  Saving model ...\n"
     ]
    },
    {
     "data": {
      "application/vnd.jupyter.widget-view+json": {
       "model_id": "6f58df5fce3b4c85a17e96d4d9f9f4da",
       "version_major": 2,
       "version_minor": 0
      },
      "text/plain": [
       "Epoch 106/150:   0%|          | 0/1407 [00:00<?, ?it/s]"
      ]
     },
     "metadata": {},
     "output_type": "display_data"
    },
    {
     "name": "stdout",
     "output_type": "stream",
     "text": [
      "Epoch: 106 \tTraining Loss: 0.797497 \tValidation Loss: 0.817499\n",
      "Validation loss decreased (0.818009 --> 0.817499).  Saving model ...\n"
     ]
    },
    {
     "data": {
      "application/vnd.jupyter.widget-view+json": {
       "model_id": "383e813832274ec89315fffa486f4409",
       "version_major": 2,
       "version_minor": 0
      },
      "text/plain": [
       "Epoch 107/150:   0%|          | 0/1407 [00:00<?, ?it/s]"
      ]
     },
     "metadata": {},
     "output_type": "display_data"
    },
    {
     "name": "stdout",
     "output_type": "stream",
     "text": [
      "Epoch: 107 \tTraining Loss: 0.796348 \tValidation Loss: 0.811704\n",
      "Validation loss decreased (0.817499 --> 0.811704).  Saving model ...\n"
     ]
    },
    {
     "data": {
      "application/vnd.jupyter.widget-view+json": {
       "model_id": "d77bdc1156274cdc8464b558441b61fd",
       "version_major": 2,
       "version_minor": 0
      },
      "text/plain": [
       "Epoch 108/150:   0%|          | 0/1407 [00:00<?, ?it/s]"
      ]
     },
     "metadata": {},
     "output_type": "display_data"
    },
    {
     "name": "stdout",
     "output_type": "stream",
     "text": [
      "Epoch: 108 \tTraining Loss: 0.794599 \tValidation Loss: 0.815553\n"
     ]
    },
    {
     "data": {
      "application/vnd.jupyter.widget-view+json": {
       "model_id": "bc32ac3ff4de4212bf57ebbb8d671fca",
       "version_major": 2,
       "version_minor": 0
      },
      "text/plain": [
       "Epoch 109/150:   0%|          | 0/1407 [00:00<?, ?it/s]"
      ]
     },
     "metadata": {},
     "output_type": "display_data"
    },
    {
     "name": "stdout",
     "output_type": "stream",
     "text": [
      "Epoch: 109 \tTraining Loss: 0.792962 \tValidation Loss: 0.810398\n",
      "Validation loss decreased (0.811704 --> 0.810398).  Saving model ...\n"
     ]
    },
    {
     "data": {
      "application/vnd.jupyter.widget-view+json": {
       "model_id": "2923daaeda82438191badd1a194c1361",
       "version_major": 2,
       "version_minor": 0
      },
      "text/plain": [
       "Epoch 110/150:   0%|          | 0/1407 [00:00<?, ?it/s]"
      ]
     },
     "metadata": {},
     "output_type": "display_data"
    },
    {
     "name": "stdout",
     "output_type": "stream",
     "text": [
      "Epoch: 110 \tTraining Loss: 0.791682 \tValidation Loss: 0.811489\n"
     ]
    },
    {
     "data": {
      "application/vnd.jupyter.widget-view+json": {
       "model_id": "f00ee3c10ab946a9879b6e043f5d4d5c",
       "version_major": 2,
       "version_minor": 0
      },
      "text/plain": [
       "Epoch 111/150:   0%|          | 0/1407 [00:00<?, ?it/s]"
      ]
     },
     "metadata": {},
     "output_type": "display_data"
    },
    {
     "name": "stdout",
     "output_type": "stream",
     "text": [
      "Epoch: 111 \tTraining Loss: 0.790119 \tValidation Loss: 0.812069\n"
     ]
    },
    {
     "data": {
      "application/vnd.jupyter.widget-view+json": {
       "model_id": "b3bd2310c0d0439c9c3985e678652d4f",
       "version_major": 2,
       "version_minor": 0
      },
      "text/plain": [
       "Epoch 112/150:   0%|          | 0/1407 [00:00<?, ?it/s]"
      ]
     },
     "metadata": {},
     "output_type": "display_data"
    },
    {
     "name": "stdout",
     "output_type": "stream",
     "text": [
      "Epoch: 112 \tTraining Loss: 0.789145 \tValidation Loss: 0.808133\n",
      "Validation loss decreased (0.810398 --> 0.808133).  Saving model ...\n"
     ]
    },
    {
     "data": {
      "application/vnd.jupyter.widget-view+json": {
       "model_id": "00efc27aaf124158b3cd9b2a531f428c",
       "version_major": 2,
       "version_minor": 0
      },
      "text/plain": [
       "Epoch 113/150:   0%|          | 0/1407 [00:00<?, ?it/s]"
      ]
     },
     "metadata": {},
     "output_type": "display_data"
    },
    {
     "name": "stdout",
     "output_type": "stream",
     "text": [
      "Epoch: 113 \tTraining Loss: 0.787682 \tValidation Loss: 0.807995\n",
      "Validation loss decreased (0.808133 --> 0.807995).  Saving model ...\n"
     ]
    },
    {
     "data": {
      "application/vnd.jupyter.widget-view+json": {
       "model_id": "d05a8707fdc64008aaf63f2250fff037",
       "version_major": 2,
       "version_minor": 0
      },
      "text/plain": [
       "Epoch 114/150:   0%|          | 0/1407 [00:00<?, ?it/s]"
      ]
     },
     "metadata": {},
     "output_type": "display_data"
    },
    {
     "name": "stdout",
     "output_type": "stream",
     "text": [
      "Epoch: 114 \tTraining Loss: 0.786912 \tValidation Loss: 0.805874\n",
      "Validation loss decreased (0.807995 --> 0.805874).  Saving model ...\n"
     ]
    },
    {
     "data": {
      "application/vnd.jupyter.widget-view+json": {
       "model_id": "c1f0bb760d6147f0afff6883c22efd74",
       "version_major": 2,
       "version_minor": 0
      },
      "text/plain": [
       "Epoch 115/150:   0%|          | 0/1407 [00:00<?, ?it/s]"
      ]
     },
     "metadata": {},
     "output_type": "display_data"
    },
    {
     "name": "stdout",
     "output_type": "stream",
     "text": [
      "Epoch: 115 \tTraining Loss: 0.785771 \tValidation Loss: 0.805628\n",
      "Validation loss decreased (0.805874 --> 0.805628).  Saving model ...\n"
     ]
    },
    {
     "data": {
      "application/vnd.jupyter.widget-view+json": {
       "model_id": "6c777c3320d9407c81732afd55588bc6",
       "version_major": 2,
       "version_minor": 0
      },
      "text/plain": [
       "Epoch 116/150:   0%|          | 0/1407 [00:00<?, ?it/s]"
      ]
     },
     "metadata": {},
     "output_type": "display_data"
    },
    {
     "name": "stdout",
     "output_type": "stream",
     "text": [
      "Epoch: 116 \tTraining Loss: 0.784637 \tValidation Loss: 0.810881\n"
     ]
    },
    {
     "data": {
      "application/vnd.jupyter.widget-view+json": {
       "model_id": "f6ac01a4255e48f48e47ddabf621814d",
       "version_major": 2,
       "version_minor": 0
      },
      "text/plain": [
       "Epoch 117/150:   0%|          | 0/1407 [00:00<?, ?it/s]"
      ]
     },
     "metadata": {},
     "output_type": "display_data"
    },
    {
     "name": "stdout",
     "output_type": "stream",
     "text": [
      "Epoch: 117 \tTraining Loss: 0.784426 \tValidation Loss: 0.802305\n",
      "Validation loss decreased (0.805628 --> 0.802305).  Saving model ...\n"
     ]
    },
    {
     "data": {
      "application/vnd.jupyter.widget-view+json": {
       "model_id": "df3fa1dd18b642bfb270df8818c35361",
       "version_major": 2,
       "version_minor": 0
      },
      "text/plain": [
       "Epoch 118/150:   0%|          | 0/1407 [00:00<?, ?it/s]"
      ]
     },
     "metadata": {},
     "output_type": "display_data"
    },
    {
     "name": "stdout",
     "output_type": "stream",
     "text": [
      "Epoch: 118 \tTraining Loss: 0.782628 \tValidation Loss: 0.804492\n"
     ]
    },
    {
     "data": {
      "application/vnd.jupyter.widget-view+json": {
       "model_id": "4e6ce8c093ad43baa1e7bbcc708594cd",
       "version_major": 2,
       "version_minor": 0
      },
      "text/plain": [
       "Epoch 119/150:   0%|          | 0/1407 [00:00<?, ?it/s]"
      ]
     },
     "metadata": {},
     "output_type": "display_data"
    },
    {
     "name": "stdout",
     "output_type": "stream",
     "text": [
      "Epoch: 119 \tTraining Loss: 0.781618 \tValidation Loss: 0.804456\n"
     ]
    },
    {
     "data": {
      "application/vnd.jupyter.widget-view+json": {
       "model_id": "c05d37591ba347c5ad2c5bc9e4ed8b57",
       "version_major": 2,
       "version_minor": 0
      },
      "text/plain": [
       "Epoch 120/150:   0%|          | 0/1407 [00:00<?, ?it/s]"
      ]
     },
     "metadata": {},
     "output_type": "display_data"
    },
    {
     "name": "stdout",
     "output_type": "stream",
     "text": [
      "Epoch: 120 \tTraining Loss: 0.781002 \tValidation Loss: 0.799765\n",
      "Validation loss decreased (0.802305 --> 0.799765).  Saving model ...\n"
     ]
    },
    {
     "data": {
      "application/vnd.jupyter.widget-view+json": {
       "model_id": "c84f05d5bac54313b4a12fc2565387c8",
       "version_major": 2,
       "version_minor": 0
      },
      "text/plain": [
       "Epoch 121/150:   0%|          | 0/1407 [00:00<?, ?it/s]"
      ]
     },
     "metadata": {},
     "output_type": "display_data"
    },
    {
     "name": "stdout",
     "output_type": "stream",
     "text": [
      "Epoch: 121 \tTraining Loss: 0.780101 \tValidation Loss: 0.806370\n"
     ]
    },
    {
     "data": {
      "application/vnd.jupyter.widget-view+json": {
       "model_id": "42b6124e5c6a43ca8922e22857f41ccb",
       "version_major": 2,
       "version_minor": 0
      },
      "text/plain": [
       "Epoch 122/150:   0%|          | 0/1407 [00:00<?, ?it/s]"
      ]
     },
     "metadata": {},
     "output_type": "display_data"
    },
    {
     "name": "stdout",
     "output_type": "stream",
     "text": [
      "Epoch: 122 \tTraining Loss: 0.779152 \tValidation Loss: 0.801511\n"
     ]
    },
    {
     "data": {
      "application/vnd.jupyter.widget-view+json": {
       "model_id": "571155d4ba0f4abb9fd4c18de5ebe7e7",
       "version_major": 2,
       "version_minor": 0
      },
      "text/plain": [
       "Epoch 123/150:   0%|          | 0/1407 [00:00<?, ?it/s]"
      ]
     },
     "metadata": {},
     "output_type": "display_data"
    },
    {
     "name": "stdout",
     "output_type": "stream",
     "text": [
      "Epoch: 123 \tTraining Loss: 0.777718 \tValidation Loss: 0.804763\n"
     ]
    },
    {
     "data": {
      "application/vnd.jupyter.widget-view+json": {
       "model_id": "ccc2de6b270b4fdaac33c651ca89d7e7",
       "version_major": 2,
       "version_minor": 0
      },
      "text/plain": [
       "Epoch 124/150:   0%|          | 0/1407 [00:00<?, ?it/s]"
      ]
     },
     "metadata": {},
     "output_type": "display_data"
    },
    {
     "name": "stdout",
     "output_type": "stream",
     "text": [
      "Epoch: 124 \tTraining Loss: 0.777913 \tValidation Loss: 0.796416\n",
      "Validation loss decreased (0.799765 --> 0.796416).  Saving model ...\n"
     ]
    },
    {
     "data": {
      "application/vnd.jupyter.widget-view+json": {
       "model_id": "14255866da494c5f8fd1b713db76724c",
       "version_major": 2,
       "version_minor": 0
      },
      "text/plain": [
       "Epoch 125/150:   0%|          | 0/1407 [00:00<?, ?it/s]"
      ]
     },
     "metadata": {},
     "output_type": "display_data"
    },
    {
     "name": "stdout",
     "output_type": "stream",
     "text": [
      "Epoch: 125 \tTraining Loss: 0.776770 \tValidation Loss: 0.796022\n",
      "Validation loss decreased (0.796416 --> 0.796022).  Saving model ...\n"
     ]
    },
    {
     "data": {
      "application/vnd.jupyter.widget-view+json": {
       "model_id": "15e732468881400b9114d6f73a5e4774",
       "version_major": 2,
       "version_minor": 0
      },
      "text/plain": [
       "Epoch 126/150:   0%|          | 0/1407 [00:00<?, ?it/s]"
      ]
     },
     "metadata": {},
     "output_type": "display_data"
    },
    {
     "name": "stdout",
     "output_type": "stream",
     "text": [
      "Epoch: 126 \tTraining Loss: 0.775726 \tValidation Loss: 0.797855\n"
     ]
    },
    {
     "data": {
      "application/vnd.jupyter.widget-view+json": {
       "model_id": "4cde91d2774643fead400fada19420fc",
       "version_major": 2,
       "version_minor": 0
      },
      "text/plain": [
       "Epoch 127/150:   0%|          | 0/1407 [00:00<?, ?it/s]"
      ]
     },
     "metadata": {},
     "output_type": "display_data"
    },
    {
     "name": "stdout",
     "output_type": "stream",
     "text": [
      "Epoch: 127 \tTraining Loss: 0.774599 \tValidation Loss: 0.802795\n"
     ]
    },
    {
     "data": {
      "application/vnd.jupyter.widget-view+json": {
       "model_id": "9538fa93b29646ef93c51a9f333cd993",
       "version_major": 2,
       "version_minor": 0
      },
      "text/plain": [
       "Epoch 128/150:   0%|          | 0/1407 [00:00<?, ?it/s]"
      ]
     },
     "metadata": {},
     "output_type": "display_data"
    },
    {
     "name": "stdout",
     "output_type": "stream",
     "text": [
      "Epoch: 128 \tTraining Loss: 0.774792 \tValidation Loss: 0.796480\n"
     ]
    },
    {
     "data": {
      "application/vnd.jupyter.widget-view+json": {
       "model_id": "8a6a0ea06b524c60acc8a55063d03834",
       "version_major": 2,
       "version_minor": 0
      },
      "text/plain": [
       "Epoch 129/150:   0%|          | 0/1407 [00:00<?, ?it/s]"
      ]
     },
     "metadata": {},
     "output_type": "display_data"
    },
    {
     "name": "stdout",
     "output_type": "stream",
     "text": [
      "Epoch: 129 \tTraining Loss: 0.773407 \tValidation Loss: 0.799869\n"
     ]
    },
    {
     "data": {
      "application/vnd.jupyter.widget-view+json": {
       "model_id": "4707ec9e2ee547f5800c20335849dbff",
       "version_major": 2,
       "version_minor": 0
      },
      "text/plain": [
       "Epoch 130/150:   0%|          | 0/1407 [00:00<?, ?it/s]"
      ]
     },
     "metadata": {},
     "output_type": "display_data"
    },
    {
     "name": "stdout",
     "output_type": "stream",
     "text": [
      "Epoch: 130 \tTraining Loss: 0.772605 \tValidation Loss: 0.797888\n"
     ]
    },
    {
     "data": {
      "application/vnd.jupyter.widget-view+json": {
       "model_id": "4050501c5e504bee83e21d727a21471e",
       "version_major": 2,
       "version_minor": 0
      },
      "text/plain": [
       "Epoch 131/150:   0%|          | 0/1407 [00:00<?, ?it/s]"
      ]
     },
     "metadata": {},
     "output_type": "display_data"
    },
    {
     "name": "stdout",
     "output_type": "stream",
     "text": [
      "Epoch: 131 \tTraining Loss: 0.771637 \tValidation Loss: 0.793477\n",
      "Validation loss decreased (0.796022 --> 0.793477).  Saving model ...\n"
     ]
    },
    {
     "data": {
      "application/vnd.jupyter.widget-view+json": {
       "model_id": "c54f09d3bf84450b973fd284a614c592",
       "version_major": 2,
       "version_minor": 0
      },
      "text/plain": [
       "Epoch 132/150:   0%|          | 0/1407 [00:00<?, ?it/s]"
      ]
     },
     "metadata": {},
     "output_type": "display_data"
    },
    {
     "name": "stdout",
     "output_type": "stream",
     "text": [
      "Epoch: 132 \tTraining Loss: 0.771299 \tValidation Loss: 0.795383\n"
     ]
    },
    {
     "data": {
      "application/vnd.jupyter.widget-view+json": {
       "model_id": "e57d2a9056e943fd8569c37d1378b5d7",
       "version_major": 2,
       "version_minor": 0
      },
      "text/plain": [
       "Epoch 133/150:   0%|          | 0/1407 [00:00<?, ?it/s]"
      ]
     },
     "metadata": {},
     "output_type": "display_data"
    },
    {
     "name": "stdout",
     "output_type": "stream",
     "text": [
      "Epoch: 133 \tTraining Loss: 0.770935 \tValidation Loss: 0.799581\n"
     ]
    },
    {
     "data": {
      "application/vnd.jupyter.widget-view+json": {
       "model_id": "60153e53b0a74d9c90b5c682e191b67a",
       "version_major": 2,
       "version_minor": 0
      },
      "text/plain": [
       "Epoch 134/150:   0%|          | 0/1407 [00:00<?, ?it/s]"
      ]
     },
     "metadata": {},
     "output_type": "display_data"
    },
    {
     "name": "stdout",
     "output_type": "stream",
     "text": [
      "Epoch: 134 \tTraining Loss: 0.770695 \tValidation Loss: 0.791874\n",
      "Validation loss decreased (0.793477 --> 0.791874).  Saving model ...\n"
     ]
    },
    {
     "data": {
      "application/vnd.jupyter.widget-view+json": {
       "model_id": "3560d2cf10af47238b912bad2288cc74",
       "version_major": 2,
       "version_minor": 0
      },
      "text/plain": [
       "Epoch 135/150:   0%|          | 0/1407 [00:00<?, ?it/s]"
      ]
     },
     "metadata": {},
     "output_type": "display_data"
    },
    {
     "name": "stdout",
     "output_type": "stream",
     "text": [
      "Epoch: 135 \tTraining Loss: 0.768976 \tValidation Loss: 0.791738\n",
      "Validation loss decreased (0.791874 --> 0.791738).  Saving model ...\n"
     ]
    },
    {
     "data": {
      "application/vnd.jupyter.widget-view+json": {
       "model_id": "6fdceda0108245e1a4560a7eabefc01b",
       "version_major": 2,
       "version_minor": 0
      },
      "text/plain": [
       "Epoch 136/150:   0%|          | 0/1407 [00:00<?, ?it/s]"
      ]
     },
     "metadata": {},
     "output_type": "display_data"
    },
    {
     "name": "stdout",
     "output_type": "stream",
     "text": [
      "Epoch: 136 \tTraining Loss: 0.769227 \tValidation Loss: 0.798131\n"
     ]
    },
    {
     "data": {
      "application/vnd.jupyter.widget-view+json": {
       "model_id": "a5107654ea7f41cdb7e773084cb1e607",
       "version_major": 2,
       "version_minor": 0
      },
      "text/plain": [
       "Epoch 137/150:   0%|          | 0/1407 [00:00<?, ?it/s]"
      ]
     },
     "metadata": {},
     "output_type": "display_data"
    },
    {
     "name": "stdout",
     "output_type": "stream",
     "text": [
      "Epoch: 137 \tTraining Loss: 0.768465 \tValidation Loss: 0.791711\n",
      "Validation loss decreased (0.791738 --> 0.791711).  Saving model ...\n"
     ]
    },
    {
     "data": {
      "application/vnd.jupyter.widget-view+json": {
       "model_id": "e89fb0d1629b479fbbe6ca1e1f6aab0e",
       "version_major": 2,
       "version_minor": 0
      },
      "text/plain": [
       "Epoch 138/150:   0%|          | 0/1407 [00:00<?, ?it/s]"
      ]
     },
     "metadata": {},
     "output_type": "display_data"
    },
    {
     "name": "stdout",
     "output_type": "stream",
     "text": [
      "Epoch: 138 \tTraining Loss: 0.767340 \tValidation Loss: 0.798665\n"
     ]
    },
    {
     "data": {
      "application/vnd.jupyter.widget-view+json": {
       "model_id": "62eb62ab4fcf4a8a86713209d5b605e3",
       "version_major": 2,
       "version_minor": 0
      },
      "text/plain": [
       "Epoch 139/150:   0%|          | 0/1407 [00:00<?, ?it/s]"
      ]
     },
     "metadata": {},
     "output_type": "display_data"
    },
    {
     "name": "stdout",
     "output_type": "stream",
     "text": [
      "Epoch: 139 \tTraining Loss: 0.768123 \tValidation Loss: 0.789010\n",
      "Validation loss decreased (0.791711 --> 0.789010).  Saving model ...\n"
     ]
    },
    {
     "data": {
      "application/vnd.jupyter.widget-view+json": {
       "model_id": "8fdfcd91ef0244819b6a39f42b0f3c54",
       "version_major": 2,
       "version_minor": 0
      },
      "text/plain": [
       "Epoch 140/150:   0%|          | 0/1407 [00:00<?, ?it/s]"
      ]
     },
     "metadata": {},
     "output_type": "display_data"
    },
    {
     "name": "stdout",
     "output_type": "stream",
     "text": [
      "Epoch: 140 \tTraining Loss: 0.765357 \tValidation Loss: 0.793375\n"
     ]
    },
    {
     "data": {
      "application/vnd.jupyter.widget-view+json": {
       "model_id": "fb3bf6d49f52412f894e402d3fcc9b0c",
       "version_major": 2,
       "version_minor": 0
      },
      "text/plain": [
       "Epoch 141/150:   0%|          | 0/1407 [00:00<?, ?it/s]"
      ]
     },
     "metadata": {},
     "output_type": "display_data"
    },
    {
     "name": "stdout",
     "output_type": "stream",
     "text": [
      "Epoch: 141 \tTraining Loss: 0.765243 \tValidation Loss: 0.796574\n"
     ]
    },
    {
     "data": {
      "application/vnd.jupyter.widget-view+json": {
       "model_id": "d32f1ef10fa14c88bfc6e54d3d9555ef",
       "version_major": 2,
       "version_minor": 0
      },
      "text/plain": [
       "Epoch 142/150:   0%|          | 0/1407 [00:00<?, ?it/s]"
      ]
     },
     "metadata": {},
     "output_type": "display_data"
    },
    {
     "name": "stdout",
     "output_type": "stream",
     "text": [
      "Epoch: 142 \tTraining Loss: 0.763958 \tValidation Loss: 0.796729\n"
     ]
    },
    {
     "data": {
      "application/vnd.jupyter.widget-view+json": {
       "model_id": "e8b70928f864443b89db1bb32342004e",
       "version_major": 2,
       "version_minor": 0
      },
      "text/plain": [
       "Epoch 143/150:   0%|          | 0/1407 [00:00<?, ?it/s]"
      ]
     },
     "metadata": {},
     "output_type": "display_data"
    },
    {
     "name": "stdout",
     "output_type": "stream",
     "text": [
      "Epoch: 143 \tTraining Loss: 0.763859 \tValidation Loss: 0.791435\n"
     ]
    },
    {
     "data": {
      "application/vnd.jupyter.widget-view+json": {
       "model_id": "ef60734e511f474d8cfd7ed68c456fc3",
       "version_major": 2,
       "version_minor": 0
      },
      "text/plain": [
       "Epoch 144/150:   0%|          | 0/1407 [00:00<?, ?it/s]"
      ]
     },
     "metadata": {},
     "output_type": "display_data"
    },
    {
     "name": "stdout",
     "output_type": "stream",
     "text": [
      "Epoch: 144 \tTraining Loss: 0.763486 \tValidation Loss: 0.788947\n",
      "Validation loss decreased (0.789010 --> 0.788947).  Saving model ...\n"
     ]
    },
    {
     "data": {
      "application/vnd.jupyter.widget-view+json": {
       "model_id": "f330923a1a244ddc90c0564d510ebb0b",
       "version_major": 2,
       "version_minor": 0
      },
      "text/plain": [
       "Epoch 145/150:   0%|          | 0/1407 [00:00<?, ?it/s]"
      ]
     },
     "metadata": {},
     "output_type": "display_data"
    },
    {
     "name": "stdout",
     "output_type": "stream",
     "text": [
      "Epoch: 145 \tTraining Loss: 0.762321 \tValidation Loss: 0.797826\n"
     ]
    },
    {
     "data": {
      "application/vnd.jupyter.widget-view+json": {
       "model_id": "cf1cd5343264457cbde97189c70e2e1e",
       "version_major": 2,
       "version_minor": 0
      },
      "text/plain": [
       "Epoch 146/150:   0%|          | 0/1407 [00:00<?, ?it/s]"
      ]
     },
     "metadata": {},
     "output_type": "display_data"
    },
    {
     "name": "stdout",
     "output_type": "stream",
     "text": [
      "Epoch: 146 \tTraining Loss: 0.762678 \tValidation Loss: 0.795439\n"
     ]
    },
    {
     "data": {
      "application/vnd.jupyter.widget-view+json": {
       "model_id": "b740576041c4432697bb8a640300064f",
       "version_major": 2,
       "version_minor": 0
      },
      "text/plain": [
       "Epoch 147/150:   0%|          | 0/1407 [00:00<?, ?it/s]"
      ]
     },
     "metadata": {},
     "output_type": "display_data"
    },
    {
     "name": "stdout",
     "output_type": "stream",
     "text": [
      "Epoch: 147 \tTraining Loss: 0.761113 \tValidation Loss: 0.790100\n"
     ]
    },
    {
     "data": {
      "application/vnd.jupyter.widget-view+json": {
       "model_id": "e88b7135f9184a90bfe1e8c9e9cc7446",
       "version_major": 2,
       "version_minor": 0
      },
      "text/plain": [
       "Epoch 148/150:   0%|          | 0/1407 [00:00<?, ?it/s]"
      ]
     },
     "metadata": {},
     "output_type": "display_data"
    },
    {
     "name": "stdout",
     "output_type": "stream",
     "text": [
      "Epoch: 148 \tTraining Loss: 0.760434 \tValidation Loss: 0.790271\n"
     ]
    },
    {
     "data": {
      "application/vnd.jupyter.widget-view+json": {
       "model_id": "a68896cc5fd142ceb6b27ec3e4e56344",
       "version_major": 2,
       "version_minor": 0
      },
      "text/plain": [
       "Epoch 149/150:   0%|          | 0/1407 [00:00<?, ?it/s]"
      ]
     },
     "metadata": {},
     "output_type": "display_data"
    },
    {
     "name": "stdout",
     "output_type": "stream",
     "text": [
      "Epoch: 149 \tTraining Loss: 0.759386 \tValidation Loss: 0.786196\n",
      "Validation loss decreased (0.788947 --> 0.786196).  Saving model ...\n"
     ]
    },
    {
     "data": {
      "application/vnd.jupyter.widget-view+json": {
       "model_id": "272c853689f7412d81a3089bf3751520",
       "version_major": 2,
       "version_minor": 0
      },
      "text/plain": [
       "Epoch 150/150:   0%|          | 0/1407 [00:00<?, ?it/s]"
      ]
     },
     "metadata": {},
     "output_type": "display_data"
    },
    {
     "name": "stdout",
     "output_type": "stream",
     "text": [
      "Epoch: 150 \tTraining Loss: 0.759039 \tValidation Loss: 0.788381\n"
     ]
    }
   ],
   "source": [
    "batch_size=128\n",
    "max_epochs = 150\n",
    "\n",
    "babi_dataset = BabiDataset(ds_path='/home/gabriel/Documents/datasets/bAbi/en/qa{}_*', \n",
    "                           vocab_path='/home/gabriel/Documents/datasets/bAbi/en/babi{}_vocab.pkl')\n",
    "vocab_size = len(babi_dataset.QA.VOCAB)\n",
    "print('len(babi_dataset) train', len(babi_dataset))\n",
    "print('vocab_size', vocab_size)\n",
    "\n",
    "use_cuda = torch.cuda.is_available()\n",
    "device = torch.device(\"cuda:0\" if use_cuda else \"cpu\")\n",
    "print(device)\n",
    "torch.backends.cudnn.benchmark = True\n",
    "model.to(device)\n",
    "\n",
    "criterion = nn.CrossEntropyLoss(reduction='sum')\n",
    "optimizer = torch.optim.Adam(model.parameters(), lr=1e-4)\n",
    "val_loss_min = float('inf')\n",
    "\n",
    "writer = SummaryWriter()\n",
    "if not os.path.isdir(f'checkpoints/{model_name}'):\n",
    "    os.mkdir(f'checkpoints/{model_name}')\n",
    "now = datetime.now().strftime(\"%d_%m_%Y__%H_%M_%S\")\n",
    "\n",
    "for epoch in range(max_epochs):\n",
    "    train_loss = 0.0\n",
    "    val_loss = 0.0\n",
    "    loss_sum = 0\n",
    "    loss_count = 0\n",
    "    model.train()\n",
    "    babi_dataset.set_mode('train')\n",
    "    train_loader = DataLoader(\n",
    "        babi_dataset, batch_size=batch_size, shuffle=True, collate_fn=pad_collate\n",
    "    )\n",
    "    \n",
    "    for batch_idx, data in enumerate(tqdm(train_loader, desc=f\"Epoch {epoch + 1}/{max_epochs}\")):\n",
    "        optimizer.zero_grad()\n",
    "\n",
    "        contexts, questions, answers, tasks = data\n",
    "        contexts = contexts.long().to(device)\n",
    "        questions = questions.long().to(device)\n",
    "        answers = answers.to(device)\n",
    "        \n",
    "        logits = torch.squeeze(model(contexts, questions))\n",
    "        loss = criterion(logits, answers)\n",
    "        loss.backward()\n",
    "        optimizer.step()\n",
    "        train_loss += loss.item()\n",
    "        writer.add_scalars(\"losses_step\", {\"train_loss\": loss.item() / contexts.size(0)}, epoch * len(train_loader) + batch_idx)\n",
    "    \n",
    "    train_loss = train_loss / len(train_loader.dataset)\n",
    "    writer.add_scalars(\"losses_epoch\", {\"train_loss\": train_loss}, epoch)\n",
    "    train_loader_len = len(train_loader)\n",
    "    \n",
    "    model.eval()\n",
    "    babi_dataset.set_mode('valid')\n",
    "    val_loader = DataLoader(\n",
    "        babi_dataset, batch_size=batch_size, shuffle=False, collate_fn=pad_collate\n",
    "    )\n",
    "    \n",
    "    with torch.no_grad():\n",
    "        for batch_idx, data in enumerate(val_loader):\n",
    "        \n",
    "            contexts, questions, answers, tasks = data\n",
    "            contexts = contexts.long().to(device)\n",
    "            questions = questions.long().to(device)\n",
    "            answers = answers.to(device)\n",
    "        \n",
    "            logits = torch.squeeze(model(contexts, questions))\n",
    "            loss = criterion(logits, answers)\n",
    "            val_loss += loss.item()\n",
    "\n",
    "    val_loss = val_loss / len(val_loader.dataset)\n",
    "    writer.add_scalars(\"losses_step\", {\"val_loss\": val_loss}, (epoch + 1) * train_loader_len - 1)    \n",
    "    writer.add_scalars(\"losses_epoch\", {\"val_loss\": val_loss}, epoch)\n",
    "    \n",
    "    print('Epoch: {} \\tTraining Loss: {:.6f} \\tValidation Loss: {:.6f}'.format(\n",
    "        epoch+1, \n",
    "        train_loss,\n",
    "        val_loss\n",
    "    ))\n",
    "    \n",
    "    checkpoint = {\n",
    "        'epoch': epoch + 1,\n",
    "        'valid_loss_min': val_loss,\n",
    "        'state_dict': model.state_dict(),\n",
    "        'optimizer': optimizer.state_dict(),\n",
    "    }\n",
    "    \n",
    "    torch.save(checkpoint, f'checkpoints/{model_name}/checkpoint_{now}.pt')\n",
    "    if val_loss <= val_loss_min:\n",
    "        print('Validation loss decreased ({:.6f} --> {:.6f}).  Saving model ...'.format(val_loss_min,val_loss))\n",
    "        torch.save(checkpoint, f'checkpoints/{model_name}/best_checkpoint_{now}.pt')\n",
    "        val_loss_min = val_loss"
   ]
  },
  {
   "cell_type": "code",
   "execution_count": 17,
   "id": "included-hypothesis",
   "metadata": {},
   "outputs": [
    {
     "name": "stdout",
     "output_type": "stream",
     "text": [
      "cuda:0\n"
     ]
    },
    {
     "data": {
      "application/vnd.jupyter.widget-view+json": {
       "model_id": "6ae15d1cff844e97a083f2c166d4be64",
       "version_major": 2,
       "version_minor": 0
      },
      "text/plain": [
       "Inference:   0%|          | 0/157 [00:00<?, ?it/s]"
      ]
     },
     "metadata": {},
     "output_type": "display_data"
    },
    {
     "name": "stderr",
     "output_type": "stream",
     "text": [
      "/home/gabriel/miniconda3/lib/python3.7/site-packages/sklearn/metrics/_classification.py:1245: UndefinedMetricWarning: Precision and F-score are ill-defined and being set to 0.0 in labels with no predicted samples. Use `zero_division` parameter to control this behavior.\n",
      "  _warn_prf(average, modifier, msg_start, len(result))\n",
      "/home/gabriel/miniconda3/lib/python3.7/site-packages/sklearn/metrics/_classification.py:1245: UndefinedMetricWarning: Precision and F-score are ill-defined and being set to 0.0 in labels with no predicted samples. Use `zero_division` parameter to control this behavior.\n",
      "  _warn_prf(average, modifier, msg_start, len(result))\n",
      "/home/gabriel/miniconda3/lib/python3.7/site-packages/sklearn/metrics/_classification.py:1245: UndefinedMetricWarning: Precision and F-score are ill-defined and being set to 0.0 in labels with no predicted samples. Use `zero_division` parameter to control this behavior.\n",
      "  _warn_prf(average, modifier, msg_start, len(result))\n",
      "/home/gabriel/miniconda3/lib/python3.7/site-packages/sklearn/utils/validation.py:72: FutureWarning: Pass labels=['mouse', 'football', 'green', 'nothing', 'thirsty', 'e,e', 'three', 'n,n', 'yellow', 'office', 'gray', 'cinema', 'yes', 'sheep', 'kitchen', 'milk', 'bedroom', 's,e', 'bored', 'w,n', 'apple,milk', 's,s', 'w,s', 'tired', 'bathroom', 'white', 'school', 'park', 'milk,football', 'n,w', 'n,e', 'fred', 'two', 'garden', 'maybe', 'milk,apple', 'apple', 'hallway', 'e,s', 'jeff', 'apple,football,milk', 's,w', 'football,apple', 'w,w', 'football,milk', 'none', 'bill', 'apple,football', 'mary', 'e,n', 'no', 'wolf', 'cat', 'hungry', 'football,apple,milk', 'one'] as keyword args. From version 1.0 (renaming of 0.25) passing these as positional arguments will result in an error\n",
      "  \"will result in an error\", FutureWarning)\n"
     ]
    },
    {
     "name": "stdout",
     "output_type": "stream",
     "text": [
      "0.64035\n",
      "                     precision    recall  f1-score   support\n",
      "\n",
      "              apple       0.80      0.74      0.77       341\n",
      "     apple,football       0.00      0.00      0.00        11\n",
      "apple,football,milk       0.00      0.00      0.00         1\n",
      "         apple,milk       0.00      0.00      0.00        10\n",
      "           bathroom       0.63      0.63      0.63      1195\n",
      "            bedroom       0.64      0.61      0.63      1437\n",
      "               bill       0.62      0.55      0.59       164\n",
      "              bored       1.00      1.00      1.00       159\n",
      "                cat       0.60      0.53      0.56       213\n",
      "             cinema       0.43      0.44      0.44       171\n",
      "                e,e       0.25      0.04      0.06        81\n",
      "                e,n       0.08      0.06      0.07        88\n",
      "                e,s       0.00      0.00      0.00        79\n",
      "           football       0.73      0.75      0.74       281\n",
      "     football,apple       0.25      0.06      0.09        18\n",
      "football,apple,milk       0.00      0.00      0.00         1\n",
      "      football,milk       0.40      0.57      0.47         7\n",
      "               fred       0.62      0.60      0.61       188\n",
      "             garden       0.66      0.68      0.67      1300\n",
      "               gray       0.41      0.74      0.53       230\n",
      "              green       0.59      0.35      0.44       256\n",
      "            hallway       0.65      0.63      0.64      1175\n",
      "             hungry       0.94      0.94      0.94       157\n",
      "               jeff       0.53      0.56      0.54       129\n",
      "            kitchen       0.66      0.64      0.65      1495\n",
      "               mary       0.55      0.59      0.57       189\n",
      "              maybe       0.41      0.55      0.47       150\n",
      "               milk       0.74      0.79      0.76       305\n",
      "         milk,apple       0.20      0.22      0.21         9\n",
      "      milk,football       0.00      0.00      0.00        10\n",
      "              mouse       0.52      0.67      0.59       239\n",
      "                n,e       0.06      0.01      0.02        85\n",
      "                n,n       0.06      0.01      0.02        92\n",
      "                n,w       0.00      0.00      0.00        92\n",
      "                 no       0.80      0.70      0.75      2589\n",
      "               none       0.77      0.85      0.81       468\n",
      "            nothing       0.76      0.85      0.80       336\n",
      "             office       0.57      0.60      0.58      1284\n",
      "                one       0.77      0.74      0.75       488\n",
      "               park       0.40      0.45      0.42       152\n",
      "                s,e       0.08      0.13      0.10        83\n",
      "                s,s       0.10      0.52      0.17        71\n",
      "                s,w       0.13      0.06      0.09        93\n",
      "             school       0.48      0.46      0.47       162\n",
      "              sheep       0.51      0.71      0.60       207\n",
      "            thirsty       0.94      0.93      0.94       152\n",
      "              three       0.00      0.00      0.00         2\n",
      "              tired       1.00      1.00      1.00       161\n",
      "                two       0.18      0.07      0.10        42\n",
      "                w,n       0.00      0.00      0.00        80\n",
      "                w,s       0.09      0.01      0.02        90\n",
      "                w,w       0.08      0.35      0.13        66\n",
      "              white       0.56      0.45      0.50       272\n",
      "               wolf       0.74      0.47      0.57       341\n",
      "             yellow       0.53      0.47      0.49       242\n",
      "                yes       0.70      0.79      0.74      2261\n",
      "\n",
      "           accuracy                           0.64     20000\n",
      "          macro avg       0.43      0.44      0.42     20000\n",
      "       weighted avg       0.64      0.64      0.64     20000\n",
      "\n",
      "[0.504, 0.352, 0.322, 0.774, 0.656, 0.829, 0.759, 0.726, 0.713, 0.664, 0.732, 0.755, 0.941, 0.457, 0.58, 0.496, 0.579, 0.9, 0.088, 0.98]\n",
      "passed_tasks: [0, 0, 0, 0, 0, 0, 0, 0, 0, 0, 0, 0, 0, 0, 0, 0, 0, 0, 0, 1]\n",
      "no. passed_tasks: 1\n"
     ]
    },
    {
     "data": {
      "image/png": "[encoded data removed]",
      "text/plain": [
       "<Figure size 1800x1800 with 2 Axes>"
      ]
     },
     "metadata": {
      "needs_background": "light"
     },
     "output_type": "display_data"
    },
    {
     "name": "stdout",
     "output_type": "stream",
     "text": [
      "2.5210182666778564\n"
     ]
    }
   ],
   "source": [
    "use_cuda = torch.cuda.is_available()\n",
    "device = torch.device(\"cuda:0\" if use_cuda else \"cpu\")\n",
    "print(device)\n",
    "model.to(device)\n",
    "checkpoint_name = 'checkpoints/perceiverIO_bAbi/best_checkpoint_26_08_2021__01_15_06.pt' # f'checkpoints/{model_name}/best_checkpoint_{now}.pt'\n",
    "checkpoint = torch.load(checkpoint_name)\n",
    "model.load_state_dict(checkpoint['state_dict'])\n",
    "model.eval()\n",
    "m = nn.Softmax(dim=1)\n",
    "\n",
    "babi_dataset.set_mode('test')\n",
    "test_loader = DataLoader(\n",
    "    babi_dataset, batch_size=batch_size, shuffle=False, collate_fn=pad_collate\n",
    ")\n",
    "\n",
    "y_pred_extended = []\n",
    "y_true_extended = []\n",
    "y_pred_task = [[] for _ in range(20)]\n",
    "y_true_task = [[] for _ in range(20)]\n",
    "\n",
    "start = time.time()\n",
    "with torch.no_grad():\n",
    "    for batch_idx, data in enumerate(tqdm(test_loader, desc=f\"Inference\")):\n",
    "        contexts, questions, answers, tasks = data\n",
    "        contexts = contexts.long().to(device)\n",
    "        questions = questions.long().to(device)\n",
    "        answers = answers.to(device)\n",
    "\n",
    "        logits = torch.squeeze(model(contexts, questions)).cpu()\n",
    "        # We consider a task successfully passed if ≥ 95% accuracy is obtained.\n",
    "        y_pred = m(logits)\n",
    "        y_pred = np.argmax(y_pred, axis=1)\n",
    "        y_pred = [babi_dataset.QA.IVOCAB[int(i)] for i in y_pred]\n",
    "        y_true = [babi_dataset.QA.IVOCAB[int(i)] for i in answers.cpu()]\n",
    "        y_pred_extended.extend(y_pred)\n",
    "        y_true_extended.extend(y_true)\n",
    "        for i in range(len(y_pred)):\n",
    "            y_pred_task[int(tasks[i]) - 1].append(y_pred[i])\n",
    "            y_true_task[int(tasks[i]) - 1].append(y_true[i])\n",
    "end = time.time()\n",
    "\n",
    "        \n",
    "def plot_confusion_matrix(cm, classes,\n",
    "                          normalize=False,\n",
    "                          title='Confusion matrix',\n",
    "                          cmap=plt.cm.Blues):\n",
    "    \"\"\"\n",
    "    This function prints and plots the confusion matrix.\n",
    "    Normalization can be applied by setting `normalize=True`.\n",
    "    \"\"\"\n",
    "    if normalize:\n",
    "        cm = cm.astype('float') / cm.sum(axis=1)[:, np.newaxis]\n",
    "        #print(\"Normalized confusion matrix\")\n",
    "    #else:\n",
    "        #print('Confusion matrix, without normalization')\n",
    "\n",
    "    #print(cm)\n",
    "    \n",
    "    plt.figure(figsize=(25,25))\n",
    "    plt.imshow(cm, interpolation='nearest', cmap=cmap)\n",
    "    plt.title(title)\n",
    "    plt.colorbar()\n",
    "    tick_marks = np.arange(len(classes))\n",
    "    plt.xticks(tick_marks, classes, rotation=45)\n",
    "    plt.yticks(tick_marks, classes)\n",
    "\n",
    "    fmt = '.2f' if normalize else 'd'\n",
    "    thresh = cm.max() / 2.\n",
    "    for i, j in itertools.product(range(cm.shape[0]), range(cm.shape[1])):\n",
    "        plt.text(j, i, format(cm[i, j], fmt),\n",
    "                 horizontalalignment=\"center\",\n",
    "                 color=\"white\" if cm[i, j] > thresh else \"black\")\n",
    "\n",
    "    plt.ylabel('True label')\n",
    "    plt.xlabel('Predicted label')\n",
    "    plt.tight_layout()\n",
    "\n",
    "accuracy = accuracy_score(y_pred_extended, y_true_extended)\n",
    "cr = classification_report(y_true_extended, y_pred_extended)\n",
    "print(accuracy)\n",
    "print(cr)\n",
    "task_acc = []\n",
    "passed_tasks = []\n",
    "for i in range(20):\n",
    "    task_acc.append(accuracy_score(y_pred_task[i], y_true_task[i]))\n",
    "    passed_tasks.append(1 if task_acc[i] >= 0.95 else 0)\n",
    "print(task_acc)\n",
    "print('passed_tasks:', passed_tasks)\n",
    "print('no. passed_tasks:', sum(passed_tasks))\n",
    "labels = list(set(y_true_extended).intersection(set(y_true_extended)))\n",
    "cnf_matrix = confusion_matrix(y_true_extended, y_pred_extended, labels)\n",
    "# Plot non-normalized confusion matrix\n",
    "plot_confusion_matrix(cnf_matrix, classes=labels, title = ('Confusion Matrix'))\n",
    "plt.show()\n",
    "print(end-start)"
   ]
  },
  {
   "cell_type": "code",
   "execution_count": 23,
   "id": "proprietary-corpus",
   "metadata": {},
   "outputs": [
    {
     "name": "stdout",
     "output_type": "stream",
     "text": [
      "\u001b[91m[WARN] Cannot find rule for <class 'torch.nn.modules.sparse.Embedding'>. Treat it as zero Macs and zero Params.\u001b[00m\n",
      "[INFO] Register zero_ops() for <class 'torch.nn.modules.dropout.Dropout'>.\n",
      "\u001b[91m[WARN] Cannot find rule for <class 'perceiver_pytorch.perceiver_io.PositionalEncoding'>. Treat it as zero Macs and zero Params.\u001b[00m\n",
      "[INFO] Register count_linear() for <class 'torch.nn.modules.linear.Linear'>.\n",
      "\u001b[91m[WARN] Cannot find rule for <class 'perceiver_pytorch.perceiver_io.Attention'>. Treat it as zero Macs and zero Params.\u001b[00m\n",
      "\u001b[91m[WARN] Cannot find rule for <class 'torch.nn.modules.normalization.LayerNorm'>. Treat it as zero Macs and zero Params.\u001b[00m\n",
      "\u001b[91m[WARN] Cannot find rule for <class 'perceiver_pytorch.perceiver_io.PreNorm'>. Treat it as zero Macs and zero Params.\u001b[00m\n",
      "\u001b[91m[WARN] Cannot find rule for <class 'perceiver_pytorch.perceiver_io.GEGLU'>. Treat it as zero Macs and zero Params.\u001b[00m\n",
      "\u001b[91m[WARN] Cannot find rule for <class 'torch.nn.modules.container.Sequential'>. Treat it as zero Macs and zero Params.\u001b[00m\n",
      "\u001b[91m[WARN] Cannot find rule for <class 'perceiver_pytorch.perceiver_io.FeedForward'>. Treat it as zero Macs and zero Params.\u001b[00m\n",
      "\u001b[91m[WARN] Cannot find rule for <class 'torch.nn.modules.container.ModuleList'>. Treat it as zero Macs and zero Params.\u001b[00m\n",
      "\u001b[91m[WARN] Cannot find rule for <class 'torch.nn.modules.linear.Identity'>. Treat it as zero Macs and zero Params.\u001b[00m\n",
      "\u001b[91m[WARN] Cannot find rule for <class 'perceiver_pytorch.perceiver_io.PerceiverIO'>. Treat it as zero Macs and zero Params.\u001b[00m\n",
      "\u001b[91m[WARN] Cannot find rule for <class 'perceiver_pytorch.perceiver_io.PerceiverIObAbI'>. Treat it as zero Macs and zero Params.\u001b[00m\n",
      "26.023M 87.347K\n"
     ]
    }
   ],
   "source": [
    "# from thop import profile\n",
    "# from thop import clever_format\n",
    "\n",
    "# macs, params = profile(model, inputs=(\n",
    "#                         torch.randint(1, size=(1, 910)).type(torch.LongTensor).to(device), \n",
    "#                         torch.randint(1, size=(1, 13)).type(torch.LongTensor).to(device)))  # , \n",
    "# #                         custom_ops={YourModule: count_your_model})\n",
    "\n",
    "# macs, params = clever_format([macs, params], \"%.3f\")\n",
    "# print(macs, params)"
   ]
  },
  {
   "cell_type": "code",
   "execution_count": 18,
   "id": "black-cleanup",
   "metadata": {},
   "outputs": [
    {
     "name": "stdout",
     "output_type": "stream",
     "text": [
      "66204\n"
     ]
    }
   ],
   "source": [
    "model_parameters = filter(lambda p: p.requires_grad, model.parameters())\n",
    "params = sum([np.prod(p.size()) for p in model_parameters])\n",
    "print(params)"
   ]
  },
  {
   "cell_type": "code",
   "execution_count": null,
   "id": "assisted-steam",
   "metadata": {},
   "outputs": [],
   "source": []
  }
 ],
 "metadata": {
  "kernelspec": {
   "display_name": "Python 3",
   "language": "python",
   "name": "python3"
  },
  "language_info": {
   "codemirror_mode": {
    "name": "ipython",
    "version": 3
   },
   "file_extension": ".py",
   "mimetype": "text/x-python",
   "name": "python",
   "nbconvert_exporter": "python",
   "pygments_lexer": "ipython3",
   "version": "3.7.7"
  }
 },
 "nbformat": 4,
 "nbformat_minor": 5
}
