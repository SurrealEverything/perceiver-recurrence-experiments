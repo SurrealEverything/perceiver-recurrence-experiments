{
 "cells": [
  {
   "cell_type": "code",
   "execution_count": 1,
   "id": "brave-debate",
   "metadata": {},
   "outputs": [],
   "source": [
    "import torch\n",
    "import torchtext\n",
    "from torch import nn\n",
    "from torch.utils.data import DataLoader\n",
    "from torch.autograd import Variable\n",
    "from perceiver_pytorch import Perceiver\n",
    "import numpy as np\n",
    "from matplotlib import pyplot as plt\n",
    "from sklearn.metrics import classification_report\n",
    "from sklearn.metrics import confusion_matrix\n",
    "from sklearn.metrics import accuracy_score\n",
    "import itertools\n",
    "from torch.utils.tensorboard import SummaryWriter\n",
    "import os\n",
    "from tqdm.notebook import tqdm\n",
    "from datetime import datetime\n",
    "from babi_joint import BabiDataset, pad_collate\n",
    "from torch.utils.data.dataset import Dataset\n",
    "from glob import glob\n",
    "from perceiver_pytorch import PerceiverIObAbI\n",
    "import time"
   ]
  },
  {
   "cell_type": "code",
   "execution_count": 2,
   "id": "shared-honolulu",
   "metadata": {},
   "outputs": [
    {
     "name": "stdout",
     "output_type": "stream",
     "text": [
      "66204\n"
     ]
    }
   ],
   "source": [
    "# UT pondernet 1470003\n",
    "\n",
    "model = PerceiverIObAbI(\n",
    "    num_tokens=179,\n",
    "    context_max_seq_len=70*13,\n",
    "    question_max_seq_len=13,\n",
    "    dim = 16,                    # dimension of sequence to be encoded\n",
    "    queries_dim = 179,            # dimension of decoder queries\n",
    "#     logits_dim = 50,            # dimension of final logits\n",
    "    depth = 3,                   # depth of net\n",
    "    num_latents = 13,           # number of latents, or induced set points, or centroids. different papers giving it different names\n",
    "    latent_dim = 16,            # latent dimension\n",
    "    cross_heads = 1,             # number of heads for cross attention. paper said 1\n",
    "    latent_heads = 8,            # number of heads for latent self attention, 8\n",
    "    cross_dim_head = 32,         # number of dimensions per cross attention head\n",
    "    latent_dim_head = 32,        # number of dimensions per latent self attention head\n",
    "    weight_tie_layers = True,   # whether to weight tie layers (optional, as indicated in the diagram)\n",
    "    self_per_cross_attn = 1,     # number of self attention blocks per cross attention\n",
    "    learn_latents=False\n",
    ")\n",
    "\n",
    "model_name = 'perceiverIO_bAbi'\n",
    "model_parameters = filter(lambda p: p.requires_grad, model.parameters())\n",
    "params = sum([np.prod(p.size()) for p in model_parameters])\n",
    "print(params)"
   ]
  },
  {
   "cell_type": "code",
   "execution_count": 3,
   "id": "interim-tomorrow",
   "metadata": {},
   "outputs": [
    {
     "name": "stdout",
     "output_type": "stream",
     "text": [
      "len(babi_dataset) train 180000\n",
      "vocab_size 179\n",
      "cuda:0\n"
     ]
    },
    {
     "data": {
      "application/vnd.jupyter.widget-view+json": {
       "model_id": "50242899e3ec4a2fad43973189c2bfb3",
       "version_major": 2,
       "version_minor": 0
      },
      "text/plain": [
       "Epoch 1/150:   0%|          | 0/1407 [00:00<?, ?it/s]"
      ]
     },
     "metadata": {},
     "output_type": "display_data"
    },
    {
     "name": "stdout",
     "output_type": "stream",
     "text": [
      "Epoch: 1 \tTraining Loss: 2.807991 \tValidation Loss: 1.771179\n",
      "Validation loss decreased (inf --> 1.771179).  Saving model ...\n"
     ]
    },
    {
     "data": {
      "application/vnd.jupyter.widget-view+json": {
       "model_id": "3ffa395d8a9449038afbc229ab838e52",
       "version_major": 2,
       "version_minor": 0
      },
      "text/plain": [
       "Epoch 2/150:   0%|          | 0/1407 [00:00<?, ?it/s]"
      ]
     },
     "metadata": {},
     "output_type": "display_data"
    },
    {
     "name": "stdout",
     "output_type": "stream",
     "text": [
      "Epoch: 2 \tTraining Loss: 1.548015 \tValidation Loss: 1.431662\n",
      "Validation loss decreased (1.771179 --> 1.431662).  Saving model ...\n"
     ]
    },
    {
     "data": {
      "application/vnd.jupyter.widget-view+json": {
       "model_id": "8ae1b5639231479e9b29c16a6dd0cc9c",
       "version_major": 2,
       "version_minor": 0
      },
      "text/plain": [
       "Epoch 3/150:   0%|          | 0/1407 [00:00<?, ?it/s]"
      ]
     },
     "metadata": {},
     "output_type": "display_data"
    },
    {
     "name": "stdout",
     "output_type": "stream",
     "text": [
      "Epoch: 3 \tTraining Loss: 1.355313 \tValidation Loss: 1.305537\n",
      "Validation loss decreased (1.431662 --> 1.305537).  Saving model ...\n"
     ]
    },
    {
     "data": {
      "application/vnd.jupyter.widget-view+json": {
       "model_id": "f004089ccad2461b899f5d9928876ad3",
       "version_major": 2,
       "version_minor": 0
      },
      "text/plain": [
       "Epoch 4/150:   0%|          | 0/1407 [00:00<?, ?it/s]"
      ]
     },
     "metadata": {},
     "output_type": "display_data"
    },
    {
     "name": "stdout",
     "output_type": "stream",
     "text": [
      "Epoch: 4 \tTraining Loss: 1.265075 \tValidation Loss: 1.218490\n",
      "Validation loss decreased (1.305537 --> 1.218490).  Saving model ...\n"
     ]
    },
    {
     "data": {
      "application/vnd.jupyter.widget-view+json": {
       "model_id": "bae230a89f7a418991486b0bf198b855",
       "version_major": 2,
       "version_minor": 0
      },
      "text/plain": [
       "Epoch 5/150:   0%|          | 0/1407 [00:00<?, ?it/s]"
      ]
     },
     "metadata": {},
     "output_type": "display_data"
    },
    {
     "name": "stdout",
     "output_type": "stream",
     "text": [
      "Epoch: 5 \tTraining Loss: 1.186951 \tValidation Loss: 1.153336\n",
      "Validation loss decreased (1.218490 --> 1.153336).  Saving model ...\n"
     ]
    },
    {
     "data": {
      "application/vnd.jupyter.widget-view+json": {
       "model_id": "0c3f4a7684e345f6a81cc63a0d5a3c24",
       "version_major": 2,
       "version_minor": 0
      },
      "text/plain": [
       "Epoch 6/150:   0%|          | 0/1407 [00:00<?, ?it/s]"
      ]
     },
     "metadata": {},
     "output_type": "display_data"
    },
    {
     "name": "stdout",
     "output_type": "stream",
     "text": [
      "Epoch: 6 \tTraining Loss: 1.135914 \tValidation Loss: 1.114062\n",
      "Validation loss decreased (1.153336 --> 1.114062).  Saving model ...\n"
     ]
    },
    {
     "data": {
      "application/vnd.jupyter.widget-view+json": {
       "model_id": "d7d579b13f19479292dc41219dcce5c5",
       "version_major": 2,
       "version_minor": 0
      },
      "text/plain": [
       "Epoch 7/150:   0%|          | 0/1407 [00:00<?, ?it/s]"
      ]
     },
     "metadata": {},
     "output_type": "display_data"
    },
    {
     "name": "stdout",
     "output_type": "stream",
     "text": [
      "Epoch: 7 \tTraining Loss: 1.103754 \tValidation Loss: 1.092337\n",
      "Validation loss decreased (1.114062 --> 1.092337).  Saving model ...\n"
     ]
    },
    {
     "data": {
      "application/vnd.jupyter.widget-view+json": {
       "model_id": "391f1502156546e290fc0b9d3b2233dc",
       "version_major": 2,
       "version_minor": 0
      },
      "text/plain": [
       "Epoch 8/150:   0%|          | 0/1407 [00:00<?, ?it/s]"
      ]
     },
     "metadata": {},
     "output_type": "display_data"
    },
    {
     "name": "stdout",
     "output_type": "stream",
     "text": [
      "Epoch: 8 \tTraining Loss: 1.076790 \tValidation Loss: 1.066238\n",
      "Validation loss decreased (1.092337 --> 1.066238).  Saving model ...\n"
     ]
    },
    {
     "data": {
      "application/vnd.jupyter.widget-view+json": {
       "model_id": "9ff2cd14d40849cf93fa558bcc9f82f5",
       "version_major": 2,
       "version_minor": 0
      },
      "text/plain": [
       "Epoch 9/150:   0%|          | 0/1407 [00:00<?, ?it/s]"
      ]
     },
     "metadata": {},
     "output_type": "display_data"
    },
    {
     "name": "stdout",
     "output_type": "stream",
     "text": [
      "Epoch: 9 \tTraining Loss: 1.057482 \tValidation Loss: 1.055787\n",
      "Validation loss decreased (1.066238 --> 1.055787).  Saving model ...\n"
     ]
    },
    {
     "data": {
      "application/vnd.jupyter.widget-view+json": {
       "model_id": "69c28bb71f8e4c89a219bae93399f715",
       "version_major": 2,
       "version_minor": 0
      },
      "text/plain": [
       "Epoch 10/150:   0%|          | 0/1407 [00:00<?, ?it/s]"
      ]
     },
     "metadata": {},
     "output_type": "display_data"
    },
    {
     "name": "stdout",
     "output_type": "stream",
     "text": [
      "Epoch: 10 \tTraining Loss: 1.041903 \tValidation Loss: 1.032709\n",
      "Validation loss decreased (1.055787 --> 1.032709).  Saving model ...\n"
     ]
    },
    {
     "data": {
      "application/vnd.jupyter.widget-view+json": {
       "model_id": "65cfb93568ff4e04af087f415ee719f4",
       "version_major": 2,
       "version_minor": 0
      },
      "text/plain": [
       "Epoch 11/150:   0%|          | 0/1407 [00:00<?, ?it/s]"
      ]
     },
     "metadata": {},
     "output_type": "display_data"
    },
    {
     "name": "stdout",
     "output_type": "stream",
     "text": [
      "Epoch: 11 \tTraining Loss: 1.026474 \tValidation Loss: 1.017946\n",
      "Validation loss decreased (1.032709 --> 1.017946).  Saving model ...\n"
     ]
    },
    {
     "data": {
      "application/vnd.jupyter.widget-view+json": {
       "model_id": "bc61fc964ced4327ae0fea5d018af3ae",
       "version_major": 2,
       "version_minor": 0
      },
      "text/plain": [
       "Epoch 12/150:   0%|          | 0/1407 [00:00<?, ?it/s]"
      ]
     },
     "metadata": {},
     "output_type": "display_data"
    },
    {
     "name": "stdout",
     "output_type": "stream",
     "text": [
      "Epoch: 12 \tTraining Loss: 1.008696 \tValidation Loss: 1.001306\n",
      "Validation loss decreased (1.017946 --> 1.001306).  Saving model ...\n"
     ]
    },
    {
     "data": {
      "application/vnd.jupyter.widget-view+json": {
       "model_id": "0c47cdfe50d3478cb62b3a13378f9af7",
       "version_major": 2,
       "version_minor": 0
      },
      "text/plain": [
       "Epoch 13/150:   0%|          | 0/1407 [00:00<?, ?it/s]"
      ]
     },
     "metadata": {},
     "output_type": "display_data"
    },
    {
     "name": "stdout",
     "output_type": "stream",
     "text": [
      "Epoch: 13 \tTraining Loss: 0.991990 \tValidation Loss: 0.988158\n",
      "Validation loss decreased (1.001306 --> 0.988158).  Saving model ...\n"
     ]
    },
    {
     "data": {
      "application/vnd.jupyter.widget-view+json": {
       "model_id": "5a2a3db644174884a29e0db289a41c23",
       "version_major": 2,
       "version_minor": 0
      },
      "text/plain": [
       "Epoch 14/150:   0%|          | 0/1407 [00:00<?, ?it/s]"
      ]
     },
     "metadata": {},
     "output_type": "display_data"
    },
    {
     "name": "stdout",
     "output_type": "stream",
     "text": [
      "Epoch: 14 \tTraining Loss: 0.976070 \tValidation Loss: 0.977057\n",
      "Validation loss decreased (0.988158 --> 0.977057).  Saving model ...\n"
     ]
    },
    {
     "data": {
      "application/vnd.jupyter.widget-view+json": {
       "model_id": "2844187c694a437883cd4a00240b8990",
       "version_major": 2,
       "version_minor": 0
      },
      "text/plain": [
       "Epoch 15/150:   0%|          | 0/1407 [00:00<?, ?it/s]"
      ]
     },
     "metadata": {},
     "output_type": "display_data"
    },
    {
     "name": "stdout",
     "output_type": "stream",
     "text": [
      "Epoch: 15 \tTraining Loss: 0.960771 \tValidation Loss: 0.959187\n",
      "Validation loss decreased (0.977057 --> 0.959187).  Saving model ...\n"
     ]
    },
    {
     "data": {
      "application/vnd.jupyter.widget-view+json": {
       "model_id": "1491006b6ef8444fbfb20c7761da6b36",
       "version_major": 2,
       "version_minor": 0
      },
      "text/plain": [
       "Epoch 16/150:   0%|          | 0/1407 [00:00<?, ?it/s]"
      ]
     },
     "metadata": {},
     "output_type": "display_data"
    },
    {
     "name": "stdout",
     "output_type": "stream",
     "text": [
      "Epoch: 16 \tTraining Loss: 0.946822 \tValidation Loss: 0.947709\n",
      "Validation loss decreased (0.959187 --> 0.947709).  Saving model ...\n"
     ]
    },
    {
     "data": {
      "application/vnd.jupyter.widget-view+json": {
       "model_id": "b239bc64d15c4737a4b1adf1be65d91b",
       "version_major": 2,
       "version_minor": 0
      },
      "text/plain": [
       "Epoch 17/150:   0%|          | 0/1407 [00:00<?, ?it/s]"
      ]
     },
     "metadata": {},
     "output_type": "display_data"
    },
    {
     "name": "stdout",
     "output_type": "stream",
     "text": [
      "Epoch: 17 \tTraining Loss: 0.935544 \tValidation Loss: 0.935487\n",
      "Validation loss decreased (0.947709 --> 0.935487).  Saving model ...\n"
     ]
    },
    {
     "data": {
      "application/vnd.jupyter.widget-view+json": {
       "model_id": "58498097bddf45878370fc01bded1f92",
       "version_major": 2,
       "version_minor": 0
      },
      "text/plain": [
       "Epoch 18/150:   0%|          | 0/1407 [00:00<?, ?it/s]"
      ]
     },
     "metadata": {},
     "output_type": "display_data"
    },
    {
     "name": "stdout",
     "output_type": "stream",
     "text": [
      "Epoch: 18 \tTraining Loss: 0.926233 \tValidation Loss: 0.922777\n",
      "Validation loss decreased (0.935487 --> 0.922777).  Saving model ...\n"
     ]
    },
    {
     "data": {
      "application/vnd.jupyter.widget-view+json": {
       "model_id": "600a3aac5f3e4b43b194ea9656198665",
       "version_major": 2,
       "version_minor": 0
      },
      "text/plain": [
       "Epoch 19/150:   0%|          | 0/1407 [00:00<?, ?it/s]"
      ]
     },
     "metadata": {},
     "output_type": "display_data"
    },
    {
     "name": "stdout",
     "output_type": "stream",
     "text": [
      "Epoch: 19 \tTraining Loss: 0.918027 \tValidation Loss: 0.919378\n",
      "Validation loss decreased (0.922777 --> 0.919378).  Saving model ...\n"
     ]
    },
    {
     "data": {
      "application/vnd.jupyter.widget-view+json": {
       "model_id": "7a759f4b59604be3ab2f99fce25106a1",
       "version_major": 2,
       "version_minor": 0
      },
      "text/plain": [
       "Epoch 20/150:   0%|          | 0/1407 [00:00<?, ?it/s]"
      ]
     },
     "metadata": {},
     "output_type": "display_data"
    },
    {
     "name": "stdout",
     "output_type": "stream",
     "text": [
      "Epoch: 20 \tTraining Loss: 0.909713 \tValidation Loss: 0.919072\n",
      "Validation loss decreased (0.919378 --> 0.919072).  Saving model ...\n"
     ]
    },
    {
     "data": {
      "application/vnd.jupyter.widget-view+json": {
       "model_id": "b69323ddf54140d8a6e1592bc997ea02",
       "version_major": 2,
       "version_minor": 0
      },
      "text/plain": [
       "Epoch 21/150:   0%|          | 0/1407 [00:00<?, ?it/s]"
      ]
     },
     "metadata": {},
     "output_type": "display_data"
    },
    {
     "name": "stdout",
     "output_type": "stream",
     "text": [
      "Epoch: 21 \tTraining Loss: 0.901158 \tValidation Loss: 0.906459\n",
      "Validation loss decreased (0.919072 --> 0.906459).  Saving model ...\n"
     ]
    },
    {
     "data": {
      "application/vnd.jupyter.widget-view+json": {
       "model_id": "5b69154baa094c46a0ccebe2c100a1b5",
       "version_major": 2,
       "version_minor": 0
      },
      "text/plain": [
       "Epoch 22/150:   0%|          | 0/1407 [00:00<?, ?it/s]"
      ]
     },
     "metadata": {},
     "output_type": "display_data"
    },
    {
     "name": "stdout",
     "output_type": "stream",
     "text": [
      "Epoch: 22 \tTraining Loss: 0.894405 \tValidation Loss: 0.909827\n"
     ]
    },
    {
     "data": {
      "application/vnd.jupyter.widget-view+json": {
       "model_id": "aaecd407088e41d5bd93f6c08badd4ef",
       "version_major": 2,
       "version_minor": 0
      },
      "text/plain": [
       "Epoch 23/150:   0%|          | 0/1407 [00:00<?, ?it/s]"
      ]
     },
     "metadata": {},
     "output_type": "display_data"
    },
    {
     "name": "stdout",
     "output_type": "stream",
     "text": [
      "Epoch: 23 \tTraining Loss: 0.886587 \tValidation Loss: 0.896111\n",
      "Validation loss decreased (0.906459 --> 0.896111).  Saving model ...\n"
     ]
    },
    {
     "data": {
      "application/vnd.jupyter.widget-view+json": {
       "model_id": "eb12daedb53d47908319b23a6390970e",
       "version_major": 2,
       "version_minor": 0
      },
      "text/plain": [
       "Epoch 24/150:   0%|          | 0/1407 [00:00<?, ?it/s]"
      ]
     },
     "metadata": {},
     "output_type": "display_data"
    },
    {
     "name": "stdout",
     "output_type": "stream",
     "text": [
      "Epoch: 24 \tTraining Loss: 0.879995 \tValidation Loss: 0.882758\n",
      "Validation loss decreased (0.896111 --> 0.882758).  Saving model ...\n"
     ]
    },
    {
     "data": {
      "application/vnd.jupyter.widget-view+json": {
       "model_id": "f87b61e8677746c094255b89f77cfa5a",
       "version_major": 2,
       "version_minor": 0
      },
      "text/plain": [
       "Epoch 25/150:   0%|          | 0/1407 [00:00<?, ?it/s]"
      ]
     },
     "metadata": {},
     "output_type": "display_data"
    },
    {
     "name": "stdout",
     "output_type": "stream",
     "text": [
      "Epoch: 25 \tTraining Loss: 0.873121 \tValidation Loss: 0.880279\n",
      "Validation loss decreased (0.882758 --> 0.880279).  Saving model ...\n"
     ]
    },
    {
     "data": {
      "application/vnd.jupyter.widget-view+json": {
       "model_id": "1439b37c06634952b5ad2ff9dffcefb8",
       "version_major": 2,
       "version_minor": 0
      },
      "text/plain": [
       "Epoch 26/150:   0%|          | 0/1407 [00:00<?, ?it/s]"
      ]
     },
     "metadata": {},
     "output_type": "display_data"
    },
    {
     "name": "stdout",
     "output_type": "stream",
     "text": [
      "Epoch: 26 \tTraining Loss: 0.867443 \tValidation Loss: 0.873113\n",
      "Validation loss decreased (0.880279 --> 0.873113).  Saving model ...\n"
     ]
    },
    {
     "data": {
      "application/vnd.jupyter.widget-view+json": {
       "model_id": "81d7aaf3feec4f65a7e52cbd9062befc",
       "version_major": 2,
       "version_minor": 0
      },
      "text/plain": [
       "Epoch 27/150:   0%|          | 0/1407 [00:00<?, ?it/s]"
      ]
     },
     "metadata": {},
     "output_type": "display_data"
    },
    {
     "name": "stdout",
     "output_type": "stream",
     "text": [
      "Epoch: 27 \tTraining Loss: 0.861335 \tValidation Loss: 0.883066\n"
     ]
    },
    {
     "data": {
      "application/vnd.jupyter.widget-view+json": {
       "model_id": "454626a336ba45b990d6b38b5c58df7e",
       "version_major": 2,
       "version_minor": 0
      },
      "text/plain": [
       "Epoch 28/150:   0%|          | 0/1407 [00:00<?, ?it/s]"
      ]
     },
     "metadata": {},
     "output_type": "display_data"
    },
    {
     "name": "stdout",
     "output_type": "stream",
     "text": [
      "Epoch: 28 \tTraining Loss: 0.856008 \tValidation Loss: 0.864694\n",
      "Validation loss decreased (0.873113 --> 0.864694).  Saving model ...\n"
     ]
    },
    {
     "data": {
      "application/vnd.jupyter.widget-view+json": {
       "model_id": "98c3eff26cff4eae944e431a247e66eb",
       "version_major": 2,
       "version_minor": 0
      },
      "text/plain": [
       "Epoch 29/150:   0%|          | 0/1407 [00:00<?, ?it/s]"
      ]
     },
     "metadata": {},
     "output_type": "display_data"
    },
    {
     "name": "stdout",
     "output_type": "stream",
     "text": [
      "Epoch: 29 \tTraining Loss: 0.850944 \tValidation Loss: 0.863875\n",
      "Validation loss decreased (0.864694 --> 0.863875).  Saving model ...\n"
     ]
    },
    {
     "data": {
      "application/vnd.jupyter.widget-view+json": {
       "model_id": "57d2dbccde8e4a93a6ede42ce7189434",
       "version_major": 2,
       "version_minor": 0
      },
      "text/plain": [
       "Epoch 30/150:   0%|          | 0/1407 [00:00<?, ?it/s]"
      ]
     },
     "metadata": {},
     "output_type": "display_data"
    },
    {
     "name": "stdout",
     "output_type": "stream",
     "text": [
      "Epoch: 30 \tTraining Loss: 0.847389 \tValidation Loss: 0.859565\n",
      "Validation loss decreased (0.863875 --> 0.859565).  Saving model ...\n"
     ]
    },
    {
     "data": {
      "application/vnd.jupyter.widget-view+json": {
       "model_id": "ec470cd229844b5584e43adcaf591a45",
       "version_major": 2,
       "version_minor": 0
      },
      "text/plain": [
       "Epoch 31/150:   0%|          | 0/1407 [00:00<?, ?it/s]"
      ]
     },
     "metadata": {},
     "output_type": "display_data"
    },
    {
     "name": "stdout",
     "output_type": "stream",
     "text": [
      "Epoch: 31 \tTraining Loss: 0.844057 \tValidation Loss: 0.855882\n",
      "Validation loss decreased (0.859565 --> 0.855882).  Saving model ...\n"
     ]
    },
    {
     "data": {
      "application/vnd.jupyter.widget-view+json": {
       "model_id": "ebd582617220422f922d514115d773ac",
       "version_major": 2,
       "version_minor": 0
      },
      "text/plain": [
       "Epoch 32/150:   0%|          | 0/1407 [00:00<?, ?it/s]"
      ]
     },
     "metadata": {},
     "output_type": "display_data"
    },
    {
     "name": "stdout",
     "output_type": "stream",
     "text": [
      "Epoch: 32 \tTraining Loss: 0.839189 \tValidation Loss: 0.852502\n",
      "Validation loss decreased (0.855882 --> 0.852502).  Saving model ...\n"
     ]
    },
    {
     "data": {
      "application/vnd.jupyter.widget-view+json": {
       "model_id": "e48250b71d044696827f7b05e89c1194",
       "version_major": 2,
       "version_minor": 0
      },
      "text/plain": [
       "Epoch 33/150:   0%|          | 0/1407 [00:00<?, ?it/s]"
      ]
     },
     "metadata": {},
     "output_type": "display_data"
    },
    {
     "name": "stdout",
     "output_type": "stream",
     "text": [
      "Epoch: 33 \tTraining Loss: 0.836259 \tValidation Loss: 0.848338\n",
      "Validation loss decreased (0.852502 --> 0.848338).  Saving model ...\n"
     ]
    },
    {
     "data": {
      "application/vnd.jupyter.widget-view+json": {
       "model_id": "6d001c61d9194ac1b11a1e34b30958c0",
       "version_major": 2,
       "version_minor": 0
      },
      "text/plain": [
       "Epoch 34/150:   0%|          | 0/1407 [00:00<?, ?it/s]"
      ]
     },
     "metadata": {},
     "output_type": "display_data"
    },
    {
     "name": "stdout",
     "output_type": "stream",
     "text": [
      "Epoch: 34 \tTraining Loss: 0.832381 \tValidation Loss: 0.846781\n",
      "Validation loss decreased (0.848338 --> 0.846781).  Saving model ...\n"
     ]
    },
    {
     "data": {
      "application/vnd.jupyter.widget-view+json": {
       "model_id": "255147e86bc144f1a545a7896ef480f9",
       "version_major": 2,
       "version_minor": 0
      },
      "text/plain": [
       "Epoch 35/150:   0%|          | 0/1407 [00:00<?, ?it/s]"
      ]
     },
     "metadata": {},
     "output_type": "display_data"
    },
    {
     "name": "stdout",
     "output_type": "stream",
     "text": [
      "Epoch: 35 \tTraining Loss: 0.829127 \tValidation Loss: 0.845283\n",
      "Validation loss decreased (0.846781 --> 0.845283).  Saving model ...\n"
     ]
    },
    {
     "data": {
      "application/vnd.jupyter.widget-view+json": {
       "model_id": "7130548cc16541038fbe617d140b9c88",
       "version_major": 2,
       "version_minor": 0
      },
      "text/plain": [
       "Epoch 36/150:   0%|          | 0/1407 [00:00<?, ?it/s]"
      ]
     },
     "metadata": {},
     "output_type": "display_data"
    },
    {
     "name": "stdout",
     "output_type": "stream",
     "text": [
      "Epoch: 36 \tTraining Loss: 0.826702 \tValidation Loss: 0.845360\n"
     ]
    },
    {
     "data": {
      "application/vnd.jupyter.widget-view+json": {
       "model_id": "5cfc243e35864b8ead9fd5f7e1a1152e",
       "version_major": 2,
       "version_minor": 0
      },
      "text/plain": [
       "Epoch 37/150:   0%|          | 0/1407 [00:00<?, ?it/s]"
      ]
     },
     "metadata": {},
     "output_type": "display_data"
    },
    {
     "name": "stdout",
     "output_type": "stream",
     "text": [
      "Epoch: 37 \tTraining Loss: 0.823263 \tValidation Loss: 0.842772\n",
      "Validation loss decreased (0.845283 --> 0.842772).  Saving model ...\n"
     ]
    },
    {
     "data": {
      "application/vnd.jupyter.widget-view+json": {
       "model_id": "d198991089544ee38b7e6c77a526cd9b",
       "version_major": 2,
       "version_minor": 0
      },
      "text/plain": [
       "Epoch 38/150:   0%|          | 0/1407 [00:00<?, ?it/s]"
      ]
     },
     "metadata": {},
     "output_type": "display_data"
    },
    {
     "name": "stdout",
     "output_type": "stream",
     "text": [
      "Epoch: 38 \tTraining Loss: 0.819938 \tValidation Loss: 0.839585\n",
      "Validation loss decreased (0.842772 --> 0.839585).  Saving model ...\n"
     ]
    },
    {
     "data": {
      "application/vnd.jupyter.widget-view+json": {
       "model_id": "feea65cf08a444a9ad634b6027b4333c",
       "version_major": 2,
       "version_minor": 0
      },
      "text/plain": [
       "Epoch 39/150:   0%|          | 0/1407 [00:00<?, ?it/s]"
      ]
     },
     "metadata": {},
     "output_type": "display_data"
    },
    {
     "name": "stdout",
     "output_type": "stream",
     "text": [
      "Epoch: 39 \tTraining Loss: 0.817065 \tValidation Loss: 0.828798\n",
      "Validation loss decreased (0.839585 --> 0.828798).  Saving model ...\n"
     ]
    },
    {
     "data": {
      "application/vnd.jupyter.widget-view+json": {
       "model_id": "689d62e1c02f495c93e69f52e3930e67",
       "version_major": 2,
       "version_minor": 0
      },
      "text/plain": [
       "Epoch 40/150:   0%|          | 0/1407 [00:00<?, ?it/s]"
      ]
     },
     "metadata": {},
     "output_type": "display_data"
    },
    {
     "name": "stdout",
     "output_type": "stream",
     "text": [
      "Epoch: 40 \tTraining Loss: 0.815460 \tValidation Loss: 0.828307\n",
      "Validation loss decreased (0.828798 --> 0.828307).  Saving model ...\n"
     ]
    },
    {
     "data": {
      "application/vnd.jupyter.widget-view+json": {
       "model_id": "a40313c088f94201b0e09de1e3d44b7b",
       "version_major": 2,
       "version_minor": 0
      },
      "text/plain": [
       "Epoch 41/150:   0%|          | 0/1407 [00:00<?, ?it/s]"
      ]
     },
     "metadata": {},
     "output_type": "display_data"
    },
    {
     "name": "stdout",
     "output_type": "stream",
     "text": [
      "Epoch: 41 \tTraining Loss: 0.812449 \tValidation Loss: 0.830385\n"
     ]
    },
    {
     "data": {
      "application/vnd.jupyter.widget-view+json": {
       "model_id": "cc1dc4e90bb644c0bdc4fa67cca9eadb",
       "version_major": 2,
       "version_minor": 0
      },
      "text/plain": [
       "Epoch 42/150:   0%|          | 0/1407 [00:00<?, ?it/s]"
      ]
     },
     "metadata": {},
     "output_type": "display_data"
    },
    {
     "name": "stdout",
     "output_type": "stream",
     "text": [
      "Epoch: 42 \tTraining Loss: 0.809248 \tValidation Loss: 0.829640\n"
     ]
    },
    {
     "data": {
      "application/vnd.jupyter.widget-view+json": {
       "model_id": "63da933f339844b2b7f505269a552ffb",
       "version_major": 2,
       "version_minor": 0
      },
      "text/plain": [
       "Epoch 43/150:   0%|          | 0/1407 [00:00<?, ?it/s]"
      ]
     },
     "metadata": {},
     "output_type": "display_data"
    },
    {
     "name": "stdout",
     "output_type": "stream",
     "text": [
      "Epoch: 43 \tTraining Loss: 0.807181 \tValidation Loss: 0.819859\n",
      "Validation loss decreased (0.828307 --> 0.819859).  Saving model ...\n"
     ]
    },
    {
     "data": {
      "application/vnd.jupyter.widget-view+json": {
       "model_id": "bd56c672f82a4d12a22c62d823c15b21",
       "version_major": 2,
       "version_minor": 0
      },
      "text/plain": [
       "Epoch 44/150:   0%|          | 0/1407 [00:00<?, ?it/s]"
      ]
     },
     "metadata": {},
     "output_type": "display_data"
    },
    {
     "name": "stdout",
     "output_type": "stream",
     "text": [
      "Epoch: 44 \tTraining Loss: 0.805387 \tValidation Loss: 0.818369\n",
      "Validation loss decreased (0.819859 --> 0.818369).  Saving model ...\n"
     ]
    },
    {
     "data": {
      "application/vnd.jupyter.widget-view+json": {
       "model_id": "8629c4c7a3d54e7e94c0e76bc522f5be",
       "version_major": 2,
       "version_minor": 0
      },
      "text/plain": [
       "Epoch 45/150:   0%|          | 0/1407 [00:00<?, ?it/s]"
      ]
     },
     "metadata": {},
     "output_type": "display_data"
    },
    {
     "name": "stdout",
     "output_type": "stream",
     "text": [
      "Epoch: 45 \tTraining Loss: 0.803312 \tValidation Loss: 0.817385\n",
      "Validation loss decreased (0.818369 --> 0.817385).  Saving model ...\n"
     ]
    },
    {
     "data": {
      "application/vnd.jupyter.widget-view+json": {
       "model_id": "ab0b2929d6bd4b639d0e40d2a74b7cc2",
       "version_major": 2,
       "version_minor": 0
      },
      "text/plain": [
       "Epoch 46/150:   0%|          | 0/1407 [00:00<?, ?it/s]"
      ]
     },
     "metadata": {},
     "output_type": "display_data"
    },
    {
     "name": "stdout",
     "output_type": "stream",
     "text": [
      "Epoch: 46 \tTraining Loss: 0.801020 \tValidation Loss: 0.824794\n"
     ]
    },
    {
     "data": {
      "application/vnd.jupyter.widget-view+json": {
       "model_id": "4c31f025e01246bfa27b1ecbcce730cb",
       "version_major": 2,
       "version_minor": 0
      },
      "text/plain": [
       "Epoch 47/150:   0%|          | 0/1407 [00:00<?, ?it/s]"
      ]
     },
     "metadata": {},
     "output_type": "display_data"
    },
    {
     "name": "stdout",
     "output_type": "stream",
     "text": [
      "Epoch: 47 \tTraining Loss: 0.799424 \tValidation Loss: 0.821847\n"
     ]
    },
    {
     "data": {
      "application/vnd.jupyter.widget-view+json": {
       "model_id": "89166d3fa2174cf4b258e93deb6ea8b5",
       "version_major": 2,
       "version_minor": 0
      },
      "text/plain": [
       "Epoch 48/150:   0%|          | 0/1407 [00:00<?, ?it/s]"
      ]
     },
     "metadata": {},
     "output_type": "display_data"
    },
    {
     "name": "stdout",
     "output_type": "stream",
     "text": [
      "Epoch: 48 \tTraining Loss: 0.797691 \tValidation Loss: 0.816081\n",
      "Validation loss decreased (0.817385 --> 0.816081).  Saving model ...\n"
     ]
    },
    {
     "data": {
      "application/vnd.jupyter.widget-view+json": {
       "model_id": "81bcc801fa1e4fb981bf96681ca7e047",
       "version_major": 2,
       "version_minor": 0
      },
      "text/plain": [
       "Epoch 49/150:   0%|          | 0/1407 [00:00<?, ?it/s]"
      ]
     },
     "metadata": {},
     "output_type": "display_data"
    },
    {
     "name": "stdout",
     "output_type": "stream",
     "text": [
      "Epoch: 49 \tTraining Loss: 0.796267 \tValidation Loss: 0.813712\n",
      "Validation loss decreased (0.816081 --> 0.813712).  Saving model ...\n"
     ]
    },
    {
     "data": {
      "application/vnd.jupyter.widget-view+json": {
       "model_id": "9edc4b4b66a744679018d0f0d3b470d7",
       "version_major": 2,
       "version_minor": 0
      },
      "text/plain": [
       "Epoch 50/150:   0%|          | 0/1407 [00:00<?, ?it/s]"
      ]
     },
     "metadata": {},
     "output_type": "display_data"
    },
    {
     "name": "stdout",
     "output_type": "stream",
     "text": [
      "Epoch: 50 \tTraining Loss: 0.794075 \tValidation Loss: 0.810465\n",
      "Validation loss decreased (0.813712 --> 0.810465).  Saving model ...\n"
     ]
    },
    {
     "data": {
      "application/vnd.jupyter.widget-view+json": {
       "model_id": "ca50b541fb5d45648daeb6173574b721",
       "version_major": 2,
       "version_minor": 0
      },
      "text/plain": [
       "Epoch 51/150:   0%|          | 0/1407 [00:00<?, ?it/s]"
      ]
     },
     "metadata": {},
     "output_type": "display_data"
    },
    {
     "name": "stdout",
     "output_type": "stream",
     "text": [
      "Epoch: 51 \tTraining Loss: 0.792996 \tValidation Loss: 0.812868\n"
     ]
    },
    {
     "data": {
      "application/vnd.jupyter.widget-view+json": {
       "model_id": "79fbba5857284d9b8372a29fa8fd6f4b",
       "version_major": 2,
       "version_minor": 0
      },
      "text/plain": [
       "Epoch 52/150:   0%|          | 0/1407 [00:00<?, ?it/s]"
      ]
     },
     "metadata": {},
     "output_type": "display_data"
    },
    {
     "name": "stdout",
     "output_type": "stream",
     "text": [
      "Epoch: 52 \tTraining Loss: 0.791675 \tValidation Loss: 0.814840\n"
     ]
    },
    {
     "data": {
      "application/vnd.jupyter.widget-view+json": {
       "model_id": "6be1efc755c24ef2aedc68f9fece72c2",
       "version_major": 2,
       "version_minor": 0
      },
      "text/plain": [
       "Epoch 53/150:   0%|          | 0/1407 [00:00<?, ?it/s]"
      ]
     },
     "metadata": {},
     "output_type": "display_data"
    },
    {
     "name": "stdout",
     "output_type": "stream",
     "text": [
      "Epoch: 53 \tTraining Loss: 0.789923 \tValidation Loss: 0.805027\n",
      "Validation loss decreased (0.810465 --> 0.805027).  Saving model ...\n"
     ]
    },
    {
     "data": {
      "application/vnd.jupyter.widget-view+json": {
       "model_id": "22bb008b306243ffa7e57a2b8ec12163",
       "version_major": 2,
       "version_minor": 0
      },
      "text/plain": [
       "Epoch 54/150:   0%|          | 0/1407 [00:00<?, ?it/s]"
      ]
     },
     "metadata": {},
     "output_type": "display_data"
    },
    {
     "name": "stdout",
     "output_type": "stream",
     "text": [
      "Epoch: 54 \tTraining Loss: 0.788641 \tValidation Loss: 0.806842\n"
     ]
    },
    {
     "data": {
      "application/vnd.jupyter.widget-view+json": {
       "model_id": "eabc4a62db984e1e8da8e1b3470a21b5",
       "version_major": 2,
       "version_minor": 0
      },
      "text/plain": [
       "Epoch 55/150:   0%|          | 0/1407 [00:00<?, ?it/s]"
      ]
     },
     "metadata": {},
     "output_type": "display_data"
    },
    {
     "name": "stdout",
     "output_type": "stream",
     "text": [
      "Epoch: 55 \tTraining Loss: 0.786145 \tValidation Loss: 0.807193\n"
     ]
    },
    {
     "data": {
      "application/vnd.jupyter.widget-view+json": {
       "model_id": "c4397bb3a8d7416fbcb868cddc7506ab",
       "version_major": 2,
       "version_minor": 0
      },
      "text/plain": [
       "Epoch 56/150:   0%|          | 0/1407 [00:00<?, ?it/s]"
      ]
     },
     "metadata": {},
     "output_type": "display_data"
    },
    {
     "name": "stdout",
     "output_type": "stream",
     "text": [
      "Epoch: 56 \tTraining Loss: 0.785045 \tValidation Loss: 0.803955\n",
      "Validation loss decreased (0.805027 --> 0.803955).  Saving model ...\n"
     ]
    },
    {
     "data": {
      "application/vnd.jupyter.widget-view+json": {
       "model_id": "4f404f5daf3344b09ec6667ae9e42a80",
       "version_major": 2,
       "version_minor": 0
      },
      "text/plain": [
       "Epoch 57/150:   0%|          | 0/1407 [00:00<?, ?it/s]"
      ]
     },
     "metadata": {},
     "output_type": "display_data"
    },
    {
     "name": "stdout",
     "output_type": "stream",
     "text": [
      "Epoch: 57 \tTraining Loss: 0.783240 \tValidation Loss: 0.802404\n",
      "Validation loss decreased (0.803955 --> 0.802404).  Saving model ...\n"
     ]
    },
    {
     "data": {
      "application/vnd.jupyter.widget-view+json": {
       "model_id": "6cacea7b9fc54c2b807a9fc176fcd734",
       "version_major": 2,
       "version_minor": 0
      },
      "text/plain": [
       "Epoch 58/150:   0%|          | 0/1407 [00:00<?, ?it/s]"
      ]
     },
     "metadata": {},
     "output_type": "display_data"
    },
    {
     "name": "stdout",
     "output_type": "stream",
     "text": [
      "Epoch: 58 \tTraining Loss: 0.782397 \tValidation Loss: 0.803367\n"
     ]
    },
    {
     "data": {
      "application/vnd.jupyter.widget-view+json": {
       "model_id": "12043177d3c249a9ae7d16fe2200c49e",
       "version_major": 2,
       "version_minor": 0
      },
      "text/plain": [
       "Epoch 59/150:   0%|          | 0/1407 [00:00<?, ?it/s]"
      ]
     },
     "metadata": {},
     "output_type": "display_data"
    },
    {
     "name": "stdout",
     "output_type": "stream",
     "text": [
      "Epoch: 59 \tTraining Loss: 0.780654 \tValidation Loss: 0.806552\n"
     ]
    },
    {
     "data": {
      "application/vnd.jupyter.widget-view+json": {
       "model_id": "99ac52604a354dea8c0e1f4244bb219e",
       "version_major": 2,
       "version_minor": 0
      },
      "text/plain": [
       "Epoch 60/150:   0%|          | 0/1407 [00:00<?, ?it/s]"
      ]
     },
     "metadata": {},
     "output_type": "display_data"
    },
    {
     "name": "stdout",
     "output_type": "stream",
     "text": [
      "Epoch: 60 \tTraining Loss: 0.779842 \tValidation Loss: 0.801112\n",
      "Validation loss decreased (0.802404 --> 0.801112).  Saving model ...\n"
     ]
    },
    {
     "data": {
      "application/vnd.jupyter.widget-view+json": {
       "model_id": "4be0b477c9ea4ad7837542ad7a90fe44",
       "version_major": 2,
       "version_minor": 0
      },
      "text/plain": [
       "Epoch 61/150:   0%|          | 0/1407 [00:00<?, ?it/s]"
      ]
     },
     "metadata": {},
     "output_type": "display_data"
    },
    {
     "name": "stdout",
     "output_type": "stream",
     "text": [
      "Epoch: 61 \tTraining Loss: 0.778404 \tValidation Loss: 0.804009\n"
     ]
    },
    {
     "data": {
      "application/vnd.jupyter.widget-view+json": {
       "model_id": "316108dcf8114151a8bd595b9992a262",
       "version_major": 2,
       "version_minor": 0
      },
      "text/plain": [
       "Epoch 62/150:   0%|          | 0/1407 [00:00<?, ?it/s]"
      ]
     },
     "metadata": {},
     "output_type": "display_data"
    },
    {
     "name": "stdout",
     "output_type": "stream",
     "text": [
      "Epoch: 62 \tTraining Loss: 0.776677 \tValidation Loss: 0.798871\n",
      "Validation loss decreased (0.801112 --> 0.798871).  Saving model ...\n"
     ]
    },
    {
     "data": {
      "application/vnd.jupyter.widget-view+json": {
       "model_id": "fb69eca78f9447ec9f3acf98e5520df2",
       "version_major": 2,
       "version_minor": 0
      },
      "text/plain": [
       "Epoch 63/150:   0%|          | 0/1407 [00:00<?, ?it/s]"
      ]
     },
     "metadata": {},
     "output_type": "display_data"
    },
    {
     "name": "stdout",
     "output_type": "stream",
     "text": [
      "Epoch: 63 \tTraining Loss: 0.775407 \tValidation Loss: 0.800716\n"
     ]
    },
    {
     "data": {
      "application/vnd.jupyter.widget-view+json": {
       "model_id": "ed8fa5208c45428f8fce47c79ea1ab06",
       "version_major": 2,
       "version_minor": 0
      },
      "text/plain": [
       "Epoch 64/150:   0%|          | 0/1407 [00:00<?, ?it/s]"
      ]
     },
     "metadata": {},
     "output_type": "display_data"
    },
    {
     "name": "stdout",
     "output_type": "stream",
     "text": [
      "Epoch: 64 \tTraining Loss: 0.774195 \tValidation Loss: 0.796790\n",
      "Validation loss decreased (0.798871 --> 0.796790).  Saving model ...\n"
     ]
    },
    {
     "data": {
      "application/vnd.jupyter.widget-view+json": {
       "model_id": "6addbe4648b7406785a9c41c99188541",
       "version_major": 2,
       "version_minor": 0
      },
      "text/plain": [
       "Epoch 65/150:   0%|          | 0/1407 [00:00<?, ?it/s]"
      ]
     },
     "metadata": {},
     "output_type": "display_data"
    },
    {
     "name": "stdout",
     "output_type": "stream",
     "text": [
      "Epoch: 65 \tTraining Loss: 0.772559 \tValidation Loss: 0.791453\n",
      "Validation loss decreased (0.796790 --> 0.791453).  Saving model ...\n"
     ]
    },
    {
     "data": {
      "application/vnd.jupyter.widget-view+json": {
       "model_id": "61d2782b57da47dd9f1e87ba104883ce",
       "version_major": 2,
       "version_minor": 0
      },
      "text/plain": [
       "Epoch 66/150:   0%|          | 0/1407 [00:00<?, ?it/s]"
      ]
     },
     "metadata": {},
     "output_type": "display_data"
    },
    {
     "name": "stdout",
     "output_type": "stream",
     "text": [
      "Epoch: 66 \tTraining Loss: 0.771622 \tValidation Loss: 0.795496\n"
     ]
    },
    {
     "data": {
      "application/vnd.jupyter.widget-view+json": {
       "model_id": "af2df9e5ddd84e0797c7b442f5b14ba5",
       "version_major": 2,
       "version_minor": 0
      },
      "text/plain": [
       "Epoch 67/150:   0%|          | 0/1407 [00:00<?, ?it/s]"
      ]
     },
     "metadata": {},
     "output_type": "display_data"
    },
    {
     "name": "stdout",
     "output_type": "stream",
     "text": [
      "Epoch: 67 \tTraining Loss: 0.769770 \tValidation Loss: 0.796763\n"
     ]
    },
    {
     "data": {
      "application/vnd.jupyter.widget-view+json": {
       "model_id": "e86705b7c687494faecd6f92ec0463b5",
       "version_major": 2,
       "version_minor": 0
      },
      "text/plain": [
       "Epoch 68/150:   0%|          | 0/1407 [00:00<?, ?it/s]"
      ]
     },
     "metadata": {},
     "output_type": "display_data"
    },
    {
     "name": "stdout",
     "output_type": "stream",
     "text": [
      "Epoch: 68 \tTraining Loss: 0.768139 \tValidation Loss: 0.797391\n"
     ]
    },
    {
     "data": {
      "application/vnd.jupyter.widget-view+json": {
       "model_id": "9e3ab231024548aaa4ac74f9e9019833",
       "version_major": 2,
       "version_minor": 0
      },
      "text/plain": [
       "Epoch 69/150:   0%|          | 0/1407 [00:00<?, ?it/s]"
      ]
     },
     "metadata": {},
     "output_type": "display_data"
    },
    {
     "name": "stdout",
     "output_type": "stream",
     "text": [
      "Epoch: 69 \tTraining Loss: 0.767755 \tValidation Loss: 0.794560\n"
     ]
    },
    {
     "data": {
      "application/vnd.jupyter.widget-view+json": {
       "model_id": "4580cb9dbe5046ae9074a0bfbda19392",
       "version_major": 2,
       "version_minor": 0
      },
      "text/plain": [
       "Epoch 70/150:   0%|          | 0/1407 [00:00<?, ?it/s]"
      ]
     },
     "metadata": {},
     "output_type": "display_data"
    },
    {
     "name": "stdout",
     "output_type": "stream",
     "text": [
      "Epoch: 70 \tTraining Loss: 0.767134 \tValidation Loss: 0.797914\n"
     ]
    },
    {
     "data": {
      "application/vnd.jupyter.widget-view+json": {
       "model_id": "e2ed893b4cca4f1aab2d1df35ea0d213",
       "version_major": 2,
       "version_minor": 0
      },
      "text/plain": [
       "Epoch 71/150:   0%|          | 0/1407 [00:00<?, ?it/s]"
      ]
     },
     "metadata": {},
     "output_type": "display_data"
    },
    {
     "name": "stdout",
     "output_type": "stream",
     "text": [
      "Epoch: 71 \tTraining Loss: 0.764845 \tValidation Loss: 0.786548\n",
      "Validation loss decreased (0.791453 --> 0.786548).  Saving model ...\n"
     ]
    },
    {
     "data": {
      "application/vnd.jupyter.widget-view+json": {
       "model_id": "b9f1ce32069445fda587868f0191c55f",
       "version_major": 2,
       "version_minor": 0
      },
      "text/plain": [
       "Epoch 72/150:   0%|          | 0/1407 [00:00<?, ?it/s]"
      ]
     },
     "metadata": {},
     "output_type": "display_data"
    },
    {
     "name": "stdout",
     "output_type": "stream",
     "text": [
      "Epoch: 72 \tTraining Loss: 0.764056 \tValidation Loss: 0.790731\n"
     ]
    },
    {
     "data": {
      "application/vnd.jupyter.widget-view+json": {
       "model_id": "90873f0eeb944133b63487e2627870ce",
       "version_major": 2,
       "version_minor": 0
      },
      "text/plain": [
       "Epoch 73/150:   0%|          | 0/1407 [00:00<?, ?it/s]"
      ]
     },
     "metadata": {},
     "output_type": "display_data"
    },
    {
     "name": "stdout",
     "output_type": "stream",
     "text": [
      "Epoch: 73 \tTraining Loss: 0.762478 \tValidation Loss: 0.790590\n"
     ]
    },
    {
     "data": {
      "application/vnd.jupyter.widget-view+json": {
       "model_id": "e92b40ed2c1c45e89f55336b4d1af0ce",
       "version_major": 2,
       "version_minor": 0
      },
      "text/plain": [
       "Epoch 74/150:   0%|          | 0/1407 [00:00<?, ?it/s]"
      ]
     },
     "metadata": {},
     "output_type": "display_data"
    },
    {
     "name": "stdout",
     "output_type": "stream",
     "text": [
      "Epoch: 74 \tTraining Loss: 0.761396 \tValidation Loss: 0.788984\n"
     ]
    },
    {
     "data": {
      "application/vnd.jupyter.widget-view+json": {
       "model_id": "2cd490cbd9a2449e9c56106f4fc8225c",
       "version_major": 2,
       "version_minor": 0
      },
      "text/plain": [
       "Epoch 75/150:   0%|          | 0/1407 [00:00<?, ?it/s]"
      ]
     },
     "metadata": {},
     "output_type": "display_data"
    },
    {
     "name": "stdout",
     "output_type": "stream",
     "text": [
      "Epoch: 75 \tTraining Loss: 0.760260 \tValidation Loss: 0.790523\n"
     ]
    },
    {
     "data": {
      "application/vnd.jupyter.widget-view+json": {
       "model_id": "8a9537ccf5254f14905d39d4607d7638",
       "version_major": 2,
       "version_minor": 0
      },
      "text/plain": [
       "Epoch 76/150:   0%|          | 0/1407 [00:00<?, ?it/s]"
      ]
     },
     "metadata": {},
     "output_type": "display_data"
    },
    {
     "name": "stdout",
     "output_type": "stream",
     "text": [
      "Epoch: 76 \tTraining Loss: 0.759444 \tValidation Loss: 0.794011\n"
     ]
    },
    {
     "data": {
      "application/vnd.jupyter.widget-view+json": {
       "model_id": "cce2ffeb09574fbf8cef7c93d1c059c6",
       "version_major": 2,
       "version_minor": 0
      },
      "text/plain": [
       "Epoch 77/150:   0%|          | 0/1407 [00:00<?, ?it/s]"
      ]
     },
     "metadata": {},
     "output_type": "display_data"
    },
    {
     "name": "stdout",
     "output_type": "stream",
     "text": [
      "Epoch: 77 \tTraining Loss: 0.758329 \tValidation Loss: 0.788005\n"
     ]
    },
    {
     "data": {
      "application/vnd.jupyter.widget-view+json": {
       "model_id": "b093c1dcfae4471daeb2dc4efbb6c75c",
       "version_major": 2,
       "version_minor": 0
      },
      "text/plain": [
       "Epoch 78/150:   0%|          | 0/1407 [00:00<?, ?it/s]"
      ]
     },
     "metadata": {},
     "output_type": "display_data"
    },
    {
     "name": "stdout",
     "output_type": "stream",
     "text": [
      "Epoch: 78 \tTraining Loss: 0.757505 \tValidation Loss: 0.796331\n"
     ]
    },
    {
     "data": {
      "application/vnd.jupyter.widget-view+json": {
       "model_id": "2a0473fca77d48caa7d346ed8bdd8cf3",
       "version_major": 2,
       "version_minor": 0
      },
      "text/plain": [
       "Epoch 79/150:   0%|          | 0/1407 [00:00<?, ?it/s]"
      ]
     },
     "metadata": {},
     "output_type": "display_data"
    },
    {
     "name": "stdout",
     "output_type": "stream",
     "text": [
      "Epoch: 79 \tTraining Loss: 0.756736 \tValidation Loss: 0.783358\n",
      "Validation loss decreased (0.786548 --> 0.783358).  Saving model ...\n"
     ]
    },
    {
     "data": {
      "application/vnd.jupyter.widget-view+json": {
       "model_id": "a87f988f0ec94c2ea5a5194c8459aafe",
       "version_major": 2,
       "version_minor": 0
      },
      "text/plain": [
       "Epoch 80/150:   0%|          | 0/1407 [00:00<?, ?it/s]"
      ]
     },
     "metadata": {},
     "output_type": "display_data"
    },
    {
     "name": "stdout",
     "output_type": "stream",
     "text": [
      "Epoch: 80 \tTraining Loss: 0.755279 \tValidation Loss: 0.787204\n"
     ]
    },
    {
     "data": {
      "application/vnd.jupyter.widget-view+json": {
       "model_id": "f9466754efe5462cacb87295dfc58c17",
       "version_major": 2,
       "version_minor": 0
      },
      "text/plain": [
       "Epoch 81/150:   0%|          | 0/1407 [00:00<?, ?it/s]"
      ]
     },
     "metadata": {},
     "output_type": "display_data"
    },
    {
     "name": "stdout",
     "output_type": "stream",
     "text": [
      "Epoch: 81 \tTraining Loss: 0.754153 \tValidation Loss: 0.786807\n"
     ]
    },
    {
     "data": {
      "application/vnd.jupyter.widget-view+json": {
       "model_id": "f369aa1ca1344a9fb4cf0d1128b50b08",
       "version_major": 2,
       "version_minor": 0
      },
      "text/plain": [
       "Epoch 82/150:   0%|          | 0/1407 [00:00<?, ?it/s]"
      ]
     },
     "metadata": {},
     "output_type": "display_data"
    },
    {
     "name": "stdout",
     "output_type": "stream",
     "text": [
      "Epoch: 82 \tTraining Loss: 0.753882 \tValidation Loss: 0.787840\n"
     ]
    },
    {
     "data": {
      "application/vnd.jupyter.widget-view+json": {
       "model_id": "0f781a47fc57444185f0636c073725b0",
       "version_major": 2,
       "version_minor": 0
      },
      "text/plain": [
       "Epoch 83/150:   0%|          | 0/1407 [00:00<?, ?it/s]"
      ]
     },
     "metadata": {},
     "output_type": "display_data"
    },
    {
     "name": "stdout",
     "output_type": "stream",
     "text": [
      "Epoch: 83 \tTraining Loss: 0.752193 \tValidation Loss: 0.786136\n"
     ]
    },
    {
     "data": {
      "application/vnd.jupyter.widget-view+json": {
       "model_id": "147fddbfd97f451a8879467a0fefa507",
       "version_major": 2,
       "version_minor": 0
      },
      "text/plain": [
       "Epoch 84/150:   0%|          | 0/1407 [00:00<?, ?it/s]"
      ]
     },
     "metadata": {},
     "output_type": "display_data"
    },
    {
     "name": "stdout",
     "output_type": "stream",
     "text": [
      "Epoch: 84 \tTraining Loss: 0.751301 \tValidation Loss: 0.789011\n"
     ]
    },
    {
     "data": {
      "application/vnd.jupyter.widget-view+json": {
       "model_id": "300cee4dacdb4e68b43ce6c1db54dc3d",
       "version_major": 2,
       "version_minor": 0
      },
      "text/plain": [
       "Epoch 85/150:   0%|          | 0/1407 [00:00<?, ?it/s]"
      ]
     },
     "metadata": {},
     "output_type": "display_data"
    },
    {
     "name": "stdout",
     "output_type": "stream",
     "text": [
      "Epoch: 85 \tTraining Loss: 0.750718 \tValidation Loss: 0.782157\n",
      "Validation loss decreased (0.783358 --> 0.782157).  Saving model ...\n"
     ]
    },
    {
     "data": {
      "application/vnd.jupyter.widget-view+json": {
       "model_id": "54db2c70999e497b8634e4d9dda0edaf",
       "version_major": 2,
       "version_minor": 0
      },
      "text/plain": [
       "Epoch 86/150:   0%|          | 0/1407 [00:00<?, ?it/s]"
      ]
     },
     "metadata": {},
     "output_type": "display_data"
    },
    {
     "name": "stdout",
     "output_type": "stream",
     "text": [
      "Epoch: 86 \tTraining Loss: 0.749285 \tValidation Loss: 0.785277\n"
     ]
    },
    {
     "data": {
      "application/vnd.jupyter.widget-view+json": {
       "model_id": "033d5fe60ba04b1a9d8b955423accd04",
       "version_major": 2,
       "version_minor": 0
      },
      "text/plain": [
       "Epoch 87/150:   0%|          | 0/1407 [00:00<?, ?it/s]"
      ]
     },
     "metadata": {},
     "output_type": "display_data"
    },
    {
     "name": "stdout",
     "output_type": "stream",
     "text": [
      "Epoch: 87 \tTraining Loss: 0.748931 \tValidation Loss: 0.784692\n"
     ]
    },
    {
     "data": {
      "application/vnd.jupyter.widget-view+json": {
       "model_id": "87847276acc64f7fb3fa1b124edb719a",
       "version_major": 2,
       "version_minor": 0
      },
      "text/plain": [
       "Epoch 88/150:   0%|          | 0/1407 [00:00<?, ?it/s]"
      ]
     },
     "metadata": {},
     "output_type": "display_data"
    },
    {
     "name": "stdout",
     "output_type": "stream",
     "text": [
      "Epoch: 88 \tTraining Loss: 0.748114 \tValidation Loss: 0.788125\n"
     ]
    },
    {
     "data": {
      "application/vnd.jupyter.widget-view+json": {
       "model_id": "99ed8dd886524ca19fdc0c2db3a6454c",
       "version_major": 2,
       "version_minor": 0
      },
      "text/plain": [
       "Epoch 89/150:   0%|          | 0/1407 [00:00<?, ?it/s]"
      ]
     },
     "metadata": {},
     "output_type": "display_data"
    },
    {
     "name": "stdout",
     "output_type": "stream",
     "text": [
      "Epoch: 89 \tTraining Loss: 0.747174 \tValidation Loss: 0.783999\n"
     ]
    },
    {
     "data": {
      "application/vnd.jupyter.widget-view+json": {
       "model_id": "6162753b5a4b44c3ba7a3f79b9755a6f",
       "version_major": 2,
       "version_minor": 0
      },
      "text/plain": [
       "Epoch 90/150:   0%|          | 0/1407 [00:00<?, ?it/s]"
      ]
     },
     "metadata": {},
     "output_type": "display_data"
    },
    {
     "name": "stdout",
     "output_type": "stream",
     "text": [
      "Epoch: 90 \tTraining Loss: 0.745791 \tValidation Loss: 0.782319\n"
     ]
    },
    {
     "data": {
      "application/vnd.jupyter.widget-view+json": {
       "model_id": "6c05997f94d84737baa8fcae85b06964",
       "version_major": 2,
       "version_minor": 0
      },
      "text/plain": [
       "Epoch 91/150:   0%|          | 0/1407 [00:00<?, ?it/s]"
      ]
     },
     "metadata": {},
     "output_type": "display_data"
    },
    {
     "name": "stdout",
     "output_type": "stream",
     "text": [
      "Epoch: 91 \tTraining Loss: 0.744979 \tValidation Loss: 0.781415\n",
      "Validation loss decreased (0.782157 --> 0.781415).  Saving model ...\n"
     ]
    },
    {
     "data": {
      "application/vnd.jupyter.widget-view+json": {
       "model_id": "3a45bdbd7bc74b54a54cc83a3ac1cbdc",
       "version_major": 2,
       "version_minor": 0
      },
      "text/plain": [
       "Epoch 92/150:   0%|          | 0/1407 [00:00<?, ?it/s]"
      ]
     },
     "metadata": {},
     "output_type": "display_data"
    },
    {
     "name": "stdout",
     "output_type": "stream",
     "text": [
      "Epoch: 92 \tTraining Loss: 0.744180 \tValidation Loss: 0.781788\n"
     ]
    },
    {
     "data": {
      "application/vnd.jupyter.widget-view+json": {
       "model_id": "1afc925fcf76498180247551d48520cf",
       "version_major": 2,
       "version_minor": 0
      },
      "text/plain": [
       "Epoch 93/150:   0%|          | 0/1407 [00:00<?, ?it/s]"
      ]
     },
     "metadata": {},
     "output_type": "display_data"
    },
    {
     "name": "stdout",
     "output_type": "stream",
     "text": [
      "Epoch: 93 \tTraining Loss: 0.743242 \tValidation Loss: 0.783396\n"
     ]
    },
    {
     "data": {
      "application/vnd.jupyter.widget-view+json": {
       "model_id": "86d2a0fe1a914409b69e6fc80a80d6a6",
       "version_major": 2,
       "version_minor": 0
      },
      "text/plain": [
       "Epoch 94/150:   0%|          | 0/1407 [00:00<?, ?it/s]"
      ]
     },
     "metadata": {},
     "output_type": "display_data"
    },
    {
     "name": "stdout",
     "output_type": "stream",
     "text": [
      "Epoch: 94 \tTraining Loss: 0.741912 \tValidation Loss: 0.791510\n"
     ]
    },
    {
     "data": {
      "application/vnd.jupyter.widget-view+json": {
       "model_id": "32aee62f63134eb68369d527262a6645",
       "version_major": 2,
       "version_minor": 0
      },
      "text/plain": [
       "Epoch 95/150:   0%|          | 0/1407 [00:00<?, ?it/s]"
      ]
     },
     "metadata": {},
     "output_type": "display_data"
    },
    {
     "name": "stdout",
     "output_type": "stream",
     "text": [
      "Epoch: 95 \tTraining Loss: 0.741560 \tValidation Loss: 0.782269\n"
     ]
    },
    {
     "data": {
      "application/vnd.jupyter.widget-view+json": {
       "model_id": "51074bd768314d5693047a518ed4693c",
       "version_major": 2,
       "version_minor": 0
      },
      "text/plain": [
       "Epoch 96/150:   0%|          | 0/1407 [00:00<?, ?it/s]"
      ]
     },
     "metadata": {},
     "output_type": "display_data"
    },
    {
     "name": "stdout",
     "output_type": "stream",
     "text": [
      "Epoch: 96 \tTraining Loss: 0.740824 \tValidation Loss: 0.785926\n"
     ]
    },
    {
     "data": {
      "application/vnd.jupyter.widget-view+json": {
       "model_id": "3b32d0d1f50c4a4faa9359ecb1851b0c",
       "version_major": 2,
       "version_minor": 0
      },
      "text/plain": [
       "Epoch 97/150:   0%|          | 0/1407 [00:00<?, ?it/s]"
      ]
     },
     "metadata": {},
     "output_type": "display_data"
    },
    {
     "name": "stdout",
     "output_type": "stream",
     "text": [
      "Epoch: 97 \tTraining Loss: 0.740144 \tValidation Loss: 0.788085\n"
     ]
    },
    {
     "data": {
      "application/vnd.jupyter.widget-view+json": {
       "model_id": "85c90d0ce2234c10a585989fb877367a",
       "version_major": 2,
       "version_minor": 0
      },
      "text/plain": [
       "Epoch 98/150:   0%|          | 0/1407 [00:00<?, ?it/s]"
      ]
     },
     "metadata": {},
     "output_type": "display_data"
    },
    {
     "name": "stdout",
     "output_type": "stream",
     "text": [
      "Epoch: 98 \tTraining Loss: 0.738896 \tValidation Loss: 0.784702\n"
     ]
    },
    {
     "data": {
      "application/vnd.jupyter.widget-view+json": {
       "model_id": "b1aef80dbff540909f3b9de9d6d772dc",
       "version_major": 2,
       "version_minor": 0
      },
      "text/plain": [
       "Epoch 99/150:   0%|          | 0/1407 [00:00<?, ?it/s]"
      ]
     },
     "metadata": {},
     "output_type": "display_data"
    },
    {
     "name": "stdout",
     "output_type": "stream",
     "text": [
      "Epoch: 99 \tTraining Loss: 0.738164 \tValidation Loss: 0.783066\n"
     ]
    },
    {
     "data": {
      "application/vnd.jupyter.widget-view+json": {
       "model_id": "6095345d9c5548909967be0151a7ce00",
       "version_major": 2,
       "version_minor": 0
      },
      "text/plain": [
       "Epoch 100/150:   0%|          | 0/1407 [00:00<?, ?it/s]"
      ]
     },
     "metadata": {},
     "output_type": "display_data"
    },
    {
     "name": "stdout",
     "output_type": "stream",
     "text": [
      "Epoch: 100 \tTraining Loss: 0.738403 \tValidation Loss: 0.783843\n"
     ]
    },
    {
     "data": {
      "application/vnd.jupyter.widget-view+json": {
       "model_id": "aa541c53b1824ecd9250fbd452970d6e",
       "version_major": 2,
       "version_minor": 0
      },
      "text/plain": [
       "Epoch 101/150:   0%|          | 0/1407 [00:00<?, ?it/s]"
      ]
     },
     "metadata": {},
     "output_type": "display_data"
    },
    {
     "name": "stdout",
     "output_type": "stream",
     "text": [
      "Epoch: 101 \tTraining Loss: 0.736273 \tValidation Loss: 0.784657\n"
     ]
    },
    {
     "data": {
      "application/vnd.jupyter.widget-view+json": {
       "model_id": "bce49fde70a6494a9ed860f70c63ea0e",
       "version_major": 2,
       "version_minor": 0
      },
      "text/plain": [
       "Epoch 102/150:   0%|          | 0/1407 [00:00<?, ?it/s]"
      ]
     },
     "metadata": {},
     "output_type": "display_data"
    },
    {
     "name": "stdout",
     "output_type": "stream",
     "text": [
      "Epoch: 102 \tTraining Loss: 0.735833 \tValidation Loss: 0.782831\n"
     ]
    },
    {
     "data": {
      "application/vnd.jupyter.widget-view+json": {
       "model_id": "755a799fc0974191abd1e558ec6c042f",
       "version_major": 2,
       "version_minor": 0
      },
      "text/plain": [
       "Epoch 103/150:   0%|          | 0/1407 [00:00<?, ?it/s]"
      ]
     },
     "metadata": {},
     "output_type": "display_data"
    },
    {
     "name": "stdout",
     "output_type": "stream",
     "text": [
      "Epoch: 103 \tTraining Loss: 0.735269 \tValidation Loss: 0.783922\n"
     ]
    },
    {
     "data": {
      "application/vnd.jupyter.widget-view+json": {
       "model_id": "0f2afd5d7c9f4e2cb2346b4ba4d4c38c",
       "version_major": 2,
       "version_minor": 0
      },
      "text/plain": [
       "Epoch 104/150:   0%|          | 0/1407 [00:00<?, ?it/s]"
      ]
     },
     "metadata": {},
     "output_type": "display_data"
    },
    {
     "name": "stdout",
     "output_type": "stream",
     "text": [
      "Epoch: 104 \tTraining Loss: 0.734583 \tValidation Loss: 0.781250\n",
      "Validation loss decreased (0.781415 --> 0.781250).  Saving model ...\n"
     ]
    },
    {
     "data": {
      "application/vnd.jupyter.widget-view+json": {
       "model_id": "1d69f67f482e45b68e058316b99c14c5",
       "version_major": 2,
       "version_minor": 0
      },
      "text/plain": [
       "Epoch 105/150:   0%|          | 0/1407 [00:00<?, ?it/s]"
      ]
     },
     "metadata": {},
     "output_type": "display_data"
    },
    {
     "name": "stdout",
     "output_type": "stream",
     "text": [
      "Epoch: 105 \tTraining Loss: 0.733403 \tValidation Loss: 0.780349\n",
      "Validation loss decreased (0.781250 --> 0.780349).  Saving model ...\n"
     ]
    },
    {
     "data": {
      "application/vnd.jupyter.widget-view+json": {
       "model_id": "a408597ab9f149819e90076652be5ac7",
       "version_major": 2,
       "version_minor": 0
      },
      "text/plain": [
       "Epoch 106/150:   0%|          | 0/1407 [00:00<?, ?it/s]"
      ]
     },
     "metadata": {},
     "output_type": "display_data"
    },
    {
     "name": "stdout",
     "output_type": "stream",
     "text": [
      "Epoch: 106 \tTraining Loss: 0.733321 \tValidation Loss: 0.787437\n"
     ]
    },
    {
     "data": {
      "application/vnd.jupyter.widget-view+json": {
       "model_id": "ce3ca38227be46338dc7aa0088205442",
       "version_major": 2,
       "version_minor": 0
      },
      "text/plain": [
       "Epoch 107/150:   0%|          | 0/1407 [00:00<?, ?it/s]"
      ]
     },
     "metadata": {},
     "output_type": "display_data"
    },
    {
     "name": "stdout",
     "output_type": "stream",
     "text": [
      "Epoch: 107 \tTraining Loss: 0.732623 \tValidation Loss: 0.782145\n"
     ]
    },
    {
     "data": {
      "application/vnd.jupyter.widget-view+json": {
       "model_id": "0eddf10a3b69406985a50fbd14193292",
       "version_major": 2,
       "version_minor": 0
      },
      "text/plain": [
       "Epoch 108/150:   0%|          | 0/1407 [00:00<?, ?it/s]"
      ]
     },
     "metadata": {},
     "output_type": "display_data"
    },
    {
     "name": "stdout",
     "output_type": "stream",
     "text": [
      "Epoch: 108 \tTraining Loss: 0.731202 \tValidation Loss: 0.780841\n"
     ]
    },
    {
     "data": {
      "application/vnd.jupyter.widget-view+json": {
       "model_id": "23ecc55e4bec48ea8289c0501502c199",
       "version_major": 2,
       "version_minor": 0
      },
      "text/plain": [
       "Epoch 109/150:   0%|          | 0/1407 [00:00<?, ?it/s]"
      ]
     },
     "metadata": {},
     "output_type": "display_data"
    },
    {
     "name": "stdout",
     "output_type": "stream",
     "text": [
      "Epoch: 109 \tTraining Loss: 0.730513 \tValidation Loss: 0.780226\n",
      "Validation loss decreased (0.780349 --> 0.780226).  Saving model ...\n"
     ]
    },
    {
     "data": {
      "application/vnd.jupyter.widget-view+json": {
       "model_id": "e28d22e67a494499beac42cca1c036a7",
       "version_major": 2,
       "version_minor": 0
      },
      "text/plain": [
       "Epoch 110/150:   0%|          | 0/1407 [00:00<?, ?it/s]"
      ]
     },
     "metadata": {},
     "output_type": "display_data"
    },
    {
     "name": "stdout",
     "output_type": "stream",
     "text": [
      "Epoch: 110 \tTraining Loss: 0.729367 \tValidation Loss: 0.783848\n"
     ]
    },
    {
     "data": {
      "application/vnd.jupyter.widget-view+json": {
       "model_id": "ad407e9bd0b34162950c044828577a80",
       "version_major": 2,
       "version_minor": 0
      },
      "text/plain": [
       "Epoch 111/150:   0%|          | 0/1407 [00:00<?, ?it/s]"
      ]
     },
     "metadata": {},
     "output_type": "display_data"
    },
    {
     "name": "stdout",
     "output_type": "stream",
     "text": [
      "Epoch: 111 \tTraining Loss: 0.728905 \tValidation Loss: 0.789505\n"
     ]
    },
    {
     "data": {
      "application/vnd.jupyter.widget-view+json": {
       "model_id": "16e0f2c888b0474cb476672c277e4ff4",
       "version_major": 2,
       "version_minor": 0
      },
      "text/plain": [
       "Epoch 112/150:   0%|          | 0/1407 [00:00<?, ?it/s]"
      ]
     },
     "metadata": {},
     "output_type": "display_data"
    },
    {
     "name": "stdout",
     "output_type": "stream",
     "text": [
      "Epoch: 112 \tTraining Loss: 0.728568 \tValidation Loss: 0.777823\n",
      "Validation loss decreased (0.780226 --> 0.777823).  Saving model ...\n"
     ]
    },
    {
     "data": {
      "application/vnd.jupyter.widget-view+json": {
       "model_id": "a803e64c81c64f72b691b111e2821c4e",
       "version_major": 2,
       "version_minor": 0
      },
      "text/plain": [
       "Epoch 113/150:   0%|          | 0/1407 [00:00<?, ?it/s]"
      ]
     },
     "metadata": {},
     "output_type": "display_data"
    },
    {
     "name": "stdout",
     "output_type": "stream",
     "text": [
      "Epoch: 113 \tTraining Loss: 0.727436 \tValidation Loss: 0.780403\n"
     ]
    },
    {
     "data": {
      "application/vnd.jupyter.widget-view+json": {
       "model_id": "947942e5823f4ccc8a629bb311e4fd77",
       "version_major": 2,
       "version_minor": 0
      },
      "text/plain": [
       "Epoch 114/150:   0%|          | 0/1407 [00:00<?, ?it/s]"
      ]
     },
     "metadata": {},
     "output_type": "display_data"
    },
    {
     "name": "stdout",
     "output_type": "stream",
     "text": [
      "Epoch: 114 \tTraining Loss: 0.726593 \tValidation Loss: 0.781943\n"
     ]
    },
    {
     "data": {
      "application/vnd.jupyter.widget-view+json": {
       "model_id": "ce28beec464b423eb4e96bcd726b8cf1",
       "version_major": 2,
       "version_minor": 0
      },
      "text/plain": [
       "Epoch 115/150:   0%|          | 0/1407 [00:00<?, ?it/s]"
      ]
     },
     "metadata": {},
     "output_type": "display_data"
    },
    {
     "name": "stdout",
     "output_type": "stream",
     "text": [
      "Epoch: 115 \tTraining Loss: 0.727003 \tValidation Loss: 0.782273\n"
     ]
    },
    {
     "data": {
      "application/vnd.jupyter.widget-view+json": {
       "model_id": "566a761e3b9f493e80dfd38c088a2e93",
       "version_major": 2,
       "version_minor": 0
      },
      "text/plain": [
       "Epoch 116/150:   0%|          | 0/1407 [00:00<?, ?it/s]"
      ]
     },
     "metadata": {},
     "output_type": "display_data"
    },
    {
     "name": "stdout",
     "output_type": "stream",
     "text": [
      "Epoch: 116 \tTraining Loss: 0.725777 \tValidation Loss: 0.778795\n"
     ]
    },
    {
     "data": {
      "application/vnd.jupyter.widget-view+json": {
       "model_id": "b2e0f3d7a0614dd1be3a3c95af45fcda",
       "version_major": 2,
       "version_minor": 0
      },
      "text/plain": [
       "Epoch 117/150:   0%|          | 0/1407 [00:00<?, ?it/s]"
      ]
     },
     "metadata": {},
     "output_type": "display_data"
    },
    {
     "name": "stdout",
     "output_type": "stream",
     "text": [
      "Epoch: 117 \tTraining Loss: 0.724543 \tValidation Loss: 0.779292\n"
     ]
    },
    {
     "data": {
      "application/vnd.jupyter.widget-view+json": {
       "model_id": "2c6b31ffea764eb88f320567294c9cd5",
       "version_major": 2,
       "version_minor": 0
      },
      "text/plain": [
       "Epoch 118/150:   0%|          | 0/1407 [00:00<?, ?it/s]"
      ]
     },
     "metadata": {},
     "output_type": "display_data"
    },
    {
     "name": "stdout",
     "output_type": "stream",
     "text": [
      "Epoch: 118 \tTraining Loss: 0.724818 \tValidation Loss: 0.779795\n"
     ]
    },
    {
     "data": {
      "application/vnd.jupyter.widget-view+json": {
       "model_id": "dc70edc7f1bc407681fc1d891fe42738",
       "version_major": 2,
       "version_minor": 0
      },
      "text/plain": [
       "Epoch 119/150:   0%|          | 0/1407 [00:00<?, ?it/s]"
      ]
     },
     "metadata": {},
     "output_type": "display_data"
    },
    {
     "name": "stdout",
     "output_type": "stream",
     "text": [
      "Epoch: 119 \tTraining Loss: 0.723857 \tValidation Loss: 0.783091\n"
     ]
    },
    {
     "data": {
      "application/vnd.jupyter.widget-view+json": {
       "model_id": "e00055a2e21841d597b09c0155a8828b",
       "version_major": 2,
       "version_minor": 0
      },
      "text/plain": [
       "Epoch 120/150:   0%|          | 0/1407 [00:00<?, ?it/s]"
      ]
     },
     "metadata": {},
     "output_type": "display_data"
    },
    {
     "name": "stdout",
     "output_type": "stream",
     "text": [
      "Epoch: 120 \tTraining Loss: 0.722692 \tValidation Loss: 0.787909\n"
     ]
    },
    {
     "data": {
      "application/vnd.jupyter.widget-view+json": {
       "model_id": "c4cd824bbbac4f8eb3d823fea911fe2b",
       "version_major": 2,
       "version_minor": 0
      },
      "text/plain": [
       "Epoch 121/150:   0%|          | 0/1407 [00:00<?, ?it/s]"
      ]
     },
     "metadata": {},
     "output_type": "display_data"
    },
    {
     "name": "stdout",
     "output_type": "stream",
     "text": [
      "Epoch: 121 \tTraining Loss: 0.722037 \tValidation Loss: 0.778544\n"
     ]
    },
    {
     "data": {
      "application/vnd.jupyter.widget-view+json": {
       "model_id": "ac3eb6e97af240e6b844cbc24ef2c103",
       "version_major": 2,
       "version_minor": 0
      },
      "text/plain": [
       "Epoch 122/150:   0%|          | 0/1407 [00:00<?, ?it/s]"
      ]
     },
     "metadata": {},
     "output_type": "display_data"
    },
    {
     "name": "stdout",
     "output_type": "stream",
     "text": [
      "Epoch: 122 \tTraining Loss: 0.721128 \tValidation Loss: 0.784201\n"
     ]
    },
    {
     "data": {
      "application/vnd.jupyter.widget-view+json": {
       "model_id": "331a653c12a946bd960fe562d0831095",
       "version_major": 2,
       "version_minor": 0
      },
      "text/plain": [
       "Epoch 123/150:   0%|          | 0/1407 [00:00<?, ?it/s]"
      ]
     },
     "metadata": {},
     "output_type": "display_data"
    },
    {
     "name": "stdout",
     "output_type": "stream",
     "text": [
      "Epoch: 123 \tTraining Loss: 0.721061 \tValidation Loss: 0.782468\n"
     ]
    },
    {
     "data": {
      "application/vnd.jupyter.widget-view+json": {
       "model_id": "83b92cd0392143f688b3157ecd11177f",
       "version_major": 2,
       "version_minor": 0
      },
      "text/plain": [
       "Epoch 124/150:   0%|          | 0/1407 [00:00<?, ?it/s]"
      ]
     },
     "metadata": {},
     "output_type": "display_data"
    },
    {
     "name": "stdout",
     "output_type": "stream",
     "text": [
      "Epoch: 124 \tTraining Loss: 0.719376 \tValidation Loss: 0.786462\n"
     ]
    },
    {
     "data": {
      "application/vnd.jupyter.widget-view+json": {
       "model_id": "1d2c5fcd394b4eac91b82cc50be7ff6e",
       "version_major": 2,
       "version_minor": 0
      },
      "text/plain": [
       "Epoch 125/150:   0%|          | 0/1407 [00:00<?, ?it/s]"
      ]
     },
     "metadata": {},
     "output_type": "display_data"
    },
    {
     "name": "stdout",
     "output_type": "stream",
     "text": [
      "Epoch: 125 \tTraining Loss: 0.719372 \tValidation Loss: 0.784270\n"
     ]
    },
    {
     "data": {
      "application/vnd.jupyter.widget-view+json": {
       "model_id": "ca68fa6fdba74ec38764999f97538bc2",
       "version_major": 2,
       "version_minor": 0
      },
      "text/plain": [
       "Epoch 126/150:   0%|          | 0/1407 [00:00<?, ?it/s]"
      ]
     },
     "metadata": {},
     "output_type": "display_data"
    },
    {
     "name": "stdout",
     "output_type": "stream",
     "text": [
      "Epoch: 126 \tTraining Loss: 0.718456 \tValidation Loss: 0.783214\n"
     ]
    },
    {
     "data": {
      "application/vnd.jupyter.widget-view+json": {
       "model_id": "4c11193f470c4d9b87012964418389ee",
       "version_major": 2,
       "version_minor": 0
      },
      "text/plain": [
       "Epoch 127/150:   0%|          | 0/1407 [00:00<?, ?it/s]"
      ]
     },
     "metadata": {},
     "output_type": "display_data"
    },
    {
     "name": "stdout",
     "output_type": "stream",
     "text": [
      "Epoch: 127 \tTraining Loss: 0.717576 \tValidation Loss: 0.786865\n"
     ]
    },
    {
     "data": {
      "application/vnd.jupyter.widget-view+json": {
       "model_id": "0b0bfdfb8e1f4ccfad587a5cddd059af",
       "version_major": 2,
       "version_minor": 0
      },
      "text/plain": [
       "Epoch 128/150:   0%|          | 0/1407 [00:00<?, ?it/s]"
      ]
     },
     "metadata": {},
     "output_type": "display_data"
    },
    {
     "name": "stdout",
     "output_type": "stream",
     "text": [
      "Epoch: 128 \tTraining Loss: 0.717621 \tValidation Loss: 0.785384\n"
     ]
    },
    {
     "data": {
      "application/vnd.jupyter.widget-view+json": {
       "model_id": "4b6468f803c34e48883f7747132cab4e",
       "version_major": 2,
       "version_minor": 0
      },
      "text/plain": [
       "Epoch 129/150:   0%|          | 0/1407 [00:00<?, ?it/s]"
      ]
     },
     "metadata": {},
     "output_type": "display_data"
    },
    {
     "name": "stdout",
     "output_type": "stream",
     "text": [
      "Epoch: 129 \tTraining Loss: 0.716936 \tValidation Loss: 0.781572\n"
     ]
    },
    {
     "data": {
      "application/vnd.jupyter.widget-view+json": {
       "model_id": "b06590e609dd499f88fa7281a3584e94",
       "version_major": 2,
       "version_minor": 0
      },
      "text/plain": [
       "Epoch 130/150:   0%|          | 0/1407 [00:00<?, ?it/s]"
      ]
     },
     "metadata": {},
     "output_type": "display_data"
    },
    {
     "name": "stdout",
     "output_type": "stream",
     "text": [
      "Epoch: 130 \tTraining Loss: 0.716111 \tValidation Loss: 0.784524\n"
     ]
    },
    {
     "data": {
      "application/vnd.jupyter.widget-view+json": {
       "model_id": "5207c6fac6404e839e9052b407a0d392",
       "version_major": 2,
       "version_minor": 0
      },
      "text/plain": [
       "Epoch 131/150:   0%|          | 0/1407 [00:00<?, ?it/s]"
      ]
     },
     "metadata": {},
     "output_type": "display_data"
    },
    {
     "name": "stdout",
     "output_type": "stream",
     "text": [
      "Epoch: 131 \tTraining Loss: 0.715068 \tValidation Loss: 0.789203\n"
     ]
    },
    {
     "data": {
      "application/vnd.jupyter.widget-view+json": {
       "model_id": "642e6f73acb249a0a1be78e8a78df51b",
       "version_major": 2,
       "version_minor": 0
      },
      "text/plain": [
       "Epoch 132/150:   0%|          | 0/1407 [00:00<?, ?it/s]"
      ]
     },
     "metadata": {},
     "output_type": "display_data"
    },
    {
     "name": "stdout",
     "output_type": "stream",
     "text": [
      "Epoch: 132 \tTraining Loss: 0.714693 \tValidation Loss: 0.781664\n"
     ]
    },
    {
     "data": {
      "application/vnd.jupyter.widget-view+json": {
       "model_id": "d4552a7d1739404f837766368363a97f",
       "version_major": 2,
       "version_minor": 0
      },
      "text/plain": [
       "Epoch 133/150:   0%|          | 0/1407 [00:00<?, ?it/s]"
      ]
     },
     "metadata": {},
     "output_type": "display_data"
    },
    {
     "name": "stdout",
     "output_type": "stream",
     "text": [
      "Epoch: 133 \tTraining Loss: 0.714569 \tValidation Loss: 0.783546\n"
     ]
    },
    {
     "data": {
      "application/vnd.jupyter.widget-view+json": {
       "model_id": "c317aea9485346d787d5c5ca4531b02c",
       "version_major": 2,
       "version_minor": 0
      },
      "text/plain": [
       "Epoch 134/150:   0%|          | 0/1407 [00:00<?, ?it/s]"
      ]
     },
     "metadata": {},
     "output_type": "display_data"
    },
    {
     "name": "stdout",
     "output_type": "stream",
     "text": [
      "Epoch: 134 \tTraining Loss: 0.714038 \tValidation Loss: 0.784941\n"
     ]
    },
    {
     "data": {
      "application/vnd.jupyter.widget-view+json": {
       "model_id": "6489ed05d0024535812800a9f3e2d46b",
       "version_major": 2,
       "version_minor": 0
      },
      "text/plain": [
       "Epoch 135/150:   0%|          | 0/1407 [00:00<?, ?it/s]"
      ]
     },
     "metadata": {},
     "output_type": "display_data"
    },
    {
     "name": "stdout",
     "output_type": "stream",
     "text": [
      "Epoch: 135 \tTraining Loss: 0.712760 \tValidation Loss: 0.786789\n"
     ]
    },
    {
     "data": {
      "application/vnd.jupyter.widget-view+json": {
       "model_id": "0ae3c54fc40045ceb68c7f60651a14d5",
       "version_major": 2,
       "version_minor": 0
      },
      "text/plain": [
       "Epoch 136/150:   0%|          | 0/1407 [00:00<?, ?it/s]"
      ]
     },
     "metadata": {},
     "output_type": "display_data"
    },
    {
     "name": "stdout",
     "output_type": "stream",
     "text": [
      "Epoch: 136 \tTraining Loss: 0.712656 \tValidation Loss: 0.784456\n"
     ]
    },
    {
     "data": {
      "application/vnd.jupyter.widget-view+json": {
       "model_id": "92fd96ef1ef6484b89414c365bc4b40c",
       "version_major": 2,
       "version_minor": 0
      },
      "text/plain": [
       "Epoch 137/150:   0%|          | 0/1407 [00:00<?, ?it/s]"
      ]
     },
     "metadata": {},
     "output_type": "display_data"
    },
    {
     "name": "stdout",
     "output_type": "stream",
     "text": [
      "Epoch: 137 \tTraining Loss: 0.711989 \tValidation Loss: 0.792371\n"
     ]
    },
    {
     "data": {
      "application/vnd.jupyter.widget-view+json": {
       "model_id": "86c181f9950f4c10a41f2171c80648eb",
       "version_major": 2,
       "version_minor": 0
      },
      "text/plain": [
       "Epoch 138/150:   0%|          | 0/1407 [00:00<?, ?it/s]"
      ]
     },
     "metadata": {},
     "output_type": "display_data"
    },
    {
     "name": "stdout",
     "output_type": "stream",
     "text": [
      "Epoch: 138 \tTraining Loss: 0.710736 \tValidation Loss: 0.786358\n"
     ]
    },
    {
     "data": {
      "application/vnd.jupyter.widget-view+json": {
       "model_id": "6e708c11eaa4401796714ff723ca78e3",
       "version_major": 2,
       "version_minor": 0
      },
      "text/plain": [
       "Epoch 139/150:   0%|          | 0/1407 [00:00<?, ?it/s]"
      ]
     },
     "metadata": {},
     "output_type": "display_data"
    },
    {
     "name": "stdout",
     "output_type": "stream",
     "text": [
      "Epoch: 139 \tTraining Loss: 0.710444 \tValidation Loss: 0.785564\n"
     ]
    },
    {
     "data": {
      "application/vnd.jupyter.widget-view+json": {
       "model_id": "c41514a8d87d40f7aab2c3a2e9a3169e",
       "version_major": 2,
       "version_minor": 0
      },
      "text/plain": [
       "Epoch 140/150:   0%|          | 0/1407 [00:00<?, ?it/s]"
      ]
     },
     "metadata": {},
     "output_type": "display_data"
    },
    {
     "name": "stdout",
     "output_type": "stream",
     "text": [
      "Epoch: 140 \tTraining Loss: 0.709981 \tValidation Loss: 0.782237\n"
     ]
    },
    {
     "data": {
      "application/vnd.jupyter.widget-view+json": {
       "model_id": "7b40921e97314dde9433b01b12a2cfd4",
       "version_major": 2,
       "version_minor": 0
      },
      "text/plain": [
       "Epoch 141/150:   0%|          | 0/1407 [00:00<?, ?it/s]"
      ]
     },
     "metadata": {},
     "output_type": "display_data"
    },
    {
     "name": "stdout",
     "output_type": "stream",
     "text": [
      "Epoch: 141 \tTraining Loss: 0.709319 \tValidation Loss: 0.786542\n"
     ]
    },
    {
     "data": {
      "application/vnd.jupyter.widget-view+json": {
       "model_id": "5f8b7d64237342eb82b7dfde7b477f2f",
       "version_major": 2,
       "version_minor": 0
      },
      "text/plain": [
       "Epoch 142/150:   0%|          | 0/1407 [00:00<?, ?it/s]"
      ]
     },
     "metadata": {},
     "output_type": "display_data"
    },
    {
     "name": "stdout",
     "output_type": "stream",
     "text": [
      "Epoch: 142 \tTraining Loss: 0.708410 \tValidation Loss: 0.781501\n"
     ]
    },
    {
     "data": {
      "application/vnd.jupyter.widget-view+json": {
       "model_id": "7011cf11feb548c69bbc902a4ee0c973",
       "version_major": 2,
       "version_minor": 0
      },
      "text/plain": [
       "Epoch 143/150:   0%|          | 0/1407 [00:00<?, ?it/s]"
      ]
     },
     "metadata": {},
     "output_type": "display_data"
    },
    {
     "name": "stdout",
     "output_type": "stream",
     "text": [
      "Epoch: 143 \tTraining Loss: 0.709404 \tValidation Loss: 0.785704\n"
     ]
    },
    {
     "data": {
      "application/vnd.jupyter.widget-view+json": {
       "model_id": "4c696044160148e5a4ca4688f645eeb0",
       "version_major": 2,
       "version_minor": 0
      },
      "text/plain": [
       "Epoch 144/150:   0%|          | 0/1407 [00:00<?, ?it/s]"
      ]
     },
     "metadata": {},
     "output_type": "display_data"
    },
    {
     "name": "stdout",
     "output_type": "stream",
     "text": [
      "Epoch: 144 \tTraining Loss: 0.706539 \tValidation Loss: 0.786602\n"
     ]
    },
    {
     "data": {
      "application/vnd.jupyter.widget-view+json": {
       "model_id": "fb526caa099846008e25e6ef12f2a66c",
       "version_major": 2,
       "version_minor": 0
      },
      "text/plain": [
       "Epoch 145/150:   0%|          | 0/1407 [00:00<?, ?it/s]"
      ]
     },
     "metadata": {},
     "output_type": "display_data"
    },
    {
     "name": "stdout",
     "output_type": "stream",
     "text": [
      "Epoch: 145 \tTraining Loss: 0.707573 \tValidation Loss: 0.790957\n"
     ]
    },
    {
     "data": {
      "application/vnd.jupyter.widget-view+json": {
       "model_id": "f3b6f5ca57e64c0bb1843d338ba0899b",
       "version_major": 2,
       "version_minor": 0
      },
      "text/plain": [
       "Epoch 146/150:   0%|          | 0/1407 [00:00<?, ?it/s]"
      ]
     },
     "metadata": {},
     "output_type": "display_data"
    },
    {
     "name": "stdout",
     "output_type": "stream",
     "text": [
      "Epoch: 146 \tTraining Loss: 0.706397 \tValidation Loss: 0.787483\n"
     ]
    },
    {
     "data": {
      "application/vnd.jupyter.widget-view+json": {
       "model_id": "84aea271f3e84d068468999fd4924d73",
       "version_major": 2,
       "version_minor": 0
      },
      "text/plain": [
       "Epoch 147/150:   0%|          | 0/1407 [00:00<?, ?it/s]"
      ]
     },
     "metadata": {},
     "output_type": "display_data"
    },
    {
     "name": "stdout",
     "output_type": "stream",
     "text": [
      "Epoch: 147 \tTraining Loss: 0.706203 \tValidation Loss: 0.780590\n"
     ]
    },
    {
     "data": {
      "application/vnd.jupyter.widget-view+json": {
       "model_id": "a2c0765460624a38b6b64be4c00ac78d",
       "version_major": 2,
       "version_minor": 0
      },
      "text/plain": [
       "Epoch 148/150:   0%|          | 0/1407 [00:00<?, ?it/s]"
      ]
     },
     "metadata": {},
     "output_type": "display_data"
    },
    {
     "name": "stdout",
     "output_type": "stream",
     "text": [
      "Epoch: 148 \tTraining Loss: 0.704939 \tValidation Loss: 0.779451\n"
     ]
    },
    {
     "data": {
      "application/vnd.jupyter.widget-view+json": {
       "model_id": "a05cdac3f64243f880e946901f935b2c",
       "version_major": 2,
       "version_minor": 0
      },
      "text/plain": [
       "Epoch 149/150:   0%|          | 0/1407 [00:00<?, ?it/s]"
      ]
     },
     "metadata": {},
     "output_type": "display_data"
    },
    {
     "name": "stdout",
     "output_type": "stream",
     "text": [
      "Epoch: 149 \tTraining Loss: 0.705773 \tValidation Loss: 0.785000\n"
     ]
    },
    {
     "data": {
      "application/vnd.jupyter.widget-view+json": {
       "model_id": "c81334b2d83145cc8c6f88acb1495568",
       "version_major": 2,
       "version_minor": 0
      },
      "text/plain": [
       "Epoch 150/150:   0%|          | 0/1407 [00:00<?, ?it/s]"
      ]
     },
     "metadata": {},
     "output_type": "display_data"
    },
    {
     "name": "stdout",
     "output_type": "stream",
     "text": [
      "Epoch: 150 \tTraining Loss: 0.704148 \tValidation Loss: 0.785366\n"
     ]
    }
   ],
   "source": [
    "batch_size=128\n",
    "max_epochs = 150\n",
    "\n",
    "babi_dataset = BabiDataset(ds_path='/home/gabriel/Documents/datasets/bAbi/en/qa{}_*', \n",
    "                           vocab_path='/home/gabriel/Documents/datasets/bAbi/en/babi{}_vocab.pkl')\n",
    "vocab_size = len(babi_dataset.QA.VOCAB)\n",
    "print('len(babi_dataset) train', len(babi_dataset))\n",
    "print('vocab_size', vocab_size)\n",
    "\n",
    "use_cuda = torch.cuda.is_available()\n",
    "device = torch.device(\"cuda:0\" if use_cuda else \"cpu\")\n",
    "print(device)\n",
    "torch.backends.cudnn.benchmark = True\n",
    "model.to(device)\n",
    "\n",
    "criterion = nn.CrossEntropyLoss(reduction='sum')\n",
    "optimizer = torch.optim.Adam(model.parameters(), lr=1e-4)\n",
    "val_loss_min = float('inf')\n",
    "\n",
    "writer = SummaryWriter()\n",
    "if not os.path.isdir(f'checkpoints/{model_name}'):\n",
    "    os.mkdir(f'checkpoints/{model_name}')\n",
    "now = datetime.now().strftime(\"%d_%m_%Y__%H_%M_%S\")\n",
    "\n",
    "for epoch in range(max_epochs):\n",
    "    train_loss = 0.0\n",
    "    val_loss = 0.0\n",
    "    loss_sum = 0\n",
    "    loss_count = 0\n",
    "    model.train()\n",
    "    babi_dataset.set_mode('train')\n",
    "    train_loader = DataLoader(\n",
    "        babi_dataset, batch_size=batch_size, shuffle=True, collate_fn=pad_collate\n",
    "    )\n",
    "    \n",
    "    for batch_idx, data in enumerate(tqdm(train_loader, desc=f\"Epoch {epoch + 1}/{max_epochs}\")):\n",
    "        optimizer.zero_grad()\n",
    "\n",
    "        contexts, questions, answers, tasks = data\n",
    "        contexts = contexts.long().to(device)\n",
    "        questions = questions.long().to(device)\n",
    "        answers = answers.to(device)\n",
    "        \n",
    "        logits = torch.squeeze(model(contexts, questions))\n",
    "        loss = criterion(logits, answers)\n",
    "        loss.backward()\n",
    "        optimizer.step()\n",
    "        train_loss += loss.item()\n",
    "        writer.add_scalars(\"losses_step\", {\"train_loss\": loss.item() / contexts.size(0)}, epoch * len(train_loader) + batch_idx)\n",
    "    \n",
    "    train_loss = train_loss / len(train_loader.dataset)\n",
    "    writer.add_scalars(\"losses_epoch\", {\"train_loss\": train_loss}, epoch)\n",
    "    train_loader_len = len(train_loader)\n",
    "    \n",
    "    model.eval()\n",
    "    babi_dataset.set_mode('valid')\n",
    "    val_loader = DataLoader(\n",
    "        babi_dataset, batch_size=batch_size, shuffle=False, collate_fn=pad_collate\n",
    "    )\n",
    "    \n",
    "    with torch.no_grad():\n",
    "        for batch_idx, data in enumerate(val_loader):\n",
    "        \n",
    "            contexts, questions, answers, tasks = data\n",
    "            contexts = contexts.long().to(device)\n",
    "            questions = questions.long().to(device)\n",
    "            answers = answers.to(device)\n",
    "        \n",
    "            logits = torch.squeeze(model(contexts, questions))\n",
    "            loss = criterion(logits, answers)\n",
    "            val_loss += loss.item()\n",
    "\n",
    "    val_loss = val_loss / len(val_loader.dataset)\n",
    "    writer.add_scalars(\"losses_step\", {\"val_loss\": val_loss}, (epoch + 1) * train_loader_len - 1)    \n",
    "    writer.add_scalars(\"losses_epoch\", {\"val_loss\": val_loss}, epoch)\n",
    "    \n",
    "    print('Epoch: {} \\tTraining Loss: {:.6f} \\tValidation Loss: {:.6f}'.format(\n",
    "        epoch+1, \n",
    "        train_loss,\n",
    "        val_loss\n",
    "    ))\n",
    "    \n",
    "    checkpoint = {\n",
    "        'epoch': epoch + 1,\n",
    "        'valid_loss_min': val_loss,\n",
    "        'state_dict': model.state_dict(),\n",
    "        'optimizer': optimizer.state_dict(),\n",
    "    }\n",
    "    \n",
    "    torch.save(checkpoint, f'checkpoints/{model_name}/checkpoint_{now}.pt')\n",
    "    if val_loss <= val_loss_min:\n",
    "        print('Validation loss decreased ({:.6f} --> {:.6f}).  Saving model ...'.format(val_loss_min,val_loss))\n",
    "        torch.save(checkpoint, f'checkpoints/{model_name}/best_checkpoint_{now}.pt')\n",
    "        val_loss_min = val_loss"
   ]
  },
  {
   "cell_type": "code",
   "execution_count": 5,
   "id": "going-tongue",
   "metadata": {},
   "outputs": [
    {
     "name": "stdout",
     "output_type": "stream",
     "text": [
      "cuda:0\n",
      "len(babi_dataset) train 180000\n",
      "vocab_size 179\n"
     ]
    },
    {
     "data": {
      "application/vnd.jupyter.widget-view+json": {
       "model_id": "a0d8c86246d5429d8665f767eb65a271",
       "version_major": 2,
       "version_minor": 0
      },
      "text/plain": [
       "Inference:   0%|          | 0/157 [00:00<?, ?it/s]"
      ]
     },
     "metadata": {},
     "output_type": "display_data"
    },
    {
     "name": "stderr",
     "output_type": "stream",
     "text": [
      "/home/gabriel/miniconda3/lib/python3.7/site-packages/sklearn/metrics/_classification.py:1245: UndefinedMetricWarning: Precision and F-score are ill-defined and being set to 0.0 in labels with no predicted samples. Use `zero_division` parameter to control this behavior.\n",
      "  _warn_prf(average, modifier, msg_start, len(result))\n",
      "/home/gabriel/miniconda3/lib/python3.7/site-packages/sklearn/metrics/_classification.py:1245: UndefinedMetricWarning: Precision and F-score are ill-defined and being set to 0.0 in labels with no predicted samples. Use `zero_division` parameter to control this behavior.\n",
      "  _warn_prf(average, modifier, msg_start, len(result))\n",
      "/home/gabriel/miniconda3/lib/python3.7/site-packages/sklearn/metrics/_classification.py:1245: UndefinedMetricWarning: Precision and F-score are ill-defined and being set to 0.0 in labels with no predicted samples. Use `zero_division` parameter to control this behavior.\n",
      "  _warn_prf(average, modifier, msg_start, len(result))\n",
      "/home/gabriel/miniconda3/lib/python3.7/site-packages/sklearn/utils/validation.py:72: FutureWarning: Pass labels=['maybe', 'thirsty', 'hungry', 'kitchen', 'e,s', 'garden', 'wolf', 'bored', 'n,w', 'bill', 'football,milk', 'park', 'w,n', 's,w', 'cinema', 'e,n', 'yellow', 'two', 'gray', 'yes', 'cat', 'no', 'football', 's,e', 'milk,football', 'w,s', 'apple,milk', 'one', 'apple,football', 'apple', 'bedroom', 'football,apple,milk', 'none', 'n,n', 'nothing', 'tired', 'bathroom', 'hallway', 's,s', 'fred', 'school', 'green', 'jeff', 'n,e', 'office', 'mouse', 'e,e', 'milk,apple', 'milk', 'white', 'sheep', 'three', 'w,w', 'football,apple', 'apple,football,milk', 'mary'] as keyword args. From version 1.0 (renaming of 0.25) passing these as positional arguments will result in an error\n",
      "  \"will result in an error\", FutureWarning)\n"
     ]
    },
    {
     "name": "stdout",
     "output_type": "stream",
     "text": [
      "0.64035\n",
      "                     precision    recall  f1-score   support\n",
      "\n",
      "              apple       0.80      0.74      0.77       341\n",
      "     apple,football       0.00      0.00      0.00        11\n",
      "apple,football,milk       0.00      0.00      0.00         1\n",
      "         apple,milk       0.00      0.00      0.00        10\n",
      "           bathroom       0.63      0.63      0.63      1195\n",
      "            bedroom       0.64      0.61      0.63      1437\n",
      "               bill       0.62      0.55      0.59       164\n",
      "              bored       1.00      1.00      1.00       159\n",
      "                cat       0.60      0.53      0.56       213\n",
      "             cinema       0.43      0.44      0.44       171\n",
      "                e,e       0.25      0.04      0.06        81\n",
      "                e,n       0.08      0.06      0.07        88\n",
      "                e,s       0.00      0.00      0.00        79\n",
      "           football       0.73      0.75      0.74       281\n",
      "     football,apple       0.25      0.06      0.09        18\n",
      "football,apple,milk       0.00      0.00      0.00         1\n",
      "      football,milk       0.40      0.57      0.47         7\n",
      "               fred       0.62      0.60      0.61       188\n",
      "             garden       0.66      0.68      0.67      1300\n",
      "               gray       0.41      0.74      0.53       230\n",
      "              green       0.59      0.35      0.44       256\n",
      "            hallway       0.65      0.63      0.64      1175\n",
      "             hungry       0.94      0.94      0.94       157\n",
      "               jeff       0.53      0.56      0.54       129\n",
      "            kitchen       0.66      0.64      0.65      1495\n",
      "               mary       0.55      0.59      0.57       189\n",
      "              maybe       0.41      0.55      0.47       150\n",
      "               milk       0.74      0.79      0.76       305\n",
      "         milk,apple       0.20      0.22      0.21         9\n",
      "      milk,football       0.00      0.00      0.00        10\n",
      "              mouse       0.52      0.67      0.59       239\n",
      "                n,e       0.06      0.01      0.02        85\n",
      "                n,n       0.06      0.01      0.02        92\n",
      "                n,w       0.00      0.00      0.00        92\n",
      "                 no       0.80      0.70      0.75      2589\n",
      "               none       0.77      0.85      0.81       468\n",
      "            nothing       0.76      0.85      0.80       336\n",
      "             office       0.57      0.60      0.58      1284\n",
      "                one       0.77      0.74      0.75       488\n",
      "               park       0.40      0.45      0.42       152\n",
      "                s,e       0.08      0.13      0.10        83\n",
      "                s,s       0.10      0.52      0.17        71\n",
      "                s,w       0.13      0.06      0.09        93\n",
      "             school       0.48      0.46      0.47       162\n",
      "              sheep       0.51      0.71      0.60       207\n",
      "            thirsty       0.94      0.93      0.94       152\n",
      "              three       0.00      0.00      0.00         2\n",
      "              tired       1.00      1.00      1.00       161\n",
      "                two       0.18      0.07      0.10        42\n",
      "                w,n       0.00      0.00      0.00        80\n",
      "                w,s       0.09      0.01      0.02        90\n",
      "                w,w       0.08      0.35      0.13        66\n",
      "              white       0.56      0.45      0.50       272\n",
      "               wolf       0.74      0.47      0.57       341\n",
      "             yellow       0.53      0.47      0.49       242\n",
      "                yes       0.70      0.79      0.74      2261\n",
      "\n",
      "           accuracy                           0.64     20000\n",
      "          macro avg       0.43      0.44      0.42     20000\n",
      "       weighted avg       0.64      0.64      0.64     20000\n",
      "\n",
      "[0.504, 0.352, 0.322, 0.774, 0.656, 0.829, 0.759, 0.726, 0.713, 0.664, 0.732, 0.755, 0.941, 0.457, 0.58, 0.496, 0.579, 0.9, 0.088, 0.98]\n",
      "passed_tasks: [0, 0, 0, 0, 0, 0, 0, 0, 0, 0, 0, 0, 0, 0, 0, 0, 0, 0, 0, 1]\n",
      "no. passed_tasks: 1\n"
     ]
    },
    {
     "data": {
      "image/png": "[encoded data removed]",
      "text/plain": [
       "<Figure size 1800x1800 with 2 Axes>"
      ]
     },
     "metadata": {
      "needs_background": "light"
     },
     "output_type": "display_data"
    },
    {
     "name": "stdout",
     "output_type": "stream",
     "text": [
      "3.9162404537200928\n"
     ]
    }
   ],
   "source": [
    "batch_size=128\n",
    "use_cuda = torch.cuda.is_available()\n",
    "device = torch.device(\"cuda:0\" if use_cuda else \"cpu\")\n",
    "print(device)\n",
    "model.to(device)\n",
    "checkpoint_name = f'checkpoints/{model_name}/best_checkpoint_26_08_2021__01_15_06.pt'# f'checkpoints/{model_name}/best_checkpoint_{now}.pt'\n",
    "checkpoint = torch.load(checkpoint_name)\n",
    "model.load_state_dict(checkpoint['state_dict'])\n",
    "model.eval()\n",
    "m = nn.Softmax(dim=1)\n",
    "\n",
    "babi_dataset = BabiDataset(ds_path='/home/gabriel/Documents/datasets/bAbi/en/qa{}_*', \n",
    "                           vocab_path='/home/gabriel/Documents/datasets/bAbi/en/babi{}_vocab.pkl')\n",
    "vocab_size = len(babi_dataset.QA.VOCAB)\n",
    "print('len(babi_dataset) train', len(babi_dataset))\n",
    "print('vocab_size', vocab_size)\n",
    "babi_dataset.set_mode('test')\n",
    "test_loader = DataLoader(\n",
    "    babi_dataset, batch_size=batch_size, shuffle=False, collate_fn=pad_collate\n",
    ")\n",
    "\n",
    "y_pred_extended = []\n",
    "y_true_extended = []\n",
    "y_pred_task = [[] for _ in range(20)]\n",
    "y_true_task = [[] for _ in range(20)]\n",
    "\n",
    "start = time.time()\n",
    "with torch.no_grad():\n",
    "    for batch_idx, data in enumerate(tqdm(test_loader, desc=f\"Inference\")):\n",
    "        contexts, questions, answers, tasks = data\n",
    "        contexts = contexts.long().to(device)\n",
    "        questions = questions.long().to(device)\n",
    "        answers = answers.to(device)\n",
    "\n",
    "        logits = torch.squeeze(model(contexts, questions)).cpu()\n",
    "        # We consider a task successfully passed if ≥ 95% accuracy is obtained.\n",
    "        y_pred = m(logits)\n",
    "        y_pred = np.argmax(y_pred, axis=1)\n",
    "        y_pred = [babi_dataset.QA.IVOCAB[int(i)] for i in y_pred]\n",
    "        y_true = [babi_dataset.QA.IVOCAB[int(i)] for i in answers.cpu()]\n",
    "        y_pred_extended.extend(y_pred)\n",
    "        y_true_extended.extend(y_true)\n",
    "        for i in range(len(y_pred)):\n",
    "            y_pred_task[int(tasks[i]) - 1].append(y_pred[i])\n",
    "            y_true_task[int(tasks[i]) - 1].append(y_true[i])\n",
    "end = time.time()\n",
    "\n",
    "        \n",
    "def plot_confusion_matrix(cm, classes,\n",
    "                          normalize=False,\n",
    "                          title='Confusion matrix',\n",
    "                          cmap=plt.cm.Blues):\n",
    "    \"\"\"\n",
    "    This function prints and plots the confusion matrix.\n",
    "    Normalization can be applied by setting `normalize=True`.\n",
    "    \"\"\"\n",
    "    if normalize:\n",
    "        cm = cm.astype('float') / cm.sum(axis=1)[:, np.newaxis]\n",
    "        #print(\"Normalized confusion matrix\")\n",
    "    #else:\n",
    "        #print('Confusion matrix, without normalization')\n",
    "\n",
    "    #print(cm)\n",
    "    \n",
    "    plt.figure(figsize=(25,25))\n",
    "    plt.imshow(cm, interpolation='nearest', cmap=cmap)\n",
    "    plt.title(title)\n",
    "    plt.colorbar()\n",
    "    tick_marks = np.arange(len(classes))\n",
    "    plt.xticks(tick_marks, classes, rotation=45)\n",
    "    plt.yticks(tick_marks, classes)\n",
    "\n",
    "    fmt = '.2f' if normalize else 'd'\n",
    "    thresh = cm.max() / 2.\n",
    "    for i, j in itertools.product(range(cm.shape[0]), range(cm.shape[1])):\n",
    "        plt.text(j, i, format(cm[i, j], fmt),\n",
    "                 horizontalalignment=\"center\",\n",
    "                 color=\"white\" if cm[i, j] > thresh else \"black\")\n",
    "\n",
    "    plt.ylabel('True label')\n",
    "    plt.xlabel('Predicted label')\n",
    "    plt.tight_layout()\n",
    "\n",
    "accuracy = accuracy_score(y_pred_extended, y_true_extended)\n",
    "cr = classification_report(y_true_extended, y_pred_extended)\n",
    "print(accuracy)\n",
    "print(cr)\n",
    "task_acc = []\n",
    "passed_tasks = []\n",
    "for i in range(20):\n",
    "    task_acc.append(accuracy_score(y_pred_task[i], y_true_task[i]))\n",
    "    passed_tasks.append(1 if task_acc[i] >= 0.95 else 0)\n",
    "print(task_acc)\n",
    "print('passed_tasks:', passed_tasks)\n",
    "print('no. passed_tasks:', sum(passed_tasks))\n",
    "labels = list(set(y_true_extended).intersection(set(y_true_extended)))\n",
    "cnf_matrix = confusion_matrix(y_true_extended, y_pred_extended, labels)\n",
    "# Plot non-normalized confusion matrix\n",
    "plot_confusion_matrix(cnf_matrix, classes=labels, title = ('Confusion Matrix'))\n",
    "plt.show()\n",
    "print(end-start)"
   ]
  },
  {
   "cell_type": "code",
   "execution_count": 5,
   "id": "satisfactory-suffering",
   "metadata": {},
   "outputs": [],
   "source": [
    "# from thop import profile\n",
    "# from thop import clever_format\n",
    "\n",
    "# macs, params = profile(model, inputs=(\n",
    "#                         torch.randint(1, size=(1, 910)).type(torch.LongTensor).to(device), \n",
    "#                         torch.randint(1, size=(1, 13)).type(torch.LongTensor).to(device)))  # , \n",
    "# #                         custom_ops={YourModule: count_your_model})\n",
    "\n",
    "# macs, params = clever_format([macs, params], \"%.3f\")\n",
    "# print(macs, params)"
   ]
  },
  {
   "cell_type": "code",
   "execution_count": 9,
   "id": "successful-fitness",
   "metadata": {},
   "outputs": [
    {
     "name": "stdout",
     "output_type": "stream",
     "text": [
      "3\n",
      "ModuleList(\n",
      "  (0): ModuleList(\n",
      "    (0): PreNorm(\n",
      "      (fn): Attention(\n",
      "        (to_q): Linear(in_features=16, out_features=32, bias=False)\n",
      "        (to_kv): Linear(in_features=16, out_features=64, bias=False)\n",
      "        (to_out): Linear(in_features=32, out_features=16, bias=True)\n",
      "      )\n",
      "      (norm): LayerNorm((16,), eps=1e-05, elementwise_affine=True)\n",
      "      (norm_context): LayerNorm((16,), eps=1e-05, elementwise_affine=True)\n",
      "    )\n",
      "    (1): PreNorm(\n",
      "      (fn): FeedForward(\n",
      "        (net): Sequential(\n",
      "          (0): Linear(in_features=16, out_features=128, bias=True)\n",
      "          (1): GEGLU()\n",
      "          (2): Linear(in_features=64, out_features=16, bias=True)\n",
      "        )\n",
      "      )\n",
      "      (norm): LayerNorm((16,), eps=1e-05, elementwise_affine=True)\n",
      "    )\n",
      "    (2): ModuleList(\n",
      "      (0): ModuleList(\n",
      "        (0): PreNorm(\n",
      "          (fn): Attention(\n",
      "            (to_q): Linear(in_features=16, out_features=256, bias=False)\n",
      "            (to_kv): Linear(in_features=16, out_features=512, bias=False)\n",
      "            (to_out): Linear(in_features=256, out_features=16, bias=True)\n",
      "          )\n",
      "          (norm): LayerNorm((16,), eps=1e-05, elementwise_affine=True)\n",
      "        )\n",
      "        (1): PreNorm(\n",
      "          (fn): FeedForward(\n",
      "            (net): Sequential(\n",
      "              (0): Linear(in_features=16, out_features=128, bias=True)\n",
      "              (1): GEGLU()\n",
      "              (2): Linear(in_features=64, out_features=16, bias=True)\n",
      "            )\n",
      "          )\n",
      "          (norm): LayerNorm((16,), eps=1e-05, elementwise_affine=True)\n",
      "        )\n",
      "      )\n",
      "    )\n",
      "  )\n",
      "  (1): ModuleList(\n",
      "    (0): PreNorm(\n",
      "      (fn): Attention(\n",
      "        (to_q): Linear(in_features=16, out_features=32, bias=False)\n",
      "        (to_kv): Linear(in_features=16, out_features=64, bias=False)\n",
      "        (to_out): Linear(in_features=32, out_features=16, bias=True)\n",
      "      )\n",
      "      (norm): LayerNorm((16,), eps=1e-05, elementwise_affine=True)\n",
      "      (norm_context): LayerNorm((16,), eps=1e-05, elementwise_affine=True)\n",
      "    )\n",
      "    (1): PreNorm(\n",
      "      (fn): FeedForward(\n",
      "        (net): Sequential(\n",
      "          (0): Linear(in_features=16, out_features=128, bias=True)\n",
      "          (1): GEGLU()\n",
      "          (2): Linear(in_features=64, out_features=16, bias=True)\n",
      "        )\n",
      "      )\n",
      "      (norm): LayerNorm((16,), eps=1e-05, elementwise_affine=True)\n",
      "    )\n",
      "    (2): ModuleList(\n",
      "      (0): ModuleList(\n",
      "        (0): PreNorm(\n",
      "          (fn): Attention(\n",
      "            (to_q): Linear(in_features=16, out_features=256, bias=False)\n",
      "            (to_kv): Linear(in_features=16, out_features=512, bias=False)\n",
      "            (to_out): Linear(in_features=256, out_features=16, bias=True)\n",
      "          )\n",
      "          (norm): LayerNorm((16,), eps=1e-05, elementwise_affine=True)\n",
      "        )\n",
      "        (1): PreNorm(\n",
      "          (fn): FeedForward(\n",
      "            (net): Sequential(\n",
      "              (0): Linear(in_features=16, out_features=128, bias=True)\n",
      "              (1): GEGLU()\n",
      "              (2): Linear(in_features=64, out_features=16, bias=True)\n",
      "            )\n",
      "          )\n",
      "          (norm): LayerNorm((16,), eps=1e-05, elementwise_affine=True)\n",
      "        )\n",
      "      )\n",
      "    )\n",
      "  )\n",
      "  (2): ModuleList(\n",
      "    (0): PreNorm(\n",
      "      (fn): Attention(\n",
      "        (to_q): Linear(in_features=16, out_features=32, bias=False)\n",
      "        (to_kv): Linear(in_features=16, out_features=64, bias=False)\n",
      "        (to_out): Linear(in_features=32, out_features=16, bias=True)\n",
      "      )\n",
      "      (norm): LayerNorm((16,), eps=1e-05, elementwise_affine=True)\n",
      "      (norm_context): LayerNorm((16,), eps=1e-05, elementwise_affine=True)\n",
      "    )\n",
      "    (1): PreNorm(\n",
      "      (fn): FeedForward(\n",
      "        (net): Sequential(\n",
      "          (0): Linear(in_features=16, out_features=128, bias=True)\n",
      "          (1): GEGLU()\n",
      "          (2): Linear(in_features=64, out_features=16, bias=True)\n",
      "        )\n",
      "      )\n",
      "      (norm): LayerNorm((16,), eps=1e-05, elementwise_affine=True)\n",
      "    )\n",
      "    (2): ModuleList(\n",
      "      (0): ModuleList(\n",
      "        (0): PreNorm(\n",
      "          (fn): Attention(\n",
      "            (to_q): Linear(in_features=16, out_features=256, bias=False)\n",
      "            (to_kv): Linear(in_features=16, out_features=512, bias=False)\n",
      "            (to_out): Linear(in_features=256, out_features=16, bias=True)\n",
      "          )\n",
      "          (norm): LayerNorm((16,), eps=1e-05, elementwise_affine=True)\n",
      "        )\n",
      "        (1): PreNorm(\n",
      "          (fn): FeedForward(\n",
      "            (net): Sequential(\n",
      "              (0): Linear(in_features=16, out_features=128, bias=True)\n",
      "              (1): GEGLU()\n",
      "              (2): Linear(in_features=64, out_features=16, bias=True)\n",
      "            )\n",
      "          )\n",
      "          (norm): LayerNorm((16,), eps=1e-05, elementwise_affine=True)\n",
      "        )\n",
      "      )\n",
      "    )\n",
      "  )\n",
      ")\n"
     ]
    }
   ],
   "source": [
    "# model.layers.append(model.layers[1])\n",
    "print(len(model.perceiver_io.layers))\n",
    "print(model.perceiver_io.layers)"
   ]
  },
  {
   "cell_type": "code",
   "execution_count": 10,
   "id": "lyric-number",
   "metadata": {},
   "outputs": [
    {
     "name": "stdout",
     "output_type": "stream",
     "text": [
      "{'<PAD>': 0, '<EOS>': 1, 'mary': 2, 'moved': 3, 'to': 4, 'the': 5, 'bathroom': 6, '.': 7, 'john': 8, 'went': 9, 'hallway': 10, 'where': 11, 'is': 12, 'daniel': 13, 'back': 14, 'sandra': 15, 'garden': 16, 'office': 17, 'journeyed': 18, 'travelled': 19, 'bedroom': 20, 'kitchen': 21, 'got': 22, 'football': 23, 'there': 24, 'dropped': 25, 'milk': 26, 'took': 27, 'picked': 28, 'up': 29, 'apple': 30, 'left': 31, 'grabbed': 32, 'discarded': 33, 'put': 34, 'down': 35, 'was': 36, 'before': 37, 'north': 38, 'of': 39, 'south': 40, 'what': 41, 'west': 42, 'east': 43, 'bill': 44, 'gave': 45, 'fred': 46, 'did': 47, 'give': 48, 'handed': 49, 'jeff': 50, 'who': 51, 'received': 52, 'passed': 53, 'in': 54, 'no': 55, 'yes': 56, 'how': 57, 'many': 58, 'objects': 59, 'carrying': 60, 'one': 61, 'none': 62, 'two': 63, 'three': 64, 'nothing': 65, 'football,apple': 66, 'milk,apple': 67, 'apple,football': 68, 'football,milk': 69, 'milk,football': 70, 'milk,football,apple': 71, 'apple,milk': 72, 'apple,milk,football': 73, 'apple,football,milk': 74, 'football,milk,apple': 75, 'milk,apple,football': 76, 'football,apple,milk': 77, 'longer': 78, 'not': 79, 'either': 80, 'school': 81, 'or': 82, 'park': 83, 'cinema': 84, 'maybe': 85, 'julie': 86, 'after': 87, 'that': 88, 'she': 89, 'afterwards': 90, 'he': 91, 'following': 92, 'then': 93, 'and': 94, 'they': 95, 'yesterday': 96, 'this': 97, 'morning': 98, 'afternoon': 99, 'evening': 100, 'mice': 101, 'are': 102, 'afraid': 103, 'wolves': 104, 'gertrude': 105, 'a': 106, 'mouse': 107, 'cats': 108, 'sheep': 109, 'winona': 110, 'emily': 111, 'jessica': 112, 'wolf': 113, 'cat': 114, 'lily': 115, 'frog': 116, 'bernhard': 117, 'green': 118, 'brian': 119, 'lion': 120, 'white': 121, 'julius': 122, 'swan': 123, 'greg': 124, 'color': 125, 'rhino': 126, 'gray': 127, 'yellow': 128, 'triangle': 129, 'above': 130, 'pink': 131, 'rectangle': 132, 'blue': 133, 'square': 134, 'right': 135, 'below': 136, 'red': 137, 'sphere': 138, 'box': 139, 'chocolates': 140, 'fits': 141, 'inside': 142, 'chest': 143, 'bigger': 144, 'than': 145, 'suitcase': 146, 'container': 147, 'does': 148, 'fit': 149, 'chocolate': 150, 'do': 151, 'you': 152, 'go': 153, 'from': 154, 's,e': 155, 'n,w': 156, 'n,n': 157, 's,w': 158, 'e,s': 159, 's,s': 160, 'e,n': 161, 'w,w': 162, 'e,e': 163, 'n,e': 164, 'w,s': 165, 'w,n': 166, 'sumit': 167, 'tired': 168, 'will': 169, 'why': 170, 'pajamas': 171, 'get': 172, 'yann': 173, 'bored': 174, 'jason': 175, 'thirsty': 176, 'antoine': 177, 'hungry': 178}\n"
     ]
    }
   ],
   "source": [
    "print(babi_dataset.QA.VOCAB)"
   ]
  },
  {
   "cell_type": "code",
   "execution_count": null,
   "id": "removed-recipient",
   "metadata": {},
   "outputs": [],
   "source": []
  }
 ],
 "metadata": {
  "kernelspec": {
   "display_name": "Python 3",
   "language": "python",
   "name": "python3"
  },
  "language_info": {
   "codemirror_mode": {
    "name": "ipython",
    "version": 3
   },
   "file_extension": ".py",
   "mimetype": "text/x-python",
   "name": "python",
   "nbconvert_exporter": "python",
   "pygments_lexer": "ipython3",
   "version": "3.7.7"
  }
 },
 "nbformat": 4,
 "nbformat_minor": 5
}
