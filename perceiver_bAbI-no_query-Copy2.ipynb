{
 "cells": [
  {
   "cell_type": "code",
   "execution_count": 1,
   "id": "brave-debate",
   "metadata": {},
   "outputs": [],
   "source": [
    "import torch\n",
    "import torchtext\n",
    "from torch import nn\n",
    "from torch.utils.data import DataLoader\n",
    "from torch.autograd import Variable\n",
    "# from perceiver_pytorch import Perceiver\n",
    "import numpy as np\n",
    "from matplotlib import pyplot as plt\n",
    "from sklearn.metrics import classification_report\n",
    "from sklearn.metrics import confusion_matrix\n",
    "from sklearn.metrics import accuracy_score\n",
    "import itertools\n",
    "from torch.utils.tensorboard import SummaryWriter\n",
    "import os\n",
    "from tqdm.notebook import tqdm\n",
    "from datetime import datetime\n",
    "from babi_joint import BabiDataset, pad_collate\n",
    "from torch.utils.data.dataset import Dataset\n",
    "from glob import glob\n",
    "from perceiver_pytorch.perceiver_io_gated import PerceiverIObAbInq\n",
    "import time"
   ]
  },
  {
   "cell_type": "code",
   "execution_count": 2,
   "id": "instant-brooks",
   "metadata": {},
   "outputs": [
    {
     "name": "stdout",
     "output_type": "stream",
     "text": [
      "476972\n"
     ]
    }
   ],
   "source": [
    "# UT pondernet 1470003\n",
    "\n",
    "model = PerceiverIObAbInq(\n",
    "    num_tokens=179,\n",
    "    context_max_seq_len=71*13,\n",
    "#     question_max_seq_len=13,\n",
    "    dim = 32,                    # dimension of sequence to be encoded\n",
    "    queries_dim = 179,            # dimension of decoder queries\n",
    "#     logits_dim = 50,            # dimension of final logits\n",
    "    depth = 20,                   # depth of net\n",
    "    num_latents = 32,           # number of latents, or induced set points, or centroids. different papers giving it different names\n",
    "    latent_dim = 64,            # latent dimension\n",
    "    cross_heads = 1,             # number of heads for cross attention. paper said 1\n",
    "    latent_heads = 8,            # number of heads for latent self attention, 8\n",
    "    cross_dim_head = 64,         # number of dimensions per cross attention head\n",
    "    latent_dim_head = 64,        # number of dimensions per latent self attention head\n",
    "    weight_tie_layers = True,   # whether to weight tie layers (optional, as indicated in the diagram)\n",
    "    self_per_cross_attn = 1,     # number of self attention blocks per cross attention\n",
    "    learn_latents=True\n",
    ")\n",
    "\n",
    "model_name = 'perceiverIO_bAbi_nq_deep_gru'\n",
    "model_parameters = filter(lambda p: p.requires_grad, model.parameters())\n",
    "params = sum([np.prod(p.size()) for p in model_parameters])\n",
    "print(params)"
   ]
  },
  {
   "cell_type": "code",
   "execution_count": 3,
   "id": "interim-tomorrow",
   "metadata": {},
   "outputs": [
    {
     "name": "stdout",
     "output_type": "stream",
     "text": [
      "len(babi_dataset) train 180000\n",
      "vocab_size 179\n",
      "cuda:0\n"
     ]
    },
    {
     "data": {
      "application/vnd.jupyter.widget-view+json": {
       "model_id": "5a5b84452587474d9ef67a3a8e16c0d5",
       "version_major": 2,
       "version_minor": 0
      },
      "text/plain": [
       "Epoch 1/150:   0%|          | 0/1407 [00:00<?, ?it/s]"
      ]
     },
     "metadata": {},
     "output_type": "display_data"
    },
    {
     "name": "stdout",
     "output_type": "stream",
     "text": [
      "Epoch: 1 \tTraining Loss: 2.053622 \tValidation Loss: 1.351019\n",
      "Validation loss decreased (inf --> 1.351019).  Saving model ...\n"
     ]
    },
    {
     "data": {
      "application/vnd.jupyter.widget-view+json": {
       "model_id": "c802f20fd7ba4887864ec484d3813118",
       "version_major": 2,
       "version_minor": 0
      },
      "text/plain": [
       "Epoch 2/150:   0%|          | 0/1407 [00:00<?, ?it/s]"
      ]
     },
     "metadata": {},
     "output_type": "display_data"
    },
    {
     "name": "stdout",
     "output_type": "stream",
     "text": [
      "Epoch: 2 \tTraining Loss: 1.206293 \tValidation Loss: 1.126462\n",
      "Validation loss decreased (1.351019 --> 1.126462).  Saving model ...\n"
     ]
    },
    {
     "data": {
      "application/vnd.jupyter.widget-view+json": {
       "model_id": "dd2b1aff81ae49a6a2a55c6b97fda109",
       "version_major": 2,
       "version_minor": 0
      },
      "text/plain": [
       "Epoch 3/150:   0%|          | 0/1407 [00:00<?, ?it/s]"
      ]
     },
     "metadata": {},
     "output_type": "display_data"
    },
    {
     "name": "stdout",
     "output_type": "stream",
     "text": [
      "Epoch: 3 \tTraining Loss: 1.054029 \tValidation Loss: 1.019985\n",
      "Validation loss decreased (1.126462 --> 1.019985).  Saving model ...\n"
     ]
    },
    {
     "data": {
      "application/vnd.jupyter.widget-view+json": {
       "model_id": "c24f321f697c4d99b90c43bb77b0f3cc",
       "version_major": 2,
       "version_minor": 0
      },
      "text/plain": [
       "Epoch 4/150:   0%|          | 0/1407 [00:00<?, ?it/s]"
      ]
     },
     "metadata": {},
     "output_type": "display_data"
    },
    {
     "name": "stdout",
     "output_type": "stream",
     "text": [
      "Epoch: 4 \tTraining Loss: 0.984823 \tValidation Loss: 0.967610\n",
      "Validation loss decreased (1.019985 --> 0.967610).  Saving model ...\n"
     ]
    },
    {
     "data": {
      "application/vnd.jupyter.widget-view+json": {
       "model_id": "6b2ecee09eef447fa1f47fa50e89c61c",
       "version_major": 2,
       "version_minor": 0
      },
      "text/plain": [
       "Epoch 5/150:   0%|          | 0/1407 [00:00<?, ?it/s]"
      ]
     },
     "metadata": {},
     "output_type": "display_data"
    },
    {
     "name": "stdout",
     "output_type": "stream",
     "text": [
      "Epoch: 5 \tTraining Loss: 0.943906 \tValidation Loss: 0.935952\n",
      "Validation loss decreased (0.967610 --> 0.935952).  Saving model ...\n"
     ]
    },
    {
     "data": {
      "application/vnd.jupyter.widget-view+json": {
       "model_id": "0bc1ba3cc2e04e45a76c3f40510bc2ad",
       "version_major": 2,
       "version_minor": 0
      },
      "text/plain": [
       "Epoch 6/150:   0%|          | 0/1407 [00:00<?, ?it/s]"
      ]
     },
     "metadata": {},
     "output_type": "display_data"
    },
    {
     "name": "stdout",
     "output_type": "stream",
     "text": [
      "Epoch: 6 \tTraining Loss: 0.915757 \tValidation Loss: 0.929455\n",
      "Validation loss decreased (0.935952 --> 0.929455).  Saving model ...\n"
     ]
    },
    {
     "data": {
      "application/vnd.jupyter.widget-view+json": {
       "model_id": "68da874d90494534b02e7680e0e23c3c",
       "version_major": 2,
       "version_minor": 0
      },
      "text/plain": [
       "Epoch 7/150:   0%|          | 0/1407 [00:00<?, ?it/s]"
      ]
     },
     "metadata": {},
     "output_type": "display_data"
    },
    {
     "name": "stdout",
     "output_type": "stream",
     "text": [
      "Epoch: 7 \tTraining Loss: 0.894853 \tValidation Loss: 0.900009\n",
      "Validation loss decreased (0.929455 --> 0.900009).  Saving model ...\n"
     ]
    },
    {
     "data": {
      "application/vnd.jupyter.widget-view+json": {
       "model_id": "38af6e623e9b42eab04c7ab924d5ee87",
       "version_major": 2,
       "version_minor": 0
      },
      "text/plain": [
       "Epoch 8/150:   0%|          | 0/1407 [00:00<?, ?it/s]"
      ]
     },
     "metadata": {},
     "output_type": "display_data"
    },
    {
     "name": "stdout",
     "output_type": "stream",
     "text": [
      "Epoch: 8 \tTraining Loss: 0.878052 \tValidation Loss: 0.879919\n",
      "Validation loss decreased (0.900009 --> 0.879919).  Saving model ...\n"
     ]
    },
    {
     "data": {
      "application/vnd.jupyter.widget-view+json": {
       "model_id": "bc8f2a2f4646450ca95a9591eeab4181",
       "version_major": 2,
       "version_minor": 0
      },
      "text/plain": [
       "Epoch 9/150:   0%|          | 0/1407 [00:00<?, ?it/s]"
      ]
     },
     "metadata": {},
     "output_type": "display_data"
    },
    {
     "name": "stdout",
     "output_type": "stream",
     "text": [
      "Epoch: 9 \tTraining Loss: 0.861987 \tValidation Loss: 0.863609\n",
      "Validation loss decreased (0.879919 --> 0.863609).  Saving model ...\n"
     ]
    },
    {
     "data": {
      "application/vnd.jupyter.widget-view+json": {
       "model_id": "b4ce2ec5a154463cbca4d45cda7e9d83",
       "version_major": 2,
       "version_minor": 0
      },
      "text/plain": [
       "Epoch 10/150:   0%|          | 0/1407 [00:00<?, ?it/s]"
      ]
     },
     "metadata": {},
     "output_type": "display_data"
    },
    {
     "name": "stdout",
     "output_type": "stream",
     "text": [
      "Epoch: 10 \tTraining Loss: 0.848647 \tValidation Loss: 0.846190\n",
      "Validation loss decreased (0.863609 --> 0.846190).  Saving model ...\n"
     ]
    },
    {
     "data": {
      "application/vnd.jupyter.widget-view+json": {
       "model_id": "dae9eeb9d51642cfa018b3c3ee00c528",
       "version_major": 2,
       "version_minor": 0
      },
      "text/plain": [
       "Epoch 11/150:   0%|          | 0/1407 [00:00<?, ?it/s]"
      ]
     },
     "metadata": {},
     "output_type": "display_data"
    },
    {
     "name": "stdout",
     "output_type": "stream",
     "text": [
      "Epoch: 11 \tTraining Loss: 0.836462 \tValidation Loss: 0.838385\n",
      "Validation loss decreased (0.846190 --> 0.838385).  Saving model ...\n"
     ]
    },
    {
     "data": {
      "application/vnd.jupyter.widget-view+json": {
       "model_id": "6dc111c020544167b5cc2ecebb6635b2",
       "version_major": 2,
       "version_minor": 0
      },
      "text/plain": [
       "Epoch 12/150:   0%|          | 0/1407 [00:00<?, ?it/s]"
      ]
     },
     "metadata": {},
     "output_type": "display_data"
    },
    {
     "name": "stdout",
     "output_type": "stream",
     "text": [
      "Epoch: 12 \tTraining Loss: 0.824603 \tValidation Loss: 0.841144\n"
     ]
    },
    {
     "data": {
      "application/vnd.jupyter.widget-view+json": {
       "model_id": "97c0c28b96b0402d98896947ccb2365f",
       "version_major": 2,
       "version_minor": 0
      },
      "text/plain": [
       "Epoch 13/150:   0%|          | 0/1407 [00:00<?, ?it/s]"
      ]
     },
     "metadata": {},
     "output_type": "display_data"
    },
    {
     "name": "stdout",
     "output_type": "stream",
     "text": [
      "Epoch: 13 \tTraining Loss: 0.815193 \tValidation Loss: 0.823994\n",
      "Validation loss decreased (0.838385 --> 0.823994).  Saving model ...\n"
     ]
    },
    {
     "data": {
      "application/vnd.jupyter.widget-view+json": {
       "model_id": "4689f00e7e7f4301ac7d1b28639c3e5c",
       "version_major": 2,
       "version_minor": 0
      },
      "text/plain": [
       "Epoch 14/150:   0%|          | 0/1407 [00:00<?, ?it/s]"
      ]
     },
     "metadata": {},
     "output_type": "display_data"
    },
    {
     "name": "stdout",
     "output_type": "stream",
     "text": [
      "Epoch: 14 \tTraining Loss: 0.807490 \tValidation Loss: 0.828253\n"
     ]
    },
    {
     "data": {
      "application/vnd.jupyter.widget-view+json": {
       "model_id": "057a90c4cbff450a85e412fdb4e67fa3",
       "version_major": 2,
       "version_minor": 0
      },
      "text/plain": [
       "Epoch 15/150:   0%|          | 0/1407 [00:00<?, ?it/s]"
      ]
     },
     "metadata": {},
     "output_type": "display_data"
    },
    {
     "name": "stdout",
     "output_type": "stream",
     "text": [
      "Epoch: 15 \tTraining Loss: 0.800641 \tValidation Loss: 0.819821\n",
      "Validation loss decreased (0.823994 --> 0.819821).  Saving model ...\n"
     ]
    },
    {
     "data": {
      "application/vnd.jupyter.widget-view+json": {
       "model_id": "d86a7e85b7da45b1bb6dddc85b571a20",
       "version_major": 2,
       "version_minor": 0
      },
      "text/plain": [
       "Epoch 16/150:   0%|          | 0/1407 [00:00<?, ?it/s]"
      ]
     },
     "metadata": {},
     "output_type": "display_data"
    },
    {
     "name": "stdout",
     "output_type": "stream",
     "text": [
      "Epoch: 16 \tTraining Loss: 0.794438 \tValidation Loss: 0.819006\n",
      "Validation loss decreased (0.819821 --> 0.819006).  Saving model ...\n"
     ]
    },
    {
     "data": {
      "application/vnd.jupyter.widget-view+json": {
       "model_id": "03db19aa017644909028e75e6b911c12",
       "version_major": 2,
       "version_minor": 0
      },
      "text/plain": [
       "Epoch 17/150:   0%|          | 0/1407 [00:00<?, ?it/s]"
      ]
     },
     "metadata": {},
     "output_type": "display_data"
    },
    {
     "name": "stdout",
     "output_type": "stream",
     "text": [
      "Epoch: 17 \tTraining Loss: 0.787769 \tValidation Loss: 0.807182\n",
      "Validation loss decreased (0.819006 --> 0.807182).  Saving model ...\n"
     ]
    },
    {
     "data": {
      "application/vnd.jupyter.widget-view+json": {
       "model_id": "004aeec6f6414eaab9d4a139804ef966",
       "version_major": 2,
       "version_minor": 0
      },
      "text/plain": [
       "Epoch 18/150:   0%|          | 0/1407 [00:00<?, ?it/s]"
      ]
     },
     "metadata": {},
     "output_type": "display_data"
    },
    {
     "name": "stdout",
     "output_type": "stream",
     "text": [
      "Epoch: 18 \tTraining Loss: 0.783292 \tValidation Loss: 0.804484\n",
      "Validation loss decreased (0.807182 --> 0.804484).  Saving model ...\n"
     ]
    },
    {
     "data": {
      "application/vnd.jupyter.widget-view+json": {
       "model_id": "24e58a57b2c6460d9535f6a5aae652d5",
       "version_major": 2,
       "version_minor": 0
      },
      "text/plain": [
       "Epoch 19/150:   0%|          | 0/1407 [00:00<?, ?it/s]"
      ]
     },
     "metadata": {},
     "output_type": "display_data"
    },
    {
     "name": "stdout",
     "output_type": "stream",
     "text": [
      "Epoch: 19 \tTraining Loss: 0.776726 \tValidation Loss: 0.804026\n",
      "Validation loss decreased (0.804484 --> 0.804026).  Saving model ...\n"
     ]
    },
    {
     "data": {
      "application/vnd.jupyter.widget-view+json": {
       "model_id": "58bef311272849eb968286fbac6984c4",
       "version_major": 2,
       "version_minor": 0
      },
      "text/plain": [
       "Epoch 20/150:   0%|          | 0/1407 [00:00<?, ?it/s]"
      ]
     },
     "metadata": {},
     "output_type": "display_data"
    },
    {
     "name": "stdout",
     "output_type": "stream",
     "text": [
      "Epoch: 20 \tTraining Loss: 0.772108 \tValidation Loss: 0.799206\n",
      "Validation loss decreased (0.804026 --> 0.799206).  Saving model ...\n"
     ]
    },
    {
     "data": {
      "application/vnd.jupyter.widget-view+json": {
       "model_id": "b5c0973639e2441880dbde88c763e4b1",
       "version_major": 2,
       "version_minor": 0
      },
      "text/plain": [
       "Epoch 21/150:   0%|          | 0/1407 [00:00<?, ?it/s]"
      ]
     },
     "metadata": {},
     "output_type": "display_data"
    },
    {
     "name": "stdout",
     "output_type": "stream",
     "text": [
      "Epoch: 21 \tTraining Loss: 0.767996 \tValidation Loss: 0.796919\n",
      "Validation loss decreased (0.799206 --> 0.796919).  Saving model ...\n"
     ]
    },
    {
     "data": {
      "application/vnd.jupyter.widget-view+json": {
       "model_id": "fface0001b98463a9a29af7c9ae06d58",
       "version_major": 2,
       "version_minor": 0
      },
      "text/plain": [
       "Epoch 22/150:   0%|          | 0/1407 [00:00<?, ?it/s]"
      ]
     },
     "metadata": {},
     "output_type": "display_data"
    },
    {
     "name": "stdout",
     "output_type": "stream",
     "text": [
      "Epoch: 22 \tTraining Loss: 0.764709 \tValidation Loss: 0.788858\n",
      "Validation loss decreased (0.796919 --> 0.788858).  Saving model ...\n"
     ]
    },
    {
     "data": {
      "application/vnd.jupyter.widget-view+json": {
       "model_id": "ff3a49e65afa4c268b2a3c20953be005",
       "version_major": 2,
       "version_minor": 0
      },
      "text/plain": [
       "Epoch 23/150:   0%|          | 0/1407 [00:00<?, ?it/s]"
      ]
     },
     "metadata": {},
     "output_type": "display_data"
    },
    {
     "name": "stdout",
     "output_type": "stream",
     "text": [
      "Epoch: 23 \tTraining Loss: 0.760905 \tValidation Loss: 0.797370\n"
     ]
    },
    {
     "data": {
      "application/vnd.jupyter.widget-view+json": {
       "model_id": "c79c578807a245b5a0841bc68055e438",
       "version_major": 2,
       "version_minor": 0
      },
      "text/plain": [
       "Epoch 24/150:   0%|          | 0/1407 [00:00<?, ?it/s]"
      ]
     },
     "metadata": {},
     "output_type": "display_data"
    },
    {
     "name": "stdout",
     "output_type": "stream",
     "text": [
      "Epoch: 24 \tTraining Loss: 0.757062 \tValidation Loss: 0.788022\n",
      "Validation loss decreased (0.788858 --> 0.788022).  Saving model ...\n"
     ]
    },
    {
     "data": {
      "application/vnd.jupyter.widget-view+json": {
       "model_id": "f71dc0bc23fc423784c13cd4a90426e3",
       "version_major": 2,
       "version_minor": 0
      },
      "text/plain": [
       "Epoch 25/150:   0%|          | 0/1407 [00:00<?, ?it/s]"
      ]
     },
     "metadata": {},
     "output_type": "display_data"
    },
    {
     "name": "stdout",
     "output_type": "stream",
     "text": [
      "Epoch: 25 \tTraining Loss: 0.753960 \tValidation Loss: 0.791655\n"
     ]
    },
    {
     "data": {
      "application/vnd.jupyter.widget-view+json": {
       "model_id": "593a4204b5fe424a82d98358b10f240a",
       "version_major": 2,
       "version_minor": 0
      },
      "text/plain": [
       "Epoch 26/150:   0%|          | 0/1407 [00:00<?, ?it/s]"
      ]
     },
     "metadata": {},
     "output_type": "display_data"
    },
    {
     "name": "stdout",
     "output_type": "stream",
     "text": [
      "Epoch: 26 \tTraining Loss: 0.750515 \tValidation Loss: 0.786852\n",
      "Validation loss decreased (0.788022 --> 0.786852).  Saving model ...\n"
     ]
    },
    {
     "data": {
      "application/vnd.jupyter.widget-view+json": {
       "model_id": "bc722eeffd1c49088dbe9e750bb643eb",
       "version_major": 2,
       "version_minor": 0
      },
      "text/plain": [
       "Epoch 27/150:   0%|          | 0/1407 [00:00<?, ?it/s]"
      ]
     },
     "metadata": {},
     "output_type": "display_data"
    },
    {
     "name": "stdout",
     "output_type": "stream",
     "text": [
      "Epoch: 27 \tTraining Loss: 0.748029 \tValidation Loss: 0.781993\n",
      "Validation loss decreased (0.786852 --> 0.781993).  Saving model ...\n"
     ]
    },
    {
     "data": {
      "application/vnd.jupyter.widget-view+json": {
       "model_id": "06c03a41dffd482dba6e2e354b0234b0",
       "version_major": 2,
       "version_minor": 0
      },
      "text/plain": [
       "Epoch 28/150:   0%|          | 0/1407 [00:00<?, ?it/s]"
      ]
     },
     "metadata": {},
     "output_type": "display_data"
    },
    {
     "name": "stdout",
     "output_type": "stream",
     "text": [
      "Epoch: 28 \tTraining Loss: 0.744229 \tValidation Loss: 0.785547\n"
     ]
    },
    {
     "data": {
      "application/vnd.jupyter.widget-view+json": {
       "model_id": "59d13e04bdc24b6db045847071bab283",
       "version_major": 2,
       "version_minor": 0
      },
      "text/plain": [
       "Epoch 29/150:   0%|          | 0/1407 [00:00<?, ?it/s]"
      ]
     },
     "metadata": {},
     "output_type": "display_data"
    },
    {
     "name": "stdout",
     "output_type": "stream",
     "text": [
      "Epoch: 29 \tTraining Loss: 0.741407 \tValidation Loss: 0.787846\n"
     ]
    },
    {
     "data": {
      "application/vnd.jupyter.widget-view+json": {
       "model_id": "5508ae8f627f429fae90ba1c1d270c0d",
       "version_major": 2,
       "version_minor": 0
      },
      "text/plain": [
       "Epoch 30/150:   0%|          | 0/1407 [00:00<?, ?it/s]"
      ]
     },
     "metadata": {},
     "output_type": "display_data"
    },
    {
     "name": "stdout",
     "output_type": "stream",
     "text": [
      "Epoch: 30 \tTraining Loss: 0.737951 \tValidation Loss: 0.782102\n"
     ]
    },
    {
     "data": {
      "application/vnd.jupyter.widget-view+json": {
       "model_id": "b725726314e8484392fda05cc5bdf623",
       "version_major": 2,
       "version_minor": 0
      },
      "text/plain": [
       "Epoch 31/150:   0%|          | 0/1407 [00:00<?, ?it/s]"
      ]
     },
     "metadata": {},
     "output_type": "display_data"
    },
    {
     "name": "stdout",
     "output_type": "stream",
     "text": [
      "Epoch: 31 \tTraining Loss: 0.734798 \tValidation Loss: 0.778078\n",
      "Validation loss decreased (0.781993 --> 0.778078).  Saving model ...\n"
     ]
    },
    {
     "data": {
      "application/vnd.jupyter.widget-view+json": {
       "model_id": "4fbf12ab11304d61ab51056dca62cb81",
       "version_major": 2,
       "version_minor": 0
      },
      "text/plain": [
       "Epoch 32/150:   0%|          | 0/1407 [00:00<?, ?it/s]"
      ]
     },
     "metadata": {},
     "output_type": "display_data"
    },
    {
     "name": "stdout",
     "output_type": "stream",
     "text": [
      "Epoch: 32 \tTraining Loss: 0.733005 \tValidation Loss: 0.783251\n"
     ]
    },
    {
     "data": {
      "application/vnd.jupyter.widget-view+json": {
       "model_id": "81add949135c4ab5968375a1e282e7de",
       "version_major": 2,
       "version_minor": 0
      },
      "text/plain": [
       "Epoch 33/150:   0%|          | 0/1407 [00:00<?, ?it/s]"
      ]
     },
     "metadata": {},
     "output_type": "display_data"
    },
    {
     "name": "stdout",
     "output_type": "stream",
     "text": [
      "Epoch: 33 \tTraining Loss: 0.730523 \tValidation Loss: 0.777237\n",
      "Validation loss decreased (0.778078 --> 0.777237).  Saving model ...\n"
     ]
    },
    {
     "data": {
      "application/vnd.jupyter.widget-view+json": {
       "model_id": "032241e1ee3b421ca4b838087b677653",
       "version_major": 2,
       "version_minor": 0
      },
      "text/plain": [
       "Epoch 34/150:   0%|          | 0/1407 [00:00<?, ?it/s]"
      ]
     },
     "metadata": {},
     "output_type": "display_data"
    },
    {
     "name": "stdout",
     "output_type": "stream",
     "text": [
      "Epoch: 34 \tTraining Loss: 0.726193 \tValidation Loss: 0.786902\n"
     ]
    },
    {
     "data": {
      "application/vnd.jupyter.widget-view+json": {
       "model_id": "0e12cdff71164f22b7b9d1b5a839cd6f",
       "version_major": 2,
       "version_minor": 0
      },
      "text/plain": [
       "Epoch 35/150:   0%|          | 0/1407 [00:00<?, ?it/s]"
      ]
     },
     "metadata": {},
     "output_type": "display_data"
    },
    {
     "name": "stdout",
     "output_type": "stream",
     "text": [
      "Epoch: 35 \tTraining Loss: 0.723949 \tValidation Loss: 0.776834\n",
      "Validation loss decreased (0.777237 --> 0.776834).  Saving model ...\n"
     ]
    },
    {
     "data": {
      "application/vnd.jupyter.widget-view+json": {
       "model_id": "4ab8364108724764b8475bfb40bd3fbd",
       "version_major": 2,
       "version_minor": 0
      },
      "text/plain": [
       "Epoch 36/150:   0%|          | 0/1407 [00:00<?, ?it/s]"
      ]
     },
     "metadata": {},
     "output_type": "display_data"
    },
    {
     "name": "stdout",
     "output_type": "stream",
     "text": [
      "Epoch: 36 \tTraining Loss: 0.718375 \tValidation Loss: 0.778339\n"
     ]
    },
    {
     "data": {
      "application/vnd.jupyter.widget-view+json": {
       "model_id": "d7632b3a4c284cb1aad5dd470a00b3ae",
       "version_major": 2,
       "version_minor": 0
      },
      "text/plain": [
       "Epoch 37/150:   0%|          | 0/1407 [00:00<?, ?it/s]"
      ]
     },
     "metadata": {},
     "output_type": "display_data"
    },
    {
     "name": "stdout",
     "output_type": "stream",
     "text": [
      "Epoch: 37 \tTraining Loss: 0.716153 \tValidation Loss: 0.775749\n",
      "Validation loss decreased (0.776834 --> 0.775749).  Saving model ...\n"
     ]
    },
    {
     "data": {
      "application/vnd.jupyter.widget-view+json": {
       "model_id": "5f06f9dc3143462a9e8bdfa7de9fe3c0",
       "version_major": 2,
       "version_minor": 0
      },
      "text/plain": [
       "Epoch 38/150:   0%|          | 0/1407 [00:00<?, ?it/s]"
      ]
     },
     "metadata": {},
     "output_type": "display_data"
    },
    {
     "name": "stdout",
     "output_type": "stream",
     "text": [
      "Epoch: 38 \tTraining Loss: 0.712601 \tValidation Loss: 0.778764\n"
     ]
    },
    {
     "data": {
      "application/vnd.jupyter.widget-view+json": {
       "model_id": "c2f1934f0984412ead4791486bf42a5f",
       "version_major": 2,
       "version_minor": 0
      },
      "text/plain": [
       "Epoch 39/150:   0%|          | 0/1407 [00:00<?, ?it/s]"
      ]
     },
     "metadata": {},
     "output_type": "display_data"
    },
    {
     "name": "stdout",
     "output_type": "stream",
     "text": [
      "Epoch: 39 \tTraining Loss: 0.711011 \tValidation Loss: 0.774346\n",
      "Validation loss decreased (0.775749 --> 0.774346).  Saving model ...\n"
     ]
    },
    {
     "data": {
      "application/vnd.jupyter.widget-view+json": {
       "model_id": "1507f48d145b464d8e809c28ee255d6b",
       "version_major": 2,
       "version_minor": 0
      },
      "text/plain": [
       "Epoch 40/150:   0%|          | 0/1407 [00:00<?, ?it/s]"
      ]
     },
     "metadata": {},
     "output_type": "display_data"
    },
    {
     "name": "stdout",
     "output_type": "stream",
     "text": [
      "Epoch: 40 \tTraining Loss: 0.707211 \tValidation Loss: 0.777912\n"
     ]
    },
    {
     "data": {
      "application/vnd.jupyter.widget-view+json": {
       "model_id": "53c5a71b3ce64822a624972609236787",
       "version_major": 2,
       "version_minor": 0
      },
      "text/plain": [
       "Epoch 41/150:   0%|          | 0/1407 [00:00<?, ?it/s]"
      ]
     },
     "metadata": {},
     "output_type": "display_data"
    },
    {
     "name": "stdout",
     "output_type": "stream",
     "text": [
      "Epoch: 41 \tTraining Loss: 0.703627 \tValidation Loss: 0.773880\n",
      "Validation loss decreased (0.774346 --> 0.773880).  Saving model ...\n"
     ]
    },
    {
     "data": {
      "application/vnd.jupyter.widget-view+json": {
       "model_id": "4cf2b387b9cd4a088d824deb054a4510",
       "version_major": 2,
       "version_minor": 0
      },
      "text/plain": [
       "Epoch 42/150:   0%|          | 0/1407 [00:00<?, ?it/s]"
      ]
     },
     "metadata": {},
     "output_type": "display_data"
    },
    {
     "name": "stdout",
     "output_type": "stream",
     "text": [
      "Epoch: 42 \tTraining Loss: 0.701620 \tValidation Loss: 0.773419\n",
      "Validation loss decreased (0.773880 --> 0.773419).  Saving model ...\n"
     ]
    },
    {
     "data": {
      "application/vnd.jupyter.widget-view+json": {
       "model_id": "29dd464dc4944a0596731db9b65a97c6",
       "version_major": 2,
       "version_minor": 0
      },
      "text/plain": [
       "Epoch 43/150:   0%|          | 0/1407 [00:00<?, ?it/s]"
      ]
     },
     "metadata": {},
     "output_type": "display_data"
    },
    {
     "name": "stdout",
     "output_type": "stream",
     "text": [
      "Epoch: 43 \tTraining Loss: 0.698715 \tValidation Loss: 0.780072\n"
     ]
    },
    {
     "data": {
      "application/vnd.jupyter.widget-view+json": {
       "model_id": "e1c903e5e363488aa7a4e6b4dd20d2f3",
       "version_major": 2,
       "version_minor": 0
      },
      "text/plain": [
       "Epoch 44/150:   0%|          | 0/1407 [00:00<?, ?it/s]"
      ]
     },
     "metadata": {},
     "output_type": "display_data"
    },
    {
     "name": "stdout",
     "output_type": "stream",
     "text": [
      "Epoch: 44 \tTraining Loss: 0.695011 \tValidation Loss: 0.783394\n"
     ]
    },
    {
     "data": {
      "application/vnd.jupyter.widget-view+json": {
       "model_id": "e822622524154c7aa362e2df2282f257",
       "version_major": 2,
       "version_minor": 0
      },
      "text/plain": [
       "Epoch 45/150:   0%|          | 0/1407 [00:00<?, ?it/s]"
      ]
     },
     "metadata": {},
     "output_type": "display_data"
    },
    {
     "name": "stdout",
     "output_type": "stream",
     "text": [
      "Epoch: 45 \tTraining Loss: 0.692322 \tValidation Loss: 0.779232\n"
     ]
    },
    {
     "data": {
      "application/vnd.jupyter.widget-view+json": {
       "model_id": "f71f4469bd874bd78e51a6edf5be1c71",
       "version_major": 2,
       "version_minor": 0
      },
      "text/plain": [
       "Epoch 46/150:   0%|          | 0/1407 [00:00<?, ?it/s]"
      ]
     },
     "metadata": {},
     "output_type": "display_data"
    },
    {
     "name": "stdout",
     "output_type": "stream",
     "text": [
      "Epoch: 46 \tTraining Loss: 0.688691 \tValidation Loss: 0.779897\n"
     ]
    },
    {
     "data": {
      "application/vnd.jupyter.widget-view+json": {
       "model_id": "874f406e37db4fa089108f284c64fe74",
       "version_major": 2,
       "version_minor": 0
      },
      "text/plain": [
       "Epoch 47/150:   0%|          | 0/1407 [00:00<?, ?it/s]"
      ]
     },
     "metadata": {},
     "output_type": "display_data"
    },
    {
     "name": "stdout",
     "output_type": "stream",
     "text": [
      "Epoch: 47 \tTraining Loss: 0.687700 \tValidation Loss: 0.780226\n"
     ]
    },
    {
     "data": {
      "application/vnd.jupyter.widget-view+json": {
       "model_id": "670e92bac95c47b19f8ccb9d2648b74b",
       "version_major": 2,
       "version_minor": 0
      },
      "text/plain": [
       "Epoch 48/150:   0%|          | 0/1407 [00:00<?, ?it/s]"
      ]
     },
     "metadata": {},
     "output_type": "display_data"
    },
    {
     "name": "stdout",
     "output_type": "stream",
     "text": [
      "Epoch: 48 \tTraining Loss: 0.683377 \tValidation Loss: 0.780063\n"
     ]
    },
    {
     "data": {
      "application/vnd.jupyter.widget-view+json": {
       "model_id": "5b0f94b10eba4d22862bd6fb71070ef3",
       "version_major": 2,
       "version_minor": 0
      },
      "text/plain": [
       "Epoch 49/150:   0%|          | 0/1407 [00:00<?, ?it/s]"
      ]
     },
     "metadata": {},
     "output_type": "display_data"
    },
    {
     "name": "stdout",
     "output_type": "stream",
     "text": [
      "Epoch: 49 \tTraining Loss: 0.681832 \tValidation Loss: 0.783725\n"
     ]
    },
    {
     "data": {
      "application/vnd.jupyter.widget-view+json": {
       "model_id": "9cdfd62c83ca4da09f10f354788d80d3",
       "version_major": 2,
       "version_minor": 0
      },
      "text/plain": [
       "Epoch 50/150:   0%|          | 0/1407 [00:00<?, ?it/s]"
      ]
     },
     "metadata": {},
     "output_type": "display_data"
    },
    {
     "name": "stdout",
     "output_type": "stream",
     "text": [
      "Epoch: 50 \tTraining Loss: 0.677981 \tValidation Loss: 0.784813\n"
     ]
    },
    {
     "data": {
      "application/vnd.jupyter.widget-view+json": {
       "model_id": "fb1ae3c93c4040e5a9334bafcf782706",
       "version_major": 2,
       "version_minor": 0
      },
      "text/plain": [
       "Epoch 51/150:   0%|          | 0/1407 [00:00<?, ?it/s]"
      ]
     },
     "metadata": {},
     "output_type": "display_data"
    },
    {
     "name": "stdout",
     "output_type": "stream",
     "text": [
      "Epoch: 51 \tTraining Loss: 0.674186 \tValidation Loss: 0.787532\n"
     ]
    },
    {
     "data": {
      "application/vnd.jupyter.widget-view+json": {
       "model_id": "be669f99ab4d4ea4ab8be56761d809fe",
       "version_major": 2,
       "version_minor": 0
      },
      "text/plain": [
       "Epoch 52/150:   0%|          | 0/1407 [00:00<?, ?it/s]"
      ]
     },
     "metadata": {},
     "output_type": "display_data"
    },
    {
     "name": "stdout",
     "output_type": "stream",
     "text": [
      "Epoch: 52 \tTraining Loss: 0.671784 \tValidation Loss: 0.786155\n"
     ]
    },
    {
     "data": {
      "application/vnd.jupyter.widget-view+json": {
       "model_id": "f190b9cf2d994ee2b6b37d7a2bdd020d",
       "version_major": 2,
       "version_minor": 0
      },
      "text/plain": [
       "Epoch 53/150:   0%|          | 0/1407 [00:00<?, ?it/s]"
      ]
     },
     "metadata": {},
     "output_type": "display_data"
    },
    {
     "name": "stdout",
     "output_type": "stream",
     "text": [
      "Epoch: 53 \tTraining Loss: 0.668241 \tValidation Loss: 0.789330\n"
     ]
    },
    {
     "data": {
      "application/vnd.jupyter.widget-view+json": {
       "model_id": "5bc4b4b3b4db4b52b651f9eada58b6df",
       "version_major": 2,
       "version_minor": 0
      },
      "text/plain": [
       "Epoch 54/150:   0%|          | 0/1407 [00:00<?, ?it/s]"
      ]
     },
     "metadata": {},
     "output_type": "display_data"
    },
    {
     "name": "stdout",
     "output_type": "stream",
     "text": [
      "Epoch: 54 \tTraining Loss: 0.665352 \tValidation Loss: 0.787695\n"
     ]
    },
    {
     "data": {
      "application/vnd.jupyter.widget-view+json": {
       "model_id": "8281cc951d864739801706160b400031",
       "version_major": 2,
       "version_minor": 0
      },
      "text/plain": [
       "Epoch 55/150:   0%|          | 0/1407 [00:00<?, ?it/s]"
      ]
     },
     "metadata": {},
     "output_type": "display_data"
    },
    {
     "name": "stdout",
     "output_type": "stream",
     "text": [
      "Epoch: 55 \tTraining Loss: 0.662282 \tValidation Loss: 0.785189\n"
     ]
    },
    {
     "data": {
      "application/vnd.jupyter.widget-view+json": {
       "model_id": "1ed0e3ffed084d12b29318c680e205aa",
       "version_major": 2,
       "version_minor": 0
      },
      "text/plain": [
       "Epoch 56/150:   0%|          | 0/1407 [00:00<?, ?it/s]"
      ]
     },
     "metadata": {},
     "output_type": "display_data"
    },
    {
     "name": "stdout",
     "output_type": "stream",
     "text": [
      "Epoch: 56 \tTraining Loss: 0.658668 \tValidation Loss: 0.796215\n"
     ]
    },
    {
     "data": {
      "application/vnd.jupyter.widget-view+json": {
       "model_id": "126ebb59535c4fdc8270291288260289",
       "version_major": 2,
       "version_minor": 0
      },
      "text/plain": [
       "Epoch 57/150:   0%|          | 0/1407 [00:00<?, ?it/s]"
      ]
     },
     "metadata": {},
     "output_type": "display_data"
    },
    {
     "name": "stdout",
     "output_type": "stream",
     "text": [
      "Epoch: 57 \tTraining Loss: 0.655324 \tValidation Loss: 0.790452\n"
     ]
    },
    {
     "data": {
      "application/vnd.jupyter.widget-view+json": {
       "model_id": "8801e373a012477f86f23357fc355ae5",
       "version_major": 2,
       "version_minor": 0
      },
      "text/plain": [
       "Epoch 58/150:   0%|          | 0/1407 [00:00<?, ?it/s]"
      ]
     },
     "metadata": {},
     "output_type": "display_data"
    },
    {
     "name": "stdout",
     "output_type": "stream",
     "text": [
      "Epoch: 58 \tTraining Loss: 0.651716 \tValidation Loss: 0.793566\n"
     ]
    },
    {
     "data": {
      "application/vnd.jupyter.widget-view+json": {
       "model_id": "cad7cea7e4144032bf1c1afcd0be49a0",
       "version_major": 2,
       "version_minor": 0
      },
      "text/plain": [
       "Epoch 59/150:   0%|          | 0/1407 [00:00<?, ?it/s]"
      ]
     },
     "metadata": {},
     "output_type": "display_data"
    },
    {
     "name": "stdout",
     "output_type": "stream",
     "text": [
      "Epoch: 59 \tTraining Loss: 0.649523 \tValidation Loss: 0.792351\n"
     ]
    },
    {
     "data": {
      "application/vnd.jupyter.widget-view+json": {
       "model_id": "1cc73e5237d340a6852e59a15978aace",
       "version_major": 2,
       "version_minor": 0
      },
      "text/plain": [
       "Epoch 60/150:   0%|          | 0/1407 [00:00<?, ?it/s]"
      ]
     },
     "metadata": {},
     "output_type": "display_data"
    },
    {
     "ename": "KeyboardInterrupt",
     "evalue": "",
     "output_type": "error",
     "traceback": [
      "\u001b[0;31m---------------------------------------------------------------------------\u001b[0m",
      "\u001b[0;31mKeyboardInterrupt\u001b[0m                         Traceback (most recent call last)",
      "\u001b[0;32m<ipython-input-3-d54ab1e13c77>\u001b[0m in \u001b[0;36m<module>\u001b[0;34m\u001b[0m\n\u001b[1;32m     44\u001b[0m         \u001b[0mlogits\u001b[0m \u001b[0;34m=\u001b[0m \u001b[0mtorch\u001b[0m\u001b[0;34m.\u001b[0m\u001b[0msqueeze\u001b[0m\u001b[0;34m(\u001b[0m\u001b[0mmodel\u001b[0m\u001b[0;34m(\u001b[0m\u001b[0mtorch\u001b[0m\u001b[0;34m.\u001b[0m\u001b[0mcat\u001b[0m\u001b[0;34m(\u001b[0m\u001b[0;34m(\u001b[0m\u001b[0mcontexts\u001b[0m\u001b[0;34m,\u001b[0m \u001b[0mquestions\u001b[0m\u001b[0;34m)\u001b[0m\u001b[0;34m,\u001b[0m \u001b[0;36m1\u001b[0m\u001b[0;34m)\u001b[0m\u001b[0;34m)\u001b[0m\u001b[0;34m)\u001b[0m\u001b[0;34m\u001b[0m\u001b[0;34m\u001b[0m\u001b[0m\n\u001b[1;32m     45\u001b[0m         \u001b[0mloss\u001b[0m \u001b[0;34m=\u001b[0m \u001b[0mcriterion\u001b[0m\u001b[0;34m(\u001b[0m\u001b[0mlogits\u001b[0m\u001b[0;34m,\u001b[0m \u001b[0manswers\u001b[0m\u001b[0;34m)\u001b[0m\u001b[0;34m\u001b[0m\u001b[0;34m\u001b[0m\u001b[0m\n\u001b[0;32m---> 46\u001b[0;31m         \u001b[0mloss\u001b[0m\u001b[0;34m.\u001b[0m\u001b[0mbackward\u001b[0m\u001b[0;34m(\u001b[0m\u001b[0;34m)\u001b[0m\u001b[0;34m\u001b[0m\u001b[0;34m\u001b[0m\u001b[0m\n\u001b[0m\u001b[1;32m     47\u001b[0m         \u001b[0moptimizer\u001b[0m\u001b[0;34m.\u001b[0m\u001b[0mstep\u001b[0m\u001b[0;34m(\u001b[0m\u001b[0;34m)\u001b[0m\u001b[0;34m\u001b[0m\u001b[0;34m\u001b[0m\u001b[0m\n\u001b[1;32m     48\u001b[0m         \u001b[0mtrain_loss\u001b[0m \u001b[0;34m+=\u001b[0m \u001b[0mloss\u001b[0m\u001b[0;34m.\u001b[0m\u001b[0mitem\u001b[0m\u001b[0;34m(\u001b[0m\u001b[0;34m)\u001b[0m\u001b[0;34m\u001b[0m\u001b[0;34m\u001b[0m\u001b[0m\n",
      "\u001b[0;32m~/miniconda3/lib/python3.7/site-packages/torch/_tensor.py\u001b[0m in \u001b[0;36mbackward\u001b[0;34m(self, gradient, retain_graph, create_graph, inputs)\u001b[0m\n\u001b[1;32m    253\u001b[0m                 \u001b[0mcreate_graph\u001b[0m\u001b[0;34m=\u001b[0m\u001b[0mcreate_graph\u001b[0m\u001b[0;34m,\u001b[0m\u001b[0;34m\u001b[0m\u001b[0;34m\u001b[0m\u001b[0m\n\u001b[1;32m    254\u001b[0m                 inputs=inputs)\n\u001b[0;32m--> 255\u001b[0;31m         \u001b[0mtorch\u001b[0m\u001b[0;34m.\u001b[0m\u001b[0mautograd\u001b[0m\u001b[0;34m.\u001b[0m\u001b[0mbackward\u001b[0m\u001b[0;34m(\u001b[0m\u001b[0mself\u001b[0m\u001b[0;34m,\u001b[0m \u001b[0mgradient\u001b[0m\u001b[0;34m,\u001b[0m \u001b[0mretain_graph\u001b[0m\u001b[0;34m,\u001b[0m \u001b[0mcreate_graph\u001b[0m\u001b[0;34m,\u001b[0m \u001b[0minputs\u001b[0m\u001b[0;34m=\u001b[0m\u001b[0minputs\u001b[0m\u001b[0;34m)\u001b[0m\u001b[0;34m\u001b[0m\u001b[0;34m\u001b[0m\u001b[0m\n\u001b[0m\u001b[1;32m    256\u001b[0m \u001b[0;34m\u001b[0m\u001b[0m\n\u001b[1;32m    257\u001b[0m     \u001b[0;32mdef\u001b[0m \u001b[0mregister_hook\u001b[0m\u001b[0;34m(\u001b[0m\u001b[0mself\u001b[0m\u001b[0;34m,\u001b[0m \u001b[0mhook\u001b[0m\u001b[0;34m)\u001b[0m\u001b[0;34m:\u001b[0m\u001b[0;34m\u001b[0m\u001b[0;34m\u001b[0m\u001b[0m\n",
      "\u001b[0;32m~/miniconda3/lib/python3.7/site-packages/torch/autograd/__init__.py\u001b[0m in \u001b[0;36mbackward\u001b[0;34m(tensors, grad_tensors, retain_graph, create_graph, grad_variables, inputs)\u001b[0m\n\u001b[1;32m    147\u001b[0m     Variable._execution_engine.run_backward(\n\u001b[1;32m    148\u001b[0m         \u001b[0mtensors\u001b[0m\u001b[0;34m,\u001b[0m \u001b[0mgrad_tensors_\u001b[0m\u001b[0;34m,\u001b[0m \u001b[0mretain_graph\u001b[0m\u001b[0;34m,\u001b[0m \u001b[0mcreate_graph\u001b[0m\u001b[0;34m,\u001b[0m \u001b[0minputs\u001b[0m\u001b[0;34m,\u001b[0m\u001b[0;34m\u001b[0m\u001b[0;34m\u001b[0m\u001b[0m\n\u001b[0;32m--> 149\u001b[0;31m         allow_unreachable=True, accumulate_grad=True)  # allow_unreachable flag\n\u001b[0m\u001b[1;32m    150\u001b[0m \u001b[0;34m\u001b[0m\u001b[0m\n\u001b[1;32m    151\u001b[0m \u001b[0;34m\u001b[0m\u001b[0m\n",
      "\u001b[0;31mKeyboardInterrupt\u001b[0m: "
     ]
    }
   ],
   "source": [
    "batch_size=128\n",
    "max_epochs = 150\n",
    "\n",
    "babi_dataset = BabiDataset(ds_path='/home/gabriel/Documents/datasets/bAbi/en/qa{}_*', \n",
    "                           vocab_path='/home/gabriel/Documents/datasets/bAbi/en/babi{}_vocab.pkl')\n",
    "vocab_size = len(babi_dataset.QA.VOCAB)\n",
    "print('len(babi_dataset) train', len(babi_dataset))\n",
    "print('vocab_size', vocab_size)\n",
    "\n",
    "use_cuda = torch.cuda.is_available()\n",
    "device = torch.device(\"cuda:0\" if use_cuda else \"cpu\")\n",
    "print(device)\n",
    "torch.backends.cudnn.benchmark = True\n",
    "model.to(device)\n",
    "\n",
    "criterion = nn.CrossEntropyLoss(reduction='sum')\n",
    "optimizer = torch.optim.Adam(model.parameters(), lr=1e-4)\n",
    "val_loss_min = float('inf')\n",
    "\n",
    "writer = SummaryWriter()\n",
    "if not os.path.isdir(f'checkpoints/{model_name}'):\n",
    "    os.mkdir(f'checkpoints/{model_name}')\n",
    "now = datetime.now().strftime(\"%d_%m_%Y__%H_%M_%S\")\n",
    "\n",
    "for epoch in range(max_epochs):\n",
    "    train_loss = 0.0\n",
    "    val_loss = 0.0\n",
    "    loss_sum = 0\n",
    "    loss_count = 0\n",
    "    model.train()\n",
    "    babi_dataset.set_mode('train')\n",
    "    train_loader = DataLoader(\n",
    "        babi_dataset, batch_size=batch_size, shuffle=True, collate_fn=pad_collate\n",
    "    )\n",
    "    \n",
    "    for batch_idx, data in enumerate(tqdm(train_loader, desc=f\"Epoch {epoch + 1}/{max_epochs}\")):\n",
    "        optimizer.zero_grad()\n",
    "\n",
    "        contexts, questions, answers, tasks = data\n",
    "        contexts = contexts.long().to(device)\n",
    "        questions = questions.long().to(device)\n",
    "        answers = answers.to(device)\n",
    "        \n",
    "        logits = torch.squeeze(model(torch.cat((contexts, questions), 1)))\n",
    "        loss = criterion(logits, answers)\n",
    "        loss.backward()\n",
    "        optimizer.step()\n",
    "        train_loss += loss.item()\n",
    "        writer.add_scalars(\"losses_step\", {\"train_loss\": loss.item() / contexts.size(0)}, epoch * len(train_loader) + batch_idx)\n",
    "    \n",
    "    train_loss = train_loss / len(train_loader.dataset)\n",
    "    writer.add_scalars(\"losses_epoch\", {\"train_loss\": train_loss}, epoch)\n",
    "    train_loader_len = len(train_loader)\n",
    "    \n",
    "    model.eval()\n",
    "    babi_dataset.set_mode('valid')\n",
    "    val_loader = DataLoader(\n",
    "        babi_dataset, batch_size=batch_size, shuffle=False, collate_fn=pad_collate\n",
    "    )\n",
    "    \n",
    "    with torch.no_grad():\n",
    "        for batch_idx, data in enumerate(val_loader):\n",
    "        \n",
    "            contexts, questions, answers, tasks = data\n",
    "            contexts = contexts.long().to(device)\n",
    "            questions = questions.long().to(device)\n",
    "            answers = answers.to(device)\n",
    "        \n",
    "            logits = torch.squeeze(model(torch.cat((contexts, questions), 1)))\n",
    "            loss = criterion(logits, answers)\n",
    "            val_loss += loss.item()\n",
    "\n",
    "    val_loss = val_loss / len(val_loader.dataset)\n",
    "    writer.add_scalars(\"losses_step\", {\"val_loss\": val_loss}, (epoch + 1) * train_loader_len - 1)    \n",
    "    writer.add_scalars(\"losses_epoch\", {\"val_loss\": val_loss}, epoch)\n",
    "    \n",
    "    print('Epoch: {} \\tTraining Loss: {:.6f} \\tValidation Loss: {:.6f}'.format(\n",
    "        epoch+1, \n",
    "        train_loss,\n",
    "        val_loss\n",
    "    ))\n",
    "    \n",
    "    checkpoint = {\n",
    "        'epoch': epoch + 1,\n",
    "        'valid_loss_min': val_loss,\n",
    "        'state_dict': model.state_dict(),\n",
    "        'optimizer': optimizer.state_dict(),\n",
    "    }\n",
    "    \n",
    "    torch.save(checkpoint, f'checkpoints/{model_name}/checkpoint_{now}.pt')\n",
    "    if val_loss <= val_loss_min:\n",
    "        print('Validation loss decreased ({:.6f} --> {:.6f}).  Saving model ...'.format(val_loss_min,val_loss))\n",
    "        torch.save(checkpoint, f'checkpoints/{model_name}/best_checkpoint_{now}.pt')\n",
    "        val_loss_min = val_loss"
   ]
  },
  {
   "cell_type": "code",
   "execution_count": 4,
   "id": "included-hypothesis",
   "metadata": {},
   "outputs": [
    {
     "name": "stdout",
     "output_type": "stream",
     "text": [
      "cuda:0\n"
     ]
    },
    {
     "data": {
      "application/vnd.jupyter.widget-view+json": {
       "model_id": "203b5cc2a98a4c2db9d705a33f14a15c",
       "version_major": 2,
       "version_minor": 0
      },
      "text/plain": [
       "Inference:   0%|          | 0/157 [00:00<?, ?it/s]"
      ]
     },
     "metadata": {},
     "output_type": "display_data"
    },
    {
     "name": "stderr",
     "output_type": "stream",
     "text": [
      "/home/gabriel/miniconda3/lib/python3.7/site-packages/sklearn/metrics/_classification.py:1245: UndefinedMetricWarning: Precision and F-score are ill-defined and being set to 0.0 in labels with no predicted samples. Use `zero_division` parameter to control this behavior.\n",
      "  _warn_prf(average, modifier, msg_start, len(result))\n",
      "/home/gabriel/miniconda3/lib/python3.7/site-packages/sklearn/metrics/_classification.py:1245: UndefinedMetricWarning: Precision and F-score are ill-defined and being set to 0.0 in labels with no predicted samples. Use `zero_division` parameter to control this behavior.\n",
      "  _warn_prf(average, modifier, msg_start, len(result))\n",
      "/home/gabriel/miniconda3/lib/python3.7/site-packages/sklearn/metrics/_classification.py:1245: UndefinedMetricWarning: Precision and F-score are ill-defined and being set to 0.0 in labels with no predicted samples. Use `zero_division` parameter to control this behavior.\n",
      "  _warn_prf(average, modifier, msg_start, len(result))\n",
      "/home/gabriel/miniconda3/lib/python3.7/site-packages/sklearn/utils/validation.py:72: FutureWarning: Pass labels=['fred', 'football,milk', 'n,e', 'hallway', 'apple,football', 'mary', 'one', 'football,apple', 'none', 'yes', 'sheep', 'green', 'w,s', 'milk', 's,w', 'apple,football,milk', 'cat', 'milk,football', 'yellow', 's,s', 'e,n', 'white', 'apple', 'mouse', 'apple,milk', 'maybe', 'bored', 'e,s', 'two', 'football', 'n,w', 'cinema', 'garden', 'bill', 'office', 'three', 'n,n', 'park', 'milk,apple', 'kitchen', 'nothing', 'bedroom', 'hungry', 'w,n', 'football,apple,milk', 'wolf', 'tired', 's,e', 'bathroom', 'thirsty', 'no', 'jeff', 'school', 'w,w', 'e,e', 'gray'] as keyword args. From version 1.0 (renaming of 0.25) passing these as positional arguments will result in an error\n",
      "  \"will result in an error\", FutureWarning)\n"
     ]
    },
    {
     "name": "stdout",
     "output_type": "stream",
     "text": [
      "0.6454\n",
      "                     precision    recall  f1-score   support\n",
      "\n",
      "              apple       0.78      0.80      0.79       341\n",
      "     apple,football       0.00      0.00      0.00        11\n",
      "apple,football,milk       0.00      0.00      0.00         1\n",
      "         apple,milk       0.00      0.00      0.00        10\n",
      "           bathroom       0.63      0.65      0.64      1195\n",
      "            bedroom       0.62      0.63      0.63      1437\n",
      "               bill       0.63      0.62      0.62       164\n",
      "              bored       1.00      1.00      1.00       159\n",
      "                cat       0.55      0.60      0.57       213\n",
      "             cinema       0.40      0.57      0.47       171\n",
      "                e,e       0.00      0.00      0.00        81\n",
      "                e,n       0.00      0.00      0.00        88\n",
      "                e,s       0.00      0.00      0.00        79\n",
      "           football       0.69      0.85      0.76       281\n",
      "     football,apple       1.00      0.06      0.11        18\n",
      "football,apple,milk       0.00      0.00      0.00         1\n",
      "      football,milk       0.19      0.43      0.26         7\n",
      "               fred       0.64      0.60      0.62       188\n",
      "             garden       0.65      0.63      0.64      1300\n",
      "               gray       0.45      0.47      0.46       230\n",
      "              green       0.48      0.63      0.55       256\n",
      "            hallway       0.68      0.64      0.66      1175\n",
      "             hungry       0.90      0.96      0.93       157\n",
      "               jeff       0.53      0.61      0.57       129\n",
      "            kitchen       0.61      0.67      0.64      1495\n",
      "               mary       0.60      0.58      0.59       189\n",
      "              maybe       0.49      0.49      0.49       150\n",
      "               milk       0.77      0.80      0.78       305\n",
      "         milk,apple       0.00      0.00      0.00         9\n",
      "      milk,football       0.00      0.00      0.00        10\n",
      "              mouse       0.54      0.53      0.53       239\n",
      "                n,e       0.00      0.00      0.00        85\n",
      "                n,n       0.09      1.00      0.17        92\n",
      "                n,w       0.00      0.00      0.00        92\n",
      "                 no       0.87      0.66      0.75      2589\n",
      "               none       0.78      0.82      0.80       468\n",
      "            nothing       0.80      0.70      0.75       336\n",
      "             office       0.62      0.54      0.58      1284\n",
      "                one       0.76      0.78      0.77       488\n",
      "               park       0.48      0.33      0.39       152\n",
      "                s,e       0.00      0.00      0.00        83\n",
      "                s,s       0.00      0.00      0.00        71\n",
      "                s,w       0.00      0.00      0.00        93\n",
      "             school       0.45      0.56      0.50       162\n",
      "              sheep       0.57      0.43      0.49       207\n",
      "            thirsty       0.95      0.89      0.92       152\n",
      "              three       0.00      0.00      0.00         2\n",
      "              tired       1.00      1.00      1.00       161\n",
      "                two       0.27      0.07      0.11        42\n",
      "                w,n       0.00      0.00      0.00        80\n",
      "                w,s       0.00      0.00      0.00        90\n",
      "                w,w       0.00      0.00      0.00        66\n",
      "              white       0.56      0.35      0.43       272\n",
      "               wolf       0.64      0.71      0.67       341\n",
      "             yellow       0.49      0.53      0.51       242\n",
      "                yes       0.69      0.89      0.78      2261\n",
      "\n",
      "           accuracy                           0.65     20000\n",
      "          macro avg       0.43      0.43      0.41     20000\n",
      "       weighted avg       0.65      0.65      0.64     20000\n",
      "\n",
      "[0.498, 0.356, 0.34, 0.767, 0.686, 0.832, 0.767, 0.709, 0.725, 0.702, 0.725, 0.755, 0.942, 0.439, 0.585, 0.49, 0.621, 0.901, 0.092, 0.976]\n",
      "passed_tasks: [0, 0, 0, 0, 0, 0, 0, 0, 0, 0, 0, 0, 0, 0, 0, 0, 0, 0, 0, 1]\n",
      "no. passed_tasks: 1\n"
     ]
    },
    {
     "data": {
      "image/png": "[encoded data removed]",
      "text/plain": [
       "<Figure size 1800x1800 with 2 Axes>"
      ]
     },
     "metadata": {
      "needs_background": "light"
     },
     "output_type": "display_data"
    },
    {
     "name": "stdout",
     "output_type": "stream",
     "text": [
      "16.33546280860901\n"
     ]
    }
   ],
   "source": [
    "use_cuda = torch.cuda.is_available()\n",
    "device = torch.device(\"cuda:0\" if use_cuda else \"cpu\")\n",
    "print(device)\n",
    "model.to(device)\n",
    "checkpoint_name = f'checkpoints/{model_name}/best_checkpoint_{now}.pt'\n",
    "checkpoint = torch.load(checkpoint_name)\n",
    "model.load_state_dict(checkpoint['state_dict'])\n",
    "model.eval()\n",
    "m = nn.Softmax(dim=1)\n",
    "\n",
    "babi_dataset.set_mode('test')\n",
    "test_loader = DataLoader(\n",
    "    babi_dataset, batch_size=batch_size, shuffle=False, collate_fn=pad_collate\n",
    ")\n",
    "\n",
    "y_pred_extended = []\n",
    "y_true_extended = []\n",
    "y_pred_task = [[] for _ in range(20)]\n",
    "y_true_task = [[] for _ in range(20)]\n",
    "\n",
    "start = time.time()\n",
    "with torch.no_grad():\n",
    "    for batch_idx, data in enumerate(tqdm(test_loader, desc=f\"Inference\")):\n",
    "        contexts, questions, answers, tasks = data\n",
    "        contexts = contexts.long().to(device)\n",
    "        questions = questions.long().to(device)\n",
    "        answers = answers.to(device)\n",
    "\n",
    "        logits = torch.squeeze(model(torch.cat((contexts, questions), 1))).cpu()\n",
    "        # We consider a task successfully passed if ≥ 95% accuracy is obtained.\n",
    "        y_pred = m(logits)\n",
    "        y_pred = np.argmax(y_pred, axis=1)\n",
    "        y_pred = [babi_dataset.QA.IVOCAB[int(i)] for i in y_pred]\n",
    "        y_true = [babi_dataset.QA.IVOCAB[int(i)] for i in answers.cpu()]\n",
    "        y_pred_extended.extend(y_pred)\n",
    "        y_true_extended.extend(y_true)\n",
    "        for i in range(len(y_pred)):\n",
    "            y_pred_task[int(tasks[i]) - 1].append(y_pred[i])\n",
    "            y_true_task[int(tasks[i]) - 1].append(y_true[i])\n",
    "end = time.time()\n",
    "\n",
    "        \n",
    "def plot_confusion_matrix(cm, classes,\n",
    "                          normalize=False,\n",
    "                          title='Confusion matrix',\n",
    "                          cmap=plt.cm.Blues):\n",
    "    \"\"\"\n",
    "    This function prints and plots the confusion matrix.\n",
    "    Normalization can be applied by setting `normalize=True`.\n",
    "    \"\"\"\n",
    "    if normalize:\n",
    "        cm = cm.astype('float') / cm.sum(axis=1)[:, np.newaxis]\n",
    "        #print(\"Normalized confusion matrix\")\n",
    "    #else:\n",
    "        #print('Confusion matrix, without normalization')\n",
    "\n",
    "    #print(cm)\n",
    "    \n",
    "    plt.figure(figsize=(25,25))\n",
    "    plt.imshow(cm, interpolation='nearest', cmap=cmap)\n",
    "    plt.title(title)\n",
    "    plt.colorbar()\n",
    "    tick_marks = np.arange(len(classes))\n",
    "    plt.xticks(tick_marks, classes, rotation=45)\n",
    "    plt.yticks(tick_marks, classes)\n",
    "\n",
    "    fmt = '.2f' if normalize else 'd'\n",
    "    thresh = cm.max() / 2.\n",
    "    for i, j in itertools.product(range(cm.shape[0]), range(cm.shape[1])):\n",
    "        plt.text(j, i, format(cm[i, j], fmt),\n",
    "                 horizontalalignment=\"center\",\n",
    "                 color=\"white\" if cm[i, j] > thresh else \"black\")\n",
    "\n",
    "    plt.ylabel('True label')\n",
    "    plt.xlabel('Predicted label')\n",
    "    plt.tight_layout()\n",
    "\n",
    "accuracy = accuracy_score(y_pred_extended, y_true_extended)\n",
    "cr = classification_report(y_true_extended, y_pred_extended)\n",
    "print(accuracy)\n",
    "print(cr)\n",
    "task_acc = []\n",
    "passed_tasks = []\n",
    "for i in range(20):\n",
    "    task_acc.append(accuracy_score(y_pred_task[i], y_true_task[i]))\n",
    "    passed_tasks.append(1 if task_acc[i] >= 0.95 else 0)\n",
    "print(task_acc)\n",
    "print('passed_tasks:', passed_tasks)\n",
    "print('no. passed_tasks:', sum(passed_tasks))\n",
    "labels = list(set(y_true_extended).intersection(set(y_true_extended)))\n",
    "cnf_matrix = confusion_matrix(y_true_extended, y_pred_extended, labels)\n",
    "# Plot non-normalized confusion matrix\n",
    "plot_confusion_matrix(cnf_matrix, classes=labels, title = ('Confusion Matrix'))\n",
    "plt.show()\n",
    "print(end-start)"
   ]
  },
  {
   "cell_type": "code",
   "execution_count": null,
   "id": "proprietary-corpus",
   "metadata": {},
   "outputs": [],
   "source": [
    "# from thop import profile\n",
    "# from thop import clever_format\n",
    "\n",
    "# macs, params = profile(model, inputs=(\n",
    "#                         torch.randint(1, size=(1, 910)).type(torch.LongTensor).to(device), \n",
    "#                         torch.randint(1, size=(1, 13)).type(torch.LongTensor).to(device)))  # , \n",
    "# #                         custom_ops={YourModule: count_your_model})\n",
    "\n",
    "# macs, params = clever_format([macs, params], \"%.3f\")\n",
    "# print(macs, params)"
   ]
  },
  {
   "cell_type": "code",
   "execution_count": null,
   "id": "black-cleanup",
   "metadata": {},
   "outputs": [],
   "source": [
    "# model.layers.append(model.layers[1])\n",
    "print(len(model.layers))"
   ]
  },
  {
   "cell_type": "code",
   "execution_count": null,
   "id": "metallic-munich",
   "metadata": {},
   "outputs": [],
   "source": []
  },
  {
   "cell_type": "code",
   "execution_count": null,
   "id": "compliant-stanford",
   "metadata": {},
   "outputs": [],
   "source": []
  }
 ],
 "metadata": {
  "kernelspec": {
   "display_name": "Python 3",
   "language": "python",
   "name": "python3"
  },
  "language_info": {
   "codemirror_mode": {
    "name": "ipython",
    "version": 3
   },
   "file_extension": ".py",
   "mimetype": "text/x-python",
   "name": "python",
   "nbconvert_exporter": "python",
   "pygments_lexer": "ipython3",
   "version": "3.7.7"
  }
 },
 "nbformat": 4,
 "nbformat_minor": 5
}
